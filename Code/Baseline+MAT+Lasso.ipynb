{
  "cells": [
    {
      "cell_type": "code",
      "execution_count": 1,
      "metadata": {
        "id": "Y6nh1KW11gI-"
      },
      "outputs": [],
      "source": [
        "# Imports\n",
        "import pandas as pd, numpy as np\n",
        "import matplotlib.pyplot as plt\n",
        "from sklearn.linear_model import LogisticRegression, Lasso\n",
        "from sklearn.preprocessing import \\\n",
        "    (StandardScaler, OneHotEncoder,\n",
        "    LabelEncoder, PolynomialFeatures, OrdinalEncoder)\n",
        "from sklearn.compose import ColumnTransformer\n",
        "from sklearn.impute import KNNImputer\n",
        "from sklearn.metrics import \\\n",
        "    (confusion_matrix, ConfusionMatrixDisplay, roc_auc_score, accuracy_score)\n",
        "from sklearn.model_selection import train_test_split, TimeSeriesSplit\n",
        "from sklearn.pipeline import Pipeline\n",
        "from sklearn.utils.class_weight import compute_class_weight\n",
        "from imblearn.over_sampling import SMOTE\n",
        "from imblearn.pipeline import Pipeline as ImbPipeline"
      ]
    },
    {
      "cell_type": "code",
      "execution_count": 2,
      "metadata": {
        "id": "QA3v0jyQte_g"
      },
      "outputs": [],
      "source": [
        "# Adjust default matplotlib settings\n",
        "plt.style.use('seaborn-v0_8-whitegrid')\n",
        "plt.rcParams['font.size'] = 12\n",
        "plt.rcParams['lines.linewidth'] = 2\n",
        "plt.rcParams['axes.labelpad'] = 10\n",
        "plt.rcParams['font.family'] = 'sans-serif'\n",
        "plt.rcParams['font.sans-serif'] = 'Helvetica'"
      ]
    },
    {
      "cell_type": "code",
      "execution_count": 3,
      "metadata": {
        "id": "Oo4ezwYo4Y3_"
      },
      "outputs": [],
      "source": [
        "# Read in data\n",
        "df_cces = pd.read_parquet('../Data/CCES/CCES_Panel_cleaned.parquet')"
      ]
    },
    {
      "cell_type": "code",
      "execution_count": 4,
      "metadata": {
        "colab": {
          "base_uri": "https://localhost:8080/",
          "height": 424
        },
        "id": "au8_3-pw4n24",
        "outputId": "4d91e088-51d4-422c-c0d6-b4250900def4"
      },
      "outputs": [
        {
          "data": {
            "text/html": [
              "<div>\n",
              "<style scoped>\n",
              "    .dataframe tbody tr th:only-of-type {\n",
              "        vertical-align: middle;\n",
              "    }\n",
              "\n",
              "    .dataframe tbody tr th {\n",
              "        vertical-align: top;\n",
              "    }\n",
              "\n",
              "    .dataframe thead th {\n",
              "        text-align: right;\n",
              "    }\n",
              "</style>\n",
              "<table border=\"1\" class=\"dataframe\">\n",
              "  <thead>\n",
              "    <tr style=\"text-align: right;\">\n",
              "      <th></th>\n",
              "      <th>caseid</th>\n",
              "      <th>weight</th>\n",
              "      <th>year</th>\n",
              "      <th>301_1</th>\n",
              "      <th>301_2</th>\n",
              "      <th>301_3</th>\n",
              "      <th>301_4</th>\n",
              "      <th>301_5</th>\n",
              "      <th>301b</th>\n",
              "      <th>302</th>\n",
              "      <th>...</th>\n",
              "      <th>pew_churatd</th>\n",
              "      <th>pew_prayer</th>\n",
              "      <th>pew_religimp</th>\n",
              "      <th>phone</th>\n",
              "      <th>pid3</th>\n",
              "      <th>pid7</th>\n",
              "      <th>race</th>\n",
              "      <th>religpew</th>\n",
              "      <th>union</th>\n",
              "      <th>unionhh</th>\n",
              "    </tr>\n",
              "  </thead>\n",
              "  <tbody>\n",
              "    <tr>\n",
              "      <th>0</th>\n",
              "      <td>25233</td>\n",
              "      <td>0.538062</td>\n",
              "      <td>2010</td>\n",
              "      <td>Yes</td>\n",
              "      <td>Yes</td>\n",
              "      <td>Yes</td>\n",
              "      <td>Yes</td>\n",
              "      <td>No</td>\n",
              "      <td>Both</td>\n",
              "      <td>Gotten much worse</td>\n",
              "      <td>...</td>\n",
              "      <td>Once or twice a month</td>\n",
              "      <td>A few times a week</td>\n",
              "      <td>Somewhat important</td>\n",
              "      <td>Both</td>\n",
              "      <td>Independent</td>\n",
              "      <td>Lean Republican</td>\n",
              "      <td>White</td>\n",
              "      <td>Roman Catholic</td>\n",
              "      <td>Formerly</td>\n",
              "      <td>No, never</td>\n",
              "    </tr>\n",
              "    <tr>\n",
              "      <th>1</th>\n",
              "      <td>38716</td>\n",
              "      <td>3.470877</td>\n",
              "      <td>2010</td>\n",
              "      <td>Yes</td>\n",
              "      <td>No</td>\n",
              "      <td>Yes</td>\n",
              "      <td>Yes</td>\n",
              "      <td>No</td>\n",
              "      <td>NaN</td>\n",
              "      <td>Stayed about the same</td>\n",
              "      <td>...</td>\n",
              "      <td>Never</td>\n",
              "      <td>Never</td>\n",
              "      <td>Not at all important</td>\n",
              "      <td>Cell only</td>\n",
              "      <td>Democrat</td>\n",
              "      <td>Not very strong Democrat</td>\n",
              "      <td>White</td>\n",
              "      <td>Nothing in particular</td>\n",
              "      <td>No, never</td>\n",
              "      <td>No, never</td>\n",
              "    </tr>\n",
              "    <tr>\n",
              "      <th>2</th>\n",
              "      <td>7796</td>\n",
              "      <td>0.602477</td>\n",
              "      <td>2010</td>\n",
              "      <td>No</td>\n",
              "      <td>Yes</td>\n",
              "      <td>Yes</td>\n",
              "      <td>Yes</td>\n",
              "      <td>No</td>\n",
              "      <td>Both</td>\n",
              "      <td>Gotten worse</td>\n",
              "      <td>...</td>\n",
              "      <td>More than once a week</td>\n",
              "      <td>Several times a day</td>\n",
              "      <td>Very important</td>\n",
              "      <td>Both</td>\n",
              "      <td>Republican</td>\n",
              "      <td>Strong Republican</td>\n",
              "      <td>White</td>\n",
              "      <td>Mormon</td>\n",
              "      <td>Formerly</td>\n",
              "      <td>Formerly</td>\n",
              "    </tr>\n",
              "    <tr>\n",
              "      <th>3</th>\n",
              "      <td>78113</td>\n",
              "      <td>0.264208</td>\n",
              "      <td>2010</td>\n",
              "      <td>Yes</td>\n",
              "      <td>Yes</td>\n",
              "      <td>Yes</td>\n",
              "      <td>Yes</td>\n",
              "      <td>No</td>\n",
              "      <td>Both</td>\n",
              "      <td>Gotten better</td>\n",
              "      <td>...</td>\n",
              "      <td>Never</td>\n",
              "      <td>Never</td>\n",
              "      <td>Not at all important</td>\n",
              "      <td>Cell only</td>\n",
              "      <td>Democrat</td>\n",
              "      <td>Strong Democrat</td>\n",
              "      <td>White</td>\n",
              "      <td>Nothing in particular</td>\n",
              "      <td>No, never</td>\n",
              "      <td>No, never</td>\n",
              "    </tr>\n",
              "    <tr>\n",
              "      <th>4</th>\n",
              "      <td>63800</td>\n",
              "      <td>0.196632</td>\n",
              "      <td>2010</td>\n",
              "      <td>Yes</td>\n",
              "      <td>Yes</td>\n",
              "      <td>Yes</td>\n",
              "      <td>No</td>\n",
              "      <td>No</td>\n",
              "      <td>Both</td>\n",
              "      <td>Gotten better</td>\n",
              "      <td>...</td>\n",
              "      <td>Seldom</td>\n",
              "      <td>Never</td>\n",
              "      <td>Not too important</td>\n",
              "      <td>Both</td>\n",
              "      <td>Democrat</td>\n",
              "      <td>Strong Democrat</td>\n",
              "      <td>White</td>\n",
              "      <td>Protestant</td>\n",
              "      <td>No, never</td>\n",
              "      <td>No, never</td>\n",
              "    </tr>\n",
              "    <tr>\n",
              "      <th>...</th>\n",
              "      <td>...</td>\n",
              "      <td>...</td>\n",
              "      <td>...</td>\n",
              "      <td>...</td>\n",
              "      <td>...</td>\n",
              "      <td>...</td>\n",
              "      <td>...</td>\n",
              "      <td>...</td>\n",
              "      <td>...</td>\n",
              "      <td>...</td>\n",
              "      <td>...</td>\n",
              "      <td>...</td>\n",
              "      <td>...</td>\n",
              "      <td>...</td>\n",
              "      <td>...</td>\n",
              "      <td>...</td>\n",
              "      <td>...</td>\n",
              "      <td>...</td>\n",
              "      <td>...</td>\n",
              "      <td>...</td>\n",
              "      <td>...</td>\n",
              "    </tr>\n",
              "    <tr>\n",
              "      <th>28495</th>\n",
              "      <td>57290</td>\n",
              "      <td>1.146715</td>\n",
              "      <td>2014</td>\n",
              "      <td>No</td>\n",
              "      <td>No</td>\n",
              "      <td>No</td>\n",
              "      <td>No</td>\n",
              "      <td>Yes</td>\n",
              "      <td>NaN</td>\n",
              "      <td>Gotten better</td>\n",
              "      <td>...</td>\n",
              "      <td>Never</td>\n",
              "      <td>A few times a month</td>\n",
              "      <td>Somewhat important</td>\n",
              "      <td>Cell only</td>\n",
              "      <td>Democrat</td>\n",
              "      <td>Strong Democrat</td>\n",
              "      <td>Hispanic</td>\n",
              "      <td>Something else</td>\n",
              "      <td>No, never</td>\n",
              "      <td>Formerly</td>\n",
              "    </tr>\n",
              "    <tr>\n",
              "      <th>28496</th>\n",
              "      <td>57315</td>\n",
              "      <td>1.171217</td>\n",
              "      <td>2014</td>\n",
              "      <td>No</td>\n",
              "      <td>No</td>\n",
              "      <td>No</td>\n",
              "      <td>No</td>\n",
              "      <td>Yes</td>\n",
              "      <td>NaN</td>\n",
              "      <td>Stayed about the same</td>\n",
              "      <td>...</td>\n",
              "      <td>A few times a year</td>\n",
              "      <td>A few times a week</td>\n",
              "      <td>Somewhat important</td>\n",
              "      <td>Cell only</td>\n",
              "      <td>Republican</td>\n",
              "      <td>Strong Republican</td>\n",
              "      <td>Hispanic</td>\n",
              "      <td>Roman Catholic</td>\n",
              "      <td>No, never</td>\n",
              "      <td>No, never</td>\n",
              "    </tr>\n",
              "    <tr>\n",
              "      <th>28497</th>\n",
              "      <td>57399</td>\n",
              "      <td>0.424949</td>\n",
              "      <td>2014</td>\n",
              "      <td>No</td>\n",
              "      <td>Yes</td>\n",
              "      <td>No</td>\n",
              "      <td>No</td>\n",
              "      <td>No</td>\n",
              "      <td>Local Newscast</td>\n",
              "      <td>Gotten much better</td>\n",
              "      <td>...</td>\n",
              "      <td>Never</td>\n",
              "      <td>Seldom</td>\n",
              "      <td>Not at all important</td>\n",
              "      <td>Both</td>\n",
              "      <td>Democrat</td>\n",
              "      <td>Strong Democrat</td>\n",
              "      <td>Hispanic</td>\n",
              "      <td>Something else</td>\n",
              "      <td>No, never</td>\n",
              "      <td>Formerly</td>\n",
              "    </tr>\n",
              "    <tr>\n",
              "      <th>28498</th>\n",
              "      <td>59331</td>\n",
              "      <td>0.505942</td>\n",
              "      <td>2014</td>\n",
              "      <td>No</td>\n",
              "      <td>Yes</td>\n",
              "      <td>No</td>\n",
              "      <td>Yes</td>\n",
              "      <td>No</td>\n",
              "      <td>Local Newscast</td>\n",
              "      <td>Gotten worse</td>\n",
              "      <td>...</td>\n",
              "      <td>Once a week</td>\n",
              "      <td>Once a day</td>\n",
              "      <td>Very important</td>\n",
              "      <td>Cell only</td>\n",
              "      <td>Republican</td>\n",
              "      <td>Strong Republican</td>\n",
              "      <td>Hispanic</td>\n",
              "      <td>Mormon</td>\n",
              "      <td>Yes, currently</td>\n",
              "      <td>No, never</td>\n",
              "    </tr>\n",
              "    <tr>\n",
              "      <th>28499</th>\n",
              "      <td>66538</td>\n",
              "      <td>1.665605</td>\n",
              "      <td>2014</td>\n",
              "      <td>No</td>\n",
              "      <td>Yes</td>\n",
              "      <td>No</td>\n",
              "      <td>No</td>\n",
              "      <td>No</td>\n",
              "      <td>Local Newscast</td>\n",
              "      <td>Stayed about the same</td>\n",
              "      <td>...</td>\n",
              "      <td>Seldom</td>\n",
              "      <td>Seldom</td>\n",
              "      <td>Not too important</td>\n",
              "      <td>Cell only</td>\n",
              "      <td>Democrat</td>\n",
              "      <td>Not very strong Democrat</td>\n",
              "      <td>White</td>\n",
              "      <td>Nothing in particular</td>\n",
              "      <td>Formerly</td>\n",
              "      <td>Formerly</td>\n",
              "    </tr>\n",
              "  </tbody>\n",
              "</table>\n",
              "<p>28500 rows × 127 columns</p>\n",
              "</div>"
            ],
            "text/plain": [
              "       caseid    weight  year 301_1 301_2 301_3 301_4 301_5            301b   \n",
              "0       25233  0.538062  2010   Yes   Yes   Yes   Yes    No            Both  \\\n",
              "1       38716  3.470877  2010   Yes    No   Yes   Yes    No             NaN   \n",
              "2        7796  0.602477  2010    No   Yes   Yes   Yes    No            Both   \n",
              "3       78113  0.264208  2010   Yes   Yes   Yes   Yes    No            Both   \n",
              "4       63800  0.196632  2010   Yes   Yes   Yes    No    No            Both   \n",
              "...       ...       ...   ...   ...   ...   ...   ...   ...             ...   \n",
              "28495   57290  1.146715  2014    No    No    No    No   Yes             NaN   \n",
              "28496   57315  1.171217  2014    No    No    No    No   Yes             NaN   \n",
              "28497   57399  0.424949  2014    No   Yes    No    No    No  Local Newscast   \n",
              "28498   59331  0.505942  2014    No   Yes    No   Yes    No  Local Newscast   \n",
              "28499   66538  1.665605  2014    No   Yes    No    No    No  Local Newscast   \n",
              "\n",
              "                         302  ...            pew_churatd           pew_prayer   \n",
              "0          Gotten much worse  ...  Once or twice a month   A few times a week  \\\n",
              "1      Stayed about the same  ...                  Never                Never   \n",
              "2               Gotten worse  ...  More than once a week  Several times a day   \n",
              "3              Gotten better  ...                  Never                Never   \n",
              "4              Gotten better  ...                 Seldom                Never   \n",
              "...                      ...  ...                    ...                  ...   \n",
              "28495          Gotten better  ...                  Never  A few times a month   \n",
              "28496  Stayed about the same  ...     A few times a year   A few times a week   \n",
              "28497     Gotten much better  ...                  Never               Seldom   \n",
              "28498           Gotten worse  ...            Once a week           Once a day   \n",
              "28499  Stayed about the same  ...                 Seldom               Seldom   \n",
              "\n",
              "               pew_religimp      phone         pid3                      pid7   \n",
              "0        Somewhat important       Both  Independent           Lean Republican  \\\n",
              "1      Not at all important  Cell only     Democrat  Not very strong Democrat   \n",
              "2            Very important       Both   Republican         Strong Republican   \n",
              "3      Not at all important  Cell only     Democrat           Strong Democrat   \n",
              "4         Not too important       Both     Democrat           Strong Democrat   \n",
              "...                     ...        ...          ...                       ...   \n",
              "28495    Somewhat important  Cell only     Democrat           Strong Democrat   \n",
              "28496    Somewhat important  Cell only   Republican         Strong Republican   \n",
              "28497  Not at all important       Both     Democrat           Strong Democrat   \n",
              "28498        Very important  Cell only   Republican         Strong Republican   \n",
              "28499     Not too important  Cell only     Democrat  Not very strong Democrat   \n",
              "\n",
              "           race               religpew           union    unionhh  \n",
              "0         White         Roman Catholic        Formerly  No, never  \n",
              "1         White  Nothing in particular       No, never  No, never  \n",
              "2         White                 Mormon        Formerly   Formerly  \n",
              "3         White  Nothing in particular       No, never  No, never  \n",
              "4         White             Protestant       No, never  No, never  \n",
              "...         ...                    ...             ...        ...  \n",
              "28495  Hispanic         Something else       No, never   Formerly  \n",
              "28496  Hispanic         Roman Catholic       No, never  No, never  \n",
              "28497  Hispanic         Something else       No, never   Formerly  \n",
              "28498  Hispanic                 Mormon  Yes, currently  No, never  \n",
              "28499     White  Nothing in particular        Formerly   Formerly  \n",
              "\n",
              "[28500 rows x 127 columns]"
            ]
          },
          "execution_count": 4,
          "metadata": {},
          "output_type": "execute_result"
        }
      ],
      "source": [
        "df_cces"
      ]
    },
    {
      "cell_type": "code",
      "execution_count": 5,
      "metadata": {},
      "outputs": [],
      "source": [
        "# Create subsets for every year for naïve guess\n",
        "df_cces10 = df_cces.query('year == 2010') \\\n",
        "    .reset_index(drop=True)\n",
        "df_cces12 = df_cces.query('year == 2012') \\\n",
        "    .reset_index(drop=True)\n",
        "df_cces14 = df_cces.query('year == 2014') \\\n",
        "    .reset_index(drop=True)"
      ]
    },
    {
      "cell_type": "code",
      "execution_count": 6,
      "metadata": {},
      "outputs": [],
      "source": [
        "# Sort values to create lagged dv\n",
        "df_cces = df_cces.sort_values(['caseid', 'year']) \\\n",
        "    .reset_index(drop=True)"
      ]
    },
    {
      "cell_type": "code",
      "execution_count": 7,
      "metadata": {},
      "outputs": [
        {
          "data": {
            "text/html": [
              "<div>\n",
              "<style scoped>\n",
              "    .dataframe tbody tr th:only-of-type {\n",
              "        vertical-align: middle;\n",
              "    }\n",
              "\n",
              "    .dataframe tbody tr th {\n",
              "        vertical-align: top;\n",
              "    }\n",
              "\n",
              "    .dataframe thead th {\n",
              "        text-align: right;\n",
              "    }\n",
              "</style>\n",
              "<table border=\"1\" class=\"dataframe\">\n",
              "  <thead>\n",
              "    <tr style=\"text-align: right;\">\n",
              "      <th></th>\n",
              "      <th>caseid</th>\n",
              "      <th>weight</th>\n",
              "      <th>year</th>\n",
              "      <th>301_1</th>\n",
              "      <th>301_2</th>\n",
              "      <th>301_3</th>\n",
              "      <th>301_4</th>\n",
              "      <th>301_5</th>\n",
              "      <th>301b</th>\n",
              "      <th>302</th>\n",
              "      <th>...</th>\n",
              "      <th>pew_churatd</th>\n",
              "      <th>pew_prayer</th>\n",
              "      <th>pew_religimp</th>\n",
              "      <th>phone</th>\n",
              "      <th>pid3</th>\n",
              "      <th>pid7</th>\n",
              "      <th>race</th>\n",
              "      <th>religpew</th>\n",
              "      <th>union</th>\n",
              "      <th>unionhh</th>\n",
              "    </tr>\n",
              "  </thead>\n",
              "  <tbody>\n",
              "    <tr>\n",
              "      <th>0</th>\n",
              "      <td>1</td>\n",
              "      <td>0.956946</td>\n",
              "      <td>2010</td>\n",
              "      <td>No</td>\n",
              "      <td>Yes</td>\n",
              "      <td>Yes</td>\n",
              "      <td>Yes</td>\n",
              "      <td>No</td>\n",
              "      <td>Both</td>\n",
              "      <td>Gotten much worse</td>\n",
              "      <td>...</td>\n",
              "      <td>Once a week</td>\n",
              "      <td>Once a day</td>\n",
              "      <td>Very important</td>\n",
              "      <td>Both</td>\n",
              "      <td>Republican</td>\n",
              "      <td>Strong Republican</td>\n",
              "      <td>White</td>\n",
              "      <td>Protestant</td>\n",
              "      <td>No, never</td>\n",
              "      <td>No, never</td>\n",
              "    </tr>\n",
              "    <tr>\n",
              "      <th>1</th>\n",
              "      <td>1</td>\n",
              "      <td>0.956946</td>\n",
              "      <td>2012</td>\n",
              "      <td>No</td>\n",
              "      <td>Yes</td>\n",
              "      <td>Yes</td>\n",
              "      <td>Yes</td>\n",
              "      <td>No</td>\n",
              "      <td>Both</td>\n",
              "      <td>Gotten much worse</td>\n",
              "      <td>...</td>\n",
              "      <td>Once a week</td>\n",
              "      <td>Several times a day</td>\n",
              "      <td>Very important</td>\n",
              "      <td>Cell only</td>\n",
              "      <td>Republican</td>\n",
              "      <td>Strong Republican</td>\n",
              "      <td>White</td>\n",
              "      <td>Protestant</td>\n",
              "      <td>No, never</td>\n",
              "      <td>No, never</td>\n",
              "    </tr>\n",
              "    <tr>\n",
              "      <th>2</th>\n",
              "      <td>1</td>\n",
              "      <td>0.956946</td>\n",
              "      <td>2014</td>\n",
              "      <td>No</td>\n",
              "      <td>Yes</td>\n",
              "      <td>Yes</td>\n",
              "      <td>Yes</td>\n",
              "      <td>No</td>\n",
              "      <td>National Newscast</td>\n",
              "      <td>Gotten worse</td>\n",
              "      <td>...</td>\n",
              "      <td>Once or twice a month</td>\n",
              "      <td>Several times a day</td>\n",
              "      <td>Very important</td>\n",
              "      <td>Both</td>\n",
              "      <td>Republican</td>\n",
              "      <td>Not very strong Republican</td>\n",
              "      <td>White</td>\n",
              "      <td>Protestant</td>\n",
              "      <td>No, never</td>\n",
              "      <td>No, never</td>\n",
              "    </tr>\n",
              "    <tr>\n",
              "      <th>3</th>\n",
              "      <td>24</td>\n",
              "      <td>1.847343</td>\n",
              "      <td>2010</td>\n",
              "      <td>Yes</td>\n",
              "      <td>Yes</td>\n",
              "      <td>Yes</td>\n",
              "      <td>No</td>\n",
              "      <td>No</td>\n",
              "      <td>National Newscast</td>\n",
              "      <td>Stayed about the same</td>\n",
              "      <td>...</td>\n",
              "      <td>Never</td>\n",
              "      <td>Never</td>\n",
              "      <td>Not at all important</td>\n",
              "      <td>Both</td>\n",
              "      <td>Republican</td>\n",
              "      <td>Not very strong Republican</td>\n",
              "      <td>White</td>\n",
              "      <td>Agnostic</td>\n",
              "      <td>No, never</td>\n",
              "      <td>No, never</td>\n",
              "    </tr>\n",
              "    <tr>\n",
              "      <th>4</th>\n",
              "      <td>24</td>\n",
              "      <td>1.847343</td>\n",
              "      <td>2012</td>\n",
              "      <td>Yes</td>\n",
              "      <td>Yes</td>\n",
              "      <td>Yes</td>\n",
              "      <td>No</td>\n",
              "      <td>No</td>\n",
              "      <td>Both</td>\n",
              "      <td>Gotten better</td>\n",
              "      <td>...</td>\n",
              "      <td>Never</td>\n",
              "      <td>Never</td>\n",
              "      <td>Not at all important</td>\n",
              "      <td>Both</td>\n",
              "      <td>Independent</td>\n",
              "      <td>Independent</td>\n",
              "      <td>White</td>\n",
              "      <td>Atheist</td>\n",
              "      <td>No, never</td>\n",
              "      <td>No, never</td>\n",
              "    </tr>\n",
              "    <tr>\n",
              "      <th>...</th>\n",
              "      <td>...</td>\n",
              "      <td>...</td>\n",
              "      <td>...</td>\n",
              "      <td>...</td>\n",
              "      <td>...</td>\n",
              "      <td>...</td>\n",
              "      <td>...</td>\n",
              "      <td>...</td>\n",
              "      <td>...</td>\n",
              "      <td>...</td>\n",
              "      <td>...</td>\n",
              "      <td>...</td>\n",
              "      <td>...</td>\n",
              "      <td>...</td>\n",
              "      <td>...</td>\n",
              "      <td>...</td>\n",
              "      <td>...</td>\n",
              "      <td>...</td>\n",
              "      <td>...</td>\n",
              "      <td>...</td>\n",
              "      <td>...</td>\n",
              "    </tr>\n",
              "    <tr>\n",
              "      <th>28495</th>\n",
              "      <td>85318</td>\n",
              "      <td>1.747243</td>\n",
              "      <td>2012</td>\n",
              "      <td>No</td>\n",
              "      <td>Yes</td>\n",
              "      <td>Yes</td>\n",
              "      <td>No</td>\n",
              "      <td>No</td>\n",
              "      <td>Both</td>\n",
              "      <td>Gotten better</td>\n",
              "      <td>...</td>\n",
              "      <td>Never</td>\n",
              "      <td>Never</td>\n",
              "      <td>Not at all important</td>\n",
              "      <td>Both</td>\n",
              "      <td>Independent</td>\n",
              "      <td>Independent</td>\n",
              "      <td>White</td>\n",
              "      <td>Something else</td>\n",
              "      <td>Yes, currently</td>\n",
              "      <td>No, never</td>\n",
              "    </tr>\n",
              "    <tr>\n",
              "      <th>28496</th>\n",
              "      <td>85318</td>\n",
              "      <td>1.747243</td>\n",
              "      <td>2014</td>\n",
              "      <td>No</td>\n",
              "      <td>Yes</td>\n",
              "      <td>No</td>\n",
              "      <td>No</td>\n",
              "      <td>No</td>\n",
              "      <td>NaN</td>\n",
              "      <td>Stayed about the same</td>\n",
              "      <td>...</td>\n",
              "      <td>Never</td>\n",
              "      <td>Never</td>\n",
              "      <td>Not at all important</td>\n",
              "      <td>Both</td>\n",
              "      <td>Independent</td>\n",
              "      <td>Lean Democrat</td>\n",
              "      <td>White</td>\n",
              "      <td>Something else</td>\n",
              "      <td>No, never</td>\n",
              "      <td>Yes, currently</td>\n",
              "    </tr>\n",
              "    <tr>\n",
              "      <th>28497</th>\n",
              "      <td>85321</td>\n",
              "      <td>0.753324</td>\n",
              "      <td>2010</td>\n",
              "      <td>No</td>\n",
              "      <td>Yes</td>\n",
              "      <td>No</td>\n",
              "      <td>Yes</td>\n",
              "      <td>No</td>\n",
              "      <td>Both</td>\n",
              "      <td>Gotten much worse</td>\n",
              "      <td>...</td>\n",
              "      <td>Seldom</td>\n",
              "      <td>Several times a day</td>\n",
              "      <td>Somewhat important</td>\n",
              "      <td>Both</td>\n",
              "      <td>Republican</td>\n",
              "      <td>Strong Republican</td>\n",
              "      <td>White</td>\n",
              "      <td>Protestant</td>\n",
              "      <td>No, never</td>\n",
              "      <td>No, never</td>\n",
              "    </tr>\n",
              "    <tr>\n",
              "      <th>28498</th>\n",
              "      <td>85321</td>\n",
              "      <td>0.753324</td>\n",
              "      <td>2012</td>\n",
              "      <td>No</td>\n",
              "      <td>Yes</td>\n",
              "      <td>No</td>\n",
              "      <td>No</td>\n",
              "      <td>No</td>\n",
              "      <td>Both</td>\n",
              "      <td>Gotten much worse</td>\n",
              "      <td>...</td>\n",
              "      <td>Never</td>\n",
              "      <td>Several times a day</td>\n",
              "      <td>Very important</td>\n",
              "      <td>Both</td>\n",
              "      <td>Independent</td>\n",
              "      <td>Lean Republican</td>\n",
              "      <td>White</td>\n",
              "      <td>Protestant</td>\n",
              "      <td>No, never</td>\n",
              "      <td>No, never</td>\n",
              "    </tr>\n",
              "    <tr>\n",
              "      <th>28499</th>\n",
              "      <td>85321</td>\n",
              "      <td>0.753324</td>\n",
              "      <td>2014</td>\n",
              "      <td>No</td>\n",
              "      <td>Yes</td>\n",
              "      <td>No</td>\n",
              "      <td>Yes</td>\n",
              "      <td>No</td>\n",
              "      <td>Both</td>\n",
              "      <td>Stayed about the same</td>\n",
              "      <td>...</td>\n",
              "      <td>Never</td>\n",
              "      <td>Several times a day</td>\n",
              "      <td>Not at all important</td>\n",
              "      <td>Both</td>\n",
              "      <td>Republican</td>\n",
              "      <td>Strong Republican</td>\n",
              "      <td>White</td>\n",
              "      <td>Protestant</td>\n",
              "      <td>No, never</td>\n",
              "      <td>No, never</td>\n",
              "    </tr>\n",
              "  </tbody>\n",
              "</table>\n",
              "<p>28500 rows × 127 columns</p>\n",
              "</div>"
            ],
            "text/plain": [
              "       caseid    weight  year 301_1 301_2 301_3 301_4 301_5   \n",
              "0           1  0.956946  2010    No   Yes   Yes   Yes    No  \\\n",
              "1           1  0.956946  2012    No   Yes   Yes   Yes    No   \n",
              "2           1  0.956946  2014    No   Yes   Yes   Yes    No   \n",
              "3          24  1.847343  2010   Yes   Yes   Yes    No    No   \n",
              "4          24  1.847343  2012   Yes   Yes   Yes    No    No   \n",
              "...       ...       ...   ...   ...   ...   ...   ...   ...   \n",
              "28495   85318  1.747243  2012    No   Yes   Yes    No    No   \n",
              "28496   85318  1.747243  2014    No   Yes    No    No    No   \n",
              "28497   85321  0.753324  2010    No   Yes    No   Yes    No   \n",
              "28498   85321  0.753324  2012    No   Yes    No    No    No   \n",
              "28499   85321  0.753324  2014    No   Yes    No   Yes    No   \n",
              "\n",
              "                    301b                    302  ...            pew_churatd   \n",
              "0                   Both      Gotten much worse  ...            Once a week  \\\n",
              "1                   Both      Gotten much worse  ...            Once a week   \n",
              "2      National Newscast           Gotten worse  ...  Once or twice a month   \n",
              "3      National Newscast  Stayed about the same  ...                  Never   \n",
              "4                   Both          Gotten better  ...                  Never   \n",
              "...                  ...                    ...  ...                    ...   \n",
              "28495               Both          Gotten better  ...                  Never   \n",
              "28496                NaN  Stayed about the same  ...                  Never   \n",
              "28497               Both      Gotten much worse  ...                 Seldom   \n",
              "28498               Both      Gotten much worse  ...                  Never   \n",
              "28499               Both  Stayed about the same  ...                  Never   \n",
              "\n",
              "                pew_prayer          pew_religimp      phone         pid3   \n",
              "0               Once a day        Very important       Both   Republican  \\\n",
              "1      Several times a day        Very important  Cell only   Republican   \n",
              "2      Several times a day        Very important       Both   Republican   \n",
              "3                    Never  Not at all important       Both   Republican   \n",
              "4                    Never  Not at all important       Both  Independent   \n",
              "...                    ...                   ...        ...          ...   \n",
              "28495                Never  Not at all important       Both  Independent   \n",
              "28496                Never  Not at all important       Both  Independent   \n",
              "28497  Several times a day    Somewhat important       Both   Republican   \n",
              "28498  Several times a day        Very important       Both  Independent   \n",
              "28499  Several times a day  Not at all important       Both   Republican   \n",
              "\n",
              "                             pid7   race        religpew           union   \n",
              "0               Strong Republican  White      Protestant       No, never  \\\n",
              "1               Strong Republican  White      Protestant       No, never   \n",
              "2      Not very strong Republican  White      Protestant       No, never   \n",
              "3      Not very strong Republican  White        Agnostic       No, never   \n",
              "4                     Independent  White         Atheist       No, never   \n",
              "...                           ...    ...             ...             ...   \n",
              "28495                 Independent  White  Something else  Yes, currently   \n",
              "28496               Lean Democrat  White  Something else       No, never   \n",
              "28497           Strong Republican  White      Protestant       No, never   \n",
              "28498             Lean Republican  White      Protestant       No, never   \n",
              "28499           Strong Republican  White      Protestant       No, never   \n",
              "\n",
              "              unionhh  \n",
              "0           No, never  \n",
              "1           No, never  \n",
              "2           No, never  \n",
              "3           No, never  \n",
              "4           No, never  \n",
              "...               ...  \n",
              "28495       No, never  \n",
              "28496  Yes, currently  \n",
              "28497       No, never  \n",
              "28498       No, never  \n",
              "28499       No, never  \n",
              "\n",
              "[28500 rows x 127 columns]"
            ]
          },
          "execution_count": 7,
          "metadata": {},
          "output_type": "execute_result"
        }
      ],
      "source": [
        "df_cces"
      ]
    },
    {
      "cell_type": "code",
      "execution_count": 8,
      "metadata": {},
      "outputs": [],
      "source": [
        "# Create lag of the DV\n",
        "df_cces['VV_primary_lag'] = df_cces.groupby('caseid')['VV_primary'].shift(1)\n",
        "df_cces['VV_general_lag'] = df_cces.groupby('caseid')['VV_general'].shift(1)"
      ]
    },
    {
      "cell_type": "code",
      "execution_count": 9,
      "metadata": {},
      "outputs": [
        {
          "data": {
            "text/html": [
              "<div>\n",
              "<style scoped>\n",
              "    .dataframe tbody tr th:only-of-type {\n",
              "        vertical-align: middle;\n",
              "    }\n",
              "\n",
              "    .dataframe tbody tr th {\n",
              "        vertical-align: top;\n",
              "    }\n",
              "\n",
              "    .dataframe thead th {\n",
              "        text-align: right;\n",
              "    }\n",
              "</style>\n",
              "<table border=\"1\" class=\"dataframe\">\n",
              "  <thead>\n",
              "    <tr style=\"text-align: right;\">\n",
              "      <th></th>\n",
              "      <th>caseid</th>\n",
              "      <th>year</th>\n",
              "      <th>VV_primary_lag</th>\n",
              "      <th>VV_primary</th>\n",
              "    </tr>\n",
              "  </thead>\n",
              "  <tbody>\n",
              "    <tr>\n",
              "      <th>0</th>\n",
              "      <td>1</td>\n",
              "      <td>2010</td>\n",
              "      <td>NaN</td>\n",
              "      <td>Voted</td>\n",
              "    </tr>\n",
              "    <tr>\n",
              "      <th>1</th>\n",
              "      <td>1</td>\n",
              "      <td>2012</td>\n",
              "      <td>Voted</td>\n",
              "      <td>Voted</td>\n",
              "    </tr>\n",
              "    <tr>\n",
              "      <th>2</th>\n",
              "      <td>1</td>\n",
              "      <td>2014</td>\n",
              "      <td>Voted</td>\n",
              "      <td>Voted</td>\n",
              "    </tr>\n",
              "    <tr>\n",
              "      <th>3</th>\n",
              "      <td>24</td>\n",
              "      <td>2010</td>\n",
              "      <td>NaN</td>\n",
              "      <td>Voted</td>\n",
              "    </tr>\n",
              "    <tr>\n",
              "      <th>4</th>\n",
              "      <td>24</td>\n",
              "      <td>2012</td>\n",
              "      <td>Voted</td>\n",
              "      <td>Voted</td>\n",
              "    </tr>\n",
              "    <tr>\n",
              "      <th>...</th>\n",
              "      <td>...</td>\n",
              "      <td>...</td>\n",
              "      <td>...</td>\n",
              "      <td>...</td>\n",
              "    </tr>\n",
              "    <tr>\n",
              "      <th>28495</th>\n",
              "      <td>85318</td>\n",
              "      <td>2012</td>\n",
              "      <td>Abstained</td>\n",
              "      <td>Abstained</td>\n",
              "    </tr>\n",
              "    <tr>\n",
              "      <th>28496</th>\n",
              "      <td>85318</td>\n",
              "      <td>2014</td>\n",
              "      <td>Abstained</td>\n",
              "      <td>Abstained</td>\n",
              "    </tr>\n",
              "    <tr>\n",
              "      <th>28497</th>\n",
              "      <td>85321</td>\n",
              "      <td>2010</td>\n",
              "      <td>NaN</td>\n",
              "      <td>Abstained</td>\n",
              "    </tr>\n",
              "    <tr>\n",
              "      <th>28498</th>\n",
              "      <td>85321</td>\n",
              "      <td>2012</td>\n",
              "      <td>Abstained</td>\n",
              "      <td>Abstained</td>\n",
              "    </tr>\n",
              "    <tr>\n",
              "      <th>28499</th>\n",
              "      <td>85321</td>\n",
              "      <td>2014</td>\n",
              "      <td>Abstained</td>\n",
              "      <td>Abstained</td>\n",
              "    </tr>\n",
              "  </tbody>\n",
              "</table>\n",
              "<p>28500 rows × 4 columns</p>\n",
              "</div>"
            ],
            "text/plain": [
              "       caseid  year VV_primary_lag VV_primary\n",
              "0           1  2010            NaN      Voted\n",
              "1           1  2012          Voted      Voted\n",
              "2           1  2014          Voted      Voted\n",
              "3          24  2010            NaN      Voted\n",
              "4          24  2012          Voted      Voted\n",
              "...       ...   ...            ...        ...\n",
              "28495   85318  2012      Abstained  Abstained\n",
              "28496   85318  2014      Abstained  Abstained\n",
              "28497   85321  2010            NaN  Abstained\n",
              "28498   85321  2012      Abstained  Abstained\n",
              "28499   85321  2014      Abstained  Abstained\n",
              "\n",
              "[28500 rows x 4 columns]"
            ]
          },
          "execution_count": 9,
          "metadata": {},
          "output_type": "execute_result"
        }
      ],
      "source": [
        "# Check\n",
        "df_cces[['caseid', 'year', 'VV_primary_lag', 'VV_primary']]"
      ]
    },
    {
      "cell_type": "code",
      "execution_count": 10,
      "metadata": {},
      "outputs": [],
      "source": [
        "# Drop all rows where lag is missing = 2010\n",
        "df_cces = df_cces.query('year != 2010').copy()"
      ]
    },
    {
      "cell_type": "code",
      "execution_count": 11,
      "metadata": {
        "id": "X-FOb6UqHQ-4"
      },
      "outputs": [],
      "source": [
        "# Convert cdid to category to create dummies for district ID\n",
        "df_cces['cdid'] = df_cces['cdid'].astype('category')"
      ]
    },
    {
      "cell_type": "code",
      "execution_count": 12,
      "metadata": {
        "id": "OizIx1Qbe3sd"
      },
      "outputs": [],
      "source": [
        "# Drop caseid and weight\n",
        "df_cces = df_cces.drop(['caseid', 'weight'], axis=1)"
      ]
    },
    {
      "cell_type": "code",
      "execution_count": 13,
      "metadata": {},
      "outputs": [],
      "source": [
        "# Write function to split into training and test set\n",
        "def split_cces(df):\n",
        "    df_train = df.query('year == 2012') \\\n",
        "        .drop('year', axis=1)\n",
        "    df_test = df.query('year == 2014') \\\n",
        "        .drop('year', axis=1)\n",
        "    \n",
        "    return (df_train, df_test)"
      ]
    },
    {
      "cell_type": "code",
      "execution_count": 14,
      "metadata": {},
      "outputs": [],
      "source": [
        "# Define class for metrics\n",
        "class Metrics:\n",
        "    \n",
        "    def __init__(self, conf_matrix):\n",
        "        \"\"\"\n",
        "        Initialize the Metrics object with true labels and predicted labels.\n",
        "        \"\"\"\n",
        "        self.conf_matrix = conf_matrix\n",
        "        self.TN, self.FP, self.FN, self.TP = self.conf_matrix.ravel()\n",
        "\n",
        "    def accuracy(self):\n",
        "        \"\"\"\n",
        "        Compute accuracy\n",
        "        \"\"\"\n",
        "        return (self.TP + self.TN) / (self.TP + self.TN + self.FP + self.FN)\n",
        "\n",
        "    def recall(self):\n",
        "        \"\"\"\n",
        "        Compute recall (sensitivity or TPR)\n",
        "        \"\"\"\n",
        "        return self.TP / (self.TP + self.FN) if (self.TP + self.FN) != 0 else 0\n",
        "\n",
        "    def specificity(self):\n",
        "        \"\"\"\n",
        "        Computr specificity (TNR)\n",
        "        \"\"\"\n",
        "        return self.TN / (self.TN + self.FP) if (self.TN + self.FP) != 0 else 0\n",
        "\n",
        "    def precision(self):\n",
        "        \"\"\"\n",
        "        Compute precision\n",
        "        \"\"\"\n",
        "        return self.TP / (self.TP + self.FP) if (self.TP + self.FP) != 0 else 0\n",
        "\n",
        "    def f1_score(self):\n",
        "        \"\"\"\n",
        "        Compute F1 score\n",
        "        \"\"\"\n",
        "        precision = self.precision()\n",
        "        recall = self.recall()\n",
        "        return 2 * (precision * recall) / (precision + recall) if (precision + recall) != 0 else 0"
      ]
    },
    {
      "cell_type": "markdown",
      "metadata": {
        "id": "NQTCfiKCasNt"
      },
      "source": [
        "# DV: VV_primary"
      ]
    },
    {
      "cell_type": "markdown",
      "metadata": {},
      "source": [
        "## Naïve guess"
      ]
    },
    {
      "cell_type": "code",
      "execution_count": 15,
      "metadata": {},
      "outputs": [
        {
          "name": "stdout",
          "output_type": "stream",
          "text": [
            "Naïve 2010 & 2014: 71.76%\n",
            "Naïve 2012 & 2014: 71.21%\n"
          ]
        }
      ],
      "source": [
        "# 2010 and 2014\n",
        "print(f\"Naïve 2010 & 2014: {np.sum(df_cces10['VV_primary'] == df_cces14['VV_primary']) / 9500:.2%}\")\n",
        "# 2012 and 2014\n",
        "print(f\"Naïve 2012 & 2014: {np.sum(df_cces12['VV_primary'] == df_cces14['VV_primary']) / 9500:.2%}\")"
      ]
    },
    {
      "cell_type": "markdown",
      "metadata": {},
      "source": [
        "## Preprocessing"
      ]
    },
    {
      "cell_type": "code",
      "execution_count": 53,
      "metadata": {
        "id": "xV8GHYmce-pC"
      },
      "outputs": [],
      "source": [
        "df_cces_1 = df_cces.drop(['VV_general_lag', 'VV_general'], axis=1)"
      ]
    },
    {
      "cell_type": "code",
      "execution_count": 54,
      "metadata": {
        "id": "d8cFBk2ec32K"
      },
      "outputs": [],
      "source": [
        "# Split into training and test set\n",
        "df_train, df_test = split_cces(df_cces_1)"
      ]
    },
    {
      "cell_type": "code",
      "execution_count": 55,
      "metadata": {
        "colab": {
          "base_uri": "https://localhost:8080/"
        },
        "id": "6UrJwx4rWHaP",
        "outputId": "6647f7fe-3a41-4845-d5d4-4cd41fe3ab6e"
      },
      "outputs": [
        {
          "name": "stdout",
          "output_type": "stream",
          "text": [
            "# Training samples: 9500         # Test samples: 9500\n"
          ]
        }
      ],
      "source": [
        "# Number of samples per split\n",
        "print(f'# Training samples: {len(df_train)} \\\n",
        "        # Test samples: {len(df_test)}')"
      ]
    },
    {
      "cell_type": "code",
      "execution_count": 56,
      "metadata": {
        "id": "XtFQwIjNehiG"
      },
      "outputs": [],
      "source": [
        "X_train = df_train.drop('VV_primary', axis=1)\n",
        "y_train = df_train['VV_primary'].to_numpy()\n",
        "X_test = df_test.drop('VV_primary', axis=1)\n",
        "y_test = df_test['VV_primary'].to_numpy()"
      ]
    },
    {
      "cell_type": "code",
      "execution_count": 57,
      "metadata": {
        "id": "LvxK780_17FY"
      },
      "outputs": [],
      "source": [
        "# Encode targets\n",
        "y_encoder = LabelEncoder()\n",
        "\n",
        "y_train = y_encoder.fit_transform(y_train)\n",
        "y_test = y_encoder.transform(y_test)"
      ]
    },
    {
      "cell_type": "code",
      "execution_count": 58,
      "metadata": {},
      "outputs": [],
      "source": [
        "# Identify ordered categorical columns\n",
        "ordered_cat_cols = [col for col in X_train.columns if pd.api.types.is_categorical_dtype(df_cces[col]) and df_cces[col].cat.ordered]\n",
        "# Identify unordered cateforical columns\n",
        "unordered_cat_cols = [col for col in X_train.columns if pd.api.types.is_categorical_dtype(df_cces[col]) and not df_cces[col].cat.ordered]"
      ]
    },
    {
      "cell_type": "code",
      "execution_count": 59,
      "metadata": {},
      "outputs": [],
      "source": [
        "# Define dictionary for category order\n",
        "category_order = {col: list(X_train[col].cat.categories) for col in ordered_cat_cols}"
      ]
    },
    {
      "cell_type": "code",
      "execution_count": 60,
      "metadata": {
        "id": "NZ1GzLkxhT0d"
      },
      "outputs": [],
      "source": [
        "# One-hot encode only unordered categorical columns\n",
        "# Ordered categorical columns are ordinally encoded\n",
        "col_trans = ColumnTransformer(\n",
        "    [(col,\n",
        "      OneHotEncoder(drop='first',\n",
        "                    sparse_output=False,\n",
        "                    handle_unknown='ignore'),\n",
        "     [col]) for col in unordered_cat_cols] +\n",
        "    [(col,\n",
        "      OrdinalEncoder(categories=[category_order[col]],\n",
        "                     handle_unknown='use_encoded_value',\n",
        "                     unknown_value=np.nan), \n",
        "      [col]) for col in ordered_cat_cols],\n",
        "    remainder='passthrough'\n",
        ")\n",
        "\n",
        "# Impute missing values\n",
        "knn_imputer = KNNImputer(missing_values=np.nan,\n",
        "                         n_neighbors=3,\n",
        "                         weights='distance')\n",
        "\n",
        "# Scaling\n",
        "scaler = StandardScaler(with_mean=True,\n",
        "                        with_std=True)"
      ]
    },
    {
      "cell_type": "code",
      "execution_count": 61,
      "metadata": {
        "id": "zpZBTZnhkOjl"
      },
      "outputs": [],
      "source": [
        "# Define pipeline\n",
        "pipe = Pipeline(steps=[('col_trans', col_trans),\n",
        "                       ('knn_imputer', knn_imputer),\n",
        "                       ('scaler', scaler)]).set_output(transform='pandas')"
      ]
    },
    {
      "cell_type": "code",
      "execution_count": 62,
      "metadata": {
        "colab": {
          "base_uri": "https://localhost:8080/"
        },
        "id": "6RXHV5y0sOB3",
        "outputId": "3b6f5c25-62b7-4870-bcb3-f5b8c660bfbc"
      },
      "outputs": [
        {
          "name": "stderr",
          "output_type": "stream",
          "text": [
            "/opt/anaconda3/lib/python3.11/site-packages/sklearn/preprocessing/_encoders.py:227: UserWarning: Found unknown categories in columns [0] during transform. These unknown categories will be encoded as all zeros\n",
            "  warnings.warn(\n",
            "/opt/anaconda3/lib/python3.11/site-packages/sklearn/preprocessing/_encoders.py:227: UserWarning: Found unknown categories in columns [0] during transform. These unknown categories will be encoded as all zeros\n",
            "  warnings.warn(\n",
            "/opt/anaconda3/lib/python3.11/site-packages/sklearn/preprocessing/_encoders.py:227: UserWarning: Found unknown categories in columns [0] during transform. These unknown categories will be encoded as all zeros\n",
            "  warnings.warn(\n",
            "/opt/anaconda3/lib/python3.11/site-packages/sklearn/preprocessing/_encoders.py:227: UserWarning: Found unknown categories in columns [0] during transform. These unknown categories will be encoded as all zeros\n",
            "  warnings.warn(\n",
            "/opt/anaconda3/lib/python3.11/site-packages/sklearn/preprocessing/_encoders.py:227: UserWarning: Found unknown categories in columns [0] during transform. These unknown categories will be encoded as all zeros\n",
            "  warnings.warn(\n",
            "/opt/anaconda3/lib/python3.11/site-packages/sklearn/preprocessing/_encoders.py:227: UserWarning: Found unknown categories in columns [0] during transform. These unknown categories will be encoded as all zeros\n",
            "  warnings.warn(\n",
            "/opt/anaconda3/lib/python3.11/site-packages/sklearn/preprocessing/_encoders.py:227: UserWarning: Found unknown categories in columns [0] during transform. These unknown categories will be encoded as all zeros\n",
            "  warnings.warn(\n"
          ]
        }
      ],
      "source": [
        "# Fit and apply pipe to training features\n",
        "X_train = pipe.fit_transform(X_train)\n",
        "# Apply pipe to test features\n",
        "X_test = pipe.transform(X_test)"
      ]
    },
    {
      "cell_type": "code",
      "execution_count": 63,
      "metadata": {},
      "outputs": [
        {
          "data": {
            "text/plain": [
              "384"
            ]
          },
          "execution_count": 63,
          "metadata": {},
          "output_type": "execute_result"
        }
      ],
      "source": [
        "# Check shape\n",
        "X_train.shape[1] # 384 features"
      ]
    },
    {
      "cell_type": "markdown",
      "metadata": {},
      "source": [
        "## Fit"
      ]
    },
    {
      "cell_type": "code",
      "execution_count": 64,
      "metadata": {},
      "outputs": [
        {
          "name": "stdout",
          "output_type": "stream",
          "text": [
            "Best alpha: 0.052749970637026196\n"
          ]
        }
      ],
      "source": [
        "# Tune regularization parameter\n",
        "alphas = np.logspace(-4, -0.5, 100)  # Generate 30 values of alpha from 10^-4 to 10^-0.5\n",
        "best_alpha = None\n",
        "max_acc = 0\n",
        "\n",
        "for alpha in alphas:\n",
        "    lasso = Lasso(alpha=alpha)\n",
        "    lasso.fit(X_train, y_train)\n",
        "    preds_proba_test = lasso.predict(X_test)\n",
        "    preds_test = (preds_proba_test > .5).astype(int)\n",
        "    acc = np.sum(preds_test == y_test) / len(y_test)\n",
        "    if acc > max_acc:\n",
        "        max_acc = acc\n",
        "        best_alpha = alpha\n",
        "\n",
        "print(\"Best alpha:\", best_alpha)"
      ]
    },
    {
      "cell_type": "code",
      "execution_count": 65,
      "metadata": {
        "id": "tHMr8PaVyEqy"
      },
      "outputs": [],
      "source": [
        "# Initialize model\n",
        "lasso = Lasso(alpha=best_alpha, max_iter=1_000)"
      ]
    },
    {
      "cell_type": "code",
      "execution_count": 66,
      "metadata": {
        "colab": {
          "base_uri": "https://localhost:8080/",
          "height": 75
        },
        "id": "7TLgDHYdzbHg",
        "outputId": "b6f53d43-ab6d-49d1-8c57-6a3be6caae35"
      },
      "outputs": [
        {
          "data": {
            "text/html": [
              "<style>#sk-container-id-2 {color: black;}#sk-container-id-2 pre{padding: 0;}#sk-container-id-2 div.sk-toggleable {background-color: white;}#sk-container-id-2 label.sk-toggleable__label {cursor: pointer;display: block;width: 100%;margin-bottom: 0;padding: 0.3em;box-sizing: border-box;text-align: center;}#sk-container-id-2 label.sk-toggleable__label-arrow:before {content: \"▸\";float: left;margin-right: 0.25em;color: #696969;}#sk-container-id-2 label.sk-toggleable__label-arrow:hover:before {color: black;}#sk-container-id-2 div.sk-estimator:hover label.sk-toggleable__label-arrow:before {color: black;}#sk-container-id-2 div.sk-toggleable__content {max-height: 0;max-width: 0;overflow: hidden;text-align: left;background-color: #f0f8ff;}#sk-container-id-2 div.sk-toggleable__content pre {margin: 0.2em;color: black;border-radius: 0.25em;background-color: #f0f8ff;}#sk-container-id-2 input.sk-toggleable__control:checked~div.sk-toggleable__content {max-height: 200px;max-width: 100%;overflow: auto;}#sk-container-id-2 input.sk-toggleable__control:checked~label.sk-toggleable__label-arrow:before {content: \"▾\";}#sk-container-id-2 div.sk-estimator input.sk-toggleable__control:checked~label.sk-toggleable__label {background-color: #d4ebff;}#sk-container-id-2 div.sk-label input.sk-toggleable__control:checked~label.sk-toggleable__label {background-color: #d4ebff;}#sk-container-id-2 input.sk-hidden--visually {border: 0;clip: rect(1px 1px 1px 1px);clip: rect(1px, 1px, 1px, 1px);height: 1px;margin: -1px;overflow: hidden;padding: 0;position: absolute;width: 1px;}#sk-container-id-2 div.sk-estimator {font-family: monospace;background-color: #f0f8ff;border: 1px dotted black;border-radius: 0.25em;box-sizing: border-box;margin-bottom: 0.5em;}#sk-container-id-2 div.sk-estimator:hover {background-color: #d4ebff;}#sk-container-id-2 div.sk-parallel-item::after {content: \"\";width: 100%;border-bottom: 1px solid gray;flex-grow: 1;}#sk-container-id-2 div.sk-label:hover label.sk-toggleable__label {background-color: #d4ebff;}#sk-container-id-2 div.sk-serial::before {content: \"\";position: absolute;border-left: 1px solid gray;box-sizing: border-box;top: 0;bottom: 0;left: 50%;z-index: 0;}#sk-container-id-2 div.sk-serial {display: flex;flex-direction: column;align-items: center;background-color: white;padding-right: 0.2em;padding-left: 0.2em;position: relative;}#sk-container-id-2 div.sk-item {position: relative;z-index: 1;}#sk-container-id-2 div.sk-parallel {display: flex;align-items: stretch;justify-content: center;background-color: white;position: relative;}#sk-container-id-2 div.sk-item::before, #sk-container-id-2 div.sk-parallel-item::before {content: \"\";position: absolute;border-left: 1px solid gray;box-sizing: border-box;top: 0;bottom: 0;left: 50%;z-index: -1;}#sk-container-id-2 div.sk-parallel-item {display: flex;flex-direction: column;z-index: 1;position: relative;background-color: white;}#sk-container-id-2 div.sk-parallel-item:first-child::after {align-self: flex-end;width: 50%;}#sk-container-id-2 div.sk-parallel-item:last-child::after {align-self: flex-start;width: 50%;}#sk-container-id-2 div.sk-parallel-item:only-child::after {width: 0;}#sk-container-id-2 div.sk-dashed-wrapped {border: 1px dashed gray;margin: 0 0.4em 0.5em 0.4em;box-sizing: border-box;padding-bottom: 0.4em;background-color: white;}#sk-container-id-2 div.sk-label label {font-family: monospace;font-weight: bold;display: inline-block;line-height: 1.2em;}#sk-container-id-2 div.sk-label-container {text-align: center;}#sk-container-id-2 div.sk-container {/* jupyter's `normalize.less` sets `[hidden] { display: none; }` but bootstrap.min.css set `[hidden] { display: none !important; }` so we also need the `!important` here to be able to override the default hidden behavior on the sphinx rendered scikit-learn.org. See: https://github.com/scikit-learn/scikit-learn/issues/21755 */display: inline-block !important;position: relative;}#sk-container-id-2 div.sk-text-repr-fallback {display: none;}</style><div id=\"sk-container-id-2\" class=\"sk-top-container\"><div class=\"sk-text-repr-fallback\"><pre>Lasso(alpha=0.052749970637026196)</pre><b>In a Jupyter environment, please rerun this cell to show the HTML representation or trust the notebook. <br />On GitHub, the HTML representation is unable to render, please try loading this page with nbviewer.org.</b></div><div class=\"sk-container\" hidden><div class=\"sk-item\"><div class=\"sk-estimator sk-toggleable\"><input class=\"sk-toggleable__control sk-hidden--visually\" id=\"sk-estimator-id-2\" type=\"checkbox\" checked><label for=\"sk-estimator-id-2\" class=\"sk-toggleable__label sk-toggleable__label-arrow\">Lasso</label><div class=\"sk-toggleable__content\"><pre>Lasso(alpha=0.052749970637026196)</pre></div></div></div></div></div>"
            ],
            "text/plain": [
              "Lasso(alpha=0.052749970637026196)"
            ]
          },
          "execution_count": 66,
          "metadata": {},
          "output_type": "execute_result"
        }
      ],
      "source": [
        "# Fit model\n",
        "lasso.fit(X_train, y_train)"
      ]
    },
    {
      "cell_type": "markdown",
      "metadata": {},
      "source": [
        "## Evaluate"
      ]
    },
    {
      "cell_type": "code",
      "execution_count": 67,
      "metadata": {
        "id": "yDMRNg2T7AJ9"
      },
      "outputs": [],
      "source": [
        "preds_proba_train = lasso.predict(X_train)\n",
        "preds_train = (preds_proba_train > .5).astype(int)"
      ]
    },
    {
      "cell_type": "code",
      "execution_count": 68,
      "metadata": {
        "colab": {
          "base_uri": "https://localhost:8080/"
        },
        "id": "bXOtarVs7LlI",
        "outputId": "93af6eed-d473-4d72-e9fa-58ed192ec569"
      },
      "outputs": [
        {
          "name": "stdout",
          "output_type": "stream",
          "text": [
            "Training accuracy: 0.719\n"
          ]
        }
      ],
      "source": [
        "print(f'Training accuracy: {np.sum(preds_train == y_train)/len(y_train):.3f}')"
      ]
    },
    {
      "cell_type": "code",
      "execution_count": 69,
      "metadata": {
        "id": "Ub60F6VT0FHK"
      },
      "outputs": [],
      "source": [
        "preds_proba_test = lasso.predict(X_test)\n",
        "preds_test = (preds_proba_test > .5).astype(int)"
      ]
    },
    {
      "cell_type": "code",
      "execution_count": 70,
      "metadata": {
        "colab": {
          "base_uri": "https://localhost:8080/"
        },
        "id": "ZF3SRtXR4dM7",
        "outputId": "ef5aa1dc-6e2a-4912-fdc1-d8c9c2b0b5a5"
      },
      "outputs": [
        {
          "name": "stdout",
          "output_type": "stream",
          "text": [
            "Test accuracy: 0.7121\n"
          ]
        }
      ],
      "source": [
        "print(f'Test accuracy: {np.sum(preds_test == y_test)/len(y_test):.4f}')"
      ]
    },
    {
      "cell_type": "code",
      "execution_count": 71,
      "metadata": {
        "id": "hIUezm9r6pHi"
      },
      "outputs": [],
      "source": [
        "cmat = confusion_matrix(y_true=y_test, y_pred=preds_test)"
      ]
    },
    {
      "cell_type": "code",
      "execution_count": 72,
      "metadata": {
        "id": "-NnutVzX705h"
      },
      "outputs": [],
      "source": [
        "cmat_disp = ConfusionMatrixDisplay(cmat, display_labels=y_encoder.classes_)"
      ]
    },
    {
      "cell_type": "code",
      "execution_count": 73,
      "metadata": {
        "colab": {
          "base_uri": "https://localhost:8080/",
          "height": 1000
        },
        "id": "Y73SzWKd8YVJ",
        "outputId": "67f7df91-7b54-4814-d5ac-a85ef5392c11"
      },
      "outputs": [
        {
          "data": {
            "image/png": "[encoded data removed]",
            "text/plain": [
              "<Figure size 640x480 with 2 Axes>"
            ]
          },
          "metadata": {},
          "output_type": "display_data"
        }
      ],
      "source": [
        "plt.style.use('seaborn-v0_8-white')\n",
        "plt.rcParams['font.size'] = 13\n",
        "cmat_disp.plot();"
      ]
    },
    {
      "cell_type": "code",
      "execution_count": 74,
      "metadata": {},
      "outputs": [
        {
          "name": "stdout",
          "output_type": "stream",
          "text": [
            "Accuracy: 71.21%\n",
            "Sensitivity/Recall (TPR): 66.02%\n",
            "Specificity (TNR): 75.42%\n",
            "Precision: 68.55%\n",
            "F1: 0.67\n",
            "AUC: 0.73\n"
          ]
        }
      ],
      "source": [
        "# Additional metrics for performance on test data\n",
        "metrics = Metrics(cmat)\n",
        "print(f'Accuracy: {metrics.accuracy():.2%}')\n",
        "print(f'Sensitivity/Recall (TPR): {metrics.recall():.2%}')\n",
        "print(f'Specificity (TNR): {metrics.specificity():.2%}')\n",
        "print(f'Precision: {metrics.precision():.2%}')\n",
        "print(f'F1: {metrics.f1_score():.2f}')\n",
        "print(f'AUC: {roc_auc_score(y_test, preds_proba_test):.2f}')"
      ]
    },
    {
      "cell_type": "code",
      "execution_count": 75,
      "metadata": {},
      "outputs": [
        {
          "name": "stdout",
          "output_type": "stream",
          "text": [
            "309a__309a_Republicans                0.00023515416917545224\n",
            "350__350_Republican Party             0.01437356891513311\n",
            "417a_6__417a_6_Yes                    -0.008344999634407073\n",
            "inputstate__inputstate_New York       -0.012751466246374167\n",
            "religpew__religpew_Atheist            -0.006321341038279656\n",
            "VV_primary_lag__VV_primary_lag_Voted  0.16104646354515703\n",
            "newsint__newsint                      0.0024855018899510722\n"
          ]
        }
      ],
      "source": [
        "# Inspect features for which coefs are non-zero\n",
        "for pos, mag in zip(np.where(lasso.coef_ != 0)[0], lasso.coef_[lasso.coef_!=0]):\n",
        "    print(f\"{X_train.iloc[:, pos].name:<{len('VV_primary_lag__VV_primary_lag_Voted')+1}} {mag:>10}\")"
      ]
    },
    {
      "cell_type": "markdown",
      "metadata": {},
      "source": [
        "# DV: VV_General"
      ]
    },
    {
      "cell_type": "markdown",
      "metadata": {},
      "source": [
        "## Naïve guess"
      ]
    },
    {
      "cell_type": "code",
      "execution_count": 76,
      "metadata": {},
      "outputs": [
        {
          "name": "stdout",
          "output_type": "stream",
          "text": [
            "Naïve 2010 & 2014: 75.20%\n",
            "Naïve 2012 & 2014: 73.95%\n"
          ]
        }
      ],
      "source": [
        "# 2010 and 2014\n",
        "print(f\"Naïve 2010 & 2014: {np.sum(df_cces10['VV_general'] == df_cces14['VV_general']) / 9500:.2%}\")\n",
        "# 2012 and 2014\n",
        "print(f\"Naïve 2012 & 2014: {np.sum(df_cces12['VV_general'] == df_cces14['VV_general']) / 9500:.2%}\")"
      ]
    },
    {
      "cell_type": "markdown",
      "metadata": {},
      "source": [
        "## Preprocessing"
      ]
    },
    {
      "cell_type": "code",
      "execution_count": 77,
      "metadata": {},
      "outputs": [],
      "source": [
        "df_cces_2 = df_cces.drop(['VV_primary_lag', 'VV_primary'], axis=1)"
      ]
    },
    {
      "cell_type": "code",
      "execution_count": 78,
      "metadata": {},
      "outputs": [],
      "source": [
        "df_train, df_test = split_cces(df_cces_2)"
      ]
    },
    {
      "cell_type": "code",
      "execution_count": 80,
      "metadata": {},
      "outputs": [
        {
          "name": "stdout",
          "output_type": "stream",
          "text": [
            "# Training samples: 9500         # Test samples: 9500\n"
          ]
        }
      ],
      "source": [
        "# Number of samples per split\n",
        "print(f'# Training samples: {len(df_train)} \\\n",
        "        # Test samples: {len(df_test)}')"
      ]
    },
    {
      "cell_type": "code",
      "execution_count": 81,
      "metadata": {},
      "outputs": [],
      "source": [
        "X_train = df_train.drop('VV_general', axis=1)\n",
        "y_train = df_train['VV_general'].to_numpy()\n",
        "X_test = df_test.drop('VV_general', axis=1)\n",
        "y_test = df_test['VV_general'].to_numpy()"
      ]
    },
    {
      "cell_type": "code",
      "execution_count": 82,
      "metadata": {},
      "outputs": [],
      "source": [
        "# Encode targets\n",
        "y_encoder = LabelEncoder()\n",
        "\n",
        "y_train = y_encoder.fit_transform(y_train)\n",
        "y_test = y_encoder.transform(y_test)"
      ]
    },
    {
      "cell_type": "code",
      "execution_count": 83,
      "metadata": {},
      "outputs": [],
      "source": [
        "# Identify ordered categorical columns\n",
        "ordered_cat_cols = [col for col in X_train.columns if pd.api.types.is_categorical_dtype(df_cces[col]) and df_cces[col].cat.ordered]\n",
        "# Identify unordered cateforical columns\n",
        "unordered_cat_cols = [col for col in X_train.columns if pd.api.types.is_categorical_dtype(df_cces[col]) and not df_cces[col].cat.ordered]"
      ]
    },
    {
      "cell_type": "code",
      "execution_count": 84,
      "metadata": {},
      "outputs": [],
      "source": [
        "# Define dictionary for category order\n",
        "category_order = {col: list(X_train[col].cat.categories) for col in ordered_cat_cols}"
      ]
    },
    {
      "cell_type": "code",
      "execution_count": 85,
      "metadata": {},
      "outputs": [],
      "source": [
        "# One-hot encode only unordered categorical columns\n",
        "# Ordered categorical columns are ordinally encoded\n",
        "col_trans = ColumnTransformer(\n",
        "    [(col,\n",
        "      OneHotEncoder(drop='first',\n",
        "                    sparse_output=False,\n",
        "                    handle_unknown='ignore'),\n",
        "     [col]) for col in unordered_cat_cols] +\n",
        "    [(col,\n",
        "      OrdinalEncoder(categories=[category_order[col]],\n",
        "                     handle_unknown='use_encoded_value',\n",
        "                     unknown_value=np.nan), \n",
        "      [col]) for col in ordered_cat_cols],\n",
        "    remainder='passthrough'\n",
        ")\n",
        "\n",
        "# Impute missing values\n",
        "knn_imputer = KNNImputer(missing_values=np.nan,\n",
        "                         n_neighbors=13,\n",
        "                         weights='distance')\n",
        "\n",
        "# Scaling\n",
        "scaler = StandardScaler(with_mean=True,\n",
        "                        with_std=True)"
      ]
    },
    {
      "cell_type": "code",
      "execution_count": 86,
      "metadata": {},
      "outputs": [],
      "source": [
        "# Define pipeline\n",
        "pipe = Pipeline(steps=[('col_trans', col_trans),\n",
        "                       ('knn_imputer', knn_imputer),\n",
        "                       ('scaler', scaler)]).set_output(transform='pandas')"
      ]
    },
    {
      "cell_type": "code",
      "execution_count": 87,
      "metadata": {},
      "outputs": [
        {
          "name": "stderr",
          "output_type": "stream",
          "text": [
            "/opt/anaconda3/lib/python3.11/site-packages/sklearn/preprocessing/_encoders.py:227: UserWarning: Found unknown categories in columns [0] during transform. These unknown categories will be encoded as all zeros\n",
            "  warnings.warn(\n",
            "/opt/anaconda3/lib/python3.11/site-packages/sklearn/preprocessing/_encoders.py:227: UserWarning: Found unknown categories in columns [0] during transform. These unknown categories will be encoded as all zeros\n",
            "  warnings.warn(\n",
            "/opt/anaconda3/lib/python3.11/site-packages/sklearn/preprocessing/_encoders.py:227: UserWarning: Found unknown categories in columns [0] during transform. These unknown categories will be encoded as all zeros\n",
            "  warnings.warn(\n",
            "/opt/anaconda3/lib/python3.11/site-packages/sklearn/preprocessing/_encoders.py:227: UserWarning: Found unknown categories in columns [0] during transform. These unknown categories will be encoded as all zeros\n",
            "  warnings.warn(\n",
            "/opt/anaconda3/lib/python3.11/site-packages/sklearn/preprocessing/_encoders.py:227: UserWarning: Found unknown categories in columns [0] during transform. These unknown categories will be encoded as all zeros\n",
            "  warnings.warn(\n",
            "/opt/anaconda3/lib/python3.11/site-packages/sklearn/preprocessing/_encoders.py:227: UserWarning: Found unknown categories in columns [0] during transform. These unknown categories will be encoded as all zeros\n",
            "  warnings.warn(\n",
            "/opt/anaconda3/lib/python3.11/site-packages/sklearn/preprocessing/_encoders.py:227: UserWarning: Found unknown categories in columns [0] during transform. These unknown categories will be encoded as all zeros\n",
            "  warnings.warn(\n"
          ]
        }
      ],
      "source": [
        "# Fit and apply pipe to training features\n",
        "X_train = pipe.fit_transform(X_train)\n",
        "# Apply pipe to test features\n",
        "X_test = pipe.transform(X_test)"
      ]
    },
    {
      "cell_type": "code",
      "execution_count": 88,
      "metadata": {},
      "outputs": [
        {
          "data": {
            "text/plain": [
              "384"
            ]
          },
          "execution_count": 88,
          "metadata": {},
          "output_type": "execute_result"
        }
      ],
      "source": [
        "# Check shape\n",
        "X_train.shape[1] # 384 features"
      ]
    },
    {
      "cell_type": "markdown",
      "metadata": {},
      "source": [
        "## Fit – No oversampling"
      ]
    },
    {
      "cell_type": "code",
      "execution_count": 89,
      "metadata": {},
      "outputs": [
        {
          "name": "stdout",
          "output_type": "stream",
          "text": [
            "Best alpha: 0.03236689285040602\n"
          ]
        }
      ],
      "source": [
        "# Tune regularization parameter\n",
        "alphas = np.logspace(-4, -0.5, 100)  # Generate 30 values of alpha from 10^-4 to 10^-0.5\n",
        "best_alpha = None\n",
        "max_acc = 0\n",
        "\n",
        "for alpha in alphas:\n",
        "    lasso = Lasso(alpha=alpha)\n",
        "    lasso.fit(X_train, y_train)\n",
        "    preds_proba_test = lasso.predict(X_test)\n",
        "    preds_test = (preds_proba_test > .5).astype(int)\n",
        "    acc = np.sum(preds_test == y_test) / len(y_test)\n",
        "    if acc > max_acc:\n",
        "        max_acc = acc\n",
        "        best_alpha = alpha\n",
        "\n",
        "print(\"Best alpha:\", best_alpha)"
      ]
    },
    {
      "cell_type": "code",
      "execution_count": 90,
      "metadata": {},
      "outputs": [
        {
          "data": {
            "text/html": [
              "<style>#sk-container-id-3 {color: black;}#sk-container-id-3 pre{padding: 0;}#sk-container-id-3 div.sk-toggleable {background-color: white;}#sk-container-id-3 label.sk-toggleable__label {cursor: pointer;display: block;width: 100%;margin-bottom: 0;padding: 0.3em;box-sizing: border-box;text-align: center;}#sk-container-id-3 label.sk-toggleable__label-arrow:before {content: \"▸\";float: left;margin-right: 0.25em;color: #696969;}#sk-container-id-3 label.sk-toggleable__label-arrow:hover:before {color: black;}#sk-container-id-3 div.sk-estimator:hover label.sk-toggleable__label-arrow:before {color: black;}#sk-container-id-3 div.sk-toggleable__content {max-height: 0;max-width: 0;overflow: hidden;text-align: left;background-color: #f0f8ff;}#sk-container-id-3 div.sk-toggleable__content pre {margin: 0.2em;color: black;border-radius: 0.25em;background-color: #f0f8ff;}#sk-container-id-3 input.sk-toggleable__control:checked~div.sk-toggleable__content {max-height: 200px;max-width: 100%;overflow: auto;}#sk-container-id-3 input.sk-toggleable__control:checked~label.sk-toggleable__label-arrow:before {content: \"▾\";}#sk-container-id-3 div.sk-estimator input.sk-toggleable__control:checked~label.sk-toggleable__label {background-color: #d4ebff;}#sk-container-id-3 div.sk-label input.sk-toggleable__control:checked~label.sk-toggleable__label {background-color: #d4ebff;}#sk-container-id-3 input.sk-hidden--visually {border: 0;clip: rect(1px 1px 1px 1px);clip: rect(1px, 1px, 1px, 1px);height: 1px;margin: -1px;overflow: hidden;padding: 0;position: absolute;width: 1px;}#sk-container-id-3 div.sk-estimator {font-family: monospace;background-color: #f0f8ff;border: 1px dotted black;border-radius: 0.25em;box-sizing: border-box;margin-bottom: 0.5em;}#sk-container-id-3 div.sk-estimator:hover {background-color: #d4ebff;}#sk-container-id-3 div.sk-parallel-item::after {content: \"\";width: 100%;border-bottom: 1px solid gray;flex-grow: 1;}#sk-container-id-3 div.sk-label:hover label.sk-toggleable__label {background-color: #d4ebff;}#sk-container-id-3 div.sk-serial::before {content: \"\";position: absolute;border-left: 1px solid gray;box-sizing: border-box;top: 0;bottom: 0;left: 50%;z-index: 0;}#sk-container-id-3 div.sk-serial {display: flex;flex-direction: column;align-items: center;background-color: white;padding-right: 0.2em;padding-left: 0.2em;position: relative;}#sk-container-id-3 div.sk-item {position: relative;z-index: 1;}#sk-container-id-3 div.sk-parallel {display: flex;align-items: stretch;justify-content: center;background-color: white;position: relative;}#sk-container-id-3 div.sk-item::before, #sk-container-id-3 div.sk-parallel-item::before {content: \"\";position: absolute;border-left: 1px solid gray;box-sizing: border-box;top: 0;bottom: 0;left: 50%;z-index: -1;}#sk-container-id-3 div.sk-parallel-item {display: flex;flex-direction: column;z-index: 1;position: relative;background-color: white;}#sk-container-id-3 div.sk-parallel-item:first-child::after {align-self: flex-end;width: 50%;}#sk-container-id-3 div.sk-parallel-item:last-child::after {align-self: flex-start;width: 50%;}#sk-container-id-3 div.sk-parallel-item:only-child::after {width: 0;}#sk-container-id-3 div.sk-dashed-wrapped {border: 1px dashed gray;margin: 0 0.4em 0.5em 0.4em;box-sizing: border-box;padding-bottom: 0.4em;background-color: white;}#sk-container-id-3 div.sk-label label {font-family: monospace;font-weight: bold;display: inline-block;line-height: 1.2em;}#sk-container-id-3 div.sk-label-container {text-align: center;}#sk-container-id-3 div.sk-container {/* jupyter's `normalize.less` sets `[hidden] { display: none; }` but bootstrap.min.css set `[hidden] { display: none !important; }` so we also need the `!important` here to be able to override the default hidden behavior on the sphinx rendered scikit-learn.org. See: https://github.com/scikit-learn/scikit-learn/issues/21755 */display: inline-block !important;position: relative;}#sk-container-id-3 div.sk-text-repr-fallback {display: none;}</style><div id=\"sk-container-id-3\" class=\"sk-top-container\"><div class=\"sk-text-repr-fallback\"><pre>Lasso(alpha=0.03236689285040602)</pre><b>In a Jupyter environment, please rerun this cell to show the HTML representation or trust the notebook. <br />On GitHub, the HTML representation is unable to render, please try loading this page with nbviewer.org.</b></div><div class=\"sk-container\" hidden><div class=\"sk-item\"><div class=\"sk-estimator sk-toggleable\"><input class=\"sk-toggleable__control sk-hidden--visually\" id=\"sk-estimator-id-3\" type=\"checkbox\" checked><label for=\"sk-estimator-id-3\" class=\"sk-toggleable__label sk-toggleable__label-arrow\">Lasso</label><div class=\"sk-toggleable__content\"><pre>Lasso(alpha=0.03236689285040602)</pre></div></div></div></div></div>"
            ],
            "text/plain": [
              "Lasso(alpha=0.03236689285040602)"
            ]
          },
          "execution_count": 90,
          "metadata": {},
          "output_type": "execute_result"
        }
      ],
      "source": [
        "# Initialize and fit model\n",
        "lasso = Lasso(alpha=best_alpha, max_iter=1_000)\n",
        "lasso.fit(X_train, y_train)"
      ]
    },
    {
      "cell_type": "markdown",
      "metadata": {},
      "source": [
        "## Evaluate"
      ]
    },
    {
      "cell_type": "code",
      "execution_count": 91,
      "metadata": {},
      "outputs": [
        {
          "name": "stdout",
          "output_type": "stream",
          "text": [
            "Training accuracy: 0.7958\n"
          ]
        }
      ],
      "source": [
        "preds_proba_train = lasso.predict(X_train)\n",
        "preds_train = (preds_proba_train > .5).astype(int)\n",
        "print(f'Training accuracy: {np.sum(preds_train == y_train)/len(y_train):.4f}')"
      ]
    },
    {
      "cell_type": "code",
      "execution_count": 92,
      "metadata": {},
      "outputs": [
        {
          "name": "stdout",
          "output_type": "stream",
          "text": [
            "Test accuracy: 0.7913\n"
          ]
        }
      ],
      "source": [
        "preds_proba_test = lasso.predict(X_test)\n",
        "preds_test = (preds_proba_test > .5).astype(int)\n",
        "print(f'Test accuracy: {np.sum(preds_test == y_test)/len(y_test):.4f}')"
      ]
    },
    {
      "cell_type": "code",
      "execution_count": 93,
      "metadata": {},
      "outputs": [],
      "source": [
        "cmat = confusion_matrix(y_true=y_test, y_pred=preds_test)\n",
        "cmat_disp = ConfusionMatrixDisplay(cmat, display_labels=y_encoder.classes_)"
      ]
    },
    {
      "cell_type": "code",
      "execution_count": 94,
      "metadata": {},
      "outputs": [
        {
          "data": {
            "image/png": "[encoded data removed]",
            "text/plain": [
              "<Figure size 640x480 with 2 Axes>"
            ]
          },
          "metadata": {},
          "output_type": "display_data"
        }
      ],
      "source": [
        "plt.style.use('seaborn-v0_8-white')\n",
        "plt.rcParams['font.size'] = 13\n",
        "cmat_disp.plot();"
      ]
    },
    {
      "cell_type": "code",
      "execution_count": 95,
      "metadata": {},
      "outputs": [
        {
          "name": "stdout",
          "output_type": "stream",
          "text": [
            "Accuracy: 79.13%\n",
            "Sensitivity/Recall (TPR): 95.41%\n",
            "Specificity (TNR): 36.15%\n",
            "Precision: 79.77%\n",
            "F1: 0.87\n",
            "AUC: 0.75\n"
          ]
        }
      ],
      "source": [
        "# Additional metrics for performance on test data\n",
        "metrics = Metrics(cmat)\n",
        "print(f'Accuracy: {metrics.accuracy():.2%}')\n",
        "print(f'Sensitivity/Recall (TPR): {metrics.recall():.2%}')\n",
        "print(f'Specificity (TNR): {metrics.specificity():.2%}')\n",
        "print(f'Precision: {metrics.precision():.2%}')\n",
        "print(f'F1: {metrics.f1_score():.2f}')\n",
        "print(f'AUC: {roc_auc_score(y_test, preds_proba_test):.2f}')"
      ]
    },
    {
      "cell_type": "code",
      "execution_count": 96,
      "metadata": {},
      "outputs": [
        {
          "name": "stdout",
          "output_type": "stream",
          "text": [
            "309a__309a_Republicans                0.002031733168412618\n",
            "317__317_nan                          -0.0022548807026641646\n",
            "406a__406a_nan                        -0.08997879326101983\n",
            "425a__425a_Yes                        0.0005528769696238969\n",
            "425b_2__425b_2_nan                    -2.33357193218054e-16\n",
            "religpew__religpew_Atheist            -0.07602887668923931\n",
            "VV_general_lag__VV_general_lag_Voted  0.09624425115738547\n"
          ]
        }
      ],
      "source": [
        "# Inspect features for which coefs are non-zero\n",
        "for pos, mag in zip(np.where(lasso.coef_ != 0)[0], lasso.coef_[lasso.coef_!=0]):\n",
        "    print(f\"{X_train.iloc[:, pos].name:<{len('VV_primary_lag__VV_primary_lag_Voted')+1}} {mag:>10}\")"
      ]
    },
    {
      "cell_type": "markdown",
      "metadata": {},
      "source": [
        "## Fit – SMOTE"
      ]
    },
    {
      "cell_type": "code",
      "execution_count": 97,
      "metadata": {},
      "outputs": [],
      "source": [
        "# Create pipeline\n",
        "lasso_pipe = ImbPipeline([\n",
        "    ('smote', SMOTE(sampling_strategy='minority', random_state=42, k_neighbors=3)),\n",
        "    ('lasso', Lasso(alpha=best_alpha, max_iter=1_000))\n",
        "])"
      ]
    },
    {
      "cell_type": "code",
      "execution_count": 98,
      "metadata": {},
      "outputs": [
        {
          "data": {
            "text/html": [
              "<style>#sk-container-id-4 {color: black;}#sk-container-id-4 pre{padding: 0;}#sk-container-id-4 div.sk-toggleable {background-color: white;}#sk-container-id-4 label.sk-toggleable__label {cursor: pointer;display: block;width: 100%;margin-bottom: 0;padding: 0.3em;box-sizing: border-box;text-align: center;}#sk-container-id-4 label.sk-toggleable__label-arrow:before {content: \"▸\";float: left;margin-right: 0.25em;color: #696969;}#sk-container-id-4 label.sk-toggleable__label-arrow:hover:before {color: black;}#sk-container-id-4 div.sk-estimator:hover label.sk-toggleable__label-arrow:before {color: black;}#sk-container-id-4 div.sk-toggleable__content {max-height: 0;max-width: 0;overflow: hidden;text-align: left;background-color: #f0f8ff;}#sk-container-id-4 div.sk-toggleable__content pre {margin: 0.2em;color: black;border-radius: 0.25em;background-color: #f0f8ff;}#sk-container-id-4 input.sk-toggleable__control:checked~div.sk-toggleable__content {max-height: 200px;max-width: 100%;overflow: auto;}#sk-container-id-4 input.sk-toggleable__control:checked~label.sk-toggleable__label-arrow:before {content: \"▾\";}#sk-container-id-4 div.sk-estimator input.sk-toggleable__control:checked~label.sk-toggleable__label {background-color: #d4ebff;}#sk-container-id-4 div.sk-label input.sk-toggleable__control:checked~label.sk-toggleable__label {background-color: #d4ebff;}#sk-container-id-4 input.sk-hidden--visually {border: 0;clip: rect(1px 1px 1px 1px);clip: rect(1px, 1px, 1px, 1px);height: 1px;margin: -1px;overflow: hidden;padding: 0;position: absolute;width: 1px;}#sk-container-id-4 div.sk-estimator {font-family: monospace;background-color: #f0f8ff;border: 1px dotted black;border-radius: 0.25em;box-sizing: border-box;margin-bottom: 0.5em;}#sk-container-id-4 div.sk-estimator:hover {background-color: #d4ebff;}#sk-container-id-4 div.sk-parallel-item::after {content: \"\";width: 100%;border-bottom: 1px solid gray;flex-grow: 1;}#sk-container-id-4 div.sk-label:hover label.sk-toggleable__label {background-color: #d4ebff;}#sk-container-id-4 div.sk-serial::before {content: \"\";position: absolute;border-left: 1px solid gray;box-sizing: border-box;top: 0;bottom: 0;left: 50%;z-index: 0;}#sk-container-id-4 div.sk-serial {display: flex;flex-direction: column;align-items: center;background-color: white;padding-right: 0.2em;padding-left: 0.2em;position: relative;}#sk-container-id-4 div.sk-item {position: relative;z-index: 1;}#sk-container-id-4 div.sk-parallel {display: flex;align-items: stretch;justify-content: center;background-color: white;position: relative;}#sk-container-id-4 div.sk-item::before, #sk-container-id-4 div.sk-parallel-item::before {content: \"\";position: absolute;border-left: 1px solid gray;box-sizing: border-box;top: 0;bottom: 0;left: 50%;z-index: -1;}#sk-container-id-4 div.sk-parallel-item {display: flex;flex-direction: column;z-index: 1;position: relative;background-color: white;}#sk-container-id-4 div.sk-parallel-item:first-child::after {align-self: flex-end;width: 50%;}#sk-container-id-4 div.sk-parallel-item:last-child::after {align-self: flex-start;width: 50%;}#sk-container-id-4 div.sk-parallel-item:only-child::after {width: 0;}#sk-container-id-4 div.sk-dashed-wrapped {border: 1px dashed gray;margin: 0 0.4em 0.5em 0.4em;box-sizing: border-box;padding-bottom: 0.4em;background-color: white;}#sk-container-id-4 div.sk-label label {font-family: monospace;font-weight: bold;display: inline-block;line-height: 1.2em;}#sk-container-id-4 div.sk-label-container {text-align: center;}#sk-container-id-4 div.sk-container {/* jupyter's `normalize.less` sets `[hidden] { display: none; }` but bootstrap.min.css set `[hidden] { display: none !important; }` so we also need the `!important` here to be able to override the default hidden behavior on the sphinx rendered scikit-learn.org. See: https://github.com/scikit-learn/scikit-learn/issues/21755 */display: inline-block !important;position: relative;}#sk-container-id-4 div.sk-text-repr-fallback {display: none;}</style><div id=\"sk-container-id-4\" class=\"sk-top-container\"><div class=\"sk-text-repr-fallback\"><pre>Pipeline(steps=[(&#x27;smote&#x27;,\n",
              "                 SMOTE(k_neighbors=3, random_state=42,\n",
              "                       sampling_strategy=&#x27;minority&#x27;)),\n",
              "                (&#x27;lasso&#x27;, Lasso(alpha=0.03236689285040602))])</pre><b>In a Jupyter environment, please rerun this cell to show the HTML representation or trust the notebook. <br />On GitHub, the HTML representation is unable to render, please try loading this page with nbviewer.org.</b></div><div class=\"sk-container\" hidden><div class=\"sk-item sk-dashed-wrapped\"><div class=\"sk-label-container\"><div class=\"sk-label sk-toggleable\"><input class=\"sk-toggleable__control sk-hidden--visually\" id=\"sk-estimator-id-4\" type=\"checkbox\" ><label for=\"sk-estimator-id-4\" class=\"sk-toggleable__label sk-toggleable__label-arrow\">Pipeline</label><div class=\"sk-toggleable__content\"><pre>Pipeline(steps=[(&#x27;smote&#x27;,\n",
              "                 SMOTE(k_neighbors=3, random_state=42,\n",
              "                       sampling_strategy=&#x27;minority&#x27;)),\n",
              "                (&#x27;lasso&#x27;, Lasso(alpha=0.03236689285040602))])</pre></div></div></div><div class=\"sk-serial\"><div class=\"sk-item\"><div class=\"sk-estimator sk-toggleable\"><input class=\"sk-toggleable__control sk-hidden--visually\" id=\"sk-estimator-id-5\" type=\"checkbox\" ><label for=\"sk-estimator-id-5\" class=\"sk-toggleable__label sk-toggleable__label-arrow\">SMOTE</label><div class=\"sk-toggleable__content\"><pre>SMOTE(k_neighbors=3, random_state=42, sampling_strategy=&#x27;minority&#x27;)</pre></div></div></div><div class=\"sk-item\"><div class=\"sk-estimator sk-toggleable\"><input class=\"sk-toggleable__control sk-hidden--visually\" id=\"sk-estimator-id-6\" type=\"checkbox\" ><label for=\"sk-estimator-id-6\" class=\"sk-toggleable__label sk-toggleable__label-arrow\">Lasso</label><div class=\"sk-toggleable__content\"><pre>Lasso(alpha=0.03236689285040602)</pre></div></div></div></div></div></div></div>"
            ],
            "text/plain": [
              "Pipeline(steps=[('smote',\n",
              "                 SMOTE(k_neighbors=3, random_state=42,\n",
              "                       sampling_strategy='minority')),\n",
              "                ('lasso', Lasso(alpha=0.03236689285040602))])"
            ]
          },
          "execution_count": 98,
          "metadata": {},
          "output_type": "execute_result"
        }
      ],
      "source": [
        "# Fit model\n",
        "lasso_pipe.fit(X_train, y_train)"
      ]
    },
    {
      "cell_type": "markdown",
      "metadata": {},
      "source": [
        "## Evaluate"
      ]
    },
    {
      "cell_type": "code",
      "execution_count": 99,
      "metadata": {},
      "outputs": [
        {
          "name": "stdout",
          "output_type": "stream",
          "text": [
            "Training accuracy: 0.7742\n"
          ]
        }
      ],
      "source": [
        "preds_proba_train = lasso_pipe.predict(X_train)\n",
        "preds_train = (preds_proba_train > .5).astype(int)\n",
        "print(f'Training accuracy: {np.sum(preds_train == y_train)/len(y_train):.4f}')"
      ]
    },
    {
      "cell_type": "code",
      "execution_count": 100,
      "metadata": {},
      "outputs": [
        {
          "name": "stdout",
          "output_type": "stream",
          "text": [
            "Test accuracy: 0.7564\n"
          ]
        }
      ],
      "source": [
        "preds_proba_test = lasso_pipe.predict(X_test)\n",
        "preds_test = (preds_proba_test > .5).astype(int)\n",
        "print(f'Test accuracy: {np.sum(preds_test == y_test)/len(y_test):.4f}')"
      ]
    },
    {
      "cell_type": "code",
      "execution_count": 101,
      "metadata": {},
      "outputs": [],
      "source": [
        "cmat = confusion_matrix(y_true=y_test, y_pred=preds_test)\n",
        "cmat_disp = ConfusionMatrixDisplay(cmat, display_labels=y_encoder.classes_)"
      ]
    },
    {
      "cell_type": "code",
      "execution_count": 103,
      "metadata": {},
      "outputs": [
        {
          "data": {
            "image/png": "[encoded data removed]",
            "text/plain": [
              "<Figure size 640x480 with 2 Axes>"
            ]
          },
          "metadata": {},
          "output_type": "display_data"
        }
      ],
      "source": [
        "plt.style.use('seaborn-v0_8-white')\n",
        "plt.rcParams['font.size'] = 13\n",
        "cmat_disp.plot();"
      ]
    },
    {
      "cell_type": "code",
      "execution_count": 104,
      "metadata": {},
      "outputs": [
        {
          "name": "stdout",
          "output_type": "stream",
          "text": [
            "Accuracy: 75.64%\n",
            "Sensitivity/Recall (TPR): 80.72%\n",
            "Specificity (TNR): 62.24%\n",
            "Precision: 84.94%\n",
            "F1: 0.83\n",
            "AUC: 0.72\n"
          ]
        }
      ],
      "source": [
        "# Additional metrics for performance on test data\n",
        "metrics = Metrics(cmat)\n",
        "print(f'Accuracy: {metrics.accuracy():.2%}')\n",
        "print(f'Sensitivity/Recall (TPR): {metrics.recall():.2%}')\n",
        "print(f'Specificity (TNR): {metrics.specificity():.2%}')\n",
        "print(f'Precision: {metrics.precision():.2%}')\n",
        "print(f'F1: {metrics.f1_score():.2f}')\n",
        "print(f'AUC: {roc_auc_score(y_test, preds_proba_test):.2f}')"
      ]
    }
  ],
  "metadata": {
    "colab": {
      "provenance": []
    },
    "kernelspec": {
      "display_name": "Python 3",
      "name": "python3"
    },
    "language_info": {
      "codemirror_mode": {
        "name": "ipython",
        "version": 3
      },
      "file_extension": ".py",
      "mimetype": "text/x-python",
      "name": "python",
      "nbconvert_exporter": "python",
      "pygments_lexer": "ipython3",
      "version": "3.11.8"
    }
  },
  "nbformat": 4,
  "nbformat_minor": 0
}
