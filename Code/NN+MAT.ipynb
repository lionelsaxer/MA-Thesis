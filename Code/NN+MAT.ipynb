{
  "nbformat": 4,
  "nbformat_minor": 0,
  "metadata": {
    "colab": {
      "provenance": []
    },
    "kernelspec": {
      "name": "python3",
      "display_name": "Python 3"
    },
    "language_info": {
      "name": "python"
    }
  },
  "cells": [
    {
      "cell_type": "code",
      "execution_count": null,
      "metadata": {
        "id": "0TFWF89FX2dS"
      },
      "outputs": [],
      "source": [
        "# Imports\n",
        "import pandas as pd, numpy as np\n",
        "import matplotlib.pyplot as plt\n",
        "import os\n",
        "import random\n",
        "import tensorflow as tf\n",
        "from tensorflow.keras.models import Sequential\n",
        "from tensorflow.keras.layers import \\\n",
        "  (Dense, Dropout, BatchNormalization, Activation)\n",
        "from tensorflow.keras.callbacks import \\\n",
        "  (ModelCheckpoint, CSVLogger, EarlyStopping,\n",
        "   LearningRateScheduler)\n",
        "from tensorflow.keras.optimizers import Adam, RMSprop\n",
        "from sklearn.preprocessing import \\\n",
        "  (StandardScaler, OneHotEncoder,\n",
        "   LabelEncoder, OrdinalEncoder)\n",
        "from tensorflow.keras import regularizers\n",
        "from sklearn.compose import ColumnTransformer\n",
        "from sklearn.impute import KNNImputer\n",
        "from sklearn.metrics import \\\n",
        "  (confusion_matrix, ConfusionMatrixDisplay, roc_auc_score)\n",
        "from sklearn.pipeline import Pipeline\n",
        "from sklearn.utils.class_weight import compute_class_weight"
      ]
    },
    {
      "cell_type": "code",
      "source": [
        "# Read in data\n",
        "df_cces = pd.read_parquet('CCES_Panel_cleaned.parquet')"
      ],
      "metadata": {
        "id": "_xxLIhDyZjDh"
      },
      "execution_count": null,
      "outputs": []
    },
    {
      "cell_type": "code",
      "source": [
        "df_cces"
      ],
      "metadata": {
        "colab": {
          "base_uri": "https://localhost:8080/",
          "height": 424
        },
        "id": "r4epSFR3MNZ4",
        "outputId": "650eefba-f660-43c1-df88-b62530d3b957"
      },
      "execution_count": null,
      "outputs": [
        {
          "output_type": "execute_result",
          "data": {
            "text/plain": [
              "       caseid    weight  year 301_1 301_2 301_3 301_4 301_5            301b  \\\n",
              "0       25233  0.538062  2010   Yes   Yes   Yes   Yes    No            Both   \n",
              "1       38716  3.470877  2010   Yes    No   Yes   Yes    No             NaN   \n",
              "2        7796  0.602477  2010    No   Yes   Yes   Yes    No            Both   \n",
              "3       78113  0.264208  2010   Yes   Yes   Yes   Yes    No            Both   \n",
              "4       63800  0.196632  2010   Yes   Yes   Yes    No    No            Both   \n",
              "...       ...       ...   ...   ...   ...   ...   ...   ...             ...   \n",
              "28495   57290  1.146715  2014    No    No    No    No   Yes             NaN   \n",
              "28496   57315  1.171217  2014    No    No    No    No   Yes             NaN   \n",
              "28497   57399  0.424949  2014    No   Yes    No    No    No  Local Newscast   \n",
              "28498   59331  0.505942  2014    No   Yes    No   Yes    No  Local Newscast   \n",
              "28499   66538  1.665605  2014    No   Yes    No    No    No  Local Newscast   \n",
              "\n",
              "                         302  ...            pew_churatd           pew_prayer  \\\n",
              "0          Gotten much worse  ...  Once or twice a month   A few times a week   \n",
              "1      Stayed about the same  ...                  Never                Never   \n",
              "2               Gotten worse  ...  More than once a week  Several times a day   \n",
              "3              Gotten better  ...                  Never                Never   \n",
              "4              Gotten better  ...                 Seldom                Never   \n",
              "...                      ...  ...                    ...                  ...   \n",
              "28495          Gotten better  ...                  Never  A few times a month   \n",
              "28496  Stayed about the same  ...     A few times a year   A few times a week   \n",
              "28497     Gotten much better  ...                  Never               Seldom   \n",
              "28498           Gotten worse  ...            Once a week           Once a day   \n",
              "28499  Stayed about the same  ...                 Seldom               Seldom   \n",
              "\n",
              "               pew_religimp      phone         pid3                      pid7  \\\n",
              "0        Somewhat important       Both  Independent           Lean Republican   \n",
              "1      Not at all important  Cell only     Democrat  Not very strong Democrat   \n",
              "2            Very important       Both   Republican         Strong Republican   \n",
              "3      Not at all important  Cell only     Democrat           Strong Democrat   \n",
              "4         Not too important       Both     Democrat           Strong Democrat   \n",
              "...                     ...        ...          ...                       ...   \n",
              "28495    Somewhat important  Cell only     Democrat           Strong Democrat   \n",
              "28496    Somewhat important  Cell only   Republican         Strong Republican   \n",
              "28497  Not at all important       Both     Democrat           Strong Democrat   \n",
              "28498        Very important  Cell only   Republican         Strong Republican   \n",
              "28499     Not too important  Cell only     Democrat  Not very strong Democrat   \n",
              "\n",
              "           race               religpew           union    unionhh  \n",
              "0         White         Roman Catholic        Formerly  No, never  \n",
              "1         White  Nothing in particular       No, never  No, never  \n",
              "2         White                 Mormon        Formerly   Formerly  \n",
              "3         White  Nothing in particular       No, never  No, never  \n",
              "4         White             Protestant       No, never  No, never  \n",
              "...         ...                    ...             ...        ...  \n",
              "28495  Hispanic         Something else       No, never   Formerly  \n",
              "28496  Hispanic         Roman Catholic       No, never  No, never  \n",
              "28497  Hispanic         Something else       No, never   Formerly  \n",
              "28498  Hispanic                 Mormon  Yes, currently  No, never  \n",
              "28499     White  Nothing in particular        Formerly   Formerly  \n",
              "\n",
              "[28500 rows x 127 columns]"
            ],
            "text/html": [
              "\n",
              "  <div id=\"df-3b29c7bb-6220-4de8-9101-207618b62317\" class=\"colab-df-container\">\n",
              "    <div>\n",
              "<style scoped>\n",
              "    .dataframe tbody tr th:only-of-type {\n",
              "        vertical-align: middle;\n",
              "    }\n",
              "\n",
              "    .dataframe tbody tr th {\n",
              "        vertical-align: top;\n",
              "    }\n",
              "\n",
              "    .dataframe thead th {\n",
              "        text-align: right;\n",
              "    }\n",
              "</style>\n",
              "<table border=\"1\" class=\"dataframe\">\n",
              "  <thead>\n",
              "    <tr style=\"text-align: right;\">\n",
              "      <th></th>\n",
              "      <th>caseid</th>\n",
              "      <th>weight</th>\n",
              "      <th>year</th>\n",
              "      <th>301_1</th>\n",
              "      <th>301_2</th>\n",
              "      <th>301_3</th>\n",
              "      <th>301_4</th>\n",
              "      <th>301_5</th>\n",
              "      <th>301b</th>\n",
              "      <th>302</th>\n",
              "      <th>...</th>\n",
              "      <th>pew_churatd</th>\n",
              "      <th>pew_prayer</th>\n",
              "      <th>pew_religimp</th>\n",
              "      <th>phone</th>\n",
              "      <th>pid3</th>\n",
              "      <th>pid7</th>\n",
              "      <th>race</th>\n",
              "      <th>religpew</th>\n",
              "      <th>union</th>\n",
              "      <th>unionhh</th>\n",
              "    </tr>\n",
              "  </thead>\n",
              "  <tbody>\n",
              "    <tr>\n",
              "      <th>0</th>\n",
              "      <td>25233</td>\n",
              "      <td>0.538062</td>\n",
              "      <td>2010</td>\n",
              "      <td>Yes</td>\n",
              "      <td>Yes</td>\n",
              "      <td>Yes</td>\n",
              "      <td>Yes</td>\n",
              "      <td>No</td>\n",
              "      <td>Both</td>\n",
              "      <td>Gotten much worse</td>\n",
              "      <td>...</td>\n",
              "      <td>Once or twice a month</td>\n",
              "      <td>A few times a week</td>\n",
              "      <td>Somewhat important</td>\n",
              "      <td>Both</td>\n",
              "      <td>Independent</td>\n",
              "      <td>Lean Republican</td>\n",
              "      <td>White</td>\n",
              "      <td>Roman Catholic</td>\n",
              "      <td>Formerly</td>\n",
              "      <td>No, never</td>\n",
              "    </tr>\n",
              "    <tr>\n",
              "      <th>1</th>\n",
              "      <td>38716</td>\n",
              "      <td>3.470877</td>\n",
              "      <td>2010</td>\n",
              "      <td>Yes</td>\n",
              "      <td>No</td>\n",
              "      <td>Yes</td>\n",
              "      <td>Yes</td>\n",
              "      <td>No</td>\n",
              "      <td>NaN</td>\n",
              "      <td>Stayed about the same</td>\n",
              "      <td>...</td>\n",
              "      <td>Never</td>\n",
              "      <td>Never</td>\n",
              "      <td>Not at all important</td>\n",
              "      <td>Cell only</td>\n",
              "      <td>Democrat</td>\n",
              "      <td>Not very strong Democrat</td>\n",
              "      <td>White</td>\n",
              "      <td>Nothing in particular</td>\n",
              "      <td>No, never</td>\n",
              "      <td>No, never</td>\n",
              "    </tr>\n",
              "    <tr>\n",
              "      <th>2</th>\n",
              "      <td>7796</td>\n",
              "      <td>0.602477</td>\n",
              "      <td>2010</td>\n",
              "      <td>No</td>\n",
              "      <td>Yes</td>\n",
              "      <td>Yes</td>\n",
              "      <td>Yes</td>\n",
              "      <td>No</td>\n",
              "      <td>Both</td>\n",
              "      <td>Gotten worse</td>\n",
              "      <td>...</td>\n",
              "      <td>More than once a week</td>\n",
              "      <td>Several times a day</td>\n",
              "      <td>Very important</td>\n",
              "      <td>Both</td>\n",
              "      <td>Republican</td>\n",
              "      <td>Strong Republican</td>\n",
              "      <td>White</td>\n",
              "      <td>Mormon</td>\n",
              "      <td>Formerly</td>\n",
              "      <td>Formerly</td>\n",
              "    </tr>\n",
              "    <tr>\n",
              "      <th>3</th>\n",
              "      <td>78113</td>\n",
              "      <td>0.264208</td>\n",
              "      <td>2010</td>\n",
              "      <td>Yes</td>\n",
              "      <td>Yes</td>\n",
              "      <td>Yes</td>\n",
              "      <td>Yes</td>\n",
              "      <td>No</td>\n",
              "      <td>Both</td>\n",
              "      <td>Gotten better</td>\n",
              "      <td>...</td>\n",
              "      <td>Never</td>\n",
              "      <td>Never</td>\n",
              "      <td>Not at all important</td>\n",
              "      <td>Cell only</td>\n",
              "      <td>Democrat</td>\n",
              "      <td>Strong Democrat</td>\n",
              "      <td>White</td>\n",
              "      <td>Nothing in particular</td>\n",
              "      <td>No, never</td>\n",
              "      <td>No, never</td>\n",
              "    </tr>\n",
              "    <tr>\n",
              "      <th>4</th>\n",
              "      <td>63800</td>\n",
              "      <td>0.196632</td>\n",
              "      <td>2010</td>\n",
              "      <td>Yes</td>\n",
              "      <td>Yes</td>\n",
              "      <td>Yes</td>\n",
              "      <td>No</td>\n",
              "      <td>No</td>\n",
              "      <td>Both</td>\n",
              "      <td>Gotten better</td>\n",
              "      <td>...</td>\n",
              "      <td>Seldom</td>\n",
              "      <td>Never</td>\n",
              "      <td>Not too important</td>\n",
              "      <td>Both</td>\n",
              "      <td>Democrat</td>\n",
              "      <td>Strong Democrat</td>\n",
              "      <td>White</td>\n",
              "      <td>Protestant</td>\n",
              "      <td>No, never</td>\n",
              "      <td>No, never</td>\n",
              "    </tr>\n",
              "    <tr>\n",
              "      <th>...</th>\n",
              "      <td>...</td>\n",
              "      <td>...</td>\n",
              "      <td>...</td>\n",
              "      <td>...</td>\n",
              "      <td>...</td>\n",
              "      <td>...</td>\n",
              "      <td>...</td>\n",
              "      <td>...</td>\n",
              "      <td>...</td>\n",
              "      <td>...</td>\n",
              "      <td>...</td>\n",
              "      <td>...</td>\n",
              "      <td>...</td>\n",
              "      <td>...</td>\n",
              "      <td>...</td>\n",
              "      <td>...</td>\n",
              "      <td>...</td>\n",
              "      <td>...</td>\n",
              "      <td>...</td>\n",
              "      <td>...</td>\n",
              "      <td>...</td>\n",
              "    </tr>\n",
              "    <tr>\n",
              "      <th>28495</th>\n",
              "      <td>57290</td>\n",
              "      <td>1.146715</td>\n",
              "      <td>2014</td>\n",
              "      <td>No</td>\n",
              "      <td>No</td>\n",
              "      <td>No</td>\n",
              "      <td>No</td>\n",
              "      <td>Yes</td>\n",
              "      <td>NaN</td>\n",
              "      <td>Gotten better</td>\n",
              "      <td>...</td>\n",
              "      <td>Never</td>\n",
              "      <td>A few times a month</td>\n",
              "      <td>Somewhat important</td>\n",
              "      <td>Cell only</td>\n",
              "      <td>Democrat</td>\n",
              "      <td>Strong Democrat</td>\n",
              "      <td>Hispanic</td>\n",
              "      <td>Something else</td>\n",
              "      <td>No, never</td>\n",
              "      <td>Formerly</td>\n",
              "    </tr>\n",
              "    <tr>\n",
              "      <th>28496</th>\n",
              "      <td>57315</td>\n",
              "      <td>1.171217</td>\n",
              "      <td>2014</td>\n",
              "      <td>No</td>\n",
              "      <td>No</td>\n",
              "      <td>No</td>\n",
              "      <td>No</td>\n",
              "      <td>Yes</td>\n",
              "      <td>NaN</td>\n",
              "      <td>Stayed about the same</td>\n",
              "      <td>...</td>\n",
              "      <td>A few times a year</td>\n",
              "      <td>A few times a week</td>\n",
              "      <td>Somewhat important</td>\n",
              "      <td>Cell only</td>\n",
              "      <td>Republican</td>\n",
              "      <td>Strong Republican</td>\n",
              "      <td>Hispanic</td>\n",
              "      <td>Roman Catholic</td>\n",
              "      <td>No, never</td>\n",
              "      <td>No, never</td>\n",
              "    </tr>\n",
              "    <tr>\n",
              "      <th>28497</th>\n",
              "      <td>57399</td>\n",
              "      <td>0.424949</td>\n",
              "      <td>2014</td>\n",
              "      <td>No</td>\n",
              "      <td>Yes</td>\n",
              "      <td>No</td>\n",
              "      <td>No</td>\n",
              "      <td>No</td>\n",
              "      <td>Local Newscast</td>\n",
              "      <td>Gotten much better</td>\n",
              "      <td>...</td>\n",
              "      <td>Never</td>\n",
              "      <td>Seldom</td>\n",
              "      <td>Not at all important</td>\n",
              "      <td>Both</td>\n",
              "      <td>Democrat</td>\n",
              "      <td>Strong Democrat</td>\n",
              "      <td>Hispanic</td>\n",
              "      <td>Something else</td>\n",
              "      <td>No, never</td>\n",
              "      <td>Formerly</td>\n",
              "    </tr>\n",
              "    <tr>\n",
              "      <th>28498</th>\n",
              "      <td>59331</td>\n",
              "      <td>0.505942</td>\n",
              "      <td>2014</td>\n",
              "      <td>No</td>\n",
              "      <td>Yes</td>\n",
              "      <td>No</td>\n",
              "      <td>Yes</td>\n",
              "      <td>No</td>\n",
              "      <td>Local Newscast</td>\n",
              "      <td>Gotten worse</td>\n",
              "      <td>...</td>\n",
              "      <td>Once a week</td>\n",
              "      <td>Once a day</td>\n",
              "      <td>Very important</td>\n",
              "      <td>Cell only</td>\n",
              "      <td>Republican</td>\n",
              "      <td>Strong Republican</td>\n",
              "      <td>Hispanic</td>\n",
              "      <td>Mormon</td>\n",
              "      <td>Yes, currently</td>\n",
              "      <td>No, never</td>\n",
              "    </tr>\n",
              "    <tr>\n",
              "      <th>28499</th>\n",
              "      <td>66538</td>\n",
              "      <td>1.665605</td>\n",
              "      <td>2014</td>\n",
              "      <td>No</td>\n",
              "      <td>Yes</td>\n",
              "      <td>No</td>\n",
              "      <td>No</td>\n",
              "      <td>No</td>\n",
              "      <td>Local Newscast</td>\n",
              "      <td>Stayed about the same</td>\n",
              "      <td>...</td>\n",
              "      <td>Seldom</td>\n",
              "      <td>Seldom</td>\n",
              "      <td>Not too important</td>\n",
              "      <td>Cell only</td>\n",
              "      <td>Democrat</td>\n",
              "      <td>Not very strong Democrat</td>\n",
              "      <td>White</td>\n",
              "      <td>Nothing in particular</td>\n",
              "      <td>Formerly</td>\n",
              "      <td>Formerly</td>\n",
              "    </tr>\n",
              "  </tbody>\n",
              "</table>\n",
              "<p>28500 rows × 127 columns</p>\n",
              "</div>\n",
              "    <div class=\"colab-df-buttons\">\n",
              "\n",
              "  <div class=\"colab-df-container\">\n",
              "    <button class=\"colab-df-convert\" onclick=\"convertToInteractive('df-3b29c7bb-6220-4de8-9101-207618b62317')\"\n",
              "            title=\"Convert this dataframe to an interactive table.\"\n",
              "            style=\"display:none;\">\n",
              "\n",
              "  <svg xmlns=\"http://www.w3.org/2000/svg\" height=\"24px\" viewBox=\"0 -960 960 960\">\n",
              "    <path d=\"M120-120v-720h720v720H120Zm60-500h600v-160H180v160Zm220 220h160v-160H400v160Zm0 220h160v-160H400v160ZM180-400h160v-160H180v160Zm440 0h160v-160H620v160ZM180-180h160v-160H180v160Zm440 0h160v-160H620v160Z\"/>\n",
              "  </svg>\n",
              "    </button>\n",
              "\n",
              "  <style>\n",
              "    .colab-df-container {\n",
              "      display:flex;\n",
              "      gap: 12px;\n",
              "    }\n",
              "\n",
              "    .colab-df-convert {\n",
              "      background-color: #E8F0FE;\n",
              "      border: none;\n",
              "      border-radius: 50%;\n",
              "      cursor: pointer;\n",
              "      display: none;\n",
              "      fill: #1967D2;\n",
              "      height: 32px;\n",
              "      padding: 0 0 0 0;\n",
              "      width: 32px;\n",
              "    }\n",
              "\n",
              "    .colab-df-convert:hover {\n",
              "      background-color: #E2EBFA;\n",
              "      box-shadow: 0px 1px 2px rgba(60, 64, 67, 0.3), 0px 1px 3px 1px rgba(60, 64, 67, 0.15);\n",
              "      fill: #174EA6;\n",
              "    }\n",
              "\n",
              "    .colab-df-buttons div {\n",
              "      margin-bottom: 4px;\n",
              "    }\n",
              "\n",
              "    [theme=dark] .colab-df-convert {\n",
              "      background-color: #3B4455;\n",
              "      fill: #D2E3FC;\n",
              "    }\n",
              "\n",
              "    [theme=dark] .colab-df-convert:hover {\n",
              "      background-color: #434B5C;\n",
              "      box-shadow: 0px 1px 3px 1px rgba(0, 0, 0, 0.15);\n",
              "      filter: drop-shadow(0px 1px 2px rgba(0, 0, 0, 0.3));\n",
              "      fill: #FFFFFF;\n",
              "    }\n",
              "  </style>\n",
              "\n",
              "    <script>\n",
              "      const buttonEl =\n",
              "        document.querySelector('#df-3b29c7bb-6220-4de8-9101-207618b62317 button.colab-df-convert');\n",
              "      buttonEl.style.display =\n",
              "        google.colab.kernel.accessAllowed ? 'block' : 'none';\n",
              "\n",
              "      async function convertToInteractive(key) {\n",
              "        const element = document.querySelector('#df-3b29c7bb-6220-4de8-9101-207618b62317');\n",
              "        const dataTable =\n",
              "          await google.colab.kernel.invokeFunction('convertToInteractive',\n",
              "                                                    [key], {});\n",
              "        if (!dataTable) return;\n",
              "\n",
              "        const docLinkHtml = 'Like what you see? Visit the ' +\n",
              "          '<a target=\"_blank\" href=https://colab.research.google.com/notebooks/data_table.ipynb>data table notebook</a>'\n",
              "          + ' to learn more about interactive tables.';\n",
              "        element.innerHTML = '';\n",
              "        dataTable['output_type'] = 'display_data';\n",
              "        await google.colab.output.renderOutput(dataTable, element);\n",
              "        const docLink = document.createElement('div');\n",
              "        docLink.innerHTML = docLinkHtml;\n",
              "        element.appendChild(docLink);\n",
              "      }\n",
              "    </script>\n",
              "  </div>\n",
              "\n",
              "\n",
              "<div id=\"df-48228a78-190c-48d2-baad-028fe2987852\">\n",
              "  <button class=\"colab-df-quickchart\" onclick=\"quickchart('df-48228a78-190c-48d2-baad-028fe2987852')\"\n",
              "            title=\"Suggest charts\"\n",
              "            style=\"display:none;\">\n",
              "\n",
              "<svg xmlns=\"http://www.w3.org/2000/svg\" height=\"24px\"viewBox=\"0 0 24 24\"\n",
              "     width=\"24px\">\n",
              "    <g>\n",
              "        <path d=\"M19 3H5c-1.1 0-2 .9-2 2v14c0 1.1.9 2 2 2h14c1.1 0 2-.9 2-2V5c0-1.1-.9-2-2-2zM9 17H7v-7h2v7zm4 0h-2V7h2v10zm4 0h-2v-4h2v4z\"/>\n",
              "    </g>\n",
              "</svg>\n",
              "  </button>\n",
              "\n",
              "<style>\n",
              "  .colab-df-quickchart {\n",
              "      --bg-color: #E8F0FE;\n",
              "      --fill-color: #1967D2;\n",
              "      --hover-bg-color: #E2EBFA;\n",
              "      --hover-fill-color: #174EA6;\n",
              "      --disabled-fill-color: #AAA;\n",
              "      --disabled-bg-color: #DDD;\n",
              "  }\n",
              "\n",
              "  [theme=dark] .colab-df-quickchart {\n",
              "      --bg-color: #3B4455;\n",
              "      --fill-color: #D2E3FC;\n",
              "      --hover-bg-color: #434B5C;\n",
              "      --hover-fill-color: #FFFFFF;\n",
              "      --disabled-bg-color: #3B4455;\n",
              "      --disabled-fill-color: #666;\n",
              "  }\n",
              "\n",
              "  .colab-df-quickchart {\n",
              "    background-color: var(--bg-color);\n",
              "    border: none;\n",
              "    border-radius: 50%;\n",
              "    cursor: pointer;\n",
              "    display: none;\n",
              "    fill: var(--fill-color);\n",
              "    height: 32px;\n",
              "    padding: 0;\n",
              "    width: 32px;\n",
              "  }\n",
              "\n",
              "  .colab-df-quickchart:hover {\n",
              "    background-color: var(--hover-bg-color);\n",
              "    box-shadow: 0 1px 2px rgba(60, 64, 67, 0.3), 0 1px 3px 1px rgba(60, 64, 67, 0.15);\n",
              "    fill: var(--button-hover-fill-color);\n",
              "  }\n",
              "\n",
              "  .colab-df-quickchart-complete:disabled,\n",
              "  .colab-df-quickchart-complete:disabled:hover {\n",
              "    background-color: var(--disabled-bg-color);\n",
              "    fill: var(--disabled-fill-color);\n",
              "    box-shadow: none;\n",
              "  }\n",
              "\n",
              "  .colab-df-spinner {\n",
              "    border: 2px solid var(--fill-color);\n",
              "    border-color: transparent;\n",
              "    border-bottom-color: var(--fill-color);\n",
              "    animation:\n",
              "      spin 1s steps(1) infinite;\n",
              "  }\n",
              "\n",
              "  @keyframes spin {\n",
              "    0% {\n",
              "      border-color: transparent;\n",
              "      border-bottom-color: var(--fill-color);\n",
              "      border-left-color: var(--fill-color);\n",
              "    }\n",
              "    20% {\n",
              "      border-color: transparent;\n",
              "      border-left-color: var(--fill-color);\n",
              "      border-top-color: var(--fill-color);\n",
              "    }\n",
              "    30% {\n",
              "      border-color: transparent;\n",
              "      border-left-color: var(--fill-color);\n",
              "      border-top-color: var(--fill-color);\n",
              "      border-right-color: var(--fill-color);\n",
              "    }\n",
              "    40% {\n",
              "      border-color: transparent;\n",
              "      border-right-color: var(--fill-color);\n",
              "      border-top-color: var(--fill-color);\n",
              "    }\n",
              "    60% {\n",
              "      border-color: transparent;\n",
              "      border-right-color: var(--fill-color);\n",
              "    }\n",
              "    80% {\n",
              "      border-color: transparent;\n",
              "      border-right-color: var(--fill-color);\n",
              "      border-bottom-color: var(--fill-color);\n",
              "    }\n",
              "    90% {\n",
              "      border-color: transparent;\n",
              "      border-bottom-color: var(--fill-color);\n",
              "    }\n",
              "  }\n",
              "</style>\n",
              "\n",
              "  <script>\n",
              "    async function quickchart(key) {\n",
              "      const quickchartButtonEl =\n",
              "        document.querySelector('#' + key + ' button');\n",
              "      quickchartButtonEl.disabled = true;  // To prevent multiple clicks.\n",
              "      quickchartButtonEl.classList.add('colab-df-spinner');\n",
              "      try {\n",
              "        const charts = await google.colab.kernel.invokeFunction(\n",
              "            'suggestCharts', [key], {});\n",
              "      } catch (error) {\n",
              "        console.error('Error during call to suggestCharts:', error);\n",
              "      }\n",
              "      quickchartButtonEl.classList.remove('colab-df-spinner');\n",
              "      quickchartButtonEl.classList.add('colab-df-quickchart-complete');\n",
              "    }\n",
              "    (() => {\n",
              "      let quickchartButtonEl =\n",
              "        document.querySelector('#df-48228a78-190c-48d2-baad-028fe2987852 button');\n",
              "      quickchartButtonEl.style.display =\n",
              "        google.colab.kernel.accessAllowed ? 'block' : 'none';\n",
              "    })();\n",
              "  </script>\n",
              "</div>\n",
              "    </div>\n",
              "  </div>\n"
            ],
            "application/vnd.google.colaboratory.intrinsic+json": {
              "type": "dataframe",
              "variable_name": "df_cces"
            }
          },
          "metadata": {},
          "execution_count": 3
        }
      ]
    },
    {
      "cell_type": "code",
      "source": [
        "# Sort values to create lagged dv\n",
        "df_cces = df_cces.sort_values(['caseid', 'year']) \\\n",
        "    .reset_index(drop=True)"
      ],
      "metadata": {
        "id": "3xkee4beZmxo"
      },
      "execution_count": null,
      "outputs": []
    },
    {
      "cell_type": "code",
      "source": [
        "df_cces"
      ],
      "metadata": {
        "colab": {
          "base_uri": "https://localhost:8080/",
          "height": 424
        },
        "id": "UcqmaaybMP-k",
        "outputId": "76934713-d848-4bb0-d568-7c52f15693cb"
      },
      "execution_count": null,
      "outputs": [
        {
          "output_type": "execute_result",
          "data": {
            "text/plain": [
              "       caseid    weight  year 301_1 301_2 301_3 301_4 301_5  \\\n",
              "0           1  0.956946  2010    No   Yes   Yes   Yes    No   \n",
              "1           1  0.956946  2012    No   Yes   Yes   Yes    No   \n",
              "2           1  0.956946  2014    No   Yes   Yes   Yes    No   \n",
              "3          24  1.847343  2010   Yes   Yes   Yes    No    No   \n",
              "4          24  1.847343  2012   Yes   Yes   Yes    No    No   \n",
              "...       ...       ...   ...   ...   ...   ...   ...   ...   \n",
              "28495   85318  1.747243  2012    No   Yes   Yes    No    No   \n",
              "28496   85318  1.747243  2014    No   Yes    No    No    No   \n",
              "28497   85321  0.753324  2010    No   Yes    No   Yes    No   \n",
              "28498   85321  0.753324  2012    No   Yes    No    No    No   \n",
              "28499   85321  0.753324  2014    No   Yes    No   Yes    No   \n",
              "\n",
              "                    301b                    302  ...            pew_churatd  \\\n",
              "0                   Both      Gotten much worse  ...            Once a week   \n",
              "1                   Both      Gotten much worse  ...            Once a week   \n",
              "2      National Newscast           Gotten worse  ...  Once or twice a month   \n",
              "3      National Newscast  Stayed about the same  ...                  Never   \n",
              "4                   Both          Gotten better  ...                  Never   \n",
              "...                  ...                    ...  ...                    ...   \n",
              "28495               Both          Gotten better  ...                  Never   \n",
              "28496                NaN  Stayed about the same  ...                  Never   \n",
              "28497               Both      Gotten much worse  ...                 Seldom   \n",
              "28498               Both      Gotten much worse  ...                  Never   \n",
              "28499               Both  Stayed about the same  ...                  Never   \n",
              "\n",
              "                pew_prayer          pew_religimp      phone         pid3  \\\n",
              "0               Once a day        Very important       Both   Republican   \n",
              "1      Several times a day        Very important  Cell only   Republican   \n",
              "2      Several times a day        Very important       Both   Republican   \n",
              "3                    Never  Not at all important       Both   Republican   \n",
              "4                    Never  Not at all important       Both  Independent   \n",
              "...                    ...                   ...        ...          ...   \n",
              "28495                Never  Not at all important       Both  Independent   \n",
              "28496                Never  Not at all important       Both  Independent   \n",
              "28497  Several times a day    Somewhat important       Both   Republican   \n",
              "28498  Several times a day        Very important       Both  Independent   \n",
              "28499  Several times a day  Not at all important       Both   Republican   \n",
              "\n",
              "                             pid7   race        religpew           union  \\\n",
              "0               Strong Republican  White      Protestant       No, never   \n",
              "1               Strong Republican  White      Protestant       No, never   \n",
              "2      Not very strong Republican  White      Protestant       No, never   \n",
              "3      Not very strong Republican  White        Agnostic       No, never   \n",
              "4                     Independent  White         Atheist       No, never   \n",
              "...                           ...    ...             ...             ...   \n",
              "28495                 Independent  White  Something else  Yes, currently   \n",
              "28496               Lean Democrat  White  Something else       No, never   \n",
              "28497           Strong Republican  White      Protestant       No, never   \n",
              "28498             Lean Republican  White      Protestant       No, never   \n",
              "28499           Strong Republican  White      Protestant       No, never   \n",
              "\n",
              "              unionhh  \n",
              "0           No, never  \n",
              "1           No, never  \n",
              "2           No, never  \n",
              "3           No, never  \n",
              "4           No, never  \n",
              "...               ...  \n",
              "28495       No, never  \n",
              "28496  Yes, currently  \n",
              "28497       No, never  \n",
              "28498       No, never  \n",
              "28499       No, never  \n",
              "\n",
              "[28500 rows x 127 columns]"
            ],
            "text/html": [
              "\n",
              "  <div id=\"df-9866280a-4059-4665-9e1b-049806773117\" class=\"colab-df-container\">\n",
              "    <div>\n",
              "<style scoped>\n",
              "    .dataframe tbody tr th:only-of-type {\n",
              "        vertical-align: middle;\n",
              "    }\n",
              "\n",
              "    .dataframe tbody tr th {\n",
              "        vertical-align: top;\n",
              "    }\n",
              "\n",
              "    .dataframe thead th {\n",
              "        text-align: right;\n",
              "    }\n",
              "</style>\n",
              "<table border=\"1\" class=\"dataframe\">\n",
              "  <thead>\n",
              "    <tr style=\"text-align: right;\">\n",
              "      <th></th>\n",
              "      <th>caseid</th>\n",
              "      <th>weight</th>\n",
              "      <th>year</th>\n",
              "      <th>301_1</th>\n",
              "      <th>301_2</th>\n",
              "      <th>301_3</th>\n",
              "      <th>301_4</th>\n",
              "      <th>301_5</th>\n",
              "      <th>301b</th>\n",
              "      <th>302</th>\n",
              "      <th>...</th>\n",
              "      <th>pew_churatd</th>\n",
              "      <th>pew_prayer</th>\n",
              "      <th>pew_religimp</th>\n",
              "      <th>phone</th>\n",
              "      <th>pid3</th>\n",
              "      <th>pid7</th>\n",
              "      <th>race</th>\n",
              "      <th>religpew</th>\n",
              "      <th>union</th>\n",
              "      <th>unionhh</th>\n",
              "    </tr>\n",
              "  </thead>\n",
              "  <tbody>\n",
              "    <tr>\n",
              "      <th>0</th>\n",
              "      <td>1</td>\n",
              "      <td>0.956946</td>\n",
              "      <td>2010</td>\n",
              "      <td>No</td>\n",
              "      <td>Yes</td>\n",
              "      <td>Yes</td>\n",
              "      <td>Yes</td>\n",
              "      <td>No</td>\n",
              "      <td>Both</td>\n",
              "      <td>Gotten much worse</td>\n",
              "      <td>...</td>\n",
              "      <td>Once a week</td>\n",
              "      <td>Once a day</td>\n",
              "      <td>Very important</td>\n",
              "      <td>Both</td>\n",
              "      <td>Republican</td>\n",
              "      <td>Strong Republican</td>\n",
              "      <td>White</td>\n",
              "      <td>Protestant</td>\n",
              "      <td>No, never</td>\n",
              "      <td>No, never</td>\n",
              "    </tr>\n",
              "    <tr>\n",
              "      <th>1</th>\n",
              "      <td>1</td>\n",
              "      <td>0.956946</td>\n",
              "      <td>2012</td>\n",
              "      <td>No</td>\n",
              "      <td>Yes</td>\n",
              "      <td>Yes</td>\n",
              "      <td>Yes</td>\n",
              "      <td>No</td>\n",
              "      <td>Both</td>\n",
              "      <td>Gotten much worse</td>\n",
              "      <td>...</td>\n",
              "      <td>Once a week</td>\n",
              "      <td>Several times a day</td>\n",
              "      <td>Very important</td>\n",
              "      <td>Cell only</td>\n",
              "      <td>Republican</td>\n",
              "      <td>Strong Republican</td>\n",
              "      <td>White</td>\n",
              "      <td>Protestant</td>\n",
              "      <td>No, never</td>\n",
              "      <td>No, never</td>\n",
              "    </tr>\n",
              "    <tr>\n",
              "      <th>2</th>\n",
              "      <td>1</td>\n",
              "      <td>0.956946</td>\n",
              "      <td>2014</td>\n",
              "      <td>No</td>\n",
              "      <td>Yes</td>\n",
              "      <td>Yes</td>\n",
              "      <td>Yes</td>\n",
              "      <td>No</td>\n",
              "      <td>National Newscast</td>\n",
              "      <td>Gotten worse</td>\n",
              "      <td>...</td>\n",
              "      <td>Once or twice a month</td>\n",
              "      <td>Several times a day</td>\n",
              "      <td>Very important</td>\n",
              "      <td>Both</td>\n",
              "      <td>Republican</td>\n",
              "      <td>Not very strong Republican</td>\n",
              "      <td>White</td>\n",
              "      <td>Protestant</td>\n",
              "      <td>No, never</td>\n",
              "      <td>No, never</td>\n",
              "    </tr>\n",
              "    <tr>\n",
              "      <th>3</th>\n",
              "      <td>24</td>\n",
              "      <td>1.847343</td>\n",
              "      <td>2010</td>\n",
              "      <td>Yes</td>\n",
              "      <td>Yes</td>\n",
              "      <td>Yes</td>\n",
              "      <td>No</td>\n",
              "      <td>No</td>\n",
              "      <td>National Newscast</td>\n",
              "      <td>Stayed about the same</td>\n",
              "      <td>...</td>\n",
              "      <td>Never</td>\n",
              "      <td>Never</td>\n",
              "      <td>Not at all important</td>\n",
              "      <td>Both</td>\n",
              "      <td>Republican</td>\n",
              "      <td>Not very strong Republican</td>\n",
              "      <td>White</td>\n",
              "      <td>Agnostic</td>\n",
              "      <td>No, never</td>\n",
              "      <td>No, never</td>\n",
              "    </tr>\n",
              "    <tr>\n",
              "      <th>4</th>\n",
              "      <td>24</td>\n",
              "      <td>1.847343</td>\n",
              "      <td>2012</td>\n",
              "      <td>Yes</td>\n",
              "      <td>Yes</td>\n",
              "      <td>Yes</td>\n",
              "      <td>No</td>\n",
              "      <td>No</td>\n",
              "      <td>Both</td>\n",
              "      <td>Gotten better</td>\n",
              "      <td>...</td>\n",
              "      <td>Never</td>\n",
              "      <td>Never</td>\n",
              "      <td>Not at all important</td>\n",
              "      <td>Both</td>\n",
              "      <td>Independent</td>\n",
              "      <td>Independent</td>\n",
              "      <td>White</td>\n",
              "      <td>Atheist</td>\n",
              "      <td>No, never</td>\n",
              "      <td>No, never</td>\n",
              "    </tr>\n",
              "    <tr>\n",
              "      <th>...</th>\n",
              "      <td>...</td>\n",
              "      <td>...</td>\n",
              "      <td>...</td>\n",
              "      <td>...</td>\n",
              "      <td>...</td>\n",
              "      <td>...</td>\n",
              "      <td>...</td>\n",
              "      <td>...</td>\n",
              "      <td>...</td>\n",
              "      <td>...</td>\n",
              "      <td>...</td>\n",
              "      <td>...</td>\n",
              "      <td>...</td>\n",
              "      <td>...</td>\n",
              "      <td>...</td>\n",
              "      <td>...</td>\n",
              "      <td>...</td>\n",
              "      <td>...</td>\n",
              "      <td>...</td>\n",
              "      <td>...</td>\n",
              "      <td>...</td>\n",
              "    </tr>\n",
              "    <tr>\n",
              "      <th>28495</th>\n",
              "      <td>85318</td>\n",
              "      <td>1.747243</td>\n",
              "      <td>2012</td>\n",
              "      <td>No</td>\n",
              "      <td>Yes</td>\n",
              "      <td>Yes</td>\n",
              "      <td>No</td>\n",
              "      <td>No</td>\n",
              "      <td>Both</td>\n",
              "      <td>Gotten better</td>\n",
              "      <td>...</td>\n",
              "      <td>Never</td>\n",
              "      <td>Never</td>\n",
              "      <td>Not at all important</td>\n",
              "      <td>Both</td>\n",
              "      <td>Independent</td>\n",
              "      <td>Independent</td>\n",
              "      <td>White</td>\n",
              "      <td>Something else</td>\n",
              "      <td>Yes, currently</td>\n",
              "      <td>No, never</td>\n",
              "    </tr>\n",
              "    <tr>\n",
              "      <th>28496</th>\n",
              "      <td>85318</td>\n",
              "      <td>1.747243</td>\n",
              "      <td>2014</td>\n",
              "      <td>No</td>\n",
              "      <td>Yes</td>\n",
              "      <td>No</td>\n",
              "      <td>No</td>\n",
              "      <td>No</td>\n",
              "      <td>NaN</td>\n",
              "      <td>Stayed about the same</td>\n",
              "      <td>...</td>\n",
              "      <td>Never</td>\n",
              "      <td>Never</td>\n",
              "      <td>Not at all important</td>\n",
              "      <td>Both</td>\n",
              "      <td>Independent</td>\n",
              "      <td>Lean Democrat</td>\n",
              "      <td>White</td>\n",
              "      <td>Something else</td>\n",
              "      <td>No, never</td>\n",
              "      <td>Yes, currently</td>\n",
              "    </tr>\n",
              "    <tr>\n",
              "      <th>28497</th>\n",
              "      <td>85321</td>\n",
              "      <td>0.753324</td>\n",
              "      <td>2010</td>\n",
              "      <td>No</td>\n",
              "      <td>Yes</td>\n",
              "      <td>No</td>\n",
              "      <td>Yes</td>\n",
              "      <td>No</td>\n",
              "      <td>Both</td>\n",
              "      <td>Gotten much worse</td>\n",
              "      <td>...</td>\n",
              "      <td>Seldom</td>\n",
              "      <td>Several times a day</td>\n",
              "      <td>Somewhat important</td>\n",
              "      <td>Both</td>\n",
              "      <td>Republican</td>\n",
              "      <td>Strong Republican</td>\n",
              "      <td>White</td>\n",
              "      <td>Protestant</td>\n",
              "      <td>No, never</td>\n",
              "      <td>No, never</td>\n",
              "    </tr>\n",
              "    <tr>\n",
              "      <th>28498</th>\n",
              "      <td>85321</td>\n",
              "      <td>0.753324</td>\n",
              "      <td>2012</td>\n",
              "      <td>No</td>\n",
              "      <td>Yes</td>\n",
              "      <td>No</td>\n",
              "      <td>No</td>\n",
              "      <td>No</td>\n",
              "      <td>Both</td>\n",
              "      <td>Gotten much worse</td>\n",
              "      <td>...</td>\n",
              "      <td>Never</td>\n",
              "      <td>Several times a day</td>\n",
              "      <td>Very important</td>\n",
              "      <td>Both</td>\n",
              "      <td>Independent</td>\n",
              "      <td>Lean Republican</td>\n",
              "      <td>White</td>\n",
              "      <td>Protestant</td>\n",
              "      <td>No, never</td>\n",
              "      <td>No, never</td>\n",
              "    </tr>\n",
              "    <tr>\n",
              "      <th>28499</th>\n",
              "      <td>85321</td>\n",
              "      <td>0.753324</td>\n",
              "      <td>2014</td>\n",
              "      <td>No</td>\n",
              "      <td>Yes</td>\n",
              "      <td>No</td>\n",
              "      <td>Yes</td>\n",
              "      <td>No</td>\n",
              "      <td>Both</td>\n",
              "      <td>Stayed about the same</td>\n",
              "      <td>...</td>\n",
              "      <td>Never</td>\n",
              "      <td>Several times a day</td>\n",
              "      <td>Not at all important</td>\n",
              "      <td>Both</td>\n",
              "      <td>Republican</td>\n",
              "      <td>Strong Republican</td>\n",
              "      <td>White</td>\n",
              "      <td>Protestant</td>\n",
              "      <td>No, never</td>\n",
              "      <td>No, never</td>\n",
              "    </tr>\n",
              "  </tbody>\n",
              "</table>\n",
              "<p>28500 rows × 127 columns</p>\n",
              "</div>\n",
              "    <div class=\"colab-df-buttons\">\n",
              "\n",
              "  <div class=\"colab-df-container\">\n",
              "    <button class=\"colab-df-convert\" onclick=\"convertToInteractive('df-9866280a-4059-4665-9e1b-049806773117')\"\n",
              "            title=\"Convert this dataframe to an interactive table.\"\n",
              "            style=\"display:none;\">\n",
              "\n",
              "  <svg xmlns=\"http://www.w3.org/2000/svg\" height=\"24px\" viewBox=\"0 -960 960 960\">\n",
              "    <path d=\"M120-120v-720h720v720H120Zm60-500h600v-160H180v160Zm220 220h160v-160H400v160Zm0 220h160v-160H400v160ZM180-400h160v-160H180v160Zm440 0h160v-160H620v160ZM180-180h160v-160H180v160Zm440 0h160v-160H620v160Z\"/>\n",
              "  </svg>\n",
              "    </button>\n",
              "\n",
              "  <style>\n",
              "    .colab-df-container {\n",
              "      display:flex;\n",
              "      gap: 12px;\n",
              "    }\n",
              "\n",
              "    .colab-df-convert {\n",
              "      background-color: #E8F0FE;\n",
              "      border: none;\n",
              "      border-radius: 50%;\n",
              "      cursor: pointer;\n",
              "      display: none;\n",
              "      fill: #1967D2;\n",
              "      height: 32px;\n",
              "      padding: 0 0 0 0;\n",
              "      width: 32px;\n",
              "    }\n",
              "\n",
              "    .colab-df-convert:hover {\n",
              "      background-color: #E2EBFA;\n",
              "      box-shadow: 0px 1px 2px rgba(60, 64, 67, 0.3), 0px 1px 3px 1px rgba(60, 64, 67, 0.15);\n",
              "      fill: #174EA6;\n",
              "    }\n",
              "\n",
              "    .colab-df-buttons div {\n",
              "      margin-bottom: 4px;\n",
              "    }\n",
              "\n",
              "    [theme=dark] .colab-df-convert {\n",
              "      background-color: #3B4455;\n",
              "      fill: #D2E3FC;\n",
              "    }\n",
              "\n",
              "    [theme=dark] .colab-df-convert:hover {\n",
              "      background-color: #434B5C;\n",
              "      box-shadow: 0px 1px 3px 1px rgba(0, 0, 0, 0.15);\n",
              "      filter: drop-shadow(0px 1px 2px rgba(0, 0, 0, 0.3));\n",
              "      fill: #FFFFFF;\n",
              "    }\n",
              "  </style>\n",
              "\n",
              "    <script>\n",
              "      const buttonEl =\n",
              "        document.querySelector('#df-9866280a-4059-4665-9e1b-049806773117 button.colab-df-convert');\n",
              "      buttonEl.style.display =\n",
              "        google.colab.kernel.accessAllowed ? 'block' : 'none';\n",
              "\n",
              "      async function convertToInteractive(key) {\n",
              "        const element = document.querySelector('#df-9866280a-4059-4665-9e1b-049806773117');\n",
              "        const dataTable =\n",
              "          await google.colab.kernel.invokeFunction('convertToInteractive',\n",
              "                                                    [key], {});\n",
              "        if (!dataTable) return;\n",
              "\n",
              "        const docLinkHtml = 'Like what you see? Visit the ' +\n",
              "          '<a target=\"_blank\" href=https://colab.research.google.com/notebooks/data_table.ipynb>data table notebook</a>'\n",
              "          + ' to learn more about interactive tables.';\n",
              "        element.innerHTML = '';\n",
              "        dataTable['output_type'] = 'display_data';\n",
              "        await google.colab.output.renderOutput(dataTable, element);\n",
              "        const docLink = document.createElement('div');\n",
              "        docLink.innerHTML = docLinkHtml;\n",
              "        element.appendChild(docLink);\n",
              "      }\n",
              "    </script>\n",
              "  </div>\n",
              "\n",
              "\n",
              "<div id=\"df-e649eb77-28e4-4138-8918-fe3c0d5cdf4c\">\n",
              "  <button class=\"colab-df-quickchart\" onclick=\"quickchart('df-e649eb77-28e4-4138-8918-fe3c0d5cdf4c')\"\n",
              "            title=\"Suggest charts\"\n",
              "            style=\"display:none;\">\n",
              "\n",
              "<svg xmlns=\"http://www.w3.org/2000/svg\" height=\"24px\"viewBox=\"0 0 24 24\"\n",
              "     width=\"24px\">\n",
              "    <g>\n",
              "        <path d=\"M19 3H5c-1.1 0-2 .9-2 2v14c0 1.1.9 2 2 2h14c1.1 0 2-.9 2-2V5c0-1.1-.9-2-2-2zM9 17H7v-7h2v7zm4 0h-2V7h2v10zm4 0h-2v-4h2v4z\"/>\n",
              "    </g>\n",
              "</svg>\n",
              "  </button>\n",
              "\n",
              "<style>\n",
              "  .colab-df-quickchart {\n",
              "      --bg-color: #E8F0FE;\n",
              "      --fill-color: #1967D2;\n",
              "      --hover-bg-color: #E2EBFA;\n",
              "      --hover-fill-color: #174EA6;\n",
              "      --disabled-fill-color: #AAA;\n",
              "      --disabled-bg-color: #DDD;\n",
              "  }\n",
              "\n",
              "  [theme=dark] .colab-df-quickchart {\n",
              "      --bg-color: #3B4455;\n",
              "      --fill-color: #D2E3FC;\n",
              "      --hover-bg-color: #434B5C;\n",
              "      --hover-fill-color: #FFFFFF;\n",
              "      --disabled-bg-color: #3B4455;\n",
              "      --disabled-fill-color: #666;\n",
              "  }\n",
              "\n",
              "  .colab-df-quickchart {\n",
              "    background-color: var(--bg-color);\n",
              "    border: none;\n",
              "    border-radius: 50%;\n",
              "    cursor: pointer;\n",
              "    display: none;\n",
              "    fill: var(--fill-color);\n",
              "    height: 32px;\n",
              "    padding: 0;\n",
              "    width: 32px;\n",
              "  }\n",
              "\n",
              "  .colab-df-quickchart:hover {\n",
              "    background-color: var(--hover-bg-color);\n",
              "    box-shadow: 0 1px 2px rgba(60, 64, 67, 0.3), 0 1px 3px 1px rgba(60, 64, 67, 0.15);\n",
              "    fill: var(--button-hover-fill-color);\n",
              "  }\n",
              "\n",
              "  .colab-df-quickchart-complete:disabled,\n",
              "  .colab-df-quickchart-complete:disabled:hover {\n",
              "    background-color: var(--disabled-bg-color);\n",
              "    fill: var(--disabled-fill-color);\n",
              "    box-shadow: none;\n",
              "  }\n",
              "\n",
              "  .colab-df-spinner {\n",
              "    border: 2px solid var(--fill-color);\n",
              "    border-color: transparent;\n",
              "    border-bottom-color: var(--fill-color);\n",
              "    animation:\n",
              "      spin 1s steps(1) infinite;\n",
              "  }\n",
              "\n",
              "  @keyframes spin {\n",
              "    0% {\n",
              "      border-color: transparent;\n",
              "      border-bottom-color: var(--fill-color);\n",
              "      border-left-color: var(--fill-color);\n",
              "    }\n",
              "    20% {\n",
              "      border-color: transparent;\n",
              "      border-left-color: var(--fill-color);\n",
              "      border-top-color: var(--fill-color);\n",
              "    }\n",
              "    30% {\n",
              "      border-color: transparent;\n",
              "      border-left-color: var(--fill-color);\n",
              "      border-top-color: var(--fill-color);\n",
              "      border-right-color: var(--fill-color);\n",
              "    }\n",
              "    40% {\n",
              "      border-color: transparent;\n",
              "      border-right-color: var(--fill-color);\n",
              "      border-top-color: var(--fill-color);\n",
              "    }\n",
              "    60% {\n",
              "      border-color: transparent;\n",
              "      border-right-color: var(--fill-color);\n",
              "    }\n",
              "    80% {\n",
              "      border-color: transparent;\n",
              "      border-right-color: var(--fill-color);\n",
              "      border-bottom-color: var(--fill-color);\n",
              "    }\n",
              "    90% {\n",
              "      border-color: transparent;\n",
              "      border-bottom-color: var(--fill-color);\n",
              "    }\n",
              "  }\n",
              "</style>\n",
              "\n",
              "  <script>\n",
              "    async function quickchart(key) {\n",
              "      const quickchartButtonEl =\n",
              "        document.querySelector('#' + key + ' button');\n",
              "      quickchartButtonEl.disabled = true;  // To prevent multiple clicks.\n",
              "      quickchartButtonEl.classList.add('colab-df-spinner');\n",
              "      try {\n",
              "        const charts = await google.colab.kernel.invokeFunction(\n",
              "            'suggestCharts', [key], {});\n",
              "      } catch (error) {\n",
              "        console.error('Error during call to suggestCharts:', error);\n",
              "      }\n",
              "      quickchartButtonEl.classList.remove('colab-df-spinner');\n",
              "      quickchartButtonEl.classList.add('colab-df-quickchart-complete');\n",
              "    }\n",
              "    (() => {\n",
              "      let quickchartButtonEl =\n",
              "        document.querySelector('#df-e649eb77-28e4-4138-8918-fe3c0d5cdf4c button');\n",
              "      quickchartButtonEl.style.display =\n",
              "        google.colab.kernel.accessAllowed ? 'block' : 'none';\n",
              "    })();\n",
              "  </script>\n",
              "</div>\n",
              "    </div>\n",
              "  </div>\n"
            ],
            "application/vnd.google.colaboratory.intrinsic+json": {
              "type": "dataframe",
              "variable_name": "df_cces"
            }
          },
          "metadata": {},
          "execution_count": 5
        }
      ]
    },
    {
      "cell_type": "code",
      "source": [
        "# Create lag of the DV\n",
        "df_cces['VV_primary_lag'] = df_cces.groupby('caseid')['VV_primary'].shift(1)\n",
        "df_cces['VV_general_lag'] = df_cces.groupby('caseid')['VV_general'].shift(1)"
      ],
      "metadata": {
        "id": "GU6vnwz8MUQm"
      },
      "execution_count": null,
      "outputs": []
    },
    {
      "cell_type": "code",
      "source": [
        "# Check\n",
        "df_cces[['caseid', 'year', 'VV_primary_lag', 'VV_primary']]"
      ],
      "metadata": {
        "colab": {
          "base_uri": "https://localhost:8080/",
          "height": 424
        },
        "id": "yAcOOOeSMXTs",
        "outputId": "32662953-cc64-41cb-ca1f-c06d7a31d49d"
      },
      "execution_count": null,
      "outputs": [
        {
          "output_type": "execute_result",
          "data": {
            "text/plain": [
              "       caseid  year VV_primary_lag VV_primary\n",
              "0           1  2010            NaN      Voted\n",
              "1           1  2012          Voted      Voted\n",
              "2           1  2014          Voted      Voted\n",
              "3          24  2010            NaN      Voted\n",
              "4          24  2012          Voted      Voted\n",
              "...       ...   ...            ...        ...\n",
              "28495   85318  2012      Abstained  Abstained\n",
              "28496   85318  2014      Abstained  Abstained\n",
              "28497   85321  2010            NaN  Abstained\n",
              "28498   85321  2012      Abstained  Abstained\n",
              "28499   85321  2014      Abstained  Abstained\n",
              "\n",
              "[28500 rows x 4 columns]"
            ],
            "text/html": [
              "\n",
              "  <div id=\"df-1797f523-e805-46d8-90f9-80ef801befc8\" class=\"colab-df-container\">\n",
              "    <div>\n",
              "<style scoped>\n",
              "    .dataframe tbody tr th:only-of-type {\n",
              "        vertical-align: middle;\n",
              "    }\n",
              "\n",
              "    .dataframe tbody tr th {\n",
              "        vertical-align: top;\n",
              "    }\n",
              "\n",
              "    .dataframe thead th {\n",
              "        text-align: right;\n",
              "    }\n",
              "</style>\n",
              "<table border=\"1\" class=\"dataframe\">\n",
              "  <thead>\n",
              "    <tr style=\"text-align: right;\">\n",
              "      <th></th>\n",
              "      <th>caseid</th>\n",
              "      <th>year</th>\n",
              "      <th>VV_primary_lag</th>\n",
              "      <th>VV_primary</th>\n",
              "    </tr>\n",
              "  </thead>\n",
              "  <tbody>\n",
              "    <tr>\n",
              "      <th>0</th>\n",
              "      <td>1</td>\n",
              "      <td>2010</td>\n",
              "      <td>NaN</td>\n",
              "      <td>Voted</td>\n",
              "    </tr>\n",
              "    <tr>\n",
              "      <th>1</th>\n",
              "      <td>1</td>\n",
              "      <td>2012</td>\n",
              "      <td>Voted</td>\n",
              "      <td>Voted</td>\n",
              "    </tr>\n",
              "    <tr>\n",
              "      <th>2</th>\n",
              "      <td>1</td>\n",
              "      <td>2014</td>\n",
              "      <td>Voted</td>\n",
              "      <td>Voted</td>\n",
              "    </tr>\n",
              "    <tr>\n",
              "      <th>3</th>\n",
              "      <td>24</td>\n",
              "      <td>2010</td>\n",
              "      <td>NaN</td>\n",
              "      <td>Voted</td>\n",
              "    </tr>\n",
              "    <tr>\n",
              "      <th>4</th>\n",
              "      <td>24</td>\n",
              "      <td>2012</td>\n",
              "      <td>Voted</td>\n",
              "      <td>Voted</td>\n",
              "    </tr>\n",
              "    <tr>\n",
              "      <th>...</th>\n",
              "      <td>...</td>\n",
              "      <td>...</td>\n",
              "      <td>...</td>\n",
              "      <td>...</td>\n",
              "    </tr>\n",
              "    <tr>\n",
              "      <th>28495</th>\n",
              "      <td>85318</td>\n",
              "      <td>2012</td>\n",
              "      <td>Abstained</td>\n",
              "      <td>Abstained</td>\n",
              "    </tr>\n",
              "    <tr>\n",
              "      <th>28496</th>\n",
              "      <td>85318</td>\n",
              "      <td>2014</td>\n",
              "      <td>Abstained</td>\n",
              "      <td>Abstained</td>\n",
              "    </tr>\n",
              "    <tr>\n",
              "      <th>28497</th>\n",
              "      <td>85321</td>\n",
              "      <td>2010</td>\n",
              "      <td>NaN</td>\n",
              "      <td>Abstained</td>\n",
              "    </tr>\n",
              "    <tr>\n",
              "      <th>28498</th>\n",
              "      <td>85321</td>\n",
              "      <td>2012</td>\n",
              "      <td>Abstained</td>\n",
              "      <td>Abstained</td>\n",
              "    </tr>\n",
              "    <tr>\n",
              "      <th>28499</th>\n",
              "      <td>85321</td>\n",
              "      <td>2014</td>\n",
              "      <td>Abstained</td>\n",
              "      <td>Abstained</td>\n",
              "    </tr>\n",
              "  </tbody>\n",
              "</table>\n",
              "<p>28500 rows × 4 columns</p>\n",
              "</div>\n",
              "    <div class=\"colab-df-buttons\">\n",
              "\n",
              "  <div class=\"colab-df-container\">\n",
              "    <button class=\"colab-df-convert\" onclick=\"convertToInteractive('df-1797f523-e805-46d8-90f9-80ef801befc8')\"\n",
              "            title=\"Convert this dataframe to an interactive table.\"\n",
              "            style=\"display:none;\">\n",
              "\n",
              "  <svg xmlns=\"http://www.w3.org/2000/svg\" height=\"24px\" viewBox=\"0 -960 960 960\">\n",
              "    <path d=\"M120-120v-720h720v720H120Zm60-500h600v-160H180v160Zm220 220h160v-160H400v160Zm0 220h160v-160H400v160ZM180-400h160v-160H180v160Zm440 0h160v-160H620v160ZM180-180h160v-160H180v160Zm440 0h160v-160H620v160Z\"/>\n",
              "  </svg>\n",
              "    </button>\n",
              "\n",
              "  <style>\n",
              "    .colab-df-container {\n",
              "      display:flex;\n",
              "      gap: 12px;\n",
              "    }\n",
              "\n",
              "    .colab-df-convert {\n",
              "      background-color: #E8F0FE;\n",
              "      border: none;\n",
              "      border-radius: 50%;\n",
              "      cursor: pointer;\n",
              "      display: none;\n",
              "      fill: #1967D2;\n",
              "      height: 32px;\n",
              "      padding: 0 0 0 0;\n",
              "      width: 32px;\n",
              "    }\n",
              "\n",
              "    .colab-df-convert:hover {\n",
              "      background-color: #E2EBFA;\n",
              "      box-shadow: 0px 1px 2px rgba(60, 64, 67, 0.3), 0px 1px 3px 1px rgba(60, 64, 67, 0.15);\n",
              "      fill: #174EA6;\n",
              "    }\n",
              "\n",
              "    .colab-df-buttons div {\n",
              "      margin-bottom: 4px;\n",
              "    }\n",
              "\n",
              "    [theme=dark] .colab-df-convert {\n",
              "      background-color: #3B4455;\n",
              "      fill: #D2E3FC;\n",
              "    }\n",
              "\n",
              "    [theme=dark] .colab-df-convert:hover {\n",
              "      background-color: #434B5C;\n",
              "      box-shadow: 0px 1px 3px 1px rgba(0, 0, 0, 0.15);\n",
              "      filter: drop-shadow(0px 1px 2px rgba(0, 0, 0, 0.3));\n",
              "      fill: #FFFFFF;\n",
              "    }\n",
              "  </style>\n",
              "\n",
              "    <script>\n",
              "      const buttonEl =\n",
              "        document.querySelector('#df-1797f523-e805-46d8-90f9-80ef801befc8 button.colab-df-convert');\n",
              "      buttonEl.style.display =\n",
              "        google.colab.kernel.accessAllowed ? 'block' : 'none';\n",
              "\n",
              "      async function convertToInteractive(key) {\n",
              "        const element = document.querySelector('#df-1797f523-e805-46d8-90f9-80ef801befc8');\n",
              "        const dataTable =\n",
              "          await google.colab.kernel.invokeFunction('convertToInteractive',\n",
              "                                                    [key], {});\n",
              "        if (!dataTable) return;\n",
              "\n",
              "        const docLinkHtml = 'Like what you see? Visit the ' +\n",
              "          '<a target=\"_blank\" href=https://colab.research.google.com/notebooks/data_table.ipynb>data table notebook</a>'\n",
              "          + ' to learn more about interactive tables.';\n",
              "        element.innerHTML = '';\n",
              "        dataTable['output_type'] = 'display_data';\n",
              "        await google.colab.output.renderOutput(dataTable, element);\n",
              "        const docLink = document.createElement('div');\n",
              "        docLink.innerHTML = docLinkHtml;\n",
              "        element.appendChild(docLink);\n",
              "      }\n",
              "    </script>\n",
              "  </div>\n",
              "\n",
              "\n",
              "<div id=\"df-243c3bab-354e-4d04-bb95-aa0519a9793c\">\n",
              "  <button class=\"colab-df-quickchart\" onclick=\"quickchart('df-243c3bab-354e-4d04-bb95-aa0519a9793c')\"\n",
              "            title=\"Suggest charts\"\n",
              "            style=\"display:none;\">\n",
              "\n",
              "<svg xmlns=\"http://www.w3.org/2000/svg\" height=\"24px\"viewBox=\"0 0 24 24\"\n",
              "     width=\"24px\">\n",
              "    <g>\n",
              "        <path d=\"M19 3H5c-1.1 0-2 .9-2 2v14c0 1.1.9 2 2 2h14c1.1 0 2-.9 2-2V5c0-1.1-.9-2-2-2zM9 17H7v-7h2v7zm4 0h-2V7h2v10zm4 0h-2v-4h2v4z\"/>\n",
              "    </g>\n",
              "</svg>\n",
              "  </button>\n",
              "\n",
              "<style>\n",
              "  .colab-df-quickchart {\n",
              "      --bg-color: #E8F0FE;\n",
              "      --fill-color: #1967D2;\n",
              "      --hover-bg-color: #E2EBFA;\n",
              "      --hover-fill-color: #174EA6;\n",
              "      --disabled-fill-color: #AAA;\n",
              "      --disabled-bg-color: #DDD;\n",
              "  }\n",
              "\n",
              "  [theme=dark] .colab-df-quickchart {\n",
              "      --bg-color: #3B4455;\n",
              "      --fill-color: #D2E3FC;\n",
              "      --hover-bg-color: #434B5C;\n",
              "      --hover-fill-color: #FFFFFF;\n",
              "      --disabled-bg-color: #3B4455;\n",
              "      --disabled-fill-color: #666;\n",
              "  }\n",
              "\n",
              "  .colab-df-quickchart {\n",
              "    background-color: var(--bg-color);\n",
              "    border: none;\n",
              "    border-radius: 50%;\n",
              "    cursor: pointer;\n",
              "    display: none;\n",
              "    fill: var(--fill-color);\n",
              "    height: 32px;\n",
              "    padding: 0;\n",
              "    width: 32px;\n",
              "  }\n",
              "\n",
              "  .colab-df-quickchart:hover {\n",
              "    background-color: var(--hover-bg-color);\n",
              "    box-shadow: 0 1px 2px rgba(60, 64, 67, 0.3), 0 1px 3px 1px rgba(60, 64, 67, 0.15);\n",
              "    fill: var(--button-hover-fill-color);\n",
              "  }\n",
              "\n",
              "  .colab-df-quickchart-complete:disabled,\n",
              "  .colab-df-quickchart-complete:disabled:hover {\n",
              "    background-color: var(--disabled-bg-color);\n",
              "    fill: var(--disabled-fill-color);\n",
              "    box-shadow: none;\n",
              "  }\n",
              "\n",
              "  .colab-df-spinner {\n",
              "    border: 2px solid var(--fill-color);\n",
              "    border-color: transparent;\n",
              "    border-bottom-color: var(--fill-color);\n",
              "    animation:\n",
              "      spin 1s steps(1) infinite;\n",
              "  }\n",
              "\n",
              "  @keyframes spin {\n",
              "    0% {\n",
              "      border-color: transparent;\n",
              "      border-bottom-color: var(--fill-color);\n",
              "      border-left-color: var(--fill-color);\n",
              "    }\n",
              "    20% {\n",
              "      border-color: transparent;\n",
              "      border-left-color: var(--fill-color);\n",
              "      border-top-color: var(--fill-color);\n",
              "    }\n",
              "    30% {\n",
              "      border-color: transparent;\n",
              "      border-left-color: var(--fill-color);\n",
              "      border-top-color: var(--fill-color);\n",
              "      border-right-color: var(--fill-color);\n",
              "    }\n",
              "    40% {\n",
              "      border-color: transparent;\n",
              "      border-right-color: var(--fill-color);\n",
              "      border-top-color: var(--fill-color);\n",
              "    }\n",
              "    60% {\n",
              "      border-color: transparent;\n",
              "      border-right-color: var(--fill-color);\n",
              "    }\n",
              "    80% {\n",
              "      border-color: transparent;\n",
              "      border-right-color: var(--fill-color);\n",
              "      border-bottom-color: var(--fill-color);\n",
              "    }\n",
              "    90% {\n",
              "      border-color: transparent;\n",
              "      border-bottom-color: var(--fill-color);\n",
              "    }\n",
              "  }\n",
              "</style>\n",
              "\n",
              "  <script>\n",
              "    async function quickchart(key) {\n",
              "      const quickchartButtonEl =\n",
              "        document.querySelector('#' + key + ' button');\n",
              "      quickchartButtonEl.disabled = true;  // To prevent multiple clicks.\n",
              "      quickchartButtonEl.classList.add('colab-df-spinner');\n",
              "      try {\n",
              "        const charts = await google.colab.kernel.invokeFunction(\n",
              "            'suggestCharts', [key], {});\n",
              "      } catch (error) {\n",
              "        console.error('Error during call to suggestCharts:', error);\n",
              "      }\n",
              "      quickchartButtonEl.classList.remove('colab-df-spinner');\n",
              "      quickchartButtonEl.classList.add('colab-df-quickchart-complete');\n",
              "    }\n",
              "    (() => {\n",
              "      let quickchartButtonEl =\n",
              "        document.querySelector('#df-243c3bab-354e-4d04-bb95-aa0519a9793c button');\n",
              "      quickchartButtonEl.style.display =\n",
              "        google.colab.kernel.accessAllowed ? 'block' : 'none';\n",
              "    })();\n",
              "  </script>\n",
              "</div>\n",
              "    </div>\n",
              "  </div>\n"
            ],
            "application/vnd.google.colaboratory.intrinsic+json": {
              "type": "dataframe",
              "summary": "{\n  \"name\": \"df_cces[['caseid', 'year', 'VV_primary_lag', 'VV_primary']]\",\n  \"rows\": 28500,\n  \"fields\": [\n    {\n      \"column\": \"caseid\",\n      \"properties\": {\n        \"dtype\": \"number\",\n        \"std\": 22367,\n        \"min\": 1,\n        \"max\": 85321,\n        \"num_unique_values\": 9500,\n        \"samples\": [\n          5299,\n          35528,\n          22097\n        ],\n        \"semantic_type\": \"\",\n        \"description\": \"\"\n      }\n    },\n    {\n      \"column\": \"year\",\n      \"properties\": {\n        \"dtype\": \"number\",\n        \"std\": 1,\n        \"min\": 2010,\n        \"max\": 2014,\n        \"num_unique_values\": 3,\n        \"samples\": [\n          2010,\n          2012,\n          2014\n        ],\n        \"semantic_type\": \"\",\n        \"description\": \"\"\n      }\n    },\n    {\n      \"column\": \"VV_primary_lag\",\n      \"properties\": {\n        \"dtype\": \"category\",\n        \"num_unique_values\": 2,\n        \"samples\": [\n          \"Abstained\",\n          \"Voted\"\n        ],\n        \"semantic_type\": \"\",\n        \"description\": \"\"\n      }\n    },\n    {\n      \"column\": \"VV_primary\",\n      \"properties\": {\n        \"dtype\": \"category\",\n        \"num_unique_values\": 2,\n        \"samples\": [\n          \"Abstained\",\n          \"Voted\"\n        ],\n        \"semantic_type\": \"\",\n        \"description\": \"\"\n      }\n    }\n  ]\n}"
            }
          },
          "metadata": {},
          "execution_count": 7
        }
      ]
    },
    {
      "cell_type": "code",
      "source": [
        "# Drop all rows where lag is missing = 2010\n",
        "df_cces = df_cces.query('year != 2010').copy()"
      ],
      "metadata": {
        "id": "5Qn6xHaeMayG"
      },
      "execution_count": null,
      "outputs": []
    },
    {
      "cell_type": "code",
      "source": [
        "# Convert cdid to category to create dummies for district ID\n",
        "df_cces['cdid'] = df_cces['cdid'].astype('category')"
      ],
      "metadata": {
        "id": "itb4IV5xZnSk"
      },
      "execution_count": null,
      "outputs": []
    },
    {
      "cell_type": "code",
      "source": [
        "# Drop caseid and weight\n",
        "df_cces = df_cces.drop(['caseid','weight'], axis=1)"
      ],
      "metadata": {
        "id": "4pYaHVOZZpvH"
      },
      "execution_count": null,
      "outputs": []
    },
    {
      "cell_type": "code",
      "source": [
        "# Select theoretically relevant features\n",
        "col_select = [\n",
        "    'year', 'birthyr', 'gender', 'educ', 'race', 'hispanic', 'employ', 'marstat', 'pid7',\n",
        "    'ideo5', 'child18', 'newsint', 'faminc', 'ownhome', 'milstat_1', 'milstat_3', 'citylength_1',\n",
        "    'addrlength_1', 'immstat', 'union', 'unionhh', '301_1', '301_2', '301_3', '301_4', '301_5',\n",
        "    '302', '308b', '309a', '309b', '309c', '309d', '316', '350', '417a_1', '417a_2', '417a_3',\n",
        "    '417a_4', '417a_5', '417a_6', '418a', '425a', '425b_1', '425b_2', '425b_3', '425b_4',\n",
        "    'VV_primary', 'VV_general', 'inputstate', 'pew_churatd', 'cdid', 'VV_primary_lag',\n",
        "    'VV_general_lag'\n",
        "]\n",
        "df_cces = df_cces[col_select]"
      ],
      "metadata": {
        "id": "StCQ3RooXWMg"
      },
      "execution_count": null,
      "outputs": []
    },
    {
      "cell_type": "code",
      "source": [
        "# Write function to split into training and test set\n",
        "def split_cces(df):\n",
        "    df_train = df.query('year == 2012') \\\n",
        "        .drop('year', axis=1)\n",
        "    df_test = df.query('year == 2014') \\\n",
        "        .drop('year', axis=1)\n",
        "\n",
        "    return (df_train, df_test)"
      ],
      "metadata": {
        "id": "UAZq3i3aM2qw"
      },
      "execution_count": null,
      "outputs": []
    },
    {
      "cell_type": "code",
      "source": [
        "# Define class for metrics\n",
        "class Metrics:\n",
        "\n",
        "    def __init__(self, conf_matrix):\n",
        "        \"\"\"\n",
        "        Initialize the Metrics object with true labels and predicted labels.\n",
        "        \"\"\"\n",
        "        self.conf_matrix = conf_matrix\n",
        "        self.TN, self.FP, self.FN, self.TP = self.conf_matrix.ravel()\n",
        "\n",
        "    def accuracy(self):\n",
        "        \"\"\"\n",
        "        Compute accuracy\n",
        "        \"\"\"\n",
        "        return (self.TP + self.TN) / (self.TP + self.TN + self.FP + self.FN)\n",
        "\n",
        "    def recall(self):\n",
        "        \"\"\"\n",
        "        Compute recall (sensitivity or TPR)\n",
        "        \"\"\"\n",
        "        return self.TP / (self.TP + self.FN) if (self.TP + self.FN) != 0 else 0\n",
        "\n",
        "    def specificity(self):\n",
        "        \"\"\"\n",
        "        Computr specificity (TNR)\n",
        "        \"\"\"\n",
        "        return self.TN / (self.TN + self.FP) if (self.TN + self.FP) != 0 else 0\n",
        "\n",
        "    def precision(self):\n",
        "        \"\"\"\n",
        "        Compute precision\n",
        "        \"\"\"\n",
        "        return self.TP / (self.TP + self.FP) if (self.TP + self.FP) != 0 else 0\n",
        "\n",
        "    def f1_score(self):\n",
        "        \"\"\"\n",
        "        Compute F1 score\n",
        "        \"\"\"\n",
        "        precision = self.precision()\n",
        "        recall = self.recall()\n",
        "        return 2 * (precision * recall) / (precision + recall) if (precision + recall) != 0 else 0"
      ],
      "metadata": {
        "id": "KVtxSQCkZrl3"
      },
      "execution_count": null,
      "outputs": []
    },
    {
      "cell_type": "markdown",
      "source": [
        "# DV: VV_primary, incl. lag"
      ],
      "metadata": {
        "id": "HRQbP0nZZ4J3"
      }
    },
    {
      "cell_type": "markdown",
      "source": [
        "## Preprocessing"
      ],
      "metadata": {
        "id": "Y9fbyVAybuOl"
      }
    },
    {
      "cell_type": "code",
      "source": [
        "df_cces_1 = df_cces.drop(['VV_general', 'VV_general_lag'], axis=1)"
      ],
      "metadata": {
        "id": "3aHDAbcTaABS"
      },
      "execution_count": null,
      "outputs": []
    },
    {
      "cell_type": "code",
      "source": [
        "df_train, df_test = split_cces(df_cces_1)"
      ],
      "metadata": {
        "id": "XcyOYSQJaGnG"
      },
      "execution_count": null,
      "outputs": []
    },
    {
      "cell_type": "code",
      "source": [
        "# Number of samples per split\n",
        "print(f'# Training samples: {len(df_train)} \\\n",
        "        # Test samples: {len(df_test)}')"
      ],
      "metadata": {
        "colab": {
          "base_uri": "https://localhost:8080/"
        },
        "id": "LnbpXZaGaJFQ",
        "outputId": "cfb07127-2006-4f20-ef1f-319b5b63a37e"
      },
      "execution_count": null,
      "outputs": [
        {
          "output_type": "stream",
          "name": "stdout",
          "text": [
            "# Training samples: 9500         # Test samples: 9500\n"
          ]
        }
      ]
    },
    {
      "cell_type": "code",
      "source": [
        "X_train = df_train.drop('VV_primary', axis=1)\n",
        "y_train = df_train['VV_primary'].to_numpy()\n",
        "X_test = df_test.drop('VV_primary', axis=1)\n",
        "y_test = df_test['VV_primary'].to_numpy()"
      ],
      "metadata": {
        "id": "2XKq7MwIaLYt"
      },
      "execution_count": null,
      "outputs": []
    },
    {
      "cell_type": "code",
      "source": [
        "# Encode targets\n",
        "y_encoder = LabelEncoder()\n",
        "\n",
        "y_train = y_encoder.fit_transform(y_train)\n",
        "y_test = y_encoder.transform(y_test)"
      ],
      "metadata": {
        "id": "d4lQ7TIRbzGf"
      },
      "execution_count": null,
      "outputs": []
    },
    {
      "cell_type": "code",
      "source": [
        "# Identify ordered categorical columns\n",
        "ordered_cat_cols = [col for col in X_train.columns if pd.api.types.is_categorical_dtype(df_cces[col]) and df_cces[col].cat.ordered]\n",
        "# Identify unordered cateforical columns\n",
        "unordered_cat_cols = [col for col in X_train.columns if pd.api.types.is_categorical_dtype(df_cces[col]) and not df_cces[col].cat.ordered]\n",
        "# Define dictionary for category order\n",
        "category_order = {col: list(X_train[col].cat.categories) for col in ordered_cat_cols}"
      ],
      "metadata": {
        "id": "am02awRgb1Gh"
      },
      "execution_count": null,
      "outputs": []
    },
    {
      "cell_type": "code",
      "source": [
        "# One-hot encode only unordered categorical columns\n",
        "col_trans = ColumnTransformer(\n",
        "    [(col,\n",
        "      OneHotEncoder(drop='first',\n",
        "                    sparse_output=False,\n",
        "                    handle_unknown='ignore'),\n",
        "     [col]) for col in unordered_cat_cols] +\n",
        "    [(col,\n",
        "      OrdinalEncoder(categories=[category_order[col]],\n",
        "                     handle_unknown='use_encoded_value',\n",
        "                     unknown_value=np.nan),\n",
        "      [col]) for col in ordered_cat_cols],\n",
        "    remainder='passthrough'\n",
        ")\n",
        "\n",
        "# Impute missing values\n",
        "knn_imputer = KNNImputer(missing_values=np.nan,\n",
        "                         n_neighbors=13,\n",
        "                         weights='distance')\n",
        "\n",
        "# Scaling\n",
        "scaler = StandardScaler(with_mean=True,\n",
        "                        with_std=True)"
      ],
      "metadata": {
        "id": "OOWaur53b27H"
      },
      "execution_count": null,
      "outputs": []
    },
    {
      "cell_type": "code",
      "source": [
        "# Define pipeline\n",
        "pipe = Pipeline(steps=[('col_trans', col_trans),\n",
        "                       ('knn_imputer', knn_imputer),\n",
        "                       ('scaler', scaler)]).set_output(transform='pandas')"
      ],
      "metadata": {
        "id": "jvm0bJARb6VW"
      },
      "execution_count": null,
      "outputs": []
    },
    {
      "cell_type": "code",
      "source": [
        "# Fit and apply pipe to training features\n",
        "X_train = pipe.fit_transform(X_train)\n",
        "# Apply pipe to validation and test features\n",
        "X_test = pipe.transform(X_test)"
      ],
      "metadata": {
        "id": "WDmdRG44b8yh",
        "colab": {
          "base_uri": "https://localhost:8080/"
        },
        "outputId": "9e4cb507-1876-49b6-ee5d-353dded07c95"
      },
      "execution_count": null,
      "outputs": [
        {
          "output_type": "stream",
          "name": "stderr",
          "text": [
            "/usr/local/lib/python3.10/dist-packages/sklearn/preprocessing/_encoders.py:202: UserWarning: Found unknown categories in columns [0] during transform. These unknown categories will be encoded as all zeros\n",
            "  warnings.warn(\n",
            "/usr/local/lib/python3.10/dist-packages/sklearn/preprocessing/_encoders.py:202: UserWarning: Found unknown categories in columns [0] during transform. These unknown categories will be encoded as all zeros\n",
            "  warnings.warn(\n"
          ]
        }
      ]
    },
    {
      "cell_type": "code",
      "source": [
        "X_train.shape[1] # 218 features"
      ],
      "metadata": {
        "colab": {
          "base_uri": "https://localhost:8080/"
        },
        "id": "qKLxruVxXiqd",
        "outputId": "24d36a9b-87cb-4ab1-9bbe-c451f27884be"
      },
      "execution_count": null,
      "outputs": [
        {
          "output_type": "execute_result",
          "data": {
            "text/plain": [
              "218"
            ]
          },
          "metadata": {},
          "execution_count": 23
        }
      ]
    },
    {
      "cell_type": "markdown",
      "source": [
        "## Fit"
      ],
      "metadata": {
        "id": "GfWnYBWicDxT"
      }
    },
    {
      "cell_type": "code",
      "source": [
        "# Set global seed\n",
        "seed = 42\n",
        "os.environ['PYTHONHASHSEED'] = str(seed)\n",
        "random.seed(seed)\n",
        "np.random.seed(seed)\n",
        "tf.random.set_seed(seed)"
      ],
      "metadata": {
        "id": "GmfbopWAcHVR"
      },
      "execution_count": null,
      "outputs": []
    },
    {
      "cell_type": "code",
      "source": [
        "# Define model architecture\n",
        "model1 = Sequential([\n",
        "    Dense(32, input_shape=(X_train.shape[1],),\n",
        "          kernel_initializer='he_normal',\n",
        "          kernel_regularizer=regularizers.l2(0.005)),\n",
        "    BatchNormalization(),\n",
        "    Activation('relu'),\n",
        "    Dropout(0.5),\n",
        "    Dense(16, kernel_initializer='he_normal',\n",
        "          kernel_regularizer=regularizers.l2(0.005)),\n",
        "    BatchNormalization(),\n",
        "    Activation('relu'),\n",
        "    Dropout(0.5),\n",
        "    Dense(1),\n",
        "    Activation('sigmoid')\n",
        "])"
      ],
      "metadata": {
        "id": "zOkXpOhfdt7j"
      },
      "execution_count": null,
      "outputs": []
    },
    {
      "cell_type": "code",
      "source": [
        "model1.summary()"
      ],
      "metadata": {
        "colab": {
          "base_uri": "https://localhost:8080/"
        },
        "id": "T1fmMd4dgE3Q",
        "outputId": "74b9ad3a-7650-4cd6-b65d-4bc67bbb455f"
      },
      "execution_count": null,
      "outputs": [
        {
          "output_type": "stream",
          "name": "stdout",
          "text": [
            "Model: \"sequential\"\n",
            "_________________________________________________________________\n",
            " Layer (type)                Output Shape              Param #   \n",
            "=================================================================\n",
            " dense (Dense)               (None, 32)                7008      \n",
            "                                                                 \n",
            " batch_normalization (Batch  (None, 32)                128       \n",
            " Normalization)                                                  \n",
            "                                                                 \n",
            " activation (Activation)     (None, 32)                0         \n",
            "                                                                 \n",
            " dropout (Dropout)           (None, 32)                0         \n",
            "                                                                 \n",
            " dense_1 (Dense)             (None, 16)                528       \n",
            "                                                                 \n",
            " batch_normalization_1 (Bat  (None, 16)                64        \n",
            " chNormalization)                                                \n",
            "                                                                 \n",
            " activation_1 (Activation)   (None, 16)                0         \n",
            "                                                                 \n",
            " dropout_1 (Dropout)         (None, 16)                0         \n",
            "                                                                 \n",
            " dense_2 (Dense)             (None, 1)                 17        \n",
            "                                                                 \n",
            " activation_2 (Activation)   (None, 1)                 0         \n",
            "                                                                 \n",
            "=================================================================\n",
            "Total params: 7745 (30.25 KB)\n",
            "Trainable params: 7649 (29.88 KB)\n",
            "Non-trainable params: 96 (384.00 Byte)\n",
            "_________________________________________________________________\n"
          ]
        }
      ]
    },
    {
      "cell_type": "code",
      "source": [
        "# Set learning rate, loss and metric\n",
        "model1.compile(optimizer=Adam(learning_rate=0.001),\n",
        "              loss='binary_crossentropy',\n",
        "              metrics=['accuracy'])"
      ],
      "metadata": {
        "id": "SK21qb-YgPV3"
      },
      "execution_count": null,
      "outputs": []
    },
    {
      "cell_type": "code",
      "source": [
        "# Set checkpoint, logger, early stopping, and learning rate scheduler\n",
        "checkpoint = ModelCheckpoint('best_model1.h5',\n",
        "                             save_best_only=True,\n",
        "                             monitor='val_loss',\n",
        "                             mode='min',\n",
        "                             verbose=1)\n",
        "\n",
        "csv_logger = CSVLogger('training_log1.csv', append=False)\n",
        "\n",
        "def scheduler(epoch, lr):\n",
        "  if epoch < 10:\n",
        "    return lr\n",
        "  else:\n",
        "    return lr * np.exp(-0.1)\n",
        "\n",
        "lr_scheduler = LearningRateScheduler(scheduler)"
      ],
      "metadata": {
        "id": "wdfd2N-Ggogf"
      },
      "execution_count": null,
      "outputs": []
    },
    {
      "cell_type": "code",
      "source": [
        "model1.fit(X_train,\n",
        "           y_train,\n",
        "           epochs=50,\n",
        "           batch_size=16,\n",
        "           validation_data=(X_test, y_test),\n",
        "           callbacks=[checkpoint, csv_logger, lr_scheduler],\n",
        "           shuffle=True)"
      ],
      "metadata": {
        "colab": {
          "base_uri": "https://localhost:8080/"
        },
        "id": "n_ZxU19tg4jr",
        "outputId": "c2c1bbeb-26ad-4bc5-b423-62a42ec265f1"
      },
      "execution_count": null,
      "outputs": [
        {
          "output_type": "stream",
          "name": "stdout",
          "text": [
            "Epoch 1/50\n",
            "589/594 [============================>.] - ETA: 0s - loss: 1.0320 - accuracy: 0.5906\n",
            "Epoch 1: val_loss improved from inf to 0.84909, saving model to best_model1.h5\n",
            "594/594 [==============================] - 6s 7ms/step - loss: 1.0312 - accuracy: 0.5901 - val_loss: 0.8491 - val_accuracy: 0.6559 - lr: 0.0010\n",
            "Epoch 2/50\n",
            " 40/594 [=>............................] - ETA: 1s - loss: 0.8217 - accuracy: 0.6719"
          ]
        },
        {
          "output_type": "stream",
          "name": "stderr",
          "text": [
            "/usr/local/lib/python3.10/dist-packages/keras/src/engine/training.py:3103: UserWarning: You are saving your model as an HDF5 file via `model.save()`. This file format is considered legacy. We recommend using instead the native Keras format, e.g. `model.save('my_model.keras')`.\n",
            "  saving_api.save_model(\n"
          ]
        },
        {
          "output_type": "stream",
          "name": "stdout",
          "text": [
            "589/594 [============================>.] - ETA: 0s - loss: 0.7786 - accuracy: 0.6739\n",
            "Epoch 2: val_loss improved from 0.84909 to 0.73581, saving model to best_model1.h5\n",
            "594/594 [==============================] - 3s 5ms/step - loss: 0.7783 - accuracy: 0.6734 - val_loss: 0.7358 - val_accuracy: 0.6877 - lr: 0.0010\n",
            "Epoch 3/50\n",
            "587/594 [============================>.] - ETA: 0s - loss: 0.6750 - accuracy: 0.7195\n",
            "Epoch 3: val_loss improved from 0.73581 to 0.70027, saving model to best_model1.h5\n",
            "594/594 [==============================] - 3s 5ms/step - loss: 0.6760 - accuracy: 0.7196 - val_loss: 0.7003 - val_accuracy: 0.6969 - lr: 0.0010\n",
            "Epoch 4/50\n",
            "578/594 [============================>.] - ETA: 0s - loss: 0.6219 - accuracy: 0.7310\n",
            "Epoch 4: val_loss improved from 0.70027 to 0.68018, saving model to best_model1.h5\n",
            "594/594 [==============================] - 2s 4ms/step - loss: 0.6226 - accuracy: 0.7299 - val_loss: 0.6802 - val_accuracy: 0.7011 - lr: 0.0010\n",
            "Epoch 5/50\n",
            "593/594 [============================>.] - ETA: 0s - loss: 0.6040 - accuracy: 0.7389\n",
            "Epoch 5: val_loss improved from 0.68018 to 0.66201, saving model to best_model1.h5\n",
            "594/594 [==============================] - 3s 5ms/step - loss: 0.6044 - accuracy: 0.7387 - val_loss: 0.6620 - val_accuracy: 0.7037 - lr: 0.0010\n",
            "Epoch 6/50\n",
            "586/594 [============================>.] - ETA: 0s - loss: 0.5940 - accuracy: 0.7375\n",
            "Epoch 6: val_loss did not improve from 0.66201\n",
            "594/594 [==============================] - 3s 5ms/step - loss: 0.5937 - accuracy: 0.7378 - val_loss: 0.6693 - val_accuracy: 0.7034 - lr: 0.0010\n",
            "Epoch 7/50\n",
            "593/594 [============================>.] - ETA: 0s - loss: 0.5894 - accuracy: 0.7414\n",
            "Epoch 7: val_loss improved from 0.66201 to 0.65999, saving model to best_model1.h5\n",
            "594/594 [==============================] - 2s 4ms/step - loss: 0.5893 - accuracy: 0.7415 - val_loss: 0.6600 - val_accuracy: 0.6968 - lr: 0.0010\n",
            "Epoch 8/50\n",
            "581/594 [============================>.] - ETA: 0s - loss: 0.5879 - accuracy: 0.7392\n",
            "Epoch 8: val_loss did not improve from 0.65999\n",
            "594/594 [==============================] - 2s 4ms/step - loss: 0.5881 - accuracy: 0.7382 - val_loss: 0.6609 - val_accuracy: 0.7013 - lr: 0.0010\n",
            "Epoch 9/50\n",
            "584/594 [============================>.] - ETA: 0s - loss: 0.5824 - accuracy: 0.7411\n",
            "Epoch 9: val_loss did not improve from 0.65999\n",
            "594/594 [==============================] - 3s 5ms/step - loss: 0.5827 - accuracy: 0.7416 - val_loss: 0.6604 - val_accuracy: 0.7031 - lr: 0.0010\n",
            "Epoch 10/50\n",
            "583/594 [============================>.] - ETA: 0s - loss: 0.5844 - accuracy: 0.7426\n",
            "Epoch 10: val_loss improved from 0.65999 to 0.64586, saving model to best_model1.h5\n",
            "594/594 [==============================] - 3s 5ms/step - loss: 0.5838 - accuracy: 0.7429 - val_loss: 0.6459 - val_accuracy: 0.7020 - lr: 0.0010\n",
            "Epoch 11/50\n",
            "589/594 [============================>.] - ETA: 0s - loss: 0.5710 - accuracy: 0.7393\n",
            "Epoch 11: val_loss did not improve from 0.64586\n",
            "594/594 [==============================] - 3s 5ms/step - loss: 0.5713 - accuracy: 0.7393 - val_loss: 0.6572 - val_accuracy: 0.7068 - lr: 9.0484e-04\n",
            "Epoch 12/50\n",
            "582/594 [============================>.] - ETA: 0s - loss: 0.5733 - accuracy: 0.7453\n",
            "Epoch 12: val_loss did not improve from 0.64586\n",
            "594/594 [==============================] - 3s 5ms/step - loss: 0.5730 - accuracy: 0.7453 - val_loss: 0.6506 - val_accuracy: 0.7051 - lr: 8.1873e-04\n",
            "Epoch 13/50\n",
            "586/594 [============================>.] - ETA: 0s - loss: 0.5690 - accuracy: 0.7449\n",
            "Epoch 13: val_loss improved from 0.64586 to 0.64331, saving model to best_model1.h5\n",
            "594/594 [==============================] - 3s 5ms/step - loss: 0.5681 - accuracy: 0.7459 - val_loss: 0.6433 - val_accuracy: 0.7080 - lr: 7.4082e-04\n",
            "Epoch 14/50\n",
            "577/594 [============================>.] - ETA: 0s - loss: 0.5652 - accuracy: 0.7524\n",
            "Epoch 14: val_loss did not improve from 0.64331\n",
            "594/594 [==============================] - 2s 4ms/step - loss: 0.5654 - accuracy: 0.7515 - val_loss: 0.6519 - val_accuracy: 0.7036 - lr: 6.7032e-04\n",
            "Epoch 15/50\n",
            "592/594 [============================>.] - ETA: 0s - loss: 0.5536 - accuracy: 0.7550\n",
            "Epoch 15: val_loss did not improve from 0.64331\n",
            "594/594 [==============================] - 3s 6ms/step - loss: 0.5537 - accuracy: 0.7547 - val_loss: 0.6528 - val_accuracy: 0.7065 - lr: 6.0653e-04\n",
            "Epoch 16/50\n",
            "588/594 [============================>.] - ETA: 0s - loss: 0.5550 - accuracy: 0.7532\n",
            "Epoch 16: val_loss did not improve from 0.64331\n",
            "594/594 [==============================] - 3s 6ms/step - loss: 0.5551 - accuracy: 0.7528 - val_loss: 0.6594 - val_accuracy: 0.7019 - lr: 5.4881e-04\n",
            "Epoch 17/50\n",
            "576/594 [============================>.] - ETA: 0s - loss: 0.5560 - accuracy: 0.7546\n",
            "Epoch 17: val_loss did not improve from 0.64331\n",
            "594/594 [==============================] - 2s 4ms/step - loss: 0.5558 - accuracy: 0.7545 - val_loss: 0.6476 - val_accuracy: 0.7045 - lr: 4.9659e-04\n",
            "Epoch 18/50\n",
            "575/594 [============================>.] - ETA: 0s - loss: 0.5495 - accuracy: 0.7535\n",
            "Epoch 18: val_loss did not improve from 0.64331\n",
            "594/594 [==============================] - 3s 5ms/step - loss: 0.5501 - accuracy: 0.7528 - val_loss: 0.6500 - val_accuracy: 0.7008 - lr: 4.4933e-04\n",
            "Epoch 19/50\n",
            "587/594 [============================>.] - ETA: 0s - loss: 0.5470 - accuracy: 0.7568\n",
            "Epoch 19: val_loss did not improve from 0.64331\n",
            "594/594 [==============================] - 2s 4ms/step - loss: 0.5470 - accuracy: 0.7574 - val_loss: 0.6460 - val_accuracy: 0.7059 - lr: 4.0657e-04\n",
            "Epoch 20/50\n",
            "585/594 [============================>.] - ETA: 0s - loss: 0.5447 - accuracy: 0.7572\n",
            "Epoch 20: val_loss did not improve from 0.64331\n",
            "594/594 [==============================] - 3s 6ms/step - loss: 0.5445 - accuracy: 0.7579 - val_loss: 0.6490 - val_accuracy: 0.7045 - lr: 3.6788e-04\n",
            "Epoch 21/50\n",
            "584/594 [============================>.] - ETA: 0s - loss: 0.5383 - accuracy: 0.7679\n",
            "Epoch 21: val_loss did not improve from 0.64331\n",
            "594/594 [==============================] - 3s 4ms/step - loss: 0.5396 - accuracy: 0.7664 - val_loss: 0.6490 - val_accuracy: 0.7042 - lr: 3.3287e-04\n",
            "Epoch 22/50\n",
            "583/594 [============================>.] - ETA: 0s - loss: 0.5344 - accuracy: 0.7650\n",
            "Epoch 22: val_loss did not improve from 0.64331\n",
            "594/594 [==============================] - 3s 5ms/step - loss: 0.5354 - accuracy: 0.7645 - val_loss: 0.6561 - val_accuracy: 0.7038 - lr: 3.0119e-04\n",
            "Epoch 23/50\n",
            "574/594 [===========================>..] - ETA: 0s - loss: 0.5349 - accuracy: 0.7631\n",
            "Epoch 23: val_loss did not improve from 0.64331\n",
            "594/594 [==============================] - 3s 5ms/step - loss: 0.5349 - accuracy: 0.7635 - val_loss: 0.6537 - val_accuracy: 0.7009 - lr: 2.7253e-04\n",
            "Epoch 24/50\n",
            "591/594 [============================>.] - ETA: 0s - loss: 0.5307 - accuracy: 0.7642\n",
            "Epoch 24: val_loss did not improve from 0.64331\n",
            "594/594 [==============================] - 2s 4ms/step - loss: 0.5309 - accuracy: 0.7642 - val_loss: 0.6587 - val_accuracy: 0.7033 - lr: 2.4660e-04\n",
            "Epoch 25/50\n",
            "583/594 [============================>.] - ETA: 0s - loss: 0.5363 - accuracy: 0.7652\n",
            "Epoch 25: val_loss did not improve from 0.64331\n",
            "594/594 [==============================] - 3s 5ms/step - loss: 0.5358 - accuracy: 0.7655 - val_loss: 0.6532 - val_accuracy: 0.7049 - lr: 2.2313e-04\n",
            "Epoch 26/50\n",
            "584/594 [============================>.] - ETA: 0s - loss: 0.5270 - accuracy: 0.7620\n",
            "Epoch 26: val_loss did not improve from 0.64331\n",
            "594/594 [==============================] - 3s 6ms/step - loss: 0.5284 - accuracy: 0.7615 - val_loss: 0.6590 - val_accuracy: 0.7024 - lr: 2.0190e-04\n",
            "Epoch 27/50\n",
            "581/594 [============================>.] - ETA: 0s - loss: 0.5192 - accuracy: 0.7689\n",
            "Epoch 27: val_loss did not improve from 0.64331\n",
            "594/594 [==============================] - 2s 4ms/step - loss: 0.5196 - accuracy: 0.7685 - val_loss: 0.6662 - val_accuracy: 0.7028 - lr: 1.8268e-04\n",
            "Epoch 28/50\n",
            "584/594 [============================>.] - ETA: 0s - loss: 0.5290 - accuracy: 0.7642\n",
            "Epoch 28: val_loss did not improve from 0.64331\n",
            "594/594 [==============================] - 3s 5ms/step - loss: 0.5287 - accuracy: 0.7642 - val_loss: 0.6590 - val_accuracy: 0.7035 - lr: 1.6530e-04\n",
            "Epoch 29/50\n",
            "574/594 [===========================>..] - ETA: 0s - loss: 0.5203 - accuracy: 0.7684\n",
            "Epoch 29: val_loss did not improve from 0.64331\n",
            "594/594 [==============================] - 2s 4ms/step - loss: 0.5208 - accuracy: 0.7682 - val_loss: 0.6656 - val_accuracy: 0.7043 - lr: 1.4957e-04\n",
            "Epoch 30/50\n",
            "587/594 [============================>.] - ETA: 0s - loss: 0.5169 - accuracy: 0.7732\n",
            "Epoch 30: val_loss did not improve from 0.64331\n",
            "594/594 [==============================] - 3s 5ms/step - loss: 0.5162 - accuracy: 0.7736 - val_loss: 0.6665 - val_accuracy: 0.7031 - lr: 1.3534e-04\n",
            "Epoch 31/50\n",
            "581/594 [============================>.] - ETA: 0s - loss: 0.5175 - accuracy: 0.7754\n",
            "Epoch 31: val_loss did not improve from 0.64331\n",
            "594/594 [==============================] - 3s 5ms/step - loss: 0.5170 - accuracy: 0.7758 - val_loss: 0.6646 - val_accuracy: 0.7032 - lr: 1.2246e-04\n",
            "Epoch 32/50\n",
            "592/594 [============================>.] - ETA: 0s - loss: 0.5113 - accuracy: 0.7746\n",
            "Epoch 32: val_loss did not improve from 0.64331\n",
            "594/594 [==============================] - 3s 5ms/step - loss: 0.5111 - accuracy: 0.7745 - val_loss: 0.6657 - val_accuracy: 0.7033 - lr: 1.1080e-04\n",
            "Epoch 33/50\n",
            "580/594 [============================>.] - ETA: 0s - loss: 0.5164 - accuracy: 0.7721\n",
            "Epoch 33: val_loss did not improve from 0.64331\n",
            "594/594 [==============================] - 2s 4ms/step - loss: 0.5166 - accuracy: 0.7719 - val_loss: 0.6712 - val_accuracy: 0.7036 - lr: 1.0026e-04\n",
            "Epoch 34/50\n",
            "593/594 [============================>.] - ETA: 0s - loss: 0.5115 - accuracy: 0.7721\n",
            "Epoch 34: val_loss did not improve from 0.64331\n",
            "594/594 [==============================] - 3s 5ms/step - loss: 0.5120 - accuracy: 0.7721 - val_loss: 0.6680 - val_accuracy: 0.7032 - lr: 9.0718e-05\n",
            "Epoch 35/50\n",
            "585/594 [============================>.] - ETA: 0s - loss: 0.5090 - accuracy: 0.7779\n",
            "Epoch 35: val_loss did not improve from 0.64331\n",
            "594/594 [==============================] - 3s 5ms/step - loss: 0.5091 - accuracy: 0.7776 - val_loss: 0.6717 - val_accuracy: 0.7026 - lr: 8.2085e-05\n",
            "Epoch 36/50\n",
            "576/594 [============================>.] - ETA: 0s - loss: 0.5145 - accuracy: 0.7720\n",
            "Epoch 36: val_loss did not improve from 0.64331\n",
            "594/594 [==============================] - 3s 5ms/step - loss: 0.5148 - accuracy: 0.7721 - val_loss: 0.6697 - val_accuracy: 0.7033 - lr: 7.4274e-05\n",
            "Epoch 37/50\n",
            "579/594 [============================>.] - ETA: 0s - loss: 0.5043 - accuracy: 0.7805\n",
            "Epoch 37: val_loss did not improve from 0.64331\n",
            "594/594 [==============================] - 2s 4ms/step - loss: 0.5043 - accuracy: 0.7812 - val_loss: 0.6736 - val_accuracy: 0.7022 - lr: 6.7206e-05\n",
            "Epoch 38/50\n",
            "591/594 [============================>.] - ETA: 0s - loss: 0.5055 - accuracy: 0.7771\n",
            "Epoch 38: val_loss did not improve from 0.64331\n",
            "594/594 [==============================] - 2s 4ms/step - loss: 0.5051 - accuracy: 0.7772 - val_loss: 0.6706 - val_accuracy: 0.7036 - lr: 6.0810e-05\n",
            "Epoch 39/50\n",
            "581/594 [============================>.] - ETA: 0s - loss: 0.5030 - accuracy: 0.7788\n",
            "Epoch 39: val_loss did not improve from 0.64331\n",
            "594/594 [==============================] - 2s 4ms/step - loss: 0.5026 - accuracy: 0.7789 - val_loss: 0.6709 - val_accuracy: 0.7028 - lr: 5.5023e-05\n",
            "Epoch 40/50\n",
            "582/594 [============================>.] - ETA: 0s - loss: 0.5108 - accuracy: 0.7767\n",
            "Epoch 40: val_loss did not improve from 0.64331\n",
            "594/594 [==============================] - 3s 4ms/step - loss: 0.5097 - accuracy: 0.7776 - val_loss: 0.6716 - val_accuracy: 0.7028 - lr: 4.9787e-05\n",
            "Epoch 41/50\n",
            "587/594 [============================>.] - ETA: 0s - loss: 0.5028 - accuracy: 0.7806\n",
            "Epoch 41: val_loss did not improve from 0.64331\n",
            "594/594 [==============================] - 3s 6ms/step - loss: 0.5026 - accuracy: 0.7807 - val_loss: 0.6728 - val_accuracy: 0.7032 - lr: 4.5049e-05\n",
            "Epoch 42/50\n",
            "584/594 [============================>.] - ETA: 0s - loss: 0.5036 - accuracy: 0.7762\n",
            "Epoch 42: val_loss did not improve from 0.64331\n",
            "594/594 [==============================] - 2s 4ms/step - loss: 0.5048 - accuracy: 0.7754 - val_loss: 0.6776 - val_accuracy: 0.7034 - lr: 4.0762e-05\n",
            "Epoch 43/50\n",
            "580/594 [============================>.] - ETA: 0s - loss: 0.5010 - accuracy: 0.7797\n",
            "Epoch 43: val_loss did not improve from 0.64331\n",
            "594/594 [==============================] - 3s 4ms/step - loss: 0.5010 - accuracy: 0.7802 - val_loss: 0.6685 - val_accuracy: 0.7039 - lr: 3.6883e-05\n",
            "Epoch 44/50\n",
            "578/594 [============================>.] - ETA: 0s - loss: 0.5001 - accuracy: 0.7873\n",
            "Epoch 44: val_loss did not improve from 0.64331\n",
            "594/594 [==============================] - 3s 4ms/step - loss: 0.4991 - accuracy: 0.7880 - val_loss: 0.6742 - val_accuracy: 0.7031 - lr: 3.3373e-05\n",
            "Epoch 45/50\n",
            "575/594 [============================>.] - ETA: 0s - loss: 0.5002 - accuracy: 0.7774\n",
            "Epoch 45: val_loss did not improve from 0.64331\n",
            "594/594 [==============================] - 2s 4ms/step - loss: 0.4983 - accuracy: 0.7786 - val_loss: 0.6735 - val_accuracy: 0.7042 - lr: 3.0197e-05\n",
            "Epoch 46/50\n",
            "581/594 [============================>.] - ETA: 0s - loss: 0.4999 - accuracy: 0.7780\n",
            "Epoch 46: val_loss did not improve from 0.64331\n",
            "594/594 [==============================] - 4s 6ms/step - loss: 0.4999 - accuracy: 0.7778 - val_loss: 0.6737 - val_accuracy: 0.7023 - lr: 2.7324e-05\n",
            "Epoch 47/50\n",
            "593/594 [============================>.] - ETA: 0s - loss: 0.4948 - accuracy: 0.7807\n",
            "Epoch 47: val_loss did not improve from 0.64331\n",
            "594/594 [==============================] - 3s 5ms/step - loss: 0.4947 - accuracy: 0.7806 - val_loss: 0.6717 - val_accuracy: 0.7044 - lr: 2.4724e-05\n",
            "Epoch 48/50\n",
            "592/594 [============================>.] - ETA: 0s - loss: 0.5051 - accuracy: 0.7802\n",
            "Epoch 48: val_loss did not improve from 0.64331\n",
            "594/594 [==============================] - 3s 5ms/step - loss: 0.5052 - accuracy: 0.7801 - val_loss: 0.6769 - val_accuracy: 0.7026 - lr: 2.2371e-05\n",
            "Epoch 49/50\n",
            "581/594 [============================>.] - ETA: 0s - loss: 0.4985 - accuracy: 0.7839\n",
            "Epoch 49: val_loss did not improve from 0.64331\n",
            "594/594 [==============================] - 3s 5ms/step - loss: 0.4976 - accuracy: 0.7848 - val_loss: 0.6779 - val_accuracy: 0.7042 - lr: 2.0242e-05\n",
            "Epoch 50/50\n",
            "590/594 [============================>.] - ETA: 0s - loss: 0.4967 - accuracy: 0.7850\n",
            "Epoch 50: val_loss did not improve from 0.64331\n",
            "594/594 [==============================] - 3s 5ms/step - loss: 0.4961 - accuracy: 0.7852 - val_loss: 0.6786 - val_accuracy: 0.7031 - lr: 1.8316e-05\n"
          ]
        },
        {
          "output_type": "execute_result",
          "data": {
            "text/plain": [
              "<keras.src.callbacks.History at 0x7dd0e81ab370>"
            ]
          },
          "metadata": {},
          "execution_count": 29
        }
      ]
    },
    {
      "cell_type": "code",
      "source": [
        "# Load model with lowest validation loss\n",
        "best_model1 = tf.keras.models.load_model('best_model1.h5')"
      ],
      "metadata": {
        "id": "Hk6albQVjc1I"
      },
      "execution_count": null,
      "outputs": []
    },
    {
      "cell_type": "code",
      "source": [
        "# Test accuracy\n",
        "test_loss, test_acc = best_model1.evaluate(X_test, y_test)\n",
        "print(\"Test Accuracy:\", test_acc)"
      ],
      "metadata": {
        "colab": {
          "base_uri": "https://localhost:8080/"
        },
        "id": "LlY60Miujfzf",
        "outputId": "3e7cf4e9-f2e5-4489-81f7-79681fa1644a"
      },
      "execution_count": null,
      "outputs": [
        {
          "output_type": "stream",
          "name": "stdout",
          "text": [
            "297/297 [==============================] - 1s 2ms/step - loss: 0.6433 - accuracy: 0.7080\n",
            "Test Accuracy: 0.7080000042915344\n"
          ]
        }
      ]
    },
    {
      "cell_type": "code",
      "source": [
        "# Visualize training and validation loss during training process\n",
        "df_metrics = pd.read_csv('training_log1.csv')"
      ],
      "metadata": {
        "id": "LS6uENtukTWn"
      },
      "execution_count": null,
      "outputs": []
    },
    {
      "cell_type": "code",
      "source": [
        "plt.figure(figsize=(10,5))\n",
        "plt.plot(df_metrics['epoch'], df_metrics['accuracy'],\n",
        "         label='Training Accuracy', color='red')\n",
        "plt.plot(df_metrics['epoch'], df_metrics['val_accuracy'],\n",
        "         label='Validation Accuracy', color='blue')\n",
        "plt.title('Training and Validation Accuracy during Training Process')\n",
        "plt.xlabel('Epoch')\n",
        "plt.ylabel('Accuracy')\n",
        "plt.xticks(np.linspace(0, 50, 11).astype(int))\n",
        "plt.legend()\n",
        "plt.show()"
      ],
      "metadata": {
        "colab": {
          "base_uri": "https://localhost:8080/",
          "height": 487
        },
        "id": "F6ax-GIdoh7e",
        "outputId": "b55ffa05-27e7-4df6-fdd5-76bcd556c8e6"
      },
      "execution_count": null,
      "outputs": [
        {
          "output_type": "display_data",
          "data": {
            "text/plain": [
              "<Figure size 1000x500 with 1 Axes>"
            ],
            "image/png": "[encoded data removed]"
          },
          "metadata": {}
        }
      ]
    },
    {
      "cell_type": "markdown",
      "source": [
        "## Evaluate"
      ],
      "metadata": {
        "id": "Uxcxl07c62cP"
      }
    },
    {
      "cell_type": "code",
      "source": [
        "preds_proba_train = best_model1.predict(X_train).flatten()\n",
        "preds_train = (preds_proba_train > .5).astype(int)\n",
        "print(f'Training accuracy: {np.sum(preds_train == y_train)/len(y_train):.3f}')"
      ],
      "metadata": {
        "colab": {
          "base_uri": "https://localhost:8080/"
        },
        "id": "v6bd-fAY7BKb",
        "outputId": "ca9cf23b-8278-4a90-d8e6-ec4c93d8eec6"
      },
      "execution_count": null,
      "outputs": [
        {
          "output_type": "stream",
          "name": "stdout",
          "text": [
            "297/297 [==============================] - 1s 2ms/step\n",
            "Training accuracy: 0.780\n"
          ]
        }
      ]
    },
    {
      "cell_type": "code",
      "source": [
        "preds_proba_test = best_model1.predict(X_test).flatten()\n",
        "preds_test = (preds_proba_test > .5).astype(int)\n",
        "print(f'Test accuracy: {np.sum(preds_test == y_test)/len(y_test):.3f}')"
      ],
      "metadata": {
        "colab": {
          "base_uri": "https://localhost:8080/"
        },
        "id": "rVehmPfe-l57",
        "outputId": "a50614a1-ff9f-489a-a204-bb0d39fa6931"
      },
      "execution_count": null,
      "outputs": [
        {
          "output_type": "stream",
          "name": "stdout",
          "text": [
            "297/297 [==============================] - 0s 2ms/step\n",
            "Test accuracy: 0.708\n"
          ]
        }
      ]
    },
    {
      "cell_type": "code",
      "source": [
        "cmat = confusion_matrix(y_true=y_test, y_pred=preds_test)\n",
        "cmat_disp = ConfusionMatrixDisplay(cmat, display_labels=y_encoder.classes_)"
      ],
      "metadata": {
        "id": "OIJCq7QL_jCc"
      },
      "execution_count": null,
      "outputs": []
    },
    {
      "cell_type": "code",
      "source": [
        "plt.style.use('seaborn-v0_8-white')\n",
        "plt.rcParams['font.size'] = 13\n",
        "cmat_disp.plot();"
      ],
      "metadata": {
        "colab": {
          "base_uri": "https://localhost:8080/",
          "height": 451
        },
        "id": "jUo3r5pj_rT4",
        "outputId": "f1cbd289-b48f-4ab9-ec69-5eb2db87eb05"
      },
      "execution_count": null,
      "outputs": [
        {
          "output_type": "display_data",
          "data": {
            "text/plain": [
              "<Figure size 640x480 with 2 Axes>"
            ],
            "image/png": "[encoded data removed]"
          },
          "metadata": {}
        }
      ]
    },
    {
      "cell_type": "code",
      "source": [
        "# Additional metrics for performance on test data\n",
        "metrics = Metrics(cmat)\n",
        "print(f'Accuracy: {metrics.accuracy():.2%}')\n",
        "print(f'Sensitivity/Recall (TPR): {metrics.recall():.2%}')\n",
        "print(f'Specificity (TNR): {metrics.specificity():.2%}')\n",
        "print(f'Precision: {metrics.precision():.2%}')\n",
        "print(f'F1: {metrics.f1_score():.2f}')\n",
        "print(f'AUC: {roc_auc_score(y_test, preds_proba_test):.2f}')"
      ],
      "metadata": {
        "colab": {
          "base_uri": "https://localhost:8080/"
        },
        "id": "KVE0kFKd_zqQ",
        "outputId": "42a79be4-fc5a-4cee-d932-63a490ba565a"
      },
      "execution_count": null,
      "outputs": [
        {
          "output_type": "stream",
          "name": "stdout",
          "text": [
            "Accuracy: 70.80%\n",
            "Sensitivity/Recall (TPR): 65.50%\n",
            "Specificity (TNR): 75.10%\n",
            "Precision: 68.09%\n",
            "F1: 0.67\n",
            "AUC: 0.75\n"
          ]
        }
      ]
    },
    {
      "cell_type": "markdown",
      "source": [
        "# DV: VV_primary, excl. lag"
      ],
      "metadata": {
        "id": "yEI_JIER3pI3"
      }
    },
    {
      "cell_type": "code",
      "source": [
        "df_cces_2 = df_cces.drop(['VV_general', 'VV_general_lag', 'VV_primary_lag'], axis=1)"
      ],
      "metadata": {
        "id": "jF3Q63YC35ti"
      },
      "execution_count": null,
      "outputs": []
    },
    {
      "cell_type": "code",
      "source": [
        "df_train, df_test = split_cces(df_cces_2)"
      ],
      "metadata": {
        "id": "S1g1H28n4A-I"
      },
      "execution_count": null,
      "outputs": []
    },
    {
      "cell_type": "code",
      "source": [
        "# Number of samples per split\n",
        "print(f'# Training samples: {len(df_train)} \\\n",
        "        # Test samples: {len(df_test)}')"
      ],
      "metadata": {
        "colab": {
          "base_uri": "https://localhost:8080/"
        },
        "id": "Ne4o57y04Kx_",
        "outputId": "5ec21b0b-2cda-4507-e9da-2b2f3208a915"
      },
      "execution_count": null,
      "outputs": [
        {
          "output_type": "stream",
          "name": "stdout",
          "text": [
            "# Training samples: 9500         # Test samples: 9500\n"
          ]
        }
      ]
    },
    {
      "cell_type": "code",
      "source": [
        "X_train = df_train.drop('VV_primary', axis=1)\n",
        "y_train = df_train['VV_primary'].to_numpy()\n",
        "X_test = df_test.drop('VV_primary', axis=1)\n",
        "y_test = df_test['VV_primary'].to_numpy()"
      ],
      "metadata": {
        "id": "s91mFv0i4MNH"
      },
      "execution_count": null,
      "outputs": []
    },
    {
      "cell_type": "code",
      "source": [
        "# Encode targets\n",
        "y_encoder = LabelEncoder()\n",
        "\n",
        "y_train = y_encoder.fit_transform(y_train)\n",
        "y_test = y_encoder.transform(y_test)"
      ],
      "metadata": {
        "id": "8qnfffJq4XhG"
      },
      "execution_count": null,
      "outputs": []
    },
    {
      "cell_type": "code",
      "source": [
        "# Identify ordered categorical columns\n",
        "ordered_cat_cols = [col for col in X_train.columns if pd.api.types.is_categorical_dtype(df_cces[col]) and df_cces[col].cat.ordered]\n",
        "# Identify unordered cateforical columns\n",
        "unordered_cat_cols = [col for col in X_train.columns if pd.api.types.is_categorical_dtype(df_cces[col]) and not df_cces[col].cat.ordered]\n",
        "# Define dictionary for category order\n",
        "category_order = {col: list(X_train[col].cat.categories) for col in ordered_cat_cols}"
      ],
      "metadata": {
        "id": "J_tVV2Hx4da8"
      },
      "execution_count": null,
      "outputs": []
    },
    {
      "cell_type": "code",
      "source": [
        "# One-hot encode only unordered categorical columns\n",
        "col_trans = ColumnTransformer(\n",
        "    [(col,\n",
        "      OneHotEncoder(drop='first',\n",
        "                    sparse_output=False,\n",
        "                    handle_unknown='ignore'),\n",
        "     [col]) for col in unordered_cat_cols] +\n",
        "    [(col,\n",
        "      OrdinalEncoder(categories=[category_order[col]],\n",
        "                     handle_unknown='use_encoded_value',\n",
        "                     unknown_value=np.nan),\n",
        "      [col]) for col in ordered_cat_cols],\n",
        "    remainder='passthrough'\n",
        ")\n",
        "\n",
        "# Impute missing values\n",
        "knn_imputer = KNNImputer(missing_values=np.nan,\n",
        "                         n_neighbors=13,\n",
        "                         weights='distance')\n",
        "\n",
        "# Scaling\n",
        "scaler = StandardScaler(with_mean=True,\n",
        "                        with_std=True)"
      ],
      "metadata": {
        "id": "hubI8RNp4jK7"
      },
      "execution_count": null,
      "outputs": []
    },
    {
      "cell_type": "code",
      "source": [
        "# Define pipeline\n",
        "pipe = Pipeline(steps=[('col_trans', col_trans),\n",
        "                       ('knn_imputer', knn_imputer),\n",
        "                       ('scaler', scaler)]).set_output(transform='pandas')"
      ],
      "metadata": {
        "id": "bqHo-Skp4mel"
      },
      "execution_count": null,
      "outputs": []
    },
    {
      "cell_type": "code",
      "source": [
        "# Fit and apply pipe to training features\n",
        "X_train = pipe.fit_transform(X_train)\n",
        "# Apply pipe to validation and test features\n",
        "X_test = pipe.transform(X_test)"
      ],
      "metadata": {
        "colab": {
          "base_uri": "https://localhost:8080/"
        },
        "id": "nuEF909S4ptZ",
        "outputId": "bf8eccb8-6045-474d-9eba-73acf35b7e74"
      },
      "execution_count": null,
      "outputs": [
        {
          "output_type": "stream",
          "name": "stderr",
          "text": [
            "/usr/local/lib/python3.10/dist-packages/sklearn/preprocessing/_encoders.py:202: UserWarning: Found unknown categories in columns [0] during transform. These unknown categories will be encoded as all zeros\n",
            "  warnings.warn(\n",
            "/usr/local/lib/python3.10/dist-packages/sklearn/preprocessing/_encoders.py:202: UserWarning: Found unknown categories in columns [0] during transform. These unknown categories will be encoded as all zeros\n",
            "  warnings.warn(\n"
          ]
        }
      ]
    },
    {
      "cell_type": "code",
      "source": [
        "# Check shape\n",
        "X_train.shape[1] # 217 features"
      ],
      "metadata": {
        "colab": {
          "base_uri": "https://localhost:8080/"
        },
        "id": "7Y0338oH4tMl",
        "outputId": "788d1ef3-c826-484f-b736-0ef7e0b79bd2"
      },
      "execution_count": null,
      "outputs": [
        {
          "output_type": "execute_result",
          "data": {
            "text/plain": [
              "217"
            ]
          },
          "metadata": {},
          "execution_count": 48
        }
      ]
    },
    {
      "cell_type": "markdown",
      "source": [
        "## Fit"
      ],
      "metadata": {
        "id": "QXf2Fmb9446y"
      }
    },
    {
      "cell_type": "code",
      "source": [
        "# Set global seed\n",
        "seed = 42\n",
        "os.environ['PYTHONHASHSEED'] = str(seed)\n",
        "random.seed(seed)\n",
        "np.random.seed(seed)\n",
        "tf.random.set_seed(seed)"
      ],
      "metadata": {
        "id": "8JI5jOjW40F_"
      },
      "execution_count": null,
      "outputs": []
    },
    {
      "cell_type": "code",
      "source": [
        "# Define model architecture\n",
        "model2 = Sequential([\n",
        "    Dense(32, input_shape=(X_train.shape[1],),\n",
        "          kernel_initializer='he_normal',\n",
        "          kernel_regularizer=regularizers.l2(0.005)),\n",
        "    BatchNormalization(),\n",
        "    Activation('relu'),\n",
        "    Dropout(0.5),\n",
        "    Dense(16, kernel_initializer='he_normal',\n",
        "          kernel_regularizer=regularizers.l2(0.005)),\n",
        "    BatchNormalization(),\n",
        "    Activation('relu'),\n",
        "    Dropout(0.5),\n",
        "    Dense(1),\n",
        "    Activation('sigmoid')\n",
        "])"
      ],
      "metadata": {
        "id": "erdkNfsR47Ms"
      },
      "execution_count": null,
      "outputs": []
    },
    {
      "cell_type": "code",
      "source": [
        "model2.summary()"
      ],
      "metadata": {
        "colab": {
          "base_uri": "https://localhost:8080/"
        },
        "id": "Tvpg3ru65Qhe",
        "outputId": "3be54f3e-e652-4379-96db-b0c5cb4940d7"
      },
      "execution_count": null,
      "outputs": [
        {
          "output_type": "stream",
          "name": "stdout",
          "text": [
            "Model: \"sequential_1\"\n",
            "_________________________________________________________________\n",
            " Layer (type)                Output Shape              Param #   \n",
            "=================================================================\n",
            " dense_3 (Dense)             (None, 32)                6976      \n",
            "                                                                 \n",
            " batch_normalization_2 (Bat  (None, 32)                128       \n",
            " chNormalization)                                                \n",
            "                                                                 \n",
            " activation_3 (Activation)   (None, 32)                0         \n",
            "                                                                 \n",
            " dropout_2 (Dropout)         (None, 32)                0         \n",
            "                                                                 \n",
            " dense_4 (Dense)             (None, 16)                528       \n",
            "                                                                 \n",
            " batch_normalization_3 (Bat  (None, 16)                64        \n",
            " chNormalization)                                                \n",
            "                                                                 \n",
            " activation_4 (Activation)   (None, 16)                0         \n",
            "                                                                 \n",
            " dropout_3 (Dropout)         (None, 16)                0         \n",
            "                                                                 \n",
            " dense_5 (Dense)             (None, 1)                 17        \n",
            "                                                                 \n",
            " activation_5 (Activation)   (None, 1)                 0         \n",
            "                                                                 \n",
            "=================================================================\n",
            "Total params: 7713 (30.13 KB)\n",
            "Trainable params: 7617 (29.75 KB)\n",
            "Non-trainable params: 96 (384.00 Byte)\n",
            "_________________________________________________________________\n"
          ]
        }
      ]
    },
    {
      "cell_type": "code",
      "source": [
        "# Set learning rate, loss and metric\n",
        "model2.compile(optimizer=Adam(learning_rate=0.001),\n",
        "              loss='binary_crossentropy',\n",
        "              metrics=['accuracy'])"
      ],
      "metadata": {
        "id": "prJ6UcVr5X9D"
      },
      "execution_count": null,
      "outputs": []
    },
    {
      "cell_type": "code",
      "source": [
        "# Set checkpoint, logger, early stopping, and learning rate scheduler\n",
        "checkpoint = ModelCheckpoint('best_model2.h5',\n",
        "                             save_best_only=True,\n",
        "                             monitor='val_loss',\n",
        "                             mode='min',\n",
        "                             verbose=1)\n",
        "\n",
        "csv_logger = CSVLogger('training_log2.csv', append=False)\n",
        "\n",
        "def scheduler(epoch, lr):\n",
        "  if epoch < 10:\n",
        "    return lr\n",
        "  else:\n",
        "    return lr * np.exp(-0.1)\n",
        "\n",
        "lr_scheduler = LearningRateScheduler(scheduler)"
      ],
      "metadata": {
        "id": "qhi7k7II5dIh"
      },
      "execution_count": null,
      "outputs": []
    },
    {
      "cell_type": "code",
      "source": [
        "model2.fit(X_train,\n",
        "           y_train,\n",
        "           epochs=50,\n",
        "           batch_size=32,\n",
        "           validation_data=(X_test, y_test),\n",
        "           callbacks=[checkpoint, csv_logger, lr_scheduler])"
      ],
      "metadata": {
        "colab": {
          "base_uri": "https://localhost:8080/"
        },
        "id": "AtEqbJGK5f_Y",
        "outputId": "80e89774-4428-4aea-e2c7-8128e444ba8b"
      },
      "execution_count": null,
      "outputs": [
        {
          "output_type": "stream",
          "name": "stdout",
          "text": [
            "Epoch 1/50\n",
            "293/297 [============================>.] - ETA: 0s - loss: 1.0953 - accuracy: 0.5675\n",
            "Epoch 1: val_loss improved from inf to 0.92211, saving model to best_model2.h5\n",
            "297/297 [==============================] - 3s 5ms/step - loss: 1.0941 - accuracy: 0.5669 - val_loss: 0.9221 - val_accuracy: 0.6242 - lr: 0.0010\n",
            "Epoch 2/50\n",
            " 60/297 [=====>........................] - ETA: 0s - loss: 0.9165 - accuracy: 0.6318"
          ]
        },
        {
          "output_type": "stream",
          "name": "stderr",
          "text": [
            "/usr/local/lib/python3.10/dist-packages/keras/src/engine/training.py:3103: UserWarning: You are saving your model as an HDF5 file via `model.save()`. This file format is considered legacy. We recommend using instead the native Keras format, e.g. `model.save('my_model.keras')`.\n",
            "  saving_api.save_model(\n"
          ]
        },
        {
          "output_type": "stream",
          "name": "stdout",
          "text": [
            "290/297 [============================>.] - ETA: 0s - loss: 0.8755 - accuracy: 0.6290\n",
            "Epoch 2: val_loss improved from 0.92211 to 0.80821, saving model to best_model2.h5\n",
            "297/297 [==============================] - 1s 4ms/step - loss: 0.8743 - accuracy: 0.6284 - val_loss: 0.8082 - val_accuracy: 0.6496 - lr: 0.0010\n",
            "Epoch 3/50\n",
            "287/297 [===========================>..] - ETA: 0s - loss: 0.7636 - accuracy: 0.6588\n",
            "Epoch 3: val_loss improved from 0.80821 to 0.74299, saving model to best_model2.h5\n",
            "297/297 [==============================] - 2s 6ms/step - loss: 0.7631 - accuracy: 0.6585 - val_loss: 0.7430 - val_accuracy: 0.6512 - lr: 0.0010\n",
            "Epoch 4/50\n",
            "291/297 [============================>.] - ETA: 0s - loss: 0.6939 - accuracy: 0.6813\n",
            "Epoch 4: val_loss improved from 0.74299 to 0.70829, saving model to best_model2.h5\n",
            "297/297 [==============================] - 3s 9ms/step - loss: 0.6945 - accuracy: 0.6799 - val_loss: 0.7083 - val_accuracy: 0.6582 - lr: 0.0010\n",
            "Epoch 5/50\n",
            "288/297 [============================>.] - ETA: 0s - loss: 0.6564 - accuracy: 0.6885\n",
            "Epoch 5: val_loss improved from 0.70829 to 0.69037, saving model to best_model2.h5\n",
            "297/297 [==============================] - 1s 4ms/step - loss: 0.6560 - accuracy: 0.6888 - val_loss: 0.6904 - val_accuracy: 0.6620 - lr: 0.0010\n",
            "Epoch 6/50\n",
            "287/297 [===========================>..] - ETA: 0s - loss: 0.6323 - accuracy: 0.7030\n",
            "Epoch 6: val_loss improved from 0.69037 to 0.67560, saving model to best_model2.h5\n",
            "297/297 [==============================] - 1s 4ms/step - loss: 0.6324 - accuracy: 0.7018 - val_loss: 0.6756 - val_accuracy: 0.6592 - lr: 0.0010\n",
            "Epoch 7/50\n",
            "287/297 [===========================>..] - ETA: 0s - loss: 0.6183 - accuracy: 0.7002\n",
            "Epoch 7: val_loss improved from 0.67560 to 0.67279, saving model to best_model2.h5\n",
            "297/297 [==============================] - 1s 4ms/step - loss: 0.6189 - accuracy: 0.6992 - val_loss: 0.6728 - val_accuracy: 0.6645 - lr: 0.0010\n",
            "Epoch 8/50\n",
            "294/297 [============================>.] - ETA: 0s - loss: 0.6128 - accuracy: 0.7064\n",
            "Epoch 8: val_loss did not improve from 0.67279\n",
            "297/297 [==============================] - 1s 5ms/step - loss: 0.6125 - accuracy: 0.7062 - val_loss: 0.6728 - val_accuracy: 0.6605 - lr: 0.0010\n",
            "Epoch 9/50\n",
            "284/297 [===========================>..] - ETA: 0s - loss: 0.6029 - accuracy: 0.7104\n",
            "Epoch 9: val_loss improved from 0.67279 to 0.66903, saving model to best_model2.h5\n",
            "297/297 [==============================] - 1s 4ms/step - loss: 0.6043 - accuracy: 0.7094 - val_loss: 0.6690 - val_accuracy: 0.6613 - lr: 0.0010\n",
            "Epoch 10/50\n",
            "291/297 [============================>.] - ETA: 0s - loss: 0.6056 - accuracy: 0.7095\n",
            "Epoch 10: val_loss improved from 0.66903 to 0.66230, saving model to best_model2.h5\n",
            "297/297 [==============================] - 1s 5ms/step - loss: 0.6060 - accuracy: 0.7093 - val_loss: 0.6623 - val_accuracy: 0.6625 - lr: 0.0010\n",
            "Epoch 11/50\n",
            "295/297 [============================>.] - ETA: 0s - loss: 0.5981 - accuracy: 0.7081\n",
            "Epoch 11: val_loss improved from 0.66230 to 0.66159, saving model to best_model2.h5\n",
            "297/297 [==============================] - 1s 4ms/step - loss: 0.5977 - accuracy: 0.7082 - val_loss: 0.6616 - val_accuracy: 0.6662 - lr: 9.0484e-04\n",
            "Epoch 12/50\n",
            "290/297 [============================>.] - ETA: 0s - loss: 0.5902 - accuracy: 0.7202\n",
            "Epoch 12: val_loss did not improve from 0.66159\n",
            "297/297 [==============================] - 2s 6ms/step - loss: 0.5906 - accuracy: 0.7200 - val_loss: 0.6674 - val_accuracy: 0.6632 - lr: 8.1873e-04\n",
            "Epoch 13/50\n",
            "290/297 [============================>.] - ETA: 0s - loss: 0.5901 - accuracy: 0.7137\n",
            "Epoch 13: val_loss improved from 0.66159 to 0.65852, saving model to best_model2.h5\n",
            "297/297 [==============================] - 2s 7ms/step - loss: 0.5900 - accuracy: 0.7135 - val_loss: 0.6585 - val_accuracy: 0.6658 - lr: 7.4082e-04\n",
            "Epoch 14/50\n",
            "290/297 [============================>.] - ETA: 0s - loss: 0.5867 - accuracy: 0.7141\n",
            "Epoch 14: val_loss improved from 0.65852 to 0.65714, saving model to best_model2.h5\n",
            "297/297 [==============================] - 1s 5ms/step - loss: 0.5867 - accuracy: 0.7134 - val_loss: 0.6571 - val_accuracy: 0.6669 - lr: 6.7032e-04\n",
            "Epoch 15/50\n",
            "285/297 [===========================>..] - ETA: 0s - loss: 0.5826 - accuracy: 0.7205\n",
            "Epoch 15: val_loss did not improve from 0.65714\n",
            "297/297 [==============================] - 1s 5ms/step - loss: 0.5833 - accuracy: 0.7198 - val_loss: 0.6606 - val_accuracy: 0.6624 - lr: 6.0653e-04\n",
            "Epoch 16/50\n",
            "296/297 [============================>.] - ETA: 0s - loss: 0.5809 - accuracy: 0.7183\n",
            "Epoch 16: val_loss did not improve from 0.65714\n",
            "297/297 [==============================] - 1s 5ms/step - loss: 0.5806 - accuracy: 0.7188 - val_loss: 0.6634 - val_accuracy: 0.6629 - lr: 5.4881e-04\n",
            "Epoch 17/50\n",
            "277/297 [==========================>...] - ETA: 0s - loss: 0.5785 - accuracy: 0.7254\n",
            "Epoch 17: val_loss improved from 0.65714 to 0.65697, saving model to best_model2.h5\n",
            "297/297 [==============================] - 1s 4ms/step - loss: 0.5800 - accuracy: 0.7236 - val_loss: 0.6570 - val_accuracy: 0.6655 - lr: 4.9659e-04\n",
            "Epoch 18/50\n",
            "294/297 [============================>.] - ETA: 0s - loss: 0.5722 - accuracy: 0.7267\n",
            "Epoch 18: val_loss did not improve from 0.65697\n",
            "297/297 [==============================] - 1s 5ms/step - loss: 0.5728 - accuracy: 0.7257 - val_loss: 0.6594 - val_accuracy: 0.6661 - lr: 4.4933e-04\n",
            "Epoch 19/50\n",
            "297/297 [==============================] - ETA: 0s - loss: 0.5678 - accuracy: 0.7262\n",
            "Epoch 19: val_loss improved from 0.65697 to 0.65607, saving model to best_model2.h5\n",
            "297/297 [==============================] - 1s 4ms/step - loss: 0.5678 - accuracy: 0.7262 - val_loss: 0.6561 - val_accuracy: 0.6674 - lr: 4.0657e-04\n",
            "Epoch 20/50\n",
            "288/297 [============================>.] - ETA: 0s - loss: 0.5721 - accuracy: 0.7278\n",
            "Epoch 20: val_loss did not improve from 0.65607\n",
            "297/297 [==============================] - 1s 5ms/step - loss: 0.5703 - accuracy: 0.7291 - val_loss: 0.6590 - val_accuracy: 0.6621 - lr: 3.6788e-04\n",
            "Epoch 21/50\n",
            "291/297 [============================>.] - ETA: 0s - loss: 0.5640 - accuracy: 0.7303\n",
            "Epoch 21: val_loss did not improve from 0.65607\n",
            "297/297 [==============================] - 2s 6ms/step - loss: 0.5647 - accuracy: 0.7301 - val_loss: 0.6603 - val_accuracy: 0.6615 - lr: 3.3287e-04\n",
            "Epoch 22/50\n",
            "290/297 [============================>.] - ETA: 0s - loss: 0.5581 - accuracy: 0.7335\n",
            "Epoch 22: val_loss did not improve from 0.65607\n",
            "297/297 [==============================] - 2s 6ms/step - loss: 0.5585 - accuracy: 0.7336 - val_loss: 0.6611 - val_accuracy: 0.6640 - lr: 3.0119e-04\n",
            "Epoch 23/50\n",
            "290/297 [============================>.] - ETA: 0s - loss: 0.5529 - accuracy: 0.7312\n",
            "Epoch 23: val_loss did not improve from 0.65607\n",
            "297/297 [==============================] - 1s 5ms/step - loss: 0.5524 - accuracy: 0.7327 - val_loss: 0.6645 - val_accuracy: 0.6662 - lr: 2.7253e-04\n",
            "Epoch 24/50\n",
            "286/297 [===========================>..] - ETA: 0s - loss: 0.5556 - accuracy: 0.7296\n",
            "Epoch 24: val_loss did not improve from 0.65607\n",
            "297/297 [==============================] - 1s 4ms/step - loss: 0.5556 - accuracy: 0.7308 - val_loss: 0.6632 - val_accuracy: 0.6667 - lr: 2.4660e-04\n",
            "Epoch 25/50\n",
            "290/297 [============================>.] - ETA: 0s - loss: 0.5562 - accuracy: 0.7322\n",
            "Epoch 25: val_loss did not improve from 0.65607\n",
            "297/297 [==============================] - 1s 5ms/step - loss: 0.5552 - accuracy: 0.7331 - val_loss: 0.6621 - val_accuracy: 0.6653 - lr: 2.2313e-04\n",
            "Epoch 26/50\n",
            "297/297 [==============================] - ETA: 0s - loss: 0.5518 - accuracy: 0.7376\n",
            "Epoch 26: val_loss did not improve from 0.65607\n",
            "297/297 [==============================] - 1s 5ms/step - loss: 0.5518 - accuracy: 0.7376 - val_loss: 0.6642 - val_accuracy: 0.6657 - lr: 2.0190e-04\n",
            "Epoch 27/50\n",
            "295/297 [============================>.] - ETA: 0s - loss: 0.5480 - accuracy: 0.7423\n",
            "Epoch 27: val_loss did not improve from 0.65607\n",
            "297/297 [==============================] - 1s 4ms/step - loss: 0.5480 - accuracy: 0.7424 - val_loss: 0.6679 - val_accuracy: 0.6648 - lr: 1.8268e-04\n",
            "Epoch 28/50\n",
            "295/297 [============================>.] - ETA: 0s - loss: 0.5492 - accuracy: 0.7390\n",
            "Epoch 28: val_loss did not improve from 0.65607\n",
            "297/297 [==============================] - 1s 4ms/step - loss: 0.5490 - accuracy: 0.7392 - val_loss: 0.6640 - val_accuracy: 0.6648 - lr: 1.6530e-04\n",
            "Epoch 29/50\n",
            "294/297 [============================>.] - ETA: 0s - loss: 0.5394 - accuracy: 0.7469\n",
            "Epoch 29: val_loss did not improve from 0.65607\n",
            "297/297 [==============================] - 1s 4ms/step - loss: 0.5389 - accuracy: 0.7474 - val_loss: 0.6660 - val_accuracy: 0.6666 - lr: 1.4957e-04\n",
            "Epoch 30/50\n",
            "288/297 [============================>.] - ETA: 0s - loss: 0.5452 - accuracy: 0.7425\n",
            "Epoch 30: val_loss did not improve from 0.65607\n",
            "297/297 [==============================] - 2s 6ms/step - loss: 0.5441 - accuracy: 0.7436 - val_loss: 0.6646 - val_accuracy: 0.6665 - lr: 1.3534e-04\n",
            "Epoch 31/50\n",
            "286/297 [===========================>..] - ETA: 0s - loss: 0.5378 - accuracy: 0.7477\n",
            "Epoch 31: val_loss did not improve from 0.65607\n",
            "297/297 [==============================] - 2s 7ms/step - loss: 0.5366 - accuracy: 0.7483 - val_loss: 0.6660 - val_accuracy: 0.6674 - lr: 1.2246e-04\n",
            "Epoch 32/50\n",
            "296/297 [============================>.] - ETA: 0s - loss: 0.5363 - accuracy: 0.7527\n",
            "Epoch 32: val_loss did not improve from 0.65607\n",
            "297/297 [==============================] - 1s 5ms/step - loss: 0.5360 - accuracy: 0.7528 - val_loss: 0.6674 - val_accuracy: 0.6689 - lr: 1.1080e-04\n",
            "Epoch 33/50\n",
            "291/297 [============================>.] - ETA: 0s - loss: 0.5394 - accuracy: 0.7443\n",
            "Epoch 33: val_loss did not improve from 0.65607\n",
            "297/297 [==============================] - 1s 5ms/step - loss: 0.5386 - accuracy: 0.7443 - val_loss: 0.6701 - val_accuracy: 0.6678 - lr: 1.0026e-04\n",
            "Epoch 34/50\n",
            "278/297 [===========================>..] - ETA: 0s - loss: 0.5408 - accuracy: 0.7466\n",
            "Epoch 34: val_loss did not improve from 0.65607\n",
            "297/297 [==============================] - 1s 4ms/step - loss: 0.5422 - accuracy: 0.7466 - val_loss: 0.6653 - val_accuracy: 0.6678 - lr: 9.0718e-05\n",
            "Epoch 35/50\n",
            "294/297 [============================>.] - ETA: 0s - loss: 0.5296 - accuracy: 0.7531\n",
            "Epoch 35: val_loss did not improve from 0.65607\n",
            "297/297 [==============================] - 1s 4ms/step - loss: 0.5292 - accuracy: 0.7534 - val_loss: 0.6681 - val_accuracy: 0.6678 - lr: 8.2085e-05\n",
            "Epoch 36/50\n",
            "281/297 [===========================>..] - ETA: 0s - loss: 0.5288 - accuracy: 0.7479\n",
            "Epoch 36: val_loss did not improve from 0.65607\n",
            "297/297 [==============================] - 1s 4ms/step - loss: 0.5292 - accuracy: 0.7484 - val_loss: 0.6687 - val_accuracy: 0.6679 - lr: 7.4274e-05\n",
            "Epoch 37/50\n",
            "295/297 [============================>.] - ETA: 0s - loss: 0.5293 - accuracy: 0.7534\n",
            "Epoch 37: val_loss did not improve from 0.65607\n",
            "297/297 [==============================] - 1s 5ms/step - loss: 0.5288 - accuracy: 0.7539 - val_loss: 0.6691 - val_accuracy: 0.6672 - lr: 6.7206e-05\n",
            "Epoch 38/50\n",
            "295/297 [============================>.] - ETA: 0s - loss: 0.5316 - accuracy: 0.7524\n",
            "Epoch 38: val_loss did not improve from 0.65607\n",
            "297/297 [==============================] - 1s 5ms/step - loss: 0.5313 - accuracy: 0.7526 - val_loss: 0.6665 - val_accuracy: 0.6669 - lr: 6.0810e-05\n",
            "Epoch 39/50\n",
            "288/297 [============================>.] - ETA: 0s - loss: 0.5306 - accuracy: 0.7471\n",
            "Epoch 39: val_loss did not improve from 0.65607\n",
            "297/297 [==============================] - 2s 6ms/step - loss: 0.5299 - accuracy: 0.7476 - val_loss: 0.6670 - val_accuracy: 0.6672 - lr: 5.5023e-05\n",
            "Epoch 40/50\n",
            "288/297 [============================>.] - ETA: 0s - loss: 0.5340 - accuracy: 0.7500\n",
            "Epoch 40: val_loss did not improve from 0.65607\n",
            "297/297 [==============================] - 3s 8ms/step - loss: 0.5322 - accuracy: 0.7513 - val_loss: 0.6685 - val_accuracy: 0.6668 - lr: 4.9787e-05\n",
            "Epoch 41/50\n",
            "285/297 [===========================>..] - ETA: 0s - loss: 0.5326 - accuracy: 0.7508\n",
            "Epoch 41: val_loss did not improve from 0.65607\n",
            "297/297 [==============================] - 2s 5ms/step - loss: 0.5336 - accuracy: 0.7509 - val_loss: 0.6696 - val_accuracy: 0.6665 - lr: 4.5049e-05\n",
            "Epoch 42/50\n",
            "284/297 [===========================>..] - ETA: 0s - loss: 0.5294 - accuracy: 0.7533\n",
            "Epoch 42: val_loss did not improve from 0.65607\n",
            "297/297 [==============================] - 1s 5ms/step - loss: 0.5303 - accuracy: 0.7533 - val_loss: 0.6689 - val_accuracy: 0.6674 - lr: 4.0762e-05\n",
            "Epoch 43/50\n",
            "296/297 [============================>.] - ETA: 0s - loss: 0.5235 - accuracy: 0.7531\n",
            "Epoch 43: val_loss did not improve from 0.65607\n",
            "297/297 [==============================] - 1s 4ms/step - loss: 0.5240 - accuracy: 0.7527 - val_loss: 0.6672 - val_accuracy: 0.6663 - lr: 3.6883e-05\n",
            "Epoch 44/50\n",
            "281/297 [===========================>..] - ETA: 0s - loss: 0.5245 - accuracy: 0.7554\n",
            "Epoch 44: val_loss did not improve from 0.65607\n",
            "297/297 [==============================] - 1s 5ms/step - loss: 0.5255 - accuracy: 0.7540 - val_loss: 0.6697 - val_accuracy: 0.6669 - lr: 3.3373e-05\n",
            "Epoch 45/50\n",
            "282/297 [===========================>..] - ETA: 0s - loss: 0.5305 - accuracy: 0.7535\n",
            "Epoch 45: val_loss did not improve from 0.65607\n",
            "297/297 [==============================] - 1s 5ms/step - loss: 0.5295 - accuracy: 0.7542 - val_loss: 0.6694 - val_accuracy: 0.6673 - lr: 3.0197e-05\n",
            "Epoch 46/50\n",
            "278/297 [===========================>..] - ETA: 0s - loss: 0.5298 - accuracy: 0.7542\n",
            "Epoch 46: val_loss did not improve from 0.65607\n",
            "297/297 [==============================] - 1s 4ms/step - loss: 0.5284 - accuracy: 0.7543 - val_loss: 0.6684 - val_accuracy: 0.6664 - lr: 2.7324e-05\n",
            "Epoch 47/50\n",
            "280/297 [===========================>..] - ETA: 0s - loss: 0.5225 - accuracy: 0.7555\n",
            "Epoch 47: val_loss did not improve from 0.65607\n",
            "297/297 [==============================] - 1s 5ms/step - loss: 0.5210 - accuracy: 0.7566 - val_loss: 0.6686 - val_accuracy: 0.6661 - lr: 2.4724e-05\n",
            "Epoch 48/50\n",
            "294/297 [============================>.] - ETA: 0s - loss: 0.5205 - accuracy: 0.7620\n",
            "Epoch 48: val_loss did not improve from 0.65607\n",
            "297/297 [==============================] - 3s 9ms/step - loss: 0.5207 - accuracy: 0.7622 - val_loss: 0.6719 - val_accuracy: 0.6665 - lr: 2.2371e-05\n",
            "Epoch 49/50\n",
            "294/297 [============================>.] - ETA: 0s - loss: 0.5248 - accuracy: 0.7553\n",
            "Epoch 49: val_loss did not improve from 0.65607\n",
            "297/297 [==============================] - 1s 5ms/step - loss: 0.5246 - accuracy: 0.7554 - val_loss: 0.6738 - val_accuracy: 0.6666 - lr: 2.0242e-05\n",
            "Epoch 50/50\n",
            "293/297 [============================>.] - ETA: 0s - loss: 0.5250 - accuracy: 0.7585\n",
            "Epoch 50: val_loss did not improve from 0.65607\n",
            "297/297 [==============================] - 1s 5ms/step - loss: 0.5241 - accuracy: 0.7593 - val_loss: 0.6710 - val_accuracy: 0.6672 - lr: 1.8316e-05\n"
          ]
        },
        {
          "output_type": "execute_result",
          "data": {
            "text/plain": [
              "<keras.src.callbacks.History at 0x7dd0e228d690>"
            ]
          },
          "metadata": {},
          "execution_count": 54
        }
      ]
    },
    {
      "cell_type": "code",
      "source": [
        "# Load model with lowest validation loss\n",
        "best_model2 = tf.keras.models.load_model('best_model2.h5')"
      ],
      "metadata": {
        "id": "bMHHrnLV5w5m"
      },
      "execution_count": null,
      "outputs": []
    },
    {
      "cell_type": "code",
      "source": [
        "# Test accuracy\n",
        "test_loss, test_acc = best_model2.evaluate(X_test, y_test)\n",
        "print(\"Test Accuracy:\", test_acc)"
      ],
      "metadata": {
        "colab": {
          "base_uri": "https://localhost:8080/"
        },
        "id": "IOjvXt0o5yyQ",
        "outputId": "fa361b6f-9aac-447f-ece4-46362a851bc4"
      },
      "execution_count": null,
      "outputs": [
        {
          "output_type": "stream",
          "name": "stdout",
          "text": [
            "297/297 [==============================] - 1s 2ms/step - loss: 0.6561 - accuracy: 0.6674\n",
            "Test Accuracy: 0.6673684120178223\n"
          ]
        }
      ]
    },
    {
      "cell_type": "code",
      "source": [
        "# Visualize training and validation loss during training process\n",
        "df_metrics = pd.read_csv('training_log2.csv')"
      ],
      "metadata": {
        "id": "X8wjyKYU6GQm"
      },
      "execution_count": null,
      "outputs": []
    },
    {
      "cell_type": "code",
      "source": [
        "plt.figure(figsize=(10,5))\n",
        "plt.plot(df_metrics['epoch'], df_metrics['accuracy'],\n",
        "         label='Training Accuracy', color='red')\n",
        "plt.plot(df_metrics['epoch'], df_metrics['val_accuracy'],\n",
        "         label='Validation Accuracy', color='blue')\n",
        "plt.title('Training and Validation Accuracy during Training Process')\n",
        "plt.xlabel('Epoch')\n",
        "plt.ylabel('Accuracy')\n",
        "plt.xticks(np.linspace(0, 50, 11).astype(int))\n",
        "plt.legend()\n",
        "plt.show()"
      ],
      "metadata": {
        "colab": {
          "base_uri": "https://localhost:8080/",
          "height": 490
        },
        "id": "JrNZw8aE6J_J",
        "outputId": "437afce5-b475-47c3-94c8-47366020a6c7"
      },
      "execution_count": null,
      "outputs": [
        {
          "output_type": "display_data",
          "data": {
            "text/plain": [
              "<Figure size 1000x500 with 1 Axes>"
            ],
            "image/png": "[encoded data removed]"
          },
          "metadata": {}
        }
      ]
    },
    {
      "cell_type": "markdown",
      "source": [
        "## Evaluate"
      ],
      "metadata": {
        "id": "cDklqTbM61wu"
      }
    },
    {
      "cell_type": "code",
      "source": [
        "preds_proba_train = best_model2.predict(X_train).flatten()\n",
        "preds_train = (preds_proba_train > .5).astype(int)\n",
        "print(f'Training accuracy: {np.sum(preds_train == y_train)/len(y_train):.3f}')"
      ],
      "metadata": {
        "colab": {
          "base_uri": "https://localhost:8080/"
        },
        "id": "soY3O80h6bF8",
        "outputId": "49abf35a-8d85-45ce-b936-32a6ab794744"
      },
      "execution_count": null,
      "outputs": [
        {
          "output_type": "stream",
          "name": "stdout",
          "text": [
            "297/297 [==============================] - 1s 3ms/step\n",
            "Training accuracy: 0.758\n"
          ]
        }
      ]
    },
    {
      "cell_type": "code",
      "source": [
        "preds_proba_test = best_model2.predict(X_test).flatten()\n",
        "preds_test = (preds_proba_test > .5).astype(int)\n",
        "print(f'Test accuracy: {np.sum(preds_test == y_test)/len(y_test):.3f}')"
      ],
      "metadata": {
        "colab": {
          "base_uri": "https://localhost:8080/"
        },
        "id": "KtBW1Lst6tID",
        "outputId": "fe22fc6a-231f-43f4-c0c1-0535b6220d41"
      },
      "execution_count": null,
      "outputs": [
        {
          "output_type": "stream",
          "name": "stdout",
          "text": [
            "297/297 [==============================] - 1s 3ms/step\n",
            "Test accuracy: 0.667\n"
          ]
        }
      ]
    },
    {
      "cell_type": "code",
      "source": [
        "cmat = confusion_matrix(y_true=y_test, y_pred=preds_test)\n",
        "cmat_disp = ConfusionMatrixDisplay(cmat, display_labels=y_encoder.classes_)"
      ],
      "metadata": {
        "id": "DTQLOqhP69Mc"
      },
      "execution_count": null,
      "outputs": []
    },
    {
      "cell_type": "code",
      "source": [
        "plt.style.use('seaborn-v0_8-white')\n",
        "plt.rcParams['font.size'] = 13\n",
        "cmat_disp.plot();"
      ],
      "metadata": {
        "colab": {
          "base_uri": "https://localhost:8080/",
          "height": 451
        },
        "id": "udVOw3Jg69wY",
        "outputId": "161457e5-cb92-4c8b-e97e-cf25dda38231"
      },
      "execution_count": null,
      "outputs": [
        {
          "output_type": "display_data",
          "data": {
            "text/plain": [
              "<Figure size 640x480 with 2 Axes>"
            ],
            "image/png": "[encoded data removed]"
          },
          "metadata": {}
        }
      ]
    },
    {
      "cell_type": "code",
      "source": [
        "# Additional metrics for performance on test data\n",
        "metrics = Metrics(cmat)\n",
        "print(f'Accuracy: {metrics.accuracy():.2%}')\n",
        "print(f'Sensitivity/Recall (TPR): {metrics.recall():.2%}')\n",
        "print(f'Specificity (TNR): {metrics.specificity():.2%}')\n",
        "print(f'Precision: {metrics.precision():.2%}')\n",
        "print(f'F1: {metrics.f1_score():.2f}')\n",
        "print(f'AUC: {roc_auc_score(y_test, preds_proba_test):.2f}')"
      ],
      "metadata": {
        "colab": {
          "base_uri": "https://localhost:8080/"
        },
        "id": "nG-avhDn7Abv",
        "outputId": "3423f3d0-d681-4046-8ed0-1fc3440abb40"
      },
      "execution_count": null,
      "outputs": [
        {
          "output_type": "stream",
          "name": "stdout",
          "text": [
            "Accuracy: 66.74%\n",
            "Sensitivity/Recall (TPR): 61.81%\n",
            "Specificity (TNR): 70.73%\n",
            "Precision: 63.15%\n",
            "F1: 0.62\n",
            "AUC: 0.72\n"
          ]
        }
      ]
    },
    {
      "cell_type": "markdown",
      "source": [
        "# DV: VV_general, incl. lag"
      ],
      "metadata": {
        "id": "qgGkuBZ-_ZyL"
      }
    },
    {
      "cell_type": "markdown",
      "source": [
        "## Preprocessing"
      ],
      "metadata": {
        "id": "rbNdDUF8A4PF"
      }
    },
    {
      "cell_type": "code",
      "source": [
        "df_cces_3 = df_cces.drop(['VV_primary', 'VV_primary_lag'], axis=1)"
      ],
      "metadata": {
        "id": "VVgz4RTs_gCK"
      },
      "execution_count": null,
      "outputs": []
    },
    {
      "cell_type": "code",
      "source": [
        "df_train, df_test = split_cces(df_cces_3)"
      ],
      "metadata": {
        "id": "-Y9j4Tdb_xnL"
      },
      "execution_count": null,
      "outputs": []
    },
    {
      "cell_type": "code",
      "source": [
        "# Number of samples per split\n",
        "print(f'# Training samples: {len(df_train)} \\\n",
        "        # Test samples: {len(df_test)}')"
      ],
      "metadata": {
        "colab": {
          "base_uri": "https://localhost:8080/"
        },
        "id": "wnWM2i9X_78n",
        "outputId": "79e86382-a3d6-4976-9140-b04667bfa2bf"
      },
      "execution_count": null,
      "outputs": [
        {
          "output_type": "stream",
          "name": "stdout",
          "text": [
            "# Training samples: 9500         # Test samples: 9500\n"
          ]
        }
      ]
    },
    {
      "cell_type": "code",
      "source": [
        "X_train = df_train.drop('VV_general', axis=1)\n",
        "y_train = df_train['VV_general'].to_numpy()\n",
        "X_test = df_test.drop('VV_general', axis=1)\n",
        "y_test = df_test['VV_general'].to_numpy()"
      ],
      "metadata": {
        "id": "4H7GCWuPAFhI"
      },
      "execution_count": null,
      "outputs": []
    },
    {
      "cell_type": "code",
      "source": [
        "# Encode targets\n",
        "y_encoder = LabelEncoder()\n",
        "\n",
        "y_train = y_encoder.fit_transform(y_train)\n",
        "y_test = y_encoder.transform(y_test)"
      ],
      "metadata": {
        "id": "HHsVQNgIAGFE"
      },
      "execution_count": null,
      "outputs": []
    },
    {
      "cell_type": "code",
      "source": [
        "# Identify ordered categorical columns\n",
        "ordered_cat_cols = [col for col in X_train.columns if pd.api.types.is_categorical_dtype(df_cces[col]) and df_cces[col].cat.ordered]\n",
        "# Identify unordered cateforical columns\n",
        "unordered_cat_cols = [col for col in X_train.columns if pd.api.types.is_categorical_dtype(df_cces[col]) and not df_cces[col].cat.ordered]\n",
        "# Define dictionary for category order\n",
        "category_order = {col: list(X_train[col].cat.categories) for col in ordered_cat_cols}"
      ],
      "metadata": {
        "id": "xGF_DOqzAM5y"
      },
      "execution_count": null,
      "outputs": []
    },
    {
      "cell_type": "code",
      "source": [
        "# One-hot encode only unordered categorical columns\n",
        "col_trans = ColumnTransformer(\n",
        "    [(col,\n",
        "      OneHotEncoder(drop='first',\n",
        "                    sparse_output=False,\n",
        "                    handle_unknown='ignore'),\n",
        "     [col]) for col in unordered_cat_cols] +\n",
        "    [(col,\n",
        "      OrdinalEncoder(categories=[category_order[col]],\n",
        "                     handle_unknown='use_encoded_value',\n",
        "                     unknown_value=np.nan),\n",
        "      [col]) for col in ordered_cat_cols],\n",
        "    remainder='passthrough'\n",
        ")\n",
        "\n",
        "# Impute missing values\n",
        "knn_imputer = KNNImputer(missing_values=np.nan,\n",
        "                         n_neighbors=13,\n",
        "                         weights='distance')\n",
        "\n",
        "# Scaling\n",
        "scaler = StandardScaler(with_mean=True,\n",
        "                        with_std=True)"
      ],
      "metadata": {
        "id": "WTA_tFI1ASrF"
      },
      "execution_count": null,
      "outputs": []
    },
    {
      "cell_type": "code",
      "source": [
        "# Define pipeline\n",
        "pipe = Pipeline(steps=[('col_trans', col_trans),\n",
        "                       ('knn_imputer', knn_imputer),\n",
        "                       ('scaler', scaler)]).set_output(transform='pandas')"
      ],
      "metadata": {
        "id": "HZqP7H-hAbj1"
      },
      "execution_count": null,
      "outputs": []
    },
    {
      "cell_type": "code",
      "source": [
        "# Fit and apply pipe to training features\n",
        "X_train = pipe.fit_transform(X_train)\n",
        "# Apply pipe to validation and test features\n",
        "X_test = pipe.transform(X_test)"
      ],
      "metadata": {
        "colab": {
          "base_uri": "https://localhost:8080/"
        },
        "id": "OqI04Ij-AfBg",
        "outputId": "a0359ca5-3034-4f26-8510-ca7357aeec92"
      },
      "execution_count": null,
      "outputs": [
        {
          "output_type": "stream",
          "name": "stderr",
          "text": [
            "/usr/local/lib/python3.10/dist-packages/sklearn/preprocessing/_encoders.py:202: UserWarning: Found unknown categories in columns [0] during transform. These unknown categories will be encoded as all zeros\n",
            "  warnings.warn(\n",
            "/usr/local/lib/python3.10/dist-packages/sklearn/preprocessing/_encoders.py:202: UserWarning: Found unknown categories in columns [0] during transform. These unknown categories will be encoded as all zeros\n",
            "  warnings.warn(\n"
          ]
        }
      ]
    },
    {
      "cell_type": "code",
      "source": [
        "# Check shape\n",
        "X_train.shape[1] # 218 features"
      ],
      "metadata": {
        "colab": {
          "base_uri": "https://localhost:8080/"
        },
        "id": "Iue_UyIAAmgF",
        "outputId": "9d3cf0f0-5d62-4768-ffc7-b17ab7a20ad0"
      },
      "execution_count": null,
      "outputs": [
        {
          "output_type": "execute_result",
          "data": {
            "text/plain": [
              "218"
            ]
          },
          "metadata": {},
          "execution_count": 73
        }
      ]
    },
    {
      "cell_type": "markdown",
      "source": [
        "## Fit – No adjustment for class imbalance"
      ],
      "metadata": {
        "id": "p1ZCEBJLA2T1"
      }
    },
    {
      "cell_type": "code",
      "source": [
        "# Set global seed\n",
        "seed = 42\n",
        "os.environ['PYTHONHASHSEED'] = str(seed)\n",
        "random.seed(seed)\n",
        "np.random.seed(seed)\n",
        "tf.random.set_seed(seed)"
      ],
      "metadata": {
        "id": "8NRBTyJDBBRu"
      },
      "execution_count": null,
      "outputs": []
    },
    {
      "cell_type": "code",
      "source": [
        "# Define model architecture\n",
        "model3 = Sequential([\n",
        "    Dense(32, input_shape=(X_train.shape[1],),\n",
        "          kernel_initializer='he_normal',\n",
        "          kernel_regularizer=regularizers.l2(0.001)),\n",
        "    BatchNormalization(),\n",
        "    Activation('relu'),\n",
        "    Dropout(0.5),\n",
        "    Dense(16, kernel_initializer='he_normal',\n",
        "          kernel_regularizer=regularizers.l2(0.001)),\n",
        "    BatchNormalization(),\n",
        "    Activation('relu'),\n",
        "    Dropout(0.5),\n",
        "    Dense(1),\n",
        "    Activation('sigmoid')\n",
        "])"
      ],
      "metadata": {
        "id": "SldbGrqPBHP9"
      },
      "execution_count": null,
      "outputs": []
    },
    {
      "cell_type": "code",
      "source": [
        "model3.summary()"
      ],
      "metadata": {
        "colab": {
          "base_uri": "https://localhost:8080/"
        },
        "id": "DMD4HPRaBL8N",
        "outputId": "acd07ee8-0aa9-4323-b19d-5a9c4112326b"
      },
      "execution_count": null,
      "outputs": [
        {
          "output_type": "stream",
          "name": "stdout",
          "text": [
            "Model: \"sequential_2\"\n",
            "_________________________________________________________________\n",
            " Layer (type)                Output Shape              Param #   \n",
            "=================================================================\n",
            " dense_6 (Dense)             (None, 32)                7008      \n",
            "                                                                 \n",
            " batch_normalization_4 (Bat  (None, 32)                128       \n",
            " chNormalization)                                                \n",
            "                                                                 \n",
            " activation_6 (Activation)   (None, 32)                0         \n",
            "                                                                 \n",
            " dropout_4 (Dropout)         (None, 32)                0         \n",
            "                                                                 \n",
            " dense_7 (Dense)             (None, 16)                528       \n",
            "                                                                 \n",
            " batch_normalization_5 (Bat  (None, 16)                64        \n",
            " chNormalization)                                                \n",
            "                                                                 \n",
            " activation_7 (Activation)   (None, 16)                0         \n",
            "                                                                 \n",
            " dropout_5 (Dropout)         (None, 16)                0         \n",
            "                                                                 \n",
            " dense_8 (Dense)             (None, 1)                 17        \n",
            "                                                                 \n",
            " activation_8 (Activation)   (None, 1)                 0         \n",
            "                                                                 \n",
            "=================================================================\n",
            "Total params: 7745 (30.25 KB)\n",
            "Trainable params: 7649 (29.88 KB)\n",
            "Non-trainable params: 96 (384.00 Byte)\n",
            "_________________________________________________________________\n"
          ]
        }
      ]
    },
    {
      "cell_type": "code",
      "source": [
        "# Set learning rate, loss and metric\n",
        "model3.compile(optimizer=Adam(learning_rate=0.001),\n",
        "              loss='binary_crossentropy',\n",
        "              metrics=['accuracy'])"
      ],
      "metadata": {
        "id": "V3qwFFGjBQKX"
      },
      "execution_count": null,
      "outputs": []
    },
    {
      "cell_type": "code",
      "source": [
        "# Set checkpoint, logger, and learning rate scheduler\n",
        "checkpoint = ModelCheckpoint('best_model3.h5',\n",
        "                             save_best_only=True,\n",
        "                             monitor='val_loss',\n",
        "                             mode='min',\n",
        "                             verbose=1)\n",
        "\n",
        "csv_logger = CSVLogger('training_log3.csv', append=False)\n",
        "\n",
        "def scheduler(epoch, lr):\n",
        "  if epoch < 10:\n",
        "    return lr\n",
        "  else:\n",
        "    return lr * np.exp(-0.1)\n",
        "\n",
        "lr_scheduler = LearningRateScheduler(scheduler)"
      ],
      "metadata": {
        "id": "OzyhASC-BTdL"
      },
      "execution_count": null,
      "outputs": []
    },
    {
      "cell_type": "code",
      "source": [
        "model3.fit(X_train,\n",
        "           y_train,\n",
        "           epochs=50,\n",
        "           batch_size=32,\n",
        "           validation_data=(X_test, y_test),\n",
        "           callbacks=[checkpoint, csv_logger, lr_scheduler])"
      ],
      "metadata": {
        "colab": {
          "base_uri": "https://localhost:8080/"
        },
        "id": "Bo9KCRpVBZAf",
        "outputId": "79738e93-3fac-47d1-96ab-61a6d0b160f9"
      },
      "execution_count": null,
      "outputs": [
        {
          "output_type": "stream",
          "name": "stdout",
          "text": [
            "Epoch 1/50\n",
            "284/297 [===========================>..] - ETA: 0s - loss: 0.8161 - accuracy: 0.5816\n",
            "Epoch 1: val_loss improved from inf to 0.64564, saving model to best_model3.h5\n",
            "297/297 [==============================] - 3s 5ms/step - loss: 0.8099 - accuracy: 0.5882 - val_loss: 0.6456 - val_accuracy: 0.7537 - lr: 0.0010\n",
            "Epoch 2/50\n",
            " 39/297 [==>...........................] - ETA: 0s - loss: 0.6778 - accuracy: 0.7115"
          ]
        },
        {
          "output_type": "stream",
          "name": "stderr",
          "text": [
            "/usr/local/lib/python3.10/dist-packages/keras/src/engine/training.py:3103: UserWarning: You are saving your model as an HDF5 file via `model.save()`. This file format is considered legacy. We recommend using instead the native Keras format, e.g. `model.save('my_model.keras')`.\n",
            "  saving_api.save_model(\n"
          ]
        },
        {
          "output_type": "stream",
          "name": "stdout",
          "text": [
            "287/297 [===========================>..] - ETA: 0s - loss: 0.6620 - accuracy: 0.7283\n",
            "Epoch 2: val_loss improved from 0.64564 to 0.61426, saving model to best_model3.h5\n",
            "297/297 [==============================] - 1s 5ms/step - loss: 0.6597 - accuracy: 0.7303 - val_loss: 0.6143 - val_accuracy: 0.7606 - lr: 0.0010\n",
            "Epoch 3/50\n",
            "296/297 [============================>.] - ETA: 0s - loss: 0.6146 - accuracy: 0.7539\n",
            "Epoch 3: val_loss improved from 0.61426 to 0.59908, saving model to best_model3.h5\n",
            "297/297 [==============================] - 2s 5ms/step - loss: 0.6143 - accuracy: 0.7540 - val_loss: 0.5991 - val_accuracy: 0.7632 - lr: 0.0010\n",
            "Epoch 4/50\n",
            "293/297 [============================>.] - ETA: 0s - loss: 0.5884 - accuracy: 0.7647\n",
            "Epoch 4: val_loss improved from 0.59908 to 0.58407, saving model to best_model3.h5\n",
            "297/297 [==============================] - 1s 4ms/step - loss: 0.5893 - accuracy: 0.7639 - val_loss: 0.5841 - val_accuracy: 0.7658 - lr: 0.0010\n",
            "Epoch 5/50\n",
            "285/297 [===========================>..] - ETA: 0s - loss: 0.5679 - accuracy: 0.7708\n",
            "Epoch 5: val_loss improved from 0.58407 to 0.57512, saving model to best_model3.h5\n",
            "297/297 [==============================] - 1s 5ms/step - loss: 0.5698 - accuracy: 0.7681 - val_loss: 0.5751 - val_accuracy: 0.7671 - lr: 0.0010\n",
            "Epoch 6/50\n",
            "292/297 [============================>.] - ETA: 0s - loss: 0.5498 - accuracy: 0.7732\n",
            "Epoch 6: val_loss improved from 0.57512 to 0.56698, saving model to best_model3.h5\n",
            "297/297 [==============================] - 1s 5ms/step - loss: 0.5500 - accuracy: 0.7728 - val_loss: 0.5670 - val_accuracy: 0.7684 - lr: 0.0010\n",
            "Epoch 7/50\n",
            "292/297 [============================>.] - ETA: 0s - loss: 0.5384 - accuracy: 0.7785\n",
            "Epoch 7: val_loss improved from 0.56698 to 0.56294, saving model to best_model3.h5\n",
            "297/297 [==============================] - 2s 8ms/step - loss: 0.5381 - accuracy: 0.7792 - val_loss: 0.5629 - val_accuracy: 0.7684 - lr: 0.0010\n",
            "Epoch 8/50\n",
            "288/297 [============================>.] - ETA: 0s - loss: 0.5281 - accuracy: 0.7829\n",
            "Epoch 8: val_loss improved from 0.56294 to 0.56099, saving model to best_model3.h5\n",
            "297/297 [==============================] - 1s 4ms/step - loss: 0.5292 - accuracy: 0.7815 - val_loss: 0.5610 - val_accuracy: 0.7673 - lr: 0.0010\n",
            "Epoch 9/50\n",
            "286/297 [===========================>..] - ETA: 0s - loss: 0.5244 - accuracy: 0.7797\n",
            "Epoch 9: val_loss improved from 0.56099 to 0.55834, saving model to best_model3.h5\n",
            "297/297 [==============================] - 1s 5ms/step - loss: 0.5232 - accuracy: 0.7806 - val_loss: 0.5583 - val_accuracy: 0.7691 - lr: 0.0010\n",
            "Epoch 10/50\n",
            "284/297 [===========================>..] - ETA: 0s - loss: 0.5149 - accuracy: 0.7860\n",
            "Epoch 10: val_loss did not improve from 0.55834\n",
            "297/297 [==============================] - 1s 5ms/step - loss: 0.5157 - accuracy: 0.7847 - val_loss: 0.5619 - val_accuracy: 0.7656 - lr: 0.0010\n",
            "Epoch 11/50\n",
            "288/297 [============================>.] - ETA: 0s - loss: 0.5141 - accuracy: 0.7793\n",
            "Epoch 11: val_loss improved from 0.55834 to 0.55557, saving model to best_model3.h5\n",
            "297/297 [==============================] - 1s 5ms/step - loss: 0.5146 - accuracy: 0.7785 - val_loss: 0.5556 - val_accuracy: 0.7660 - lr: 9.0484e-04\n",
            "Epoch 12/50\n",
            "288/297 [============================>.] - ETA: 0s - loss: 0.5053 - accuracy: 0.7839\n",
            "Epoch 12: val_loss improved from 0.55557 to 0.55048, saving model to best_model3.h5\n",
            "297/297 [==============================] - 1s 4ms/step - loss: 0.5075 - accuracy: 0.7831 - val_loss: 0.5505 - val_accuracy: 0.7686 - lr: 8.1873e-04\n",
            "Epoch 13/50\n",
            "288/297 [============================>.] - ETA: 0s - loss: 0.5001 - accuracy: 0.7855\n",
            "Epoch 13: val_loss did not improve from 0.55048\n",
            "297/297 [==============================] - 1s 5ms/step - loss: 0.4998 - accuracy: 0.7862 - val_loss: 0.5527 - val_accuracy: 0.7662 - lr: 7.4082e-04\n",
            "Epoch 14/50\n",
            "295/297 [============================>.] - ETA: 0s - loss: 0.5024 - accuracy: 0.7811\n",
            "Epoch 14: val_loss did not improve from 0.55048\n",
            "297/297 [==============================] - 1s 5ms/step - loss: 0.5017 - accuracy: 0.7814 - val_loss: 0.5546 - val_accuracy: 0.7663 - lr: 6.7032e-04\n",
            "Epoch 15/50\n",
            "288/297 [============================>.] - ETA: 0s - loss: 0.4976 - accuracy: 0.7884\n",
            "Epoch 15: val_loss did not improve from 0.55048\n",
            "297/297 [==============================] - 1s 5ms/step - loss: 0.4974 - accuracy: 0.7884 - val_loss: 0.5562 - val_accuracy: 0.7666 - lr: 6.0653e-04\n",
            "Epoch 16/50\n",
            "283/297 [===========================>..] - ETA: 0s - loss: 0.4909 - accuracy: 0.7857\n",
            "Epoch 16: val_loss did not improve from 0.55048\n",
            "297/297 [==============================] - 2s 6ms/step - loss: 0.4928 - accuracy: 0.7838 - val_loss: 0.5570 - val_accuracy: 0.7645 - lr: 5.4881e-04\n",
            "Epoch 17/50\n",
            "290/297 [============================>.] - ETA: 0s - loss: 0.4898 - accuracy: 0.7881\n",
            "Epoch 17: val_loss did not improve from 0.55048\n",
            "297/297 [==============================] - 2s 5ms/step - loss: 0.4892 - accuracy: 0.7888 - val_loss: 0.5549 - val_accuracy: 0.7633 - lr: 4.9659e-04\n",
            "Epoch 18/50\n",
            "277/297 [==========================>...] - ETA: 0s - loss: 0.4856 - accuracy: 0.7868\n",
            "Epoch 18: val_loss did not improve from 0.55048\n",
            "297/297 [==============================] - 1s 5ms/step - loss: 0.4856 - accuracy: 0.7864 - val_loss: 0.5600 - val_accuracy: 0.7607 - lr: 4.4933e-04\n",
            "Epoch 19/50\n",
            "282/297 [===========================>..] - ETA: 0s - loss: 0.4845 - accuracy: 0.7899\n",
            "Epoch 19: val_loss did not improve from 0.55048\n",
            "297/297 [==============================] - 1s 4ms/step - loss: 0.4844 - accuracy: 0.7904 - val_loss: 0.5579 - val_accuracy: 0.7609 - lr: 4.0657e-04\n",
            "Epoch 20/50\n",
            "284/297 [===========================>..] - ETA: 0s - loss: 0.4828 - accuracy: 0.7926\n",
            "Epoch 20: val_loss did not improve from 0.55048\n",
            "297/297 [==============================] - 1s 5ms/step - loss: 0.4828 - accuracy: 0.7921 - val_loss: 0.5586 - val_accuracy: 0.7601 - lr: 3.6788e-04\n",
            "Epoch 21/50\n",
            "291/297 [============================>.] - ETA: 0s - loss: 0.4799 - accuracy: 0.7891\n",
            "Epoch 21: val_loss did not improve from 0.55048\n",
            "297/297 [==============================] - 1s 5ms/step - loss: 0.4804 - accuracy: 0.7880 - val_loss: 0.5607 - val_accuracy: 0.7583 - lr: 3.3287e-04\n",
            "Epoch 22/50\n",
            "296/297 [============================>.] - ETA: 0s - loss: 0.4745 - accuracy: 0.7923\n",
            "Epoch 22: val_loss did not improve from 0.55048\n",
            "297/297 [==============================] - 1s 5ms/step - loss: 0.4748 - accuracy: 0.7921 - val_loss: 0.5619 - val_accuracy: 0.7602 - lr: 3.0119e-04\n",
            "Epoch 23/50\n",
            "296/297 [============================>.] - ETA: 0s - loss: 0.4781 - accuracy: 0.7863\n",
            "Epoch 23: val_loss did not improve from 0.55048\n",
            "297/297 [==============================] - 1s 5ms/step - loss: 0.4783 - accuracy: 0.7860 - val_loss: 0.5631 - val_accuracy: 0.7600 - lr: 2.7253e-04\n",
            "Epoch 24/50\n",
            "287/297 [===========================>..] - ETA: 0s - loss: 0.4786 - accuracy: 0.7885\n",
            "Epoch 24: val_loss did not improve from 0.55048\n",
            "297/297 [==============================] - 1s 4ms/step - loss: 0.4785 - accuracy: 0.7891 - val_loss: 0.5652 - val_accuracy: 0.7601 - lr: 2.4660e-04\n",
            "Epoch 25/50\n",
            "295/297 [============================>.] - ETA: 0s - loss: 0.4749 - accuracy: 0.7896\n",
            "Epoch 25: val_loss did not improve from 0.55048\n",
            "297/297 [==============================] - 1s 5ms/step - loss: 0.4748 - accuracy: 0.7895 - val_loss: 0.5639 - val_accuracy: 0.7616 - lr: 2.2313e-04\n",
            "Epoch 26/50\n",
            "283/297 [===========================>..] - ETA: 0s - loss: 0.4767 - accuracy: 0.7871\n",
            "Epoch 26: val_loss did not improve from 0.55048\n",
            "297/297 [==============================] - 2s 6ms/step - loss: 0.4753 - accuracy: 0.7882 - val_loss: 0.5628 - val_accuracy: 0.7617 - lr: 2.0190e-04\n",
            "Epoch 27/50\n",
            "283/297 [===========================>..] - ETA: 0s - loss: 0.4691 - accuracy: 0.7894\n",
            "Epoch 27: val_loss did not improve from 0.55048\n",
            "297/297 [==============================] - 2s 5ms/step - loss: 0.4689 - accuracy: 0.7905 - val_loss: 0.5669 - val_accuracy: 0.7584 - lr: 1.8268e-04\n",
            "Epoch 28/50\n",
            "296/297 [============================>.] - ETA: 0s - loss: 0.4742 - accuracy: 0.7897\n",
            "Epoch 28: val_loss did not improve from 0.55048\n",
            "297/297 [==============================] - 1s 5ms/step - loss: 0.4739 - accuracy: 0.7898 - val_loss: 0.5653 - val_accuracy: 0.7591 - lr: 1.6530e-04\n",
            "Epoch 29/50\n",
            "290/297 [============================>.] - ETA: 0s - loss: 0.4679 - accuracy: 0.7927\n",
            "Epoch 29: val_loss did not improve from 0.55048\n",
            "297/297 [==============================] - 1s 4ms/step - loss: 0.4684 - accuracy: 0.7922 - val_loss: 0.5674 - val_accuracy: 0.7586 - lr: 1.4957e-04\n",
            "Epoch 30/50\n",
            "274/297 [==========================>...] - ETA: 0s - loss: 0.4628 - accuracy: 0.8008\n",
            "Epoch 30: val_loss did not improve from 0.55048\n",
            "297/297 [==============================] - 1s 4ms/step - loss: 0.4654 - accuracy: 0.7984 - val_loss: 0.5673 - val_accuracy: 0.7603 - lr: 1.3534e-04\n",
            "Epoch 31/50\n",
            "293/297 [============================>.] - ETA: 0s - loss: 0.4672 - accuracy: 0.7921\n",
            "Epoch 31: val_loss did not improve from 0.55048\n",
            "297/297 [==============================] - 1s 5ms/step - loss: 0.4665 - accuracy: 0.7923 - val_loss: 0.5668 - val_accuracy: 0.7601 - lr: 1.2246e-04\n",
            "Epoch 32/50\n",
            "276/297 [==========================>...] - ETA: 0s - loss: 0.4653 - accuracy: 0.7946\n",
            "Epoch 32: val_loss did not improve from 0.55048\n",
            "297/297 [==============================] - 1s 4ms/step - loss: 0.4667 - accuracy: 0.7937 - val_loss: 0.5681 - val_accuracy: 0.7601 - lr: 1.1080e-04\n",
            "Epoch 33/50\n",
            "283/297 [===========================>..] - ETA: 0s - loss: 0.4693 - accuracy: 0.7933\n",
            "Epoch 33: val_loss did not improve from 0.55048\n",
            "297/297 [==============================] - 1s 5ms/step - loss: 0.4703 - accuracy: 0.7923 - val_loss: 0.5677 - val_accuracy: 0.7582 - lr: 1.0026e-04\n",
            "Epoch 34/50\n",
            "289/297 [============================>.] - ETA: 0s - loss: 0.4646 - accuracy: 0.7937\n",
            "Epoch 34: val_loss did not improve from 0.55048\n",
            "297/297 [==============================] - 1s 4ms/step - loss: 0.4650 - accuracy: 0.7934 - val_loss: 0.5673 - val_accuracy: 0.7608 - lr: 9.0718e-05\n",
            "Epoch 35/50\n",
            "293/297 [============================>.] - ETA: 0s - loss: 0.4653 - accuracy: 0.7976\n",
            "Epoch 35: val_loss did not improve from 0.55048\n",
            "297/297 [==============================] - 1s 4ms/step - loss: 0.4665 - accuracy: 0.7973 - val_loss: 0.5685 - val_accuracy: 0.7600 - lr: 8.2085e-05\n",
            "Epoch 36/50\n",
            "291/297 [============================>.] - ETA: 0s - loss: 0.4631 - accuracy: 0.7944\n",
            "Epoch 36: val_loss did not improve from 0.55048\n",
            "297/297 [==============================] - 2s 6ms/step - loss: 0.4631 - accuracy: 0.7936 - val_loss: 0.5683 - val_accuracy: 0.7587 - lr: 7.4274e-05\n",
            "Epoch 37/50\n",
            "296/297 [============================>.] - ETA: 0s - loss: 0.4631 - accuracy: 0.7959\n",
            "Epoch 37: val_loss did not improve from 0.55048\n",
            "297/297 [==============================] - 2s 6ms/step - loss: 0.4632 - accuracy: 0.7960 - val_loss: 0.5678 - val_accuracy: 0.7583 - lr: 6.7206e-05\n",
            "Epoch 38/50\n",
            "292/297 [============================>.] - ETA: 0s - loss: 0.4561 - accuracy: 0.7957\n",
            "Epoch 38: val_loss did not improve from 0.55048\n",
            "297/297 [==============================] - 1s 5ms/step - loss: 0.4564 - accuracy: 0.7956 - val_loss: 0.5705 - val_accuracy: 0.7586 - lr: 6.0810e-05\n",
            "Epoch 39/50\n",
            "275/297 [==========================>...] - ETA: 0s - loss: 0.4614 - accuracy: 0.7956\n",
            "Epoch 39: val_loss did not improve from 0.55048\n",
            "297/297 [==============================] - 1s 4ms/step - loss: 0.4613 - accuracy: 0.7953 - val_loss: 0.5703 - val_accuracy: 0.7588 - lr: 5.5023e-05\n",
            "Epoch 40/50\n",
            "292/297 [============================>.] - ETA: 0s - loss: 0.4650 - accuracy: 0.7928\n",
            "Epoch 40: val_loss did not improve from 0.55048\n",
            "297/297 [==============================] - 1s 4ms/step - loss: 0.4646 - accuracy: 0.7931 - val_loss: 0.5699 - val_accuracy: 0.7575 - lr: 4.9787e-05\n",
            "Epoch 41/50\n",
            "286/297 [===========================>..] - ETA: 0s - loss: 0.4586 - accuracy: 0.7921\n",
            "Epoch 41: val_loss did not improve from 0.55048\n",
            "297/297 [==============================] - 1s 5ms/step - loss: 0.4595 - accuracy: 0.7923 - val_loss: 0.5717 - val_accuracy: 0.7563 - lr: 4.5049e-05\n",
            "Epoch 42/50\n",
            "286/297 [===========================>..] - ETA: 0s - loss: 0.4609 - accuracy: 0.7962\n",
            "Epoch 42: val_loss did not improve from 0.55048\n",
            "297/297 [==============================] - 1s 4ms/step - loss: 0.4611 - accuracy: 0.7959 - val_loss: 0.5694 - val_accuracy: 0.7569 - lr: 4.0762e-05\n",
            "Epoch 43/50\n",
            "296/297 [============================>.] - ETA: 0s - loss: 0.4593 - accuracy: 0.7950\n",
            "Epoch 43: val_loss did not improve from 0.55048\n",
            "297/297 [==============================] - 1s 4ms/step - loss: 0.4593 - accuracy: 0.7947 - val_loss: 0.5703 - val_accuracy: 0.7589 - lr: 3.6883e-05\n",
            "Epoch 44/50\n",
            "297/297 [==============================] - ETA: 0s - loss: 0.4610 - accuracy: 0.7949\n",
            "Epoch 44: val_loss did not improve from 0.55048\n",
            "297/297 [==============================] - 1s 4ms/step - loss: 0.4610 - accuracy: 0.7949 - val_loss: 0.5701 - val_accuracy: 0.7583 - lr: 3.3373e-05\n",
            "Epoch 45/50\n",
            "279/297 [===========================>..] - ETA: 0s - loss: 0.4504 - accuracy: 0.8011\n",
            "Epoch 45: val_loss did not improve from 0.55048\n",
            "297/297 [==============================] - 1s 5ms/step - loss: 0.4504 - accuracy: 0.8016 - val_loss: 0.5713 - val_accuracy: 0.7554 - lr: 3.0197e-05\n",
            "Epoch 46/50\n",
            "284/297 [===========================>..] - ETA: 0s - loss: 0.4591 - accuracy: 0.7945\n",
            "Epoch 46: val_loss did not improve from 0.55048\n",
            "297/297 [==============================] - 2s 6ms/step - loss: 0.4589 - accuracy: 0.7943 - val_loss: 0.5711 - val_accuracy: 0.7578 - lr: 2.7324e-05\n",
            "Epoch 47/50\n",
            "284/297 [===========================>..] - ETA: 0s - loss: 0.4558 - accuracy: 0.7984\n",
            "Epoch 47: val_loss did not improve from 0.55048\n",
            "297/297 [==============================] - 2s 6ms/step - loss: 0.4568 - accuracy: 0.7978 - val_loss: 0.5716 - val_accuracy: 0.7568 - lr: 2.4724e-05\n",
            "Epoch 48/50\n",
            "275/297 [==========================>...] - ETA: 0s - loss: 0.4657 - accuracy: 0.7909\n",
            "Epoch 48: val_loss did not improve from 0.55048\n",
            "297/297 [==============================] - 1s 4ms/step - loss: 0.4620 - accuracy: 0.7936 - val_loss: 0.5712 - val_accuracy: 0.7574 - lr: 2.2371e-05\n",
            "Epoch 49/50\n",
            "286/297 [===========================>..] - ETA: 0s - loss: 0.4565 - accuracy: 0.7985\n",
            "Epoch 49: val_loss did not improve from 0.55048\n",
            "297/297 [==============================] - 1s 5ms/step - loss: 0.4557 - accuracy: 0.7985 - val_loss: 0.5735 - val_accuracy: 0.7549 - lr: 2.0242e-05\n",
            "Epoch 50/50\n",
            "275/297 [==========================>...] - ETA: 0s - loss: 0.4597 - accuracy: 0.7975\n",
            "Epoch 50: val_loss did not improve from 0.55048\n",
            "297/297 [==============================] - 1s 4ms/step - loss: 0.4569 - accuracy: 0.7987 - val_loss: 0.5716 - val_accuracy: 0.7562 - lr: 1.8316e-05\n"
          ]
        },
        {
          "output_type": "execute_result",
          "data": {
            "text/plain": [
              "<keras.src.callbacks.History at 0x7dd0e00e8eb0>"
            ]
          },
          "metadata": {},
          "execution_count": 79
        }
      ]
    },
    {
      "cell_type": "code",
      "source": [
        "# Load model with lowest validation loss\n",
        "best_model3 = tf.keras.models.load_model('best_model3.h5')"
      ],
      "metadata": {
        "id": "ShxUrCBjB3pq"
      },
      "execution_count": null,
      "outputs": []
    },
    {
      "cell_type": "code",
      "source": [
        "# Test accuracy\n",
        "test_loss, test_acc = best_model3.evaluate(X_test, y_test)\n",
        "print(\"Test Accuracy:\", test_acc)"
      ],
      "metadata": {
        "colab": {
          "base_uri": "https://localhost:8080/"
        },
        "id": "YBJCnKo1CLcZ",
        "outputId": "32f429c6-09a8-4af9-987b-230fd2913ed4"
      },
      "execution_count": null,
      "outputs": [
        {
          "output_type": "stream",
          "name": "stdout",
          "text": [
            "297/297 [==============================] - 1s 2ms/step - loss: 0.5505 - accuracy: 0.7686\n",
            "Test Accuracy: 0.7686315774917603\n"
          ]
        }
      ]
    },
    {
      "cell_type": "code",
      "source": [
        "# Visualize training and validation loss during training process\n",
        "df_metrics = pd.read_csv('training_log3.csv')"
      ],
      "metadata": {
        "id": "uj_hTOaNCVTU"
      },
      "execution_count": null,
      "outputs": []
    },
    {
      "cell_type": "code",
      "source": [
        "plt.figure(figsize=(10,5))\n",
        "plt.plot(df_metrics['epoch'], df_metrics['accuracy'],\n",
        "         label='Training Accuracy', color='red')\n",
        "plt.plot(df_metrics['epoch'], df_metrics['val_accuracy'],\n",
        "         label='Validation Accuracy', color='blue')\n",
        "plt.title('Training and Validation Accuracy during Training Process')\n",
        "plt.xlabel('Epoch')\n",
        "plt.ylabel('Accuracy')\n",
        "plt.xticks(np.linspace(0, 50, 11).astype(int))\n",
        "plt.legend()\n",
        "plt.show()"
      ],
      "metadata": {
        "colab": {
          "base_uri": "https://localhost:8080/",
          "height": 490
        },
        "id": "w7iZGKnkClXR",
        "outputId": "886b6b3a-3901-4229-8a38-23a627baae68"
      },
      "execution_count": null,
      "outputs": [
        {
          "output_type": "display_data",
          "data": {
            "text/plain": [
              "<Figure size 1000x500 with 1 Axes>"
            ],
            "image/png": "[encoded data removed]"
          },
          "metadata": {}
        }
      ]
    },
    {
      "cell_type": "markdown",
      "source": [
        "## Evaluate"
      ],
      "metadata": {
        "id": "ywSyiNkiC2h4"
      }
    },
    {
      "cell_type": "code",
      "source": [
        "preds_proba_train = best_model3.predict(X_train).flatten()\n",
        "preds_train = (preds_proba_train > .5).astype(int)\n",
        "print(f'Training accuracy: {np.sum(preds_train == y_train)/len(y_train):.3f}')"
      ],
      "metadata": {
        "colab": {
          "base_uri": "https://localhost:8080/"
        },
        "id": "S20Cw57MCr-X",
        "outputId": "0b2bbea2-f09d-406e-baef-6fed1602003b"
      },
      "execution_count": null,
      "outputs": [
        {
          "output_type": "stream",
          "name": "stdout",
          "text": [
            "297/297 [==============================] - 1s 1ms/step\n",
            "Training accuracy: 0.799\n"
          ]
        }
      ]
    },
    {
      "cell_type": "code",
      "source": [
        "preds_proba_test = best_model3.predict(X_test).flatten()\n",
        "preds_test = (preds_proba_test > .5).astype(int)\n",
        "print(f'Test accuracy: {np.sum(preds_test == y_test)/len(y_test):.3f}')"
      ],
      "metadata": {
        "colab": {
          "base_uri": "https://localhost:8080/"
        },
        "id": "aclCLRWQC7cy",
        "outputId": "e3bf64a7-5933-487e-b532-43605e43743b"
      },
      "execution_count": null,
      "outputs": [
        {
          "output_type": "stream",
          "name": "stdout",
          "text": [
            "297/297 [==============================] - 0s 1ms/step\n",
            "Test accuracy: 0.769\n"
          ]
        }
      ]
    },
    {
      "cell_type": "markdown",
      "source": [
        "## Fit – Class weights"
      ],
      "metadata": {
        "id": "pnOs9fQ8FHTM"
      }
    },
    {
      "cell_type": "code",
      "source": [
        "# Compute class weights\n",
        "class_weights = compute_class_weight('balanced',\n",
        "                                     classes=np.unique(y_train),\n",
        "                                     y=y_train)\n",
        "class_weight_dict = {class_label: weight for class_label, weight in zip(np.unique(y_train), class_weights)}"
      ],
      "metadata": {
        "id": "Vl3rER4DFLpO"
      },
      "execution_count": null,
      "outputs": []
    },
    {
      "cell_type": "code",
      "source": [
        "# Set global seed\n",
        "seed = 42\n",
        "os.environ['PYTHONHASHSEED'] = str(seed)\n",
        "random.seed(seed)\n",
        "np.random.seed(seed)\n",
        "tf.random.set_seed(seed)"
      ],
      "metadata": {
        "id": "yoa3hEqoFQZc"
      },
      "execution_count": null,
      "outputs": []
    },
    {
      "cell_type": "code",
      "source": [
        "# Define model architecture\n",
        "model4 = Sequential([\n",
        "    Dense(32, input_shape=(X_train.shape[1],),\n",
        "          kernel_initializer='he_normal',\n",
        "          kernel_regularizer=regularizers.l2(0.001)),\n",
        "    BatchNormalization(),\n",
        "    Activation('relu'),\n",
        "    Dropout(0.5),\n",
        "    Dense(16, kernel_initializer='he_normal',\n",
        "          kernel_regularizer=regularizers.l2(0.001)),\n",
        "    BatchNormalization(),\n",
        "    Activation('relu'),\n",
        "    Dropout(0.5),\n",
        "    Dense(1),\n",
        "    Activation('sigmoid')\n",
        "])"
      ],
      "metadata": {
        "id": "AVCgmN2JFVD2"
      },
      "execution_count": null,
      "outputs": []
    },
    {
      "cell_type": "code",
      "source": [
        "model4.summary()"
      ],
      "metadata": {
        "colab": {
          "base_uri": "https://localhost:8080/"
        },
        "id": "s6W0Iq56FZLH",
        "outputId": "32587dcf-7750-4862-f77c-b6d605b738f7"
      },
      "execution_count": null,
      "outputs": [
        {
          "output_type": "stream",
          "name": "stdout",
          "text": [
            "Model: \"sequential_3\"\n",
            "_________________________________________________________________\n",
            " Layer (type)                Output Shape              Param #   \n",
            "=================================================================\n",
            " dense_9 (Dense)             (None, 32)                7008      \n",
            "                                                                 \n",
            " batch_normalization_6 (Bat  (None, 32)                128       \n",
            " chNormalization)                                                \n",
            "                                                                 \n",
            " activation_9 (Activation)   (None, 32)                0         \n",
            "                                                                 \n",
            " dropout_6 (Dropout)         (None, 32)                0         \n",
            "                                                                 \n",
            " dense_10 (Dense)            (None, 16)                528       \n",
            "                                                                 \n",
            " batch_normalization_7 (Bat  (None, 16)                64        \n",
            " chNormalization)                                                \n",
            "                                                                 \n",
            " activation_10 (Activation)  (None, 16)                0         \n",
            "                                                                 \n",
            " dropout_7 (Dropout)         (None, 16)                0         \n",
            "                                                                 \n",
            " dense_11 (Dense)            (None, 1)                 17        \n",
            "                                                                 \n",
            " activation_11 (Activation)  (None, 1)                 0         \n",
            "                                                                 \n",
            "=================================================================\n",
            "Total params: 7745 (30.25 KB)\n",
            "Trainable params: 7649 (29.88 KB)\n",
            "Non-trainable params: 96 (384.00 Byte)\n",
            "_________________________________________________________________\n"
          ]
        }
      ]
    },
    {
      "cell_type": "code",
      "source": [
        "# Set learning rate, loss and metric\n",
        "model4.compile(optimizer=Adam(learning_rate=0.001),\n",
        "              loss='binary_crossentropy',\n",
        "              metrics=['accuracy'])"
      ],
      "metadata": {
        "id": "BM2KeqaAFbC6"
      },
      "execution_count": null,
      "outputs": []
    },
    {
      "cell_type": "code",
      "source": [
        "# Set checkpoint, logger, and learning rate scheduler\n",
        "checkpoint = ModelCheckpoint('best_model4.h5',\n",
        "                             save_best_only=True,\n",
        "                             monitor='val_loss',\n",
        "                             mode='min',\n",
        "                             verbose=1)\n",
        "\n",
        "csv_logger = CSVLogger('training_log4.csv', append=False)\n",
        "\n",
        "def scheduler(epoch, lr):\n",
        "  if epoch < 10:\n",
        "    return lr\n",
        "  else:\n",
        "    return lr * np.exp(-0.1)\n",
        "\n",
        "lr_scheduler = LearningRateScheduler(scheduler)"
      ],
      "metadata": {
        "id": "_pkHtkXZFfPZ"
      },
      "execution_count": null,
      "outputs": []
    },
    {
      "cell_type": "code",
      "source": [
        "model4.fit(X_train,\n",
        "           y_train,\n",
        "           epochs=50,\n",
        "           batch_size=16,\n",
        "           validation_data=(X_test, y_test),\n",
        "           callbacks=[checkpoint, csv_logger, lr_scheduler],\n",
        "           class_weight=class_weight_dict)"
      ],
      "metadata": {
        "colab": {
          "base_uri": "https://localhost:8080/"
        },
        "id": "6DBvOWrqFlsa",
        "outputId": "b1f39bb8-a5c6-4377-c985-1c93dbd01fe4"
      },
      "execution_count": null,
      "outputs": [
        {
          "output_type": "stream",
          "name": "stdout",
          "text": [
            "Epoch 1/50\n",
            "579/594 [============================>.] - ETA: 0s - loss: 0.8239 - accuracy: 0.5047\n",
            "Epoch 1: val_loss improved from inf to 0.71541, saving model to best_model4.h5\n",
            "594/594 [==============================] - 4s 5ms/step - loss: 0.8218 - accuracy: 0.5066 - val_loss: 0.7154 - val_accuracy: 0.6565 - lr: 0.0010\n",
            "Epoch 2/50\n",
            " 30/594 [>.............................] - ETA: 2s - loss: 0.7470 - accuracy: 0.5875"
          ]
        },
        {
          "output_type": "stream",
          "name": "stderr",
          "text": [
            "/usr/local/lib/python3.10/dist-packages/keras/src/engine/training.py:3103: UserWarning: You are saving your model as an HDF5 file via `model.save()`. This file format is considered legacy. We recommend using instead the native Keras format, e.g. `model.save('my_model.keras')`.\n",
            "  saving_api.save_model(\n"
          ]
        },
        {
          "output_type": "stream",
          "name": "stdout",
          "text": [
            "581/594 [============================>.] - ETA: 0s - loss: 0.7360 - accuracy: 0.6050\n",
            "Epoch 2: val_loss improved from 0.71541 to 0.68564, saving model to best_model4.h5\n",
            "594/594 [==============================] - 3s 6ms/step - loss: 0.7340 - accuracy: 0.6063 - val_loss: 0.6856 - val_accuracy: 0.7026 - lr: 0.0010\n",
            "Epoch 3/50\n",
            "591/594 [============================>.] - ETA: 0s - loss: 0.6985 - accuracy: 0.6686\n",
            "Epoch 3: val_loss improved from 0.68564 to 0.66197, saving model to best_model4.h5\n",
            "594/594 [==============================] - 2s 4ms/step - loss: 0.6983 - accuracy: 0.6689 - val_loss: 0.6620 - val_accuracy: 0.7200 - lr: 0.0010\n",
            "Epoch 4/50\n",
            "582/594 [============================>.] - ETA: 0s - loss: 0.6780 - accuracy: 0.7007\n",
            "Epoch 4: val_loss improved from 0.66197 to 0.65738, saving model to best_model4.h5\n",
            "594/594 [==============================] - 3s 5ms/step - loss: 0.6783 - accuracy: 0.7005 - val_loss: 0.6574 - val_accuracy: 0.7172 - lr: 0.0010\n",
            "Epoch 5/50\n",
            "583/594 [============================>.] - ETA: 0s - loss: 0.6591 - accuracy: 0.7145\n",
            "Epoch 5: val_loss improved from 0.65738 to 0.64684, saving model to best_model4.h5\n",
            "594/594 [==============================] - 3s 4ms/step - loss: 0.6599 - accuracy: 0.7146 - val_loss: 0.6468 - val_accuracy: 0.7178 - lr: 0.0010\n",
            "Epoch 6/50\n",
            "589/594 [============================>.] - ETA: 0s - loss: 0.6510 - accuracy: 0.7208\n",
            "Epoch 6: val_loss improved from 0.64684 to 0.63677, saving model to best_model4.h5\n",
            "594/594 [==============================] - 3s 4ms/step - loss: 0.6509 - accuracy: 0.7213 - val_loss: 0.6368 - val_accuracy: 0.7194 - lr: 0.0010\n",
            "Epoch 7/50\n",
            "582/594 [============================>.] - ETA: 0s - loss: 0.6450 - accuracy: 0.7206\n",
            "Epoch 7: val_loss improved from 0.63677 to 0.63329, saving model to best_model4.h5\n",
            "594/594 [==============================] - 3s 6ms/step - loss: 0.6441 - accuracy: 0.7211 - val_loss: 0.6333 - val_accuracy: 0.7189 - lr: 0.0010\n",
            "Epoch 8/50\n",
            "583/594 [============================>.] - ETA: 0s - loss: 0.6384 - accuracy: 0.7188\n",
            "Epoch 8: val_loss did not improve from 0.63329\n",
            "594/594 [==============================] - 3s 5ms/step - loss: 0.6386 - accuracy: 0.7193 - val_loss: 0.6341 - val_accuracy: 0.7136 - lr: 0.0010\n",
            "Epoch 9/50\n",
            "588/594 [============================>.] - ETA: 0s - loss: 0.6295 - accuracy: 0.7261\n",
            "Epoch 9: val_loss improved from 0.63329 to 0.63100, saving model to best_model4.h5\n",
            "594/594 [==============================] - 3s 5ms/step - loss: 0.6288 - accuracy: 0.7257 - val_loss: 0.6310 - val_accuracy: 0.7140 - lr: 0.0010\n",
            "Epoch 10/50\n",
            "574/594 [===========================>..] - ETA: 0s - loss: 0.6287 - accuracy: 0.7254\n",
            "Epoch 10: val_loss did not improve from 0.63100\n",
            "594/594 [==============================] - 3s 4ms/step - loss: 0.6287 - accuracy: 0.7247 - val_loss: 0.6340 - val_accuracy: 0.7107 - lr: 0.0010\n",
            "Epoch 11/50\n",
            "586/594 [============================>.] - ETA: 0s - loss: 0.6269 - accuracy: 0.7175\n",
            "Epoch 11: val_loss did not improve from 0.63100\n",
            "594/594 [==============================] - 3s 5ms/step - loss: 0.6272 - accuracy: 0.7173 - val_loss: 0.6328 - val_accuracy: 0.7138 - lr: 9.0484e-04\n",
            "Epoch 12/50\n",
            "586/594 [============================>.] - ETA: 0s - loss: 0.6204 - accuracy: 0.7207\n",
            "Epoch 12: val_loss did not improve from 0.63100\n",
            "594/594 [==============================] - 3s 6ms/step - loss: 0.6211 - accuracy: 0.7197 - val_loss: 0.6422 - val_accuracy: 0.7002 - lr: 8.1873e-04\n",
            "Epoch 13/50\n",
            "582/594 [============================>.] - ETA: 0s - loss: 0.6124 - accuracy: 0.7223\n",
            "Epoch 13: val_loss improved from 0.63100 to 0.62684, saving model to best_model4.h5\n",
            "594/594 [==============================] - 3s 5ms/step - loss: 0.6125 - accuracy: 0.7223 - val_loss: 0.6268 - val_accuracy: 0.7105 - lr: 7.4082e-04\n",
            "Epoch 14/50\n",
            "583/594 [============================>.] - ETA: 0s - loss: 0.6179 - accuracy: 0.7232\n",
            "Epoch 14: val_loss did not improve from 0.62684\n",
            "594/594 [==============================] - 2s 4ms/step - loss: 0.6171 - accuracy: 0.7236 - val_loss: 0.6308 - val_accuracy: 0.7029 - lr: 6.7032e-04\n",
            "Epoch 15/50\n",
            "580/594 [============================>.] - ETA: 0s - loss: 0.6141 - accuracy: 0.7248\n",
            "Epoch 15: val_loss did not improve from 0.62684\n",
            "594/594 [==============================] - 3s 4ms/step - loss: 0.6136 - accuracy: 0.7248 - val_loss: 0.6314 - val_accuracy: 0.7021 - lr: 6.0653e-04\n",
            "Epoch 16/50\n",
            "592/594 [============================>.] - ETA: 0s - loss: 0.6079 - accuracy: 0.7253\n",
            "Epoch 16: val_loss improved from 0.62684 to 0.62607, saving model to best_model4.h5\n",
            "594/594 [==============================] - 3s 5ms/step - loss: 0.6074 - accuracy: 0.7255 - val_loss: 0.6261 - val_accuracy: 0.7065 - lr: 5.4881e-04\n",
            "Epoch 17/50\n",
            "588/594 [============================>.] - ETA: 0s - loss: 0.6065 - accuracy: 0.7207\n",
            "Epoch 17: val_loss did not improve from 0.62607\n",
            "594/594 [==============================] - 3s 5ms/step - loss: 0.6061 - accuracy: 0.7212 - val_loss: 0.6301 - val_accuracy: 0.7019 - lr: 4.9659e-04\n",
            "Epoch 18/50\n",
            "579/594 [============================>.] - ETA: 0s - loss: 0.6033 - accuracy: 0.7308\n",
            "Epoch 18: val_loss did not improve from 0.62607\n",
            "594/594 [==============================] - 2s 4ms/step - loss: 0.6043 - accuracy: 0.7300 - val_loss: 0.6298 - val_accuracy: 0.6962 - lr: 4.4933e-04\n",
            "Epoch 19/50\n",
            "576/594 [============================>.] - ETA: 0s - loss: 0.6045 - accuracy: 0.7245\n",
            "Epoch 19: val_loss did not improve from 0.62607\n",
            "594/594 [==============================] - 3s 4ms/step - loss: 0.6042 - accuracy: 0.7246 - val_loss: 0.6290 - val_accuracy: 0.6947 - lr: 4.0657e-04\n",
            "Epoch 20/50\n",
            "580/594 [============================>.] - ETA: 0s - loss: 0.6007 - accuracy: 0.7259\n",
            "Epoch 20: val_loss did not improve from 0.62607\n",
            "594/594 [==============================] - 3s 4ms/step - loss: 0.6015 - accuracy: 0.7260 - val_loss: 0.6297 - val_accuracy: 0.6985 - lr: 3.6788e-04\n",
            "Epoch 21/50\n",
            "578/594 [============================>.] - ETA: 0s - loss: 0.5980 - accuracy: 0.7277\n",
            "Epoch 21: val_loss did not improve from 0.62607\n",
            "594/594 [==============================] - 2s 4ms/step - loss: 0.5983 - accuracy: 0.7282 - val_loss: 0.6361 - val_accuracy: 0.6921 - lr: 3.3287e-04\n",
            "Epoch 22/50\n",
            "583/594 [============================>.] - ETA: 0s - loss: 0.5931 - accuracy: 0.7266\n",
            "Epoch 22: val_loss improved from 0.62607 to 0.62485, saving model to best_model4.h5\n",
            "594/594 [==============================] - 4s 6ms/step - loss: 0.5929 - accuracy: 0.7263 - val_loss: 0.6249 - val_accuracy: 0.7044 - lr: 3.0119e-04\n",
            "Epoch 23/50\n",
            "594/594 [==============================] - ETA: 0s - loss: 0.5908 - accuracy: 0.7287\n",
            "Epoch 23: val_loss did not improve from 0.62485\n",
            "594/594 [==============================] - 3s 5ms/step - loss: 0.5908 - accuracy: 0.7287 - val_loss: 0.6249 - val_accuracy: 0.7004 - lr: 2.7253e-04\n",
            "Epoch 24/50\n",
            "594/594 [==============================] - ETA: 0s - loss: 0.5928 - accuracy: 0.7300\n",
            "Epoch 24: val_loss did not improve from 0.62485\n",
            "594/594 [==============================] - 2s 4ms/step - loss: 0.5928 - accuracy: 0.7300 - val_loss: 0.6282 - val_accuracy: 0.6953 - lr: 2.4660e-04\n",
            "Epoch 25/50\n",
            "592/594 [============================>.] - ETA: 0s - loss: 0.5923 - accuracy: 0.7278\n",
            "Epoch 25: val_loss did not improve from 0.62485\n",
            "594/594 [==============================] - 2s 4ms/step - loss: 0.5920 - accuracy: 0.7281 - val_loss: 0.6307 - val_accuracy: 0.6945 - lr: 2.2313e-04\n",
            "Epoch 26/50\n",
            "573/594 [===========================>..] - ETA: 0s - loss: 0.5839 - accuracy: 0.7267\n",
            "Epoch 26: val_loss did not improve from 0.62485\n",
            "594/594 [==============================] - 2s 4ms/step - loss: 0.5834 - accuracy: 0.7262 - val_loss: 0.6320 - val_accuracy: 0.6959 - lr: 2.0190e-04\n",
            "Epoch 27/50\n",
            "593/594 [============================>.] - ETA: 0s - loss: 0.5870 - accuracy: 0.7278\n",
            "Epoch 27: val_loss did not improve from 0.62485\n",
            "594/594 [==============================] - 3s 5ms/step - loss: 0.5869 - accuracy: 0.7278 - val_loss: 0.6307 - val_accuracy: 0.6934 - lr: 1.8268e-04\n",
            "Epoch 28/50\n",
            "592/594 [============================>.] - ETA: 0s - loss: 0.5826 - accuracy: 0.7248\n",
            "Epoch 28: val_loss did not improve from 0.62485\n",
            "594/594 [==============================] - 3s 5ms/step - loss: 0.5823 - accuracy: 0.7251 - val_loss: 0.6255 - val_accuracy: 0.6975 - lr: 1.6530e-04\n",
            "Epoch 29/50\n",
            "577/594 [============================>.] - ETA: 0s - loss: 0.5820 - accuracy: 0.7317\n",
            "Epoch 29: val_loss did not improve from 0.62485\n",
            "594/594 [==============================] - 2s 4ms/step - loss: 0.5829 - accuracy: 0.7326 - val_loss: 0.6308 - val_accuracy: 0.6939 - lr: 1.4957e-04\n",
            "Epoch 30/50\n",
            "588/594 [============================>.] - ETA: 0s - loss: 0.5778 - accuracy: 0.7331\n",
            "Epoch 30: val_loss did not improve from 0.62485\n",
            "594/594 [==============================] - 2s 4ms/step - loss: 0.5789 - accuracy: 0.7326 - val_loss: 0.6286 - val_accuracy: 0.6967 - lr: 1.3534e-04\n",
            "Epoch 31/50\n",
            "577/594 [============================>.] - ETA: 0s - loss: 0.5771 - accuracy: 0.7327\n",
            "Epoch 31: val_loss did not improve from 0.62485\n",
            "594/594 [==============================] - 2s 4ms/step - loss: 0.5773 - accuracy: 0.7329 - val_loss: 0.6297 - val_accuracy: 0.6933 - lr: 1.2246e-04\n",
            "Epoch 32/50\n",
            "575/594 [============================>.] - ETA: 0s - loss: 0.5796 - accuracy: 0.7262\n",
            "Epoch 32: val_loss did not improve from 0.62485\n",
            "594/594 [==============================] - 2s 4ms/step - loss: 0.5821 - accuracy: 0.7258 - val_loss: 0.6257 - val_accuracy: 0.6979 - lr: 1.1080e-04\n",
            "Epoch 33/50\n",
            "580/594 [============================>.] - ETA: 0s - loss: 0.5761 - accuracy: 0.7297\n",
            "Epoch 33: val_loss did not improve from 0.62485\n",
            "594/594 [==============================] - 3s 5ms/step - loss: 0.5754 - accuracy: 0.7298 - val_loss: 0.6342 - val_accuracy: 0.6902 - lr: 1.0026e-04\n",
            "Epoch 34/50\n",
            "594/594 [==============================] - ETA: 0s - loss: 0.5842 - accuracy: 0.7256\n",
            "Epoch 34: val_loss did not improve from 0.62485\n",
            "594/594 [==============================] - 3s 5ms/step - loss: 0.5842 - accuracy: 0.7256 - val_loss: 0.6322 - val_accuracy: 0.6914 - lr: 9.0718e-05\n",
            "Epoch 35/50\n",
            "591/594 [============================>.] - ETA: 0s - loss: 0.5760 - accuracy: 0.7318\n",
            "Epoch 35: val_loss did not improve from 0.62485\n",
            "594/594 [==============================] - 3s 5ms/step - loss: 0.5766 - accuracy: 0.7312 - val_loss: 0.6309 - val_accuracy: 0.6920 - lr: 8.2085e-05\n",
            "Epoch 36/50\n",
            "583/594 [============================>.] - ETA: 0s - loss: 0.5745 - accuracy: 0.7365\n",
            "Epoch 36: val_loss did not improve from 0.62485\n",
            "594/594 [==============================] - 2s 4ms/step - loss: 0.5748 - accuracy: 0.7358 - val_loss: 0.6355 - val_accuracy: 0.6902 - lr: 7.4274e-05\n",
            "Epoch 37/50\n",
            "577/594 [============================>.] - ETA: 0s - loss: 0.5723 - accuracy: 0.7286\n",
            "Epoch 37: val_loss did not improve from 0.62485\n",
            "594/594 [==============================] - 2s 4ms/step - loss: 0.5731 - accuracy: 0.7284 - val_loss: 0.6366 - val_accuracy: 0.6872 - lr: 6.7206e-05\n",
            "Epoch 38/50\n",
            "582/594 [============================>.] - ETA: 0s - loss: 0.5651 - accuracy: 0.7380\n",
            "Epoch 38: val_loss did not improve from 0.62485\n",
            "594/594 [==============================] - 3s 5ms/step - loss: 0.5649 - accuracy: 0.7387 - val_loss: 0.6309 - val_accuracy: 0.6906 - lr: 6.0810e-05\n",
            "Epoch 39/50\n",
            "574/594 [===========================>..] - ETA: 0s - loss: 0.5748 - accuracy: 0.7324\n",
            "Epoch 39: val_loss did not improve from 0.62485\n",
            "594/594 [==============================] - 3s 6ms/step - loss: 0.5758 - accuracy: 0.7306 - val_loss: 0.6271 - val_accuracy: 0.6921 - lr: 5.5023e-05\n",
            "Epoch 40/50\n",
            "594/594 [==============================] - ETA: 0s - loss: 0.5766 - accuracy: 0.7301\n",
            "Epoch 40: val_loss did not improve from 0.62485\n",
            "594/594 [==============================] - 2s 4ms/step - loss: 0.5766 - accuracy: 0.7301 - val_loss: 0.6309 - val_accuracy: 0.6903 - lr: 4.9787e-05\n",
            "Epoch 41/50\n",
            "583/594 [============================>.] - ETA: 0s - loss: 0.5660 - accuracy: 0.7340\n",
            "Epoch 41: val_loss did not improve from 0.62485\n",
            "594/594 [==============================] - 2s 4ms/step - loss: 0.5673 - accuracy: 0.7336 - val_loss: 0.6395 - val_accuracy: 0.6855 - lr: 4.5049e-05\n",
            "Epoch 42/50\n",
            "574/594 [===========================>..] - ETA: 0s - loss: 0.5731 - accuracy: 0.7301\n",
            "Epoch 42: val_loss did not improve from 0.62485\n",
            "594/594 [==============================] - 3s 5ms/step - loss: 0.5737 - accuracy: 0.7304 - val_loss: 0.6356 - val_accuracy: 0.6880 - lr: 4.0762e-05\n",
            "Epoch 43/50\n",
            "586/594 [============================>.] - ETA: 0s - loss: 0.5678 - accuracy: 0.7365\n",
            "Epoch 43: val_loss did not improve from 0.62485\n",
            "594/594 [==============================] - 3s 5ms/step - loss: 0.5692 - accuracy: 0.7360 - val_loss: 0.6256 - val_accuracy: 0.6952 - lr: 3.6883e-05\n",
            "Epoch 44/50\n",
            "590/594 [============================>.] - ETA: 0s - loss: 0.5652 - accuracy: 0.7355\n",
            "Epoch 44: val_loss did not improve from 0.62485\n",
            "594/594 [==============================] - 4s 6ms/step - loss: 0.5655 - accuracy: 0.7352 - val_loss: 0.6316 - val_accuracy: 0.6902 - lr: 3.3373e-05\n",
            "Epoch 45/50\n",
            "581/594 [============================>.] - ETA: 0s - loss: 0.5643 - accuracy: 0.7355\n",
            "Epoch 45: val_loss did not improve from 0.62485\n",
            "594/594 [==============================] - 2s 4ms/step - loss: 0.5646 - accuracy: 0.7345 - val_loss: 0.6375 - val_accuracy: 0.6896 - lr: 3.0197e-05\n",
            "Epoch 46/50\n",
            "580/594 [============================>.] - ETA: 0s - loss: 0.5738 - accuracy: 0.7379\n",
            "Epoch 46: val_loss did not improve from 0.62485\n",
            "594/594 [==============================] - 3s 5ms/step - loss: 0.5736 - accuracy: 0.7377 - val_loss: 0.6359 - val_accuracy: 0.6886 - lr: 2.7324e-05\n",
            "Epoch 47/50\n",
            "580/594 [============================>.] - ETA: 0s - loss: 0.5639 - accuracy: 0.7332\n",
            "Epoch 47: val_loss did not improve from 0.62485\n",
            "594/594 [==============================] - 3s 5ms/step - loss: 0.5652 - accuracy: 0.7319 - val_loss: 0.6284 - val_accuracy: 0.6935 - lr: 2.4724e-05\n",
            "Epoch 48/50\n",
            "588/594 [============================>.] - ETA: 0s - loss: 0.5749 - accuracy: 0.7307\n",
            "Epoch 48: val_loss did not improve from 0.62485\n",
            "594/594 [==============================] - 3s 5ms/step - loss: 0.5742 - accuracy: 0.7298 - val_loss: 0.6377 - val_accuracy: 0.6865 - lr: 2.2371e-05\n",
            "Epoch 49/50\n",
            "590/594 [============================>.] - ETA: 0s - loss: 0.5689 - accuracy: 0.7343\n",
            "Epoch 49: val_loss did not improve from 0.62485\n",
            "594/594 [==============================] - 4s 6ms/step - loss: 0.5687 - accuracy: 0.7342 - val_loss: 0.6376 - val_accuracy: 0.6897 - lr: 2.0242e-05\n",
            "Epoch 50/50\n",
            "589/594 [============================>.] - ETA: 0s - loss: 0.5660 - accuracy: 0.7381\n",
            "Epoch 50: val_loss did not improve from 0.62485\n",
            "594/594 [==============================] - 3s 5ms/step - loss: 0.5656 - accuracy: 0.7381 - val_loss: 0.6367 - val_accuracy: 0.6869 - lr: 1.8316e-05\n"
          ]
        },
        {
          "output_type": "execute_result",
          "data": {
            "text/plain": [
              "<keras.src.callbacks.History at 0x7dd0daf63130>"
            ]
          },
          "metadata": {},
          "execution_count": 92
        }
      ]
    },
    {
      "cell_type": "code",
      "source": [
        "# Load model with lowest validation loss\n",
        "best_model4 = tf.keras.models.load_model('best_model4.h5')"
      ],
      "metadata": {
        "id": "py1hwcixGFrw"
      },
      "execution_count": null,
      "outputs": []
    },
    {
      "cell_type": "code",
      "source": [
        "# Test accuracy\n",
        "test_loss, test_acc = best_model4.evaluate(X_test, y_test)\n",
        "print(\"Test Accuracy:\", test_acc)"
      ],
      "metadata": {
        "colab": {
          "base_uri": "https://localhost:8080/"
        },
        "id": "ZHqKQKGxGLO8",
        "outputId": "46b92699-38f8-44bb-86a4-26ec71a9a3a0"
      },
      "execution_count": null,
      "outputs": [
        {
          "output_type": "stream",
          "name": "stdout",
          "text": [
            "297/297 [==============================] - 1s 2ms/step - loss: 0.6249 - accuracy: 0.7044\n",
            "Test Accuracy: 0.7044210433959961\n"
          ]
        }
      ]
    },
    {
      "cell_type": "code",
      "source": [
        "# Visualize training and validation loss during training process\n",
        "df_metrics = pd.read_csv('training_log4.csv')"
      ],
      "metadata": {
        "id": "xabnFZaYGRty"
      },
      "execution_count": null,
      "outputs": []
    },
    {
      "cell_type": "code",
      "source": [
        "plt.figure(figsize=(10,5))\n",
        "plt.plot(df_metrics['epoch'], df_metrics['accuracy'],\n",
        "         label='Training Accuracy', color='red')\n",
        "plt.plot(df_metrics['epoch'], df_metrics['val_accuracy'],\n",
        "         label='Validation Accuracy', color='blue')\n",
        "plt.title('Training and Validation Accuracy during Training Process')\n",
        "plt.xlabel('Epoch')\n",
        "plt.ylabel('Accuracy')\n",
        "plt.xticks(np.linspace(0, 50, 11).astype(int))\n",
        "plt.legend()\n",
        "plt.show()"
      ],
      "metadata": {
        "colab": {
          "base_uri": "https://localhost:8080/",
          "height": 490
        },
        "id": "HLk2J5AyGgqF",
        "outputId": "9bf9459e-56f4-42d5-c0d4-282c515e807e"
      },
      "execution_count": null,
      "outputs": [
        {
          "output_type": "display_data",
          "data": {
            "text/plain": [
              "<Figure size 1000x500 with 1 Axes>"
            ],
            "image/png": "[encoded data removed]"
          },
          "metadata": {}
        }
      ]
    },
    {
      "cell_type": "markdown",
      "source": [
        "## Evaluate"
      ],
      "metadata": {
        "id": "OGnvNrraG3Yu"
      }
    },
    {
      "cell_type": "code",
      "source": [
        "preds_proba_train = best_model4.predict(X_train).flatten()\n",
        "preds_train = (preds_proba_train > .5).astype(int)\n",
        "print(f'Training accuracy: {np.sum(preds_train == y_train)/len(y_train):.3f}')"
      ],
      "metadata": {
        "colab": {
          "base_uri": "https://localhost:8080/"
        },
        "id": "mxUFOXdrGwDw",
        "outputId": "531a9569-9c49-4d5e-bdcf-08cfc6f8b56f"
      },
      "execution_count": null,
      "outputs": [
        {
          "output_type": "stream",
          "name": "stdout",
          "text": [
            "297/297 [==============================] - 1s 1ms/step\n",
            "Training accuracy: 0.778\n"
          ]
        }
      ]
    },
    {
      "cell_type": "code",
      "source": [
        "preds_proba_test = best_model4.predict(X_test).flatten()\n",
        "preds_test = (preds_proba_test > .5).astype(int)\n",
        "print(f'Test accuracy: {np.sum(preds_test == y_test)/len(y_test):.3f}')"
      ],
      "metadata": {
        "colab": {
          "base_uri": "https://localhost:8080/"
        },
        "id": "o2XX6IQlGzwu",
        "outputId": "f45d0178-69a2-4602-c529-c54243e743fd"
      },
      "execution_count": null,
      "outputs": [
        {
          "output_type": "stream",
          "name": "stdout",
          "text": [
            "297/297 [==============================] - 0s 1ms/step\n",
            "Test accuracy: 0.704\n"
          ]
        }
      ]
    },
    {
      "cell_type": "code",
      "source": [
        "cmat = confusion_matrix(y_true=y_test, y_pred=preds_test)\n",
        "cmat_disp = ConfusionMatrixDisplay(cmat, display_labels=y_encoder.classes_)"
      ],
      "metadata": {
        "id": "Ma4pJmi2G25O"
      },
      "execution_count": null,
      "outputs": []
    },
    {
      "cell_type": "code",
      "source": [
        "plt.style.use('seaborn-v0_8-white')\n",
        "plt.rcParams['font.size'] = 13\n",
        "cmat_disp.plot();"
      ],
      "metadata": {
        "colab": {
          "base_uri": "https://localhost:8080/",
          "height": 451
        },
        "id": "LibrfAA7G-KF",
        "outputId": "1b5619c8-64ad-4487-cc6b-e853bc94773e"
      },
      "execution_count": null,
      "outputs": [
        {
          "output_type": "display_data",
          "data": {
            "text/plain": [
              "<Figure size 640x480 with 2 Axes>"
            ],
            "image/png": "[encoded data removed]"
          },
          "metadata": {}
        }
      ]
    },
    {
      "cell_type": "code",
      "source": [
        "# Additional metrics for performance on test data\n",
        "metrics = Metrics(cmat)\n",
        "print(f'Accuracy: {metrics.accuracy():.2%}')\n",
        "print(f'Sensitivity/Recall (TPR): {metrics.recall():.2%}')\n",
        "print(f'Specificity (TNR): {metrics.specificity():.2%}')\n",
        "print(f'Precision: {metrics.precision():.2%}')\n",
        "print(f'F1: {metrics.f1_score():.2f}')\n",
        "print(f'AUC: {roc_auc_score(y_test, preds_proba_test):.2f}')"
      ],
      "metadata": {
        "colab": {
          "base_uri": "https://localhost:8080/"
        },
        "id": "s1_KBWPLHDWF",
        "outputId": "29370086-3549-4e42-dd39-46f40d9c2672"
      },
      "execution_count": null,
      "outputs": [
        {
          "output_type": "stream",
          "name": "stdout",
          "text": [
            "Accuracy: 70.44%\n",
            "Sensitivity/Recall (TPR): 77.04%\n",
            "Specificity (TNR): 53.04%\n",
            "Precision: 81.23%\n",
            "F1: 0.79\n",
            "AUC: 0.69\n"
          ]
        }
      ]
    },
    {
      "cell_type": "markdown",
      "source": [
        "# DV: VV_general, excl. lag"
      ],
      "metadata": {
        "id": "6sAu2w_dHLmG"
      }
    },
    {
      "cell_type": "markdown",
      "source": [
        "## Preprocessing"
      ],
      "metadata": {
        "id": "TMm35cGwHnk1"
      }
    },
    {
      "cell_type": "code",
      "source": [
        "df_cces_4 = df_cces.drop(['VV_primary', 'VV_primary_lag', 'VV_general_lag'], axis=1)"
      ],
      "metadata": {
        "id": "0msHjzgiHP8V"
      },
      "execution_count": null,
      "outputs": []
    },
    {
      "cell_type": "code",
      "source": [
        "df_train, df_test = split_cces(df_cces_4)"
      ],
      "metadata": {
        "id": "YUae-VWMHtbB"
      },
      "execution_count": null,
      "outputs": []
    },
    {
      "cell_type": "code",
      "source": [
        "# Number of samples per split\n",
        "print(f'# Training samples: {len(df_train)} \\\n",
        "        # Test samples: {len(df_test)}')"
      ],
      "metadata": {
        "colab": {
          "base_uri": "https://localhost:8080/"
        },
        "id": "qTXHc2uIHyIT",
        "outputId": "ce242605-7fdb-46d9-a0aa-d04930116059"
      },
      "execution_count": null,
      "outputs": [
        {
          "output_type": "stream",
          "name": "stdout",
          "text": [
            "# Training samples: 9500         # Test samples: 9500\n"
          ]
        }
      ]
    },
    {
      "cell_type": "code",
      "source": [
        "X_train = df_train.drop('VV_general', axis=1)\n",
        "y_train = df_train['VV_general'].to_numpy()\n",
        "X_test = df_test.drop('VV_general', axis=1)\n",
        "y_test = df_test['VV_general'].to_numpy()"
      ],
      "metadata": {
        "id": "3MnTFKqhH4oN"
      },
      "execution_count": null,
      "outputs": []
    },
    {
      "cell_type": "code",
      "source": [
        "# Encode targets\n",
        "y_encoder = LabelEncoder()\n",
        "\n",
        "y_train = y_encoder.fit_transform(y_train)\n",
        "y_test = y_encoder.transform(y_test)"
      ],
      "metadata": {
        "id": "jsow0ywbSVx-"
      },
      "execution_count": null,
      "outputs": []
    },
    {
      "cell_type": "code",
      "source": [
        "# Identify ordered categorical columns\n",
        "ordered_cat_cols = [col for col in X_train.columns if pd.api.types.is_categorical_dtype(df_cces[col]) and df_cces[col].cat.ordered]\n",
        "# Identify unordered cateforical columns\n",
        "unordered_cat_cols = [col for col in X_train.columns if pd.api.types.is_categorical_dtype(df_cces[col]) and not df_cces[col].cat.ordered]\n",
        "# Define dictionary for category order\n",
        "category_order = {col: list(X_train[col].cat.categories) for col in ordered_cat_cols}"
      ],
      "metadata": {
        "id": "qYfUP4VeSp5-"
      },
      "execution_count": null,
      "outputs": []
    },
    {
      "cell_type": "code",
      "source": [
        "# One-hot encode only unordered categorical columns\n",
        "col_trans = ColumnTransformer(\n",
        "    [(col,\n",
        "      OneHotEncoder(drop='first',\n",
        "                    sparse_output=False,\n",
        "                    handle_unknown='ignore'),\n",
        "     [col]) for col in unordered_cat_cols] +\n",
        "    [(col,\n",
        "      OrdinalEncoder(categories=[category_order[col]],\n",
        "                     handle_unknown='use_encoded_value',\n",
        "                     unknown_value=np.nan),\n",
        "      [col]) for col in ordered_cat_cols],\n",
        "    remainder='passthrough'\n",
        ")\n",
        "\n",
        "# Impute missing values\n",
        "knn_imputer = KNNImputer(missing_values=np.nan,\n",
        "                         n_neighbors=13,\n",
        "                         weights='distance')\n",
        "\n",
        "# Scaling\n",
        "scaler = StandardScaler(with_mean=True,\n",
        "                        with_std=True)"
      ],
      "metadata": {
        "id": "aHiRrxioStBt"
      },
      "execution_count": null,
      "outputs": []
    },
    {
      "cell_type": "code",
      "source": [
        "# Define pipeline\n",
        "pipe = Pipeline(steps=[('col_trans', col_trans),\n",
        "                       ('knn_imputer', knn_imputer),\n",
        "                       ('scaler', scaler)]).set_output(transform='pandas')"
      ],
      "metadata": {
        "id": "Hd1SeaJ9Svrf"
      },
      "execution_count": null,
      "outputs": []
    },
    {
      "cell_type": "code",
      "source": [
        "# Fit and apply pipe to training features\n",
        "X_train = pipe.fit_transform(X_train)\n",
        "# Apply pipe to validation and test features\n",
        "X_test = pipe.transform(X_test)"
      ],
      "metadata": {
        "colab": {
          "base_uri": "https://localhost:8080/"
        },
        "id": "xhXfPqORSx32",
        "outputId": "41023be1-160f-4067-9ddd-5bbe6c8a6dbb"
      },
      "execution_count": null,
      "outputs": [
        {
          "output_type": "stream",
          "name": "stderr",
          "text": [
            "/usr/local/lib/python3.10/dist-packages/sklearn/preprocessing/_encoders.py:202: UserWarning: Found unknown categories in columns [0] during transform. These unknown categories will be encoded as all zeros\n",
            "  warnings.warn(\n",
            "/usr/local/lib/python3.10/dist-packages/sklearn/preprocessing/_encoders.py:202: UserWarning: Found unknown categories in columns [0] during transform. These unknown categories will be encoded as all zeros\n",
            "  warnings.warn(\n"
          ]
        }
      ]
    },
    {
      "cell_type": "code",
      "source": [
        "# Check shape\n",
        "X_train.shape[1] # 217 features"
      ],
      "metadata": {
        "colab": {
          "base_uri": "https://localhost:8080/"
        },
        "id": "PfaI_RXcS11l",
        "outputId": "fd792469-a030-475e-ac4d-08c6f05ded99"
      },
      "execution_count": null,
      "outputs": [
        {
          "output_type": "execute_result",
          "data": {
            "text/plain": [
              "217"
            ]
          },
          "metadata": {},
          "execution_count": 111
        }
      ]
    },
    {
      "cell_type": "markdown",
      "source": [
        "## Fit – No adjustment for class imbalance"
      ],
      "metadata": {
        "id": "6Kk8htScS3ZE"
      }
    },
    {
      "cell_type": "code",
      "source": [
        "# Set global seed\n",
        "seed = 42\n",
        "os.environ['PYTHONHASHSEED'] = str(seed)\n",
        "random.seed(seed)\n",
        "np.random.seed(seed)\n",
        "tf.random.set_seed(seed)"
      ],
      "metadata": {
        "id": "mEoC9V5bS-0f"
      },
      "execution_count": null,
      "outputs": []
    },
    {
      "cell_type": "code",
      "source": [
        "# Define model architecture\n",
        "model5 = Sequential([\n",
        "    Dense(64, input_shape=(X_train.shape[1],),\n",
        "          kernel_initializer='he_normal',\n",
        "          kernel_regularizer=regularizers.l2(0.001)),\n",
        "    BatchNormalization(),\n",
        "    Activation('relu'),\n",
        "    Dropout(0.5),\n",
        "    Dense(32, kernel_initializer='he_normal',\n",
        "          kernel_regularizer=regularizers.l2(0.001)),\n",
        "    BatchNormalization(),\n",
        "    Activation('relu'),\n",
        "    Dropout(0.5),\n",
        "    Dense(1),\n",
        "    Activation('sigmoid')\n",
        "])"
      ],
      "metadata": {
        "id": "CGeiuGU0TD1o"
      },
      "execution_count": null,
      "outputs": []
    },
    {
      "cell_type": "code",
      "source": [
        "model5.summary()"
      ],
      "metadata": {
        "colab": {
          "base_uri": "https://localhost:8080/"
        },
        "id": "cUmy60rBTLHu",
        "outputId": "df2df5a6-99a4-48e2-bc83-725e30272400"
      },
      "execution_count": null,
      "outputs": [
        {
          "output_type": "stream",
          "name": "stdout",
          "text": [
            "Model: \"sequential_4\"\n",
            "_________________________________________________________________\n",
            " Layer (type)                Output Shape              Param #   \n",
            "=================================================================\n",
            " dense_12 (Dense)            (None, 64)                13952     \n",
            "                                                                 \n",
            " batch_normalization_8 (Bat  (None, 64)                256       \n",
            " chNormalization)                                                \n",
            "                                                                 \n",
            " activation_12 (Activation)  (None, 64)                0         \n",
            "                                                                 \n",
            " dropout_8 (Dropout)         (None, 64)                0         \n",
            "                                                                 \n",
            " dense_13 (Dense)            (None, 32)                2080      \n",
            "                                                                 \n",
            " batch_normalization_9 (Bat  (None, 32)                128       \n",
            " chNormalization)                                                \n",
            "                                                                 \n",
            " activation_13 (Activation)  (None, 32)                0         \n",
            "                                                                 \n",
            " dropout_9 (Dropout)         (None, 32)                0         \n",
            "                                                                 \n",
            " dense_14 (Dense)            (None, 1)                 33        \n",
            "                                                                 \n",
            " activation_14 (Activation)  (None, 1)                 0         \n",
            "                                                                 \n",
            "=================================================================\n",
            "Total params: 16449 (64.25 KB)\n",
            "Trainable params: 16257 (63.50 KB)\n",
            "Non-trainable params: 192 (768.00 Byte)\n",
            "_________________________________________________________________\n"
          ]
        }
      ]
    },
    {
      "cell_type": "code",
      "source": [
        "# Set learning rate, loss and metric\n",
        "model5.compile(optimizer=Adam(learning_rate=0.001),\n",
        "              loss='binary_crossentropy',\n",
        "              metrics=['accuracy'])"
      ],
      "metadata": {
        "id": "l_SEKEg4TWwg"
      },
      "execution_count": null,
      "outputs": []
    },
    {
      "cell_type": "code",
      "source": [
        "# Set checkpoint, logger, and learning rate scheduler\n",
        "checkpoint = ModelCheckpoint('best_model5.h5',\n",
        "                             save_best_only=True,\n",
        "                             monitor='val_loss',\n",
        "                             mode='min',\n",
        "                             verbose=1)\n",
        "\n",
        "csv_logger = CSVLogger('training_log5.csv', append=False)\n",
        "\n",
        "def scheduler(epoch, lr):\n",
        "  if epoch < 10:\n",
        "    return lr\n",
        "  else:\n",
        "    return lr * np.exp(-0.1)\n",
        "\n",
        "lr_scheduler = LearningRateScheduler(scheduler)"
      ],
      "metadata": {
        "id": "SlrwWOo8TaHF"
      },
      "execution_count": null,
      "outputs": []
    },
    {
      "cell_type": "code",
      "source": [
        "model5.fit(X_train,\n",
        "           y_train,\n",
        "           epochs=50,\n",
        "           batch_size=16,\n",
        "           validation_data=(X_test, y_test),\n",
        "           callbacks=[checkpoint, csv_logger, lr_scheduler])"
      ],
      "metadata": {
        "colab": {
          "base_uri": "https://localhost:8080/"
        },
        "id": "ywwV51wzTh-S",
        "outputId": "747375f1-641b-4e3a-892f-2c6e5f2597ea"
      },
      "execution_count": null,
      "outputs": [
        {
          "output_type": "stream",
          "name": "stdout",
          "text": [
            "Epoch 1/50\n",
            "591/594 [============================>.] - ETA: 0s - loss: 0.7913 - accuracy: 0.6949\n",
            "Epoch 1: val_loss improved from inf to 0.69520, saving model to best_model5.h5\n",
            "594/594 [==============================] - 5s 5ms/step - loss: 0.7911 - accuracy: 0.6952 - val_loss: 0.6952 - val_accuracy: 0.7596 - lr: 0.0010\n",
            "Epoch 2/50\n",
            " 44/594 [=>............................] - ETA: 1s - loss: 0.6883 - accuracy: 0.7557"
          ]
        },
        {
          "output_type": "stream",
          "name": "stderr",
          "text": [
            "/usr/local/lib/python3.10/dist-packages/keras/src/engine/training.py:3103: UserWarning: You are saving your model as an HDF5 file via `model.save()`. This file format is considered legacy. We recommend using instead the native Keras format, e.g. `model.save('my_model.keras')`.\n",
            "  saving_api.save_model(\n"
          ]
        },
        {
          "output_type": "stream",
          "name": "stdout",
          "text": [
            "590/594 [============================>.] - ETA: 0s - loss: 0.6868 - accuracy: 0.7553\n",
            "Epoch 2: val_loss improved from 0.69520 to 0.65612, saving model to best_model5.h5\n",
            "594/594 [==============================] - 3s 5ms/step - loss: 0.6871 - accuracy: 0.7553 - val_loss: 0.6561 - val_accuracy: 0.7644 - lr: 0.0010\n",
            "Epoch 3/50\n",
            "583/594 [============================>.] - ETA: 0s - loss: 0.6344 - accuracy: 0.7657\n",
            "Epoch 3: val_loss improved from 0.65612 to 0.63423, saving model to best_model5.h5\n",
            "594/594 [==============================] - 3s 6ms/step - loss: 0.6346 - accuracy: 0.7656 - val_loss: 0.6342 - val_accuracy: 0.7627 - lr: 0.0010\n",
            "Epoch 4/50\n",
            "574/594 [===========================>..] - ETA: 0s - loss: 0.6076 - accuracy: 0.7712\n",
            "Epoch 4: val_loss improved from 0.63423 to 0.61608, saving model to best_model5.h5\n",
            "594/594 [==============================] - 2s 4ms/step - loss: 0.6092 - accuracy: 0.7701 - val_loss: 0.6161 - val_accuracy: 0.7649 - lr: 0.0010\n",
            "Epoch 5/50\n",
            "591/594 [============================>.] - ETA: 0s - loss: 0.5907 - accuracy: 0.7741\n",
            "Epoch 5: val_loss improved from 0.61608 to 0.60186, saving model to best_model5.h5\n",
            "594/594 [==============================] - 3s 5ms/step - loss: 0.5908 - accuracy: 0.7740 - val_loss: 0.6019 - val_accuracy: 0.7629 - lr: 0.0010\n",
            "Epoch 6/50\n",
            "589/594 [============================>.] - ETA: 0s - loss: 0.5716 - accuracy: 0.7711\n",
            "Epoch 6: val_loss improved from 0.60186 to 0.59279, saving model to best_model5.h5\n",
            "594/594 [==============================] - 3s 5ms/step - loss: 0.5718 - accuracy: 0.7709 - val_loss: 0.5928 - val_accuracy: 0.7631 - lr: 0.0010\n",
            "Epoch 7/50\n",
            "592/594 [============================>.] - ETA: 0s - loss: 0.5632 - accuracy: 0.7739\n",
            "Epoch 7: val_loss improved from 0.59279 to 0.58368, saving model to best_model5.h5\n",
            "594/594 [==============================] - 3s 6ms/step - loss: 0.5632 - accuracy: 0.7738 - val_loss: 0.5837 - val_accuracy: 0.7645 - lr: 0.0010\n",
            "Epoch 8/50\n",
            "582/594 [============================>.] - ETA: 0s - loss: 0.5524 - accuracy: 0.7743\n",
            "Epoch 8: val_loss improved from 0.58368 to 0.57979, saving model to best_model5.h5\n",
            "594/594 [==============================] - 3s 5ms/step - loss: 0.5528 - accuracy: 0.7741 - val_loss: 0.5798 - val_accuracy: 0.7622 - lr: 0.0010\n",
            "Epoch 9/50\n",
            "587/594 [============================>.] - ETA: 0s - loss: 0.5535 - accuracy: 0.7696\n",
            "Epoch 9: val_loss improved from 0.57979 to 0.57968, saving model to best_model5.h5\n",
            "594/594 [==============================] - 3s 4ms/step - loss: 0.5527 - accuracy: 0.7700 - val_loss: 0.5797 - val_accuracy: 0.7608 - lr: 0.0010\n",
            "Epoch 10/50\n",
            "594/594 [==============================] - ETA: 0s - loss: 0.5427 - accuracy: 0.7799\n",
            "Epoch 10: val_loss improved from 0.57968 to 0.57599, saving model to best_model5.h5\n",
            "594/594 [==============================] - 2s 4ms/step - loss: 0.5427 - accuracy: 0.7799 - val_loss: 0.5760 - val_accuracy: 0.7616 - lr: 0.0010\n",
            "Epoch 11/50\n",
            "589/594 [============================>.] - ETA: 0s - loss: 0.5405 - accuracy: 0.7748\n",
            "Epoch 11: val_loss improved from 0.57599 to 0.56718, saving model to best_model5.h5\n",
            "594/594 [==============================] - 3s 5ms/step - loss: 0.5399 - accuracy: 0.7751 - val_loss: 0.5672 - val_accuracy: 0.7636 - lr: 9.0484e-04\n",
            "Epoch 12/50\n",
            "582/594 [============================>.] - ETA: 0s - loss: 0.5365 - accuracy: 0.7741\n",
            "Epoch 12: val_loss did not improve from 0.56718\n",
            "594/594 [==============================] - 3s 6ms/step - loss: 0.5369 - accuracy: 0.7735 - val_loss: 0.5695 - val_accuracy: 0.7624 - lr: 8.1873e-04\n",
            "Epoch 13/50\n",
            "579/594 [============================>.] - ETA: 0s - loss: 0.5339 - accuracy: 0.7739\n",
            "Epoch 13: val_loss did not improve from 0.56718\n",
            "594/594 [==============================] - 3s 4ms/step - loss: 0.5330 - accuracy: 0.7754 - val_loss: 0.5714 - val_accuracy: 0.7624 - lr: 7.4082e-04\n",
            "Epoch 14/50\n",
            "592/594 [============================>.] - ETA: 0s - loss: 0.5289 - accuracy: 0.7748\n",
            "Epoch 14: val_loss did not improve from 0.56718\n",
            "594/594 [==============================] - 3s 5ms/step - loss: 0.5289 - accuracy: 0.7749 - val_loss: 0.5715 - val_accuracy: 0.7614 - lr: 6.7032e-04\n",
            "Epoch 15/50\n",
            "583/594 [============================>.] - ETA: 0s - loss: 0.5269 - accuracy: 0.7723\n",
            "Epoch 15: val_loss did not improve from 0.56718\n",
            "594/594 [==============================] - 3s 5ms/step - loss: 0.5267 - accuracy: 0.7726 - val_loss: 0.5687 - val_accuracy: 0.7609 - lr: 6.0653e-04\n",
            "Epoch 16/50\n",
            "581/594 [============================>.] - ETA: 0s - loss: 0.5182 - accuracy: 0.7807\n",
            "Epoch 16: val_loss did not improve from 0.56718\n",
            "594/594 [==============================] - 3s 4ms/step - loss: 0.5198 - accuracy: 0.7794 - val_loss: 0.5683 - val_accuracy: 0.7624 - lr: 5.4881e-04\n",
            "Epoch 17/50\n",
            "584/594 [============================>.] - ETA: 0s - loss: 0.5213 - accuracy: 0.7785\n",
            "Epoch 17: val_loss did not improve from 0.56718\n",
            "594/594 [==============================] - 4s 7ms/step - loss: 0.5213 - accuracy: 0.7785 - val_loss: 0.5695 - val_accuracy: 0.7628 - lr: 4.9659e-04\n",
            "Epoch 18/50\n",
            "594/594 [==============================] - ETA: 0s - loss: 0.5180 - accuracy: 0.7779\n",
            "Epoch 18: val_loss did not improve from 0.56718\n",
            "594/594 [==============================] - 2s 4ms/step - loss: 0.5180 - accuracy: 0.7779 - val_loss: 0.5692 - val_accuracy: 0.7623 - lr: 4.4933e-04\n",
            "Epoch 19/50\n",
            "577/594 [============================>.] - ETA: 0s - loss: 0.5096 - accuracy: 0.7803\n",
            "Epoch 19: val_loss did not improve from 0.56718\n",
            "594/594 [==============================] - 3s 5ms/step - loss: 0.5109 - accuracy: 0.7800 - val_loss: 0.5682 - val_accuracy: 0.7613 - lr: 4.0657e-04\n",
            "Epoch 20/50\n",
            "589/594 [============================>.] - ETA: 0s - loss: 0.5101 - accuracy: 0.7814\n",
            "Epoch 20: val_loss did not improve from 0.56718\n",
            "594/594 [==============================] - 3s 5ms/step - loss: 0.5098 - accuracy: 0.7816 - val_loss: 0.5703 - val_accuracy: 0.7613 - lr: 3.6788e-04\n",
            "Epoch 21/50\n",
            "587/594 [============================>.] - ETA: 0s - loss: 0.5075 - accuracy: 0.7826\n",
            "Epoch 21: val_loss did not improve from 0.56718\n",
            "594/594 [==============================] - 3s 5ms/step - loss: 0.5079 - accuracy: 0.7820 - val_loss: 0.5727 - val_accuracy: 0.7602 - lr: 3.3287e-04\n",
            "Epoch 22/50\n",
            "577/594 [============================>.] - ETA: 0s - loss: 0.5027 - accuracy: 0.7816\n",
            "Epoch 22: val_loss did not improve from 0.56718\n",
            "594/594 [==============================] - 3s 6ms/step - loss: 0.5024 - accuracy: 0.7823 - val_loss: 0.5715 - val_accuracy: 0.7636 - lr: 3.0119e-04\n",
            "Epoch 23/50\n",
            "585/594 [============================>.] - ETA: 0s - loss: 0.5026 - accuracy: 0.7829\n",
            "Epoch 23: val_loss did not improve from 0.56718\n",
            "594/594 [==============================] - 3s 4ms/step - loss: 0.5025 - accuracy: 0.7827 - val_loss: 0.5711 - val_accuracy: 0.7637 - lr: 2.7253e-04\n",
            "Epoch 24/50\n",
            "578/594 [============================>.] - ETA: 0s - loss: 0.5054 - accuracy: 0.7796\n",
            "Epoch 24: val_loss did not improve from 0.56718\n",
            "594/594 [==============================] - 3s 5ms/step - loss: 0.5052 - accuracy: 0.7796 - val_loss: 0.5685 - val_accuracy: 0.7618 - lr: 2.4660e-04\n",
            "Epoch 25/50\n",
            "590/594 [============================>.] - ETA: 0s - loss: 0.4998 - accuracy: 0.7817\n",
            "Epoch 25: val_loss improved from 0.56718 to 0.56698, saving model to best_model5.h5\n",
            "594/594 [==============================] - 3s 5ms/step - loss: 0.4997 - accuracy: 0.7819 - val_loss: 0.5670 - val_accuracy: 0.7632 - lr: 2.2313e-04\n",
            "Epoch 26/50\n",
            "585/594 [============================>.] - ETA: 0s - loss: 0.4946 - accuracy: 0.7873\n",
            "Epoch 26: val_loss did not improve from 0.56698\n",
            "594/594 [==============================] - 5s 8ms/step - loss: 0.4927 - accuracy: 0.7887 - val_loss: 0.5695 - val_accuracy: 0.7625 - lr: 2.0190e-04\n",
            "Epoch 27/50\n",
            "587/594 [============================>.] - ETA: 0s - loss: 0.4924 - accuracy: 0.7866\n",
            "Epoch 27: val_loss did not improve from 0.56698\n",
            "594/594 [==============================] - 3s 5ms/step - loss: 0.4930 - accuracy: 0.7861 - val_loss: 0.5723 - val_accuracy: 0.7624 - lr: 1.8268e-04\n",
            "Epoch 28/50\n",
            "588/594 [============================>.] - ETA: 0s - loss: 0.4940 - accuracy: 0.7839\n",
            "Epoch 28: val_loss did not improve from 0.56698\n",
            "594/594 [==============================] - 3s 4ms/step - loss: 0.4938 - accuracy: 0.7842 - val_loss: 0.5724 - val_accuracy: 0.7631 - lr: 1.6530e-04\n",
            "Epoch 29/50\n",
            "589/594 [============================>.] - ETA: 0s - loss: 0.4886 - accuracy: 0.7864\n",
            "Epoch 29: val_loss did not improve from 0.56698\n",
            "594/594 [==============================] - 3s 5ms/step - loss: 0.4889 - accuracy: 0.7864 - val_loss: 0.5730 - val_accuracy: 0.7637 - lr: 1.4957e-04\n",
            "Epoch 30/50\n",
            "589/594 [============================>.] - ETA: 0s - loss: 0.4838 - accuracy: 0.7889\n",
            "Epoch 30: val_loss did not improve from 0.56698\n",
            "594/594 [==============================] - 3s 6ms/step - loss: 0.4846 - accuracy: 0.7885 - val_loss: 0.5756 - val_accuracy: 0.7633 - lr: 1.3534e-04\n",
            "Epoch 31/50\n",
            "576/594 [============================>.] - ETA: 0s - loss: 0.4825 - accuracy: 0.7857\n",
            "Epoch 31: val_loss did not improve from 0.56698\n",
            "594/594 [==============================] - 3s 6ms/step - loss: 0.4815 - accuracy: 0.7867 - val_loss: 0.5774 - val_accuracy: 0.7615 - lr: 1.2246e-04\n",
            "Epoch 32/50\n",
            "591/594 [============================>.] - ETA: 0s - loss: 0.4861 - accuracy: 0.7885\n",
            "Epoch 32: val_loss did not improve from 0.56698\n",
            "594/594 [==============================] - 2s 4ms/step - loss: 0.4863 - accuracy: 0.7883 - val_loss: 0.5748 - val_accuracy: 0.7609 - lr: 1.1080e-04\n",
            "Epoch 33/50\n",
            "594/594 [==============================] - ETA: 0s - loss: 0.4885 - accuracy: 0.7847\n",
            "Epoch 33: val_loss did not improve from 0.56698\n",
            "594/594 [==============================] - 2s 4ms/step - loss: 0.4885 - accuracy: 0.7847 - val_loss: 0.5766 - val_accuracy: 0.7606 - lr: 1.0026e-04\n",
            "Epoch 34/50\n",
            "576/594 [============================>.] - ETA: 0s - loss: 0.4855 - accuracy: 0.7848\n",
            "Epoch 34: val_loss did not improve from 0.56698\n",
            "594/594 [==============================] - 2s 4ms/step - loss: 0.4852 - accuracy: 0.7851 - val_loss: 0.5771 - val_accuracy: 0.7608 - lr: 9.0718e-05\n",
            "Epoch 35/50\n",
            "591/594 [============================>.] - ETA: 0s - loss: 0.4766 - accuracy: 0.7924\n",
            "Epoch 35: val_loss did not improve from 0.56698\n",
            "594/594 [==============================] - 5s 9ms/step - loss: 0.4768 - accuracy: 0.7922 - val_loss: 0.5770 - val_accuracy: 0.7620 - lr: 8.2085e-05\n",
            "Epoch 36/50\n",
            "587/594 [============================>.] - ETA: 0s - loss: 0.4742 - accuracy: 0.7931\n",
            "Epoch 36: val_loss did not improve from 0.56698\n",
            "594/594 [==============================] - 3s 5ms/step - loss: 0.4744 - accuracy: 0.7927 - val_loss: 0.5770 - val_accuracy: 0.7620 - lr: 7.4274e-05\n",
            "Epoch 37/50\n",
            "578/594 [============================>.] - ETA: 0s - loss: 0.4733 - accuracy: 0.7930\n",
            "Epoch 37: val_loss did not improve from 0.56698\n",
            "594/594 [==============================] - 3s 5ms/step - loss: 0.4747 - accuracy: 0.7925 - val_loss: 0.5782 - val_accuracy: 0.7643 - lr: 6.7206e-05\n",
            "Epoch 38/50\n",
            "587/594 [============================>.] - ETA: 0s - loss: 0.4794 - accuracy: 0.7878\n",
            "Epoch 38: val_loss did not improve from 0.56698\n",
            "594/594 [==============================] - 3s 5ms/step - loss: 0.4793 - accuracy: 0.7882 - val_loss: 0.5811 - val_accuracy: 0.7629 - lr: 6.0810e-05\n",
            "Epoch 39/50\n",
            "584/594 [============================>.] - ETA: 0s - loss: 0.4737 - accuracy: 0.7902\n",
            "Epoch 39: val_loss did not improve from 0.56698\n",
            "594/594 [==============================] - 4s 6ms/step - loss: 0.4736 - accuracy: 0.7905 - val_loss: 0.5796 - val_accuracy: 0.7631 - lr: 5.5023e-05\n",
            "Epoch 40/50\n",
            "575/594 [============================>.] - ETA: 0s - loss: 0.4768 - accuracy: 0.7912\n",
            "Epoch 40: val_loss did not improve from 0.56698\n",
            "594/594 [==============================] - 3s 5ms/step - loss: 0.4752 - accuracy: 0.7920 - val_loss: 0.5781 - val_accuracy: 0.7623 - lr: 4.9787e-05\n",
            "Epoch 41/50\n",
            "578/594 [============================>.] - ETA: 0s - loss: 0.4746 - accuracy: 0.7925\n",
            "Epoch 41: val_loss did not improve from 0.56698\n",
            "594/594 [==============================] - 2s 4ms/step - loss: 0.4755 - accuracy: 0.7919 - val_loss: 0.5788 - val_accuracy: 0.7613 - lr: 4.5049e-05\n",
            "Epoch 42/50\n",
            "582/594 [============================>.] - ETA: 0s - loss: 0.4748 - accuracy: 0.7924\n",
            "Epoch 42: val_loss did not improve from 0.56698\n",
            "594/594 [==============================] - 3s 5ms/step - loss: 0.4753 - accuracy: 0.7918 - val_loss: 0.5783 - val_accuracy: 0.7623 - lr: 4.0762e-05\n",
            "Epoch 43/50\n",
            "590/594 [============================>.] - ETA: 0s - loss: 0.4677 - accuracy: 0.7978\n",
            "Epoch 43: val_loss did not improve from 0.56698\n",
            "594/594 [==============================] - 3s 5ms/step - loss: 0.4685 - accuracy: 0.7973 - val_loss: 0.5791 - val_accuracy: 0.7624 - lr: 3.6883e-05\n",
            "Epoch 44/50\n",
            "582/594 [============================>.] - ETA: 0s - loss: 0.4753 - accuracy: 0.7895\n",
            "Epoch 44: val_loss did not improve from 0.56698\n",
            "594/594 [==============================] - 4s 6ms/step - loss: 0.4745 - accuracy: 0.7896 - val_loss: 0.5794 - val_accuracy: 0.7625 - lr: 3.3373e-05\n",
            "Epoch 45/50\n",
            "586/594 [============================>.] - ETA: 0s - loss: 0.4696 - accuracy: 0.7956\n",
            "Epoch 45: val_loss did not improve from 0.56698\n",
            "594/594 [==============================] - 3s 5ms/step - loss: 0.4700 - accuracy: 0.7954 - val_loss: 0.5796 - val_accuracy: 0.7616 - lr: 3.0197e-05\n",
            "Epoch 46/50\n",
            "592/594 [============================>.] - ETA: 0s - loss: 0.4706 - accuracy: 0.7951\n",
            "Epoch 46: val_loss did not improve from 0.56698\n",
            "594/594 [==============================] - 3s 5ms/step - loss: 0.4706 - accuracy: 0.7951 - val_loss: 0.5784 - val_accuracy: 0.7626 - lr: 2.7324e-05\n",
            "Epoch 47/50\n",
            "584/594 [============================>.] - ETA: 0s - loss: 0.4681 - accuracy: 0.7936\n",
            "Epoch 47: val_loss did not improve from 0.56698\n",
            "594/594 [==============================] - 3s 4ms/step - loss: 0.4681 - accuracy: 0.7929 - val_loss: 0.5798 - val_accuracy: 0.7621 - lr: 2.4724e-05\n",
            "Epoch 48/50\n",
            "594/594 [==============================] - ETA: 0s - loss: 0.4683 - accuracy: 0.7937\n",
            "Epoch 48: val_loss did not improve from 0.56698\n",
            "594/594 [==============================] - 4s 7ms/step - loss: 0.4683 - accuracy: 0.7937 - val_loss: 0.5793 - val_accuracy: 0.7615 - lr: 2.2371e-05\n",
            "Epoch 49/50\n",
            "581/594 [============================>.] - ETA: 0s - loss: 0.4690 - accuracy: 0.7932\n",
            "Epoch 49: val_loss did not improve from 0.56698\n",
            "594/594 [==============================] - 3s 4ms/step - loss: 0.4691 - accuracy: 0.7939 - val_loss: 0.5818 - val_accuracy: 0.7609 - lr: 2.0242e-05\n",
            "Epoch 50/50\n",
            "582/594 [============================>.] - ETA: 0s - loss: 0.4651 - accuracy: 0.7978\n",
            "Epoch 50: val_loss did not improve from 0.56698\n",
            "594/594 [==============================] - 2s 4ms/step - loss: 0.4644 - accuracy: 0.7981 - val_loss: 0.5793 - val_accuracy: 0.7613 - lr: 1.8316e-05\n"
          ]
        },
        {
          "output_type": "execute_result",
          "data": {
            "text/plain": [
              "<keras.src.callbacks.History at 0x7dd0e1d84550>"
            ]
          },
          "metadata": {},
          "execution_count": 117
        }
      ]
    },
    {
      "cell_type": "code",
      "source": [
        "# Load model with lowest validation loss\n",
        "best_model5 = tf.keras.models.load_model('best_model5.h5')"
      ],
      "metadata": {
        "id": "hzVx_zmzT6-5"
      },
      "execution_count": null,
      "outputs": []
    },
    {
      "cell_type": "code",
      "source": [
        "# Test accuracy\n",
        "test_loss, test_acc = best_model5.evaluate(X_test, y_test)\n",
        "print(\"Test Accuracy:\", test_acc)"
      ],
      "metadata": {
        "id": "U4EuC-SNT_Sr",
        "colab": {
          "base_uri": "https://localhost:8080/"
        },
        "outputId": "dfc85c59-b591-40f4-eab5-b99b5ed96af4"
      },
      "execution_count": null,
      "outputs": [
        {
          "output_type": "stream",
          "name": "stdout",
          "text": [
            "297/297 [==============================] - 1s 2ms/step - loss: 0.5670 - accuracy: 0.7632\n",
            "Test Accuracy: 0.7631579041481018\n"
          ]
        }
      ]
    },
    {
      "cell_type": "code",
      "source": [
        "# Visualize training and validation loss during training process\n",
        "df_metrics = pd.read_csv('training_log5.csv')"
      ],
      "metadata": {
        "id": "fpxKKi-uUCn8"
      },
      "execution_count": null,
      "outputs": []
    },
    {
      "cell_type": "code",
      "source": [
        "plt.figure(figsize=(10,5))\n",
        "plt.plot(df_metrics['epoch'], df_metrics['accuracy'],\n",
        "         label='Training Accuracy', color='red')\n",
        "plt.plot(df_metrics['epoch'], df_metrics['val_accuracy'],\n",
        "         label='Validation Accuracy', color='blue')\n",
        "plt.title('Training and Validation Accuracy during Training Process')\n",
        "plt.xlabel('Epoch')\n",
        "plt.ylabel('Accuracy')\n",
        "plt.xticks(np.linspace(0, 50, 11).astype(int))\n",
        "plt.legend()\n",
        "plt.show()"
      ],
      "metadata": {
        "id": "JYTk_xOZUGGm",
        "colab": {
          "base_uri": "https://localhost:8080/",
          "height": 490
        },
        "outputId": "ab887209-dc62-4168-e8b3-8a3325e6f1ff"
      },
      "execution_count": null,
      "outputs": [
        {
          "output_type": "display_data",
          "data": {
            "text/plain": [
              "<Figure size 1000x500 with 1 Axes>"
            ],
            "image/png": "[encoded data removed]"
          },
          "metadata": {}
        }
      ]
    },
    {
      "cell_type": "markdown",
      "source": [
        "## Evaluate"
      ],
      "metadata": {
        "id": "SFWeYBtsUOI9"
      }
    },
    {
      "cell_type": "code",
      "source": [
        "preds_proba_train = best_model5.predict(X_train).flatten()\n",
        "preds_train = (preds_proba_train > .5).astype(int)\n",
        "print(f'Training accuracy: {np.sum(preds_train == y_train)/len(y_train):.3f}')"
      ],
      "metadata": {
        "id": "dO99ew48UIn1",
        "colab": {
          "base_uri": "https://localhost:8080/"
        },
        "outputId": "e23c8e8b-5b36-4b38-f775-7e2cc48fcb00"
      },
      "execution_count": null,
      "outputs": [
        {
          "output_type": "stream",
          "name": "stdout",
          "text": [
            "297/297 [==============================] - 1s 2ms/step\n",
            "Training accuracy: 0.796\n"
          ]
        }
      ]
    },
    {
      "cell_type": "code",
      "source": [
        "preds_proba_test = best_model5.predict(X_test).flatten()\n",
        "preds_test = (preds_proba_test > .5).astype(int)\n",
        "print(f'Test accuracy: {np.sum(preds_test == y_test)/len(y_test):.3f}')"
      ],
      "metadata": {
        "id": "JBAe9i3GUQHl",
        "colab": {
          "base_uri": "https://localhost:8080/"
        },
        "outputId": "23087ace-e2e3-457a-ded6-6a04c751f0d0"
      },
      "execution_count": null,
      "outputs": [
        {
          "output_type": "stream",
          "name": "stdout",
          "text": [
            "297/297 [==============================] - 1s 2ms/step\n",
            "Test accuracy: 0.763\n"
          ]
        }
      ]
    },
    {
      "cell_type": "markdown",
      "source": [
        "## Fit – Class weights"
      ],
      "metadata": {
        "id": "_7fJ2MHPUnll"
      }
    },
    {
      "cell_type": "code",
      "source": [
        "# Compute class weights\n",
        "class_weights = compute_class_weight('balanced',\n",
        "                                     classes=np.unique(y_train),\n",
        "                                     y=y_train)\n",
        "class_weight_dict = {class_label: weight for class_label, weight in zip(np.unique(y_train), class_weights)}"
      ],
      "metadata": {
        "id": "KuTBjYRIUqHy"
      },
      "execution_count": null,
      "outputs": []
    },
    {
      "cell_type": "code",
      "source": [
        "# Set global seed\n",
        "seed = 42\n",
        "os.environ['PYTHONHASHSEED'] = str(seed)\n",
        "random.seed(seed)\n",
        "np.random.seed(seed)\n",
        "tf.random.set_seed(seed)"
      ],
      "metadata": {
        "id": "92hy3rwCUxyI"
      },
      "execution_count": null,
      "outputs": []
    },
    {
      "cell_type": "code",
      "source": [
        "# Define model architecture\n",
        "model6 = Sequential([\n",
        "    Dense(64, input_shape=(X_train.shape[1],),\n",
        "          kernel_initializer='he_normal',\n",
        "          kernel_regularizer=regularizers.l2(0.001)),\n",
        "    BatchNormalization(),\n",
        "    Activation('relu'),\n",
        "    Dropout(0.5),\n",
        "    Dense(32, kernel_initializer='he_normal',\n",
        "          kernel_regularizer=regularizers.l2(0.001)),\n",
        "    BatchNormalization(),\n",
        "    Activation('relu'),\n",
        "    Dropout(0.5),\n",
        "    Dense(1),\n",
        "    Activation('sigmoid')\n",
        "])"
      ],
      "metadata": {
        "id": "uXXVVMARU1ab"
      },
      "execution_count": null,
      "outputs": []
    },
    {
      "cell_type": "code",
      "source": [
        "model6.summary()"
      ],
      "metadata": {
        "id": "KQbEPJ-8U4Wv",
        "colab": {
          "base_uri": "https://localhost:8080/"
        },
        "outputId": "b7ba112a-b36c-486a-95a3-1efa96e1ee2e"
      },
      "execution_count": null,
      "outputs": [
        {
          "output_type": "stream",
          "name": "stdout",
          "text": [
            "Model: \"sequential_5\"\n",
            "_________________________________________________________________\n",
            " Layer (type)                Output Shape              Param #   \n",
            "=================================================================\n",
            " dense_15 (Dense)            (None, 64)                13952     \n",
            "                                                                 \n",
            " batch_normalization_10 (Ba  (None, 64)                256       \n",
            " tchNormalization)                                               \n",
            "                                                                 \n",
            " activation_15 (Activation)  (None, 64)                0         \n",
            "                                                                 \n",
            " dropout_10 (Dropout)        (None, 64)                0         \n",
            "                                                                 \n",
            " dense_16 (Dense)            (None, 32)                2080      \n",
            "                                                                 \n",
            " batch_normalization_11 (Ba  (None, 32)                128       \n",
            " tchNormalization)                                               \n",
            "                                                                 \n",
            " activation_16 (Activation)  (None, 32)                0         \n",
            "                                                                 \n",
            " dropout_11 (Dropout)        (None, 32)                0         \n",
            "                                                                 \n",
            " dense_17 (Dense)            (None, 1)                 33        \n",
            "                                                                 \n",
            " activation_17 (Activation)  (None, 1)                 0         \n",
            "                                                                 \n",
            "=================================================================\n",
            "Total params: 16449 (64.25 KB)\n",
            "Trainable params: 16257 (63.50 KB)\n",
            "Non-trainable params: 192 (768.00 Byte)\n",
            "_________________________________________________________________\n"
          ]
        }
      ]
    },
    {
      "cell_type": "code",
      "source": [
        "# Set learning rate, loss and metric\n",
        "model6.compile(optimizer=Adam(learning_rate=0.001),\n",
        "              loss='binary_crossentropy',\n",
        "              metrics=['accuracy'])"
      ],
      "metadata": {
        "id": "5sxpyPETU7US"
      },
      "execution_count": null,
      "outputs": []
    },
    {
      "cell_type": "code",
      "source": [
        "# Set checkpoint, logger, and learning rate scheduler\n",
        "checkpoint = ModelCheckpoint('best_model6.h5',\n",
        "                             save_best_only=True,\n",
        "                             monitor='val_loss',\n",
        "                             mode='min',\n",
        "                             verbose=1)\n",
        "\n",
        "csv_logger = CSVLogger('training_log6.csv', append=False)\n",
        "\n",
        "def scheduler(epoch, lr):\n",
        "  if epoch < 10:\n",
        "    return lr\n",
        "  else:\n",
        "    return lr * np.exp(-0.1)\n",
        "\n",
        "lr_scheduler = LearningRateScheduler(scheduler)"
      ],
      "metadata": {
        "id": "4wUaf8HVU-Sa"
      },
      "execution_count": null,
      "outputs": []
    },
    {
      "cell_type": "code",
      "source": [
        "model6.fit(X_train,\n",
        "           y_train,\n",
        "           epochs=50,\n",
        "           batch_size=16,\n",
        "           validation_data=(X_test, y_test),\n",
        "           callbacks=[checkpoint, csv_logger, lr_scheduler],\n",
        "           class_weight=class_weight_dict)"
      ],
      "metadata": {
        "id": "Ts-eF76IVCEk",
        "colab": {
          "base_uri": "https://localhost:8080/"
        },
        "outputId": "4431d23c-0c0a-405b-a61d-baefc12f5612"
      },
      "execution_count": null,
      "outputs": [
        {
          "output_type": "stream",
          "name": "stdout",
          "text": [
            "Epoch 1/50\n",
            "578/594 [============================>.] - ETA: 0s - loss: 0.8987 - accuracy: 0.5536\n",
            "Epoch 1: val_loss improved from inf to 0.80815, saving model to best_model6.h5\n",
            "594/594 [==============================] - 5s 5ms/step - loss: 0.8982 - accuracy: 0.5535 - val_loss: 0.8081 - val_accuracy: 0.6299 - lr: 0.0010\n",
            "Epoch 2/50\n",
            " 60/594 [==>...........................] - ETA: 1s - loss: 0.8359 - accuracy: 0.6177"
          ]
        },
        {
          "output_type": "stream",
          "name": "stderr",
          "text": [
            "/usr/local/lib/python3.10/dist-packages/keras/src/engine/training.py:3103: UserWarning: You are saving your model as an HDF5 file via `model.save()`. This file format is considered legacy. We recommend using instead the native Keras format, e.g. `model.save('my_model.keras')`.\n",
            "  saving_api.save_model(\n"
          ]
        },
        {
          "output_type": "stream",
          "name": "stdout",
          "text": [
            "580/594 [============================>.] - ETA: 0s - loss: 0.8083 - accuracy: 0.6087\n",
            "Epoch 2: val_loss improved from 0.80815 to 0.76053, saving model to best_model6.h5\n",
            "594/594 [==============================] - 3s 5ms/step - loss: 0.8079 - accuracy: 0.6100 - val_loss: 0.7605 - val_accuracy: 0.6718 - lr: 0.0010\n",
            "Epoch 3/50\n",
            "579/594 [============================>.] - ETA: 0s - loss: 0.7585 - accuracy: 0.6536\n",
            "Epoch 3: val_loss improved from 0.76053 to 0.72394, saving model to best_model6.h5\n",
            "594/594 [==============================] - 3s 4ms/step - loss: 0.7583 - accuracy: 0.6526 - val_loss: 0.7239 - val_accuracy: 0.6874 - lr: 0.0010\n",
            "Epoch 4/50\n",
            "588/594 [============================>.] - ETA: 0s - loss: 0.7306 - accuracy: 0.6745\n",
            "Epoch 4: val_loss improved from 0.72394 to 0.71279, saving model to best_model6.h5\n",
            "594/594 [==============================] - 4s 6ms/step - loss: 0.7316 - accuracy: 0.6737 - val_loss: 0.7128 - val_accuracy: 0.6783 - lr: 0.0010\n",
            "Epoch 5/50\n",
            "589/594 [============================>.] - ETA: 0s - loss: 0.7131 - accuracy: 0.6740\n",
            "Epoch 5: val_loss improved from 0.71279 to 0.69341, saving model to best_model6.h5\n",
            "594/594 [==============================] - 3s 5ms/step - loss: 0.7134 - accuracy: 0.6743 - val_loss: 0.6934 - val_accuracy: 0.6806 - lr: 0.0010\n",
            "Epoch 6/50\n",
            "592/594 [============================>.] - ETA: 0s - loss: 0.6929 - accuracy: 0.6716\n",
            "Epoch 6: val_loss improved from 0.69341 to 0.67548, saving model to best_model6.h5\n",
            "594/594 [==============================] - 3s 4ms/step - loss: 0.6923 - accuracy: 0.6719 - val_loss: 0.6755 - val_accuracy: 0.6812 - lr: 0.0010\n",
            "Epoch 7/50\n",
            "586/594 [============================>.] - ETA: 0s - loss: 0.6831 - accuracy: 0.6772\n",
            "Epoch 7: val_loss improved from 0.67548 to 0.66667, saving model to best_model6.h5\n",
            "594/594 [==============================] - 3s 5ms/step - loss: 0.6834 - accuracy: 0.6765 - val_loss: 0.6667 - val_accuracy: 0.6837 - lr: 0.0010\n",
            "Epoch 8/50\n",
            "594/594 [==============================] - ETA: 0s - loss: 0.6701 - accuracy: 0.6840\n",
            "Epoch 8: val_loss did not improve from 0.66667\n",
            "594/594 [==============================] - 3s 5ms/step - loss: 0.6701 - accuracy: 0.6840 - val_loss: 0.6693 - val_accuracy: 0.6782 - lr: 0.0010\n",
            "Epoch 9/50\n",
            "586/594 [============================>.] - ETA: 0s - loss: 0.6735 - accuracy: 0.6713\n",
            "Epoch 9: val_loss improved from 0.66667 to 0.66189, saving model to best_model6.h5\n",
            "594/594 [==============================] - 4s 7ms/step - loss: 0.6734 - accuracy: 0.6711 - val_loss: 0.6619 - val_accuracy: 0.6812 - lr: 0.0010\n",
            "Epoch 10/50\n",
            "592/594 [============================>.] - ETA: 0s - loss: 0.6639 - accuracy: 0.6825\n",
            "Epoch 10: val_loss did not improve from 0.66189\n",
            "594/594 [==============================] - 3s 4ms/step - loss: 0.6638 - accuracy: 0.6825 - val_loss: 0.6665 - val_accuracy: 0.6615 - lr: 0.0010\n",
            "Epoch 11/50\n",
            "591/594 [============================>.] - ETA: 0s - loss: 0.6597 - accuracy: 0.6753\n",
            "Epoch 11: val_loss improved from 0.66189 to 0.65976, saving model to best_model6.h5\n",
            "594/594 [==============================] - 3s 4ms/step - loss: 0.6597 - accuracy: 0.6756 - val_loss: 0.6598 - val_accuracy: 0.6747 - lr: 9.0484e-04\n",
            "Epoch 12/50\n",
            "590/594 [============================>.] - ETA: 0s - loss: 0.6533 - accuracy: 0.6887\n",
            "Epoch 12: val_loss improved from 0.65976 to 0.65961, saving model to best_model6.h5\n",
            "594/594 [==============================] - 3s 5ms/step - loss: 0.6535 - accuracy: 0.6883 - val_loss: 0.6596 - val_accuracy: 0.6696 - lr: 8.1873e-04\n",
            "Epoch 13/50\n",
            "589/594 [============================>.] - ETA: 0s - loss: 0.6520 - accuracy: 0.6696\n",
            "Epoch 13: val_loss improved from 0.65961 to 0.65428, saving model to best_model6.h5\n",
            "594/594 [==============================] - 4s 6ms/step - loss: 0.6513 - accuracy: 0.6694 - val_loss: 0.6543 - val_accuracy: 0.6669 - lr: 7.4082e-04\n",
            "Epoch 14/50\n",
            "594/594 [==============================] - ETA: 0s - loss: 0.6481 - accuracy: 0.6800\n",
            "Epoch 14: val_loss did not improve from 0.65428\n",
            "594/594 [==============================] - 2s 4ms/step - loss: 0.6481 - accuracy: 0.6800 - val_loss: 0.6554 - val_accuracy: 0.6547 - lr: 6.7032e-04\n",
            "Epoch 15/50\n",
            "578/594 [============================>.] - ETA: 0s - loss: 0.6431 - accuracy: 0.6875\n",
            "Epoch 15: val_loss improved from 0.65428 to 0.65234, saving model to best_model6.h5\n",
            "594/594 [==============================] - 3s 4ms/step - loss: 0.6431 - accuracy: 0.6878 - val_loss: 0.6523 - val_accuracy: 0.6678 - lr: 6.0653e-04\n",
            "Epoch 16/50\n",
            "589/594 [============================>.] - ETA: 0s - loss: 0.6395 - accuracy: 0.6890\n",
            "Epoch 16: val_loss did not improve from 0.65234\n",
            "594/594 [==============================] - 3s 4ms/step - loss: 0.6395 - accuracy: 0.6893 - val_loss: 0.6554 - val_accuracy: 0.6633 - lr: 5.4881e-04\n",
            "Epoch 17/50\n",
            "589/594 [============================>.] - ETA: 0s - loss: 0.6427 - accuracy: 0.6785\n",
            "Epoch 17: val_loss did not improve from 0.65234\n",
            "594/594 [==============================] - 3s 5ms/step - loss: 0.6422 - accuracy: 0.6787 - val_loss: 0.6578 - val_accuracy: 0.6484 - lr: 4.9659e-04\n",
            "Epoch 18/50\n",
            "587/594 [============================>.] - ETA: 0s - loss: 0.6345 - accuracy: 0.6906\n",
            "Epoch 18: val_loss did not improve from 0.65234\n",
            "594/594 [==============================] - 4s 7ms/step - loss: 0.6351 - accuracy: 0.6900 - val_loss: 0.6534 - val_accuracy: 0.6528 - lr: 4.4933e-04\n",
            "Epoch 19/50\n",
            "588/594 [============================>.] - ETA: 0s - loss: 0.6261 - accuracy: 0.6866\n",
            "Epoch 19: val_loss improved from 0.65234 to 0.65040, saving model to best_model6.h5\n",
            "594/594 [==============================] - 3s 4ms/step - loss: 0.6262 - accuracy: 0.6863 - val_loss: 0.6504 - val_accuracy: 0.6547 - lr: 4.0657e-04\n",
            "Epoch 20/50\n",
            "581/594 [============================>.] - ETA: 0s - loss: 0.6203 - accuracy: 0.6915\n",
            "Epoch 20: val_loss improved from 0.65040 to 0.64918, saving model to best_model6.h5\n",
            "594/594 [==============================] - 3s 5ms/step - loss: 0.6209 - accuracy: 0.6911 - val_loss: 0.6492 - val_accuracy: 0.6573 - lr: 3.6788e-04\n",
            "Epoch 21/50\n",
            "577/594 [============================>.] - ETA: 0s - loss: 0.6212 - accuracy: 0.6853\n",
            "Epoch 21: val_loss did not improve from 0.64918\n",
            "594/594 [==============================] - 3s 5ms/step - loss: 0.6218 - accuracy: 0.6844 - val_loss: 0.6509 - val_accuracy: 0.6526 - lr: 3.3287e-04\n",
            "Epoch 22/50\n",
            "590/594 [============================>.] - ETA: 0s - loss: 0.6078 - accuracy: 0.6945\n",
            "Epoch 22: val_loss improved from 0.64918 to 0.64314, saving model to best_model6.h5\n",
            "594/594 [==============================] - 4s 7ms/step - loss: 0.6086 - accuracy: 0.6941 - val_loss: 0.6431 - val_accuracy: 0.6661 - lr: 3.0119e-04\n",
            "Epoch 23/50\n",
            "592/594 [============================>.] - ETA: 0s - loss: 0.6153 - accuracy: 0.6942\n",
            "Epoch 23: val_loss improved from 0.64314 to 0.64228, saving model to best_model6.h5\n",
            "594/594 [==============================] - 3s 5ms/step - loss: 0.6157 - accuracy: 0.6939 - val_loss: 0.6423 - val_accuracy: 0.6647 - lr: 2.7253e-04\n",
            "Epoch 24/50\n",
            "585/594 [============================>.] - ETA: 0s - loss: 0.6191 - accuracy: 0.6942\n",
            "Epoch 24: val_loss did not improve from 0.64228\n",
            "594/594 [==============================] - 2s 4ms/step - loss: 0.6192 - accuracy: 0.6942 - val_loss: 0.6466 - val_accuracy: 0.6554 - lr: 2.4660e-04\n",
            "Epoch 25/50\n",
            "581/594 [============================>.] - ETA: 0s - loss: 0.6059 - accuracy: 0.7023\n",
            "Epoch 25: val_loss did not improve from 0.64228\n",
            "594/594 [==============================] - 2s 4ms/step - loss: 0.6070 - accuracy: 0.7024 - val_loss: 0.6487 - val_accuracy: 0.6564 - lr: 2.2313e-04\n",
            "Epoch 26/50\n",
            "589/594 [============================>.] - ETA: 0s - loss: 0.5985 - accuracy: 0.7013\n",
            "Epoch 26: val_loss did not improve from 0.64228\n",
            "594/594 [==============================] - 3s 5ms/step - loss: 0.5979 - accuracy: 0.7004 - val_loss: 0.6499 - val_accuracy: 0.6531 - lr: 2.0190e-04\n",
            "Epoch 27/50\n",
            "593/594 [============================>.] - ETA: 0s - loss: 0.6028 - accuracy: 0.7051\n",
            "Epoch 27: val_loss did not improve from 0.64228\n",
            "594/594 [==============================] - 4s 6ms/step - loss: 0.6026 - accuracy: 0.7053 - val_loss: 0.6504 - val_accuracy: 0.6518 - lr: 1.8268e-04\n",
            "Epoch 28/50\n",
            "590/594 [============================>.] - ETA: 0s - loss: 0.5973 - accuracy: 0.7017\n",
            "Epoch 28: val_loss did not improve from 0.64228\n",
            "594/594 [==============================] - 3s 5ms/step - loss: 0.5970 - accuracy: 0.7020 - val_loss: 0.6424 - val_accuracy: 0.6647 - lr: 1.6530e-04\n",
            "Epoch 29/50\n",
            "587/594 [============================>.] - ETA: 0s - loss: 0.5908 - accuracy: 0.7063\n",
            "Epoch 29: val_loss did not improve from 0.64228\n",
            "594/594 [==============================] - 3s 5ms/step - loss: 0.5916 - accuracy: 0.7062 - val_loss: 0.6459 - val_accuracy: 0.6605 - lr: 1.4957e-04\n",
            "Epoch 30/50\n",
            "581/594 [============================>.] - ETA: 0s - loss: 0.5927 - accuracy: 0.7089\n",
            "Epoch 30: val_loss did not improve from 0.64228\n",
            "594/594 [==============================] - 3s 5ms/step - loss: 0.5936 - accuracy: 0.7099 - val_loss: 0.6442 - val_accuracy: 0.6606 - lr: 1.3534e-04\n",
            "Epoch 31/50\n",
            "585/594 [============================>.] - ETA: 0s - loss: 0.5905 - accuracy: 0.7062\n",
            "Epoch 31: val_loss did not improve from 0.64228\n",
            "594/594 [==============================] - 4s 6ms/step - loss: 0.5895 - accuracy: 0.7066 - val_loss: 0.6467 - val_accuracy: 0.6585 - lr: 1.2246e-04\n",
            "Epoch 32/50\n",
            "590/594 [============================>.] - ETA: 0s - loss: 0.5953 - accuracy: 0.7071\n",
            "Epoch 32: val_loss did not improve from 0.64228\n",
            "594/594 [==============================] - 3s 5ms/step - loss: 0.5958 - accuracy: 0.7072 - val_loss: 0.6480 - val_accuracy: 0.6592 - lr: 1.1080e-04\n",
            "Epoch 33/50\n",
            "581/594 [============================>.] - ETA: 0s - loss: 0.5973 - accuracy: 0.7049\n",
            "Epoch 33: val_loss did not improve from 0.64228\n",
            "594/594 [==============================] - 3s 4ms/step - loss: 0.5966 - accuracy: 0.7052 - val_loss: 0.6499 - val_accuracy: 0.6571 - lr: 1.0026e-04\n",
            "Epoch 34/50\n",
            "581/594 [============================>.] - ETA: 0s - loss: 0.5867 - accuracy: 0.7108\n",
            "Epoch 34: val_loss did not improve from 0.64228\n",
            "594/594 [==============================] - 3s 5ms/step - loss: 0.5870 - accuracy: 0.7108 - val_loss: 0.6481 - val_accuracy: 0.6578 - lr: 9.0718e-05\n",
            "Epoch 35/50\n",
            "591/594 [============================>.] - ETA: 0s - loss: 0.5857 - accuracy: 0.7122\n",
            "Epoch 35: val_loss did not improve from 0.64228\n",
            "594/594 [==============================] - 5s 9ms/step - loss: 0.5858 - accuracy: 0.7122 - val_loss: 0.6446 - val_accuracy: 0.6618 - lr: 8.2085e-05\n",
            "Epoch 36/50\n",
            "581/594 [============================>.] - ETA: 0s - loss: 0.5794 - accuracy: 0.7164\n",
            "Epoch 36: val_loss did not improve from 0.64228\n",
            "594/594 [==============================] - 3s 5ms/step - loss: 0.5793 - accuracy: 0.7162 - val_loss: 0.6529 - val_accuracy: 0.6506 - lr: 7.4274e-05\n",
            "Epoch 37/50\n",
            "576/594 [============================>.] - ETA: 0s - loss: 0.5797 - accuracy: 0.7102\n",
            "Epoch 37: val_loss did not improve from 0.64228\n",
            "594/594 [==============================] - 3s 5ms/step - loss: 0.5815 - accuracy: 0.7102 - val_loss: 0.6491 - val_accuracy: 0.6562 - lr: 6.7206e-05\n",
            "Epoch 38/50\n",
            "590/594 [============================>.] - ETA: 0s - loss: 0.5860 - accuracy: 0.7052\n",
            "Epoch 38: val_loss did not improve from 0.64228\n",
            "594/594 [==============================] - 3s 5ms/step - loss: 0.5858 - accuracy: 0.7054 - val_loss: 0.6481 - val_accuracy: 0.6582 - lr: 6.0810e-05\n",
            "Epoch 39/50\n",
            "594/594 [==============================] - ETA: 0s - loss: 0.5732 - accuracy: 0.7171\n",
            "Epoch 39: val_loss did not improve from 0.64228\n",
            "594/594 [==============================] - 4s 7ms/step - loss: 0.5732 - accuracy: 0.7171 - val_loss: 0.6497 - val_accuracy: 0.6546 - lr: 5.5023e-05\n",
            "Epoch 40/50\n",
            "584/594 [============================>.] - ETA: 0s - loss: 0.5870 - accuracy: 0.7110\n",
            "Epoch 40: val_loss did not improve from 0.64228\n",
            "594/594 [==============================] - 3s 5ms/step - loss: 0.5865 - accuracy: 0.7109 - val_loss: 0.6490 - val_accuracy: 0.6557 - lr: 4.9787e-05\n",
            "Epoch 41/50\n",
            "584/594 [============================>.] - ETA: 0s - loss: 0.5803 - accuracy: 0.7123\n",
            "Epoch 41: val_loss did not improve from 0.64228\n",
            "594/594 [==============================] - 3s 5ms/step - loss: 0.5810 - accuracy: 0.7120 - val_loss: 0.6530 - val_accuracy: 0.6509 - lr: 4.5049e-05\n",
            "Epoch 42/50\n",
            "582/594 [============================>.] - ETA: 0s - loss: 0.5847 - accuracy: 0.7139\n",
            "Epoch 42: val_loss did not improve from 0.64228\n",
            "594/594 [==============================] - 3s 4ms/step - loss: 0.5849 - accuracy: 0.7143 - val_loss: 0.6480 - val_accuracy: 0.6555 - lr: 4.0762e-05\n",
            "Epoch 43/50\n",
            "585/594 [============================>.] - ETA: 0s - loss: 0.5724 - accuracy: 0.7171\n",
            "Epoch 43: val_loss did not improve from 0.64228\n",
            "594/594 [==============================] - 4s 6ms/step - loss: 0.5732 - accuracy: 0.7176 - val_loss: 0.6452 - val_accuracy: 0.6594 - lr: 3.6883e-05\n",
            "Epoch 44/50\n",
            "592/594 [============================>.] - ETA: 0s - loss: 0.5783 - accuracy: 0.7207\n",
            "Epoch 44: val_loss did not improve from 0.64228\n",
            "594/594 [==============================] - 3s 5ms/step - loss: 0.5780 - accuracy: 0.7211 - val_loss: 0.6475 - val_accuracy: 0.6553 - lr: 3.3373e-05\n",
            "Epoch 45/50\n",
            "581/594 [============================>.] - ETA: 0s - loss: 0.5720 - accuracy: 0.7250\n",
            "Epoch 45: val_loss did not improve from 0.64228\n",
            "594/594 [==============================] - 2s 4ms/step - loss: 0.5720 - accuracy: 0.7252 - val_loss: 0.6512 - val_accuracy: 0.6535 - lr: 3.0197e-05\n",
            "Epoch 46/50\n",
            "591/594 [============================>.] - ETA: 0s - loss: 0.5775 - accuracy: 0.7179\n",
            "Epoch 46: val_loss did not improve from 0.64228\n",
            "594/594 [==============================] - 3s 5ms/step - loss: 0.5774 - accuracy: 0.7176 - val_loss: 0.6473 - val_accuracy: 0.6584 - lr: 2.7324e-05\n",
            "Epoch 47/50\n",
            "587/594 [============================>.] - ETA: 0s - loss: 0.5766 - accuracy: 0.7190\n",
            "Epoch 47: val_loss did not improve from 0.64228\n",
            "594/594 [==============================] - 3s 5ms/step - loss: 0.5763 - accuracy: 0.7194 - val_loss: 0.6469 - val_accuracy: 0.6581 - lr: 2.4724e-05\n",
            "Epoch 48/50\n",
            "594/594 [==============================] - ETA: 0s - loss: 0.5706 - accuracy: 0.7242\n",
            "Epoch 48: val_loss did not improve from 0.64228\n",
            "594/594 [==============================] - 4s 6ms/step - loss: 0.5706 - accuracy: 0.7242 - val_loss: 0.6522 - val_accuracy: 0.6515 - lr: 2.2371e-05\n",
            "Epoch 49/50\n",
            "590/594 [============================>.] - ETA: 0s - loss: 0.5724 - accuracy: 0.7210\n",
            "Epoch 49: val_loss did not improve from 0.64228\n",
            "594/594 [==============================] - 3s 5ms/step - loss: 0.5722 - accuracy: 0.7211 - val_loss: 0.6484 - val_accuracy: 0.6587 - lr: 2.0242e-05\n",
            "Epoch 50/50\n",
            "590/594 [============================>.] - ETA: 0s - loss: 0.5665 - accuracy: 0.7182\n",
            "Epoch 50: val_loss did not improve from 0.64228\n",
            "594/594 [==============================] - 3s 4ms/step - loss: 0.5665 - accuracy: 0.7184 - val_loss: 0.6498 - val_accuracy: 0.6572 - lr: 1.8316e-05\n"
          ]
        },
        {
          "output_type": "execute_result",
          "data": {
            "text/plain": [
              "<keras.src.callbacks.History at 0x7dd0e01f6410>"
            ]
          },
          "metadata": {},
          "execution_count": 130
        }
      ]
    },
    {
      "cell_type": "code",
      "source": [
        "# Load model with lowest validation loss\n",
        "best_model6 = tf.keras.models.load_model('best_model6.h5')"
      ],
      "metadata": {
        "id": "o6AyWlNPVFSp"
      },
      "execution_count": null,
      "outputs": []
    },
    {
      "cell_type": "code",
      "source": [
        "# Test accuracy\n",
        "test_loss, test_acc = best_model6.evaluate(X_test, y_test)\n",
        "print(\"Test Accuracy:\", test_acc)"
      ],
      "metadata": {
        "id": "aVAQrPIVVNaZ",
        "colab": {
          "base_uri": "https://localhost:8080/"
        },
        "outputId": "747cf711-14b7-4f5d-f970-d7ab64adde76"
      },
      "execution_count": null,
      "outputs": [
        {
          "output_type": "stream",
          "name": "stdout",
          "text": [
            "297/297 [==============================] - 1s 2ms/step - loss: 0.6423 - accuracy: 0.6647\n",
            "Test Accuracy: 0.6647368669509888\n"
          ]
        }
      ]
    },
    {
      "cell_type": "code",
      "source": [
        "# Visualize training and validation loss during training process\n",
        "df_metrics = pd.read_csv('training_log6.csv')"
      ],
      "metadata": {
        "id": "ik8xrAKZVQH1"
      },
      "execution_count": null,
      "outputs": []
    },
    {
      "cell_type": "code",
      "source": [
        "plt.figure(figsize=(10,5))\n",
        "plt.plot(df_metrics['epoch'], df_metrics['accuracy'],\n",
        "         label='Training Accuracy', color='red')\n",
        "plt.plot(df_metrics['epoch'], df_metrics['val_accuracy'],\n",
        "         label='Validation Accuracy', color='blue')\n",
        "plt.title('Training and Validation Accuracy during Training Process')\n",
        "plt.xlabel('Epoch')\n",
        "plt.ylabel('Accuracy')\n",
        "plt.xticks(np.linspace(0, 50, 11).astype(int))\n",
        "plt.legend()\n",
        "plt.show()"
      ],
      "metadata": {
        "id": "NguUij4yVVce",
        "colab": {
          "base_uri": "https://localhost:8080/",
          "height": 490
        },
        "outputId": "1aefdd36-5fb1-4922-8242-8c264f40b6b3"
      },
      "execution_count": null,
      "outputs": [
        {
          "output_type": "display_data",
          "data": {
            "text/plain": [
              "<Figure size 1000x500 with 1 Axes>"
            ],
            "image/png": "[encoded data removed]"
          },
          "metadata": {}
        }
      ]
    },
    {
      "cell_type": "markdown",
      "source": [
        "## Evaluate"
      ],
      "metadata": {
        "id": "mCNVi4FYVbGs"
      }
    },
    {
      "cell_type": "code",
      "source": [
        "preds_proba_train = best_model6.predict(X_train).flatten()\n",
        "preds_train = (preds_proba_train > .5).astype(int)\n",
        "print(f'Training accuracy: {np.sum(preds_train == y_train)/len(y_train):.3f}')"
      ],
      "metadata": {
        "id": "5qKNdWcJVXRJ",
        "colab": {
          "base_uri": "https://localhost:8080/"
        },
        "outputId": "f5e3164f-af6b-4f59-d3e3-a93c023b6521"
      },
      "execution_count": null,
      "outputs": [
        {
          "output_type": "stream",
          "name": "stdout",
          "text": [
            "297/297 [==============================] - 1s 1ms/step\n",
            "Training accuracy: 0.769\n"
          ]
        }
      ]
    },
    {
      "cell_type": "code",
      "source": [
        "preds_proba_test = best_model6.predict(X_test).flatten()\n",
        "preds_test = (preds_proba_test > .5).astype(int)\n",
        "print(f'Test accuracy: {np.sum(preds_test == y_test)/len(y_test):.3f}')"
      ],
      "metadata": {
        "id": "YiSFk4N7Vc6m",
        "colab": {
          "base_uri": "https://localhost:8080/"
        },
        "outputId": "f8604af2-c54f-4252-dd4a-4327b7a7d5b2"
      },
      "execution_count": null,
      "outputs": [
        {
          "output_type": "stream",
          "name": "stdout",
          "text": [
            "297/297 [==============================] - 0s 1ms/step\n",
            "Test accuracy: 0.665\n"
          ]
        }
      ]
    },
    {
      "cell_type": "code",
      "source": [
        "cmat = confusion_matrix(y_true=y_test, y_pred=preds_test)\n",
        "cmat_disp = ConfusionMatrixDisplay(cmat, display_labels=y_encoder.classes_)"
      ],
      "metadata": {
        "id": "XuKrTAa5ViF0"
      },
      "execution_count": null,
      "outputs": []
    },
    {
      "cell_type": "code",
      "source": [
        "plt.style.use('seaborn-v0_8-white')\n",
        "plt.rcParams['font.size'] = 13\n",
        "cmat_disp.plot();"
      ],
      "metadata": {
        "id": "XA6DnYlTViqj",
        "colab": {
          "base_uri": "https://localhost:8080/",
          "height": 451
        },
        "outputId": "7835d2b2-366f-4727-92f2-ec0e14bfdfca"
      },
      "execution_count": null,
      "outputs": [
        {
          "output_type": "display_data",
          "data": {
            "text/plain": [
              "<Figure size 640x480 with 2 Axes>"
            ],
            "image/png": "[encoded data removed]"
          },
          "metadata": {}
        }
      ]
    },
    {
      "cell_type": "code",
      "source": [
        "# Additional metrics for performance on test data\n",
        "metrics = Metrics(cmat)\n",
        "print(f'Accuracy: {metrics.accuracy():.2%}')\n",
        "print(f'Sensitivity/Recall (TPR): {metrics.recall():.2%}')\n",
        "print(f'Specificity (TNR): {metrics.specificity():.2%}')\n",
        "print(f'Precision: {metrics.precision():.2%}')\n",
        "print(f'F1: {metrics.f1_score():.2f}')\n",
        "print(f'AUC: {roc_auc_score(y_test, preds_proba_test):.2f}')"
      ],
      "metadata": {
        "id": "VPIyYXG6Vksw",
        "colab": {
          "base_uri": "https://localhost:8080/"
        },
        "outputId": "7e8f4384-335c-475b-ab1c-4894ac54d5c6"
      },
      "execution_count": null,
      "outputs": [
        {
          "output_type": "stream",
          "name": "stdout",
          "text": [
            "Accuracy: 66.47%\n",
            "Sensitivity/Recall (TPR): 72.14%\n",
            "Specificity (TNR): 51.51%\n",
            "Precision: 79.70%\n",
            "F1: 0.76\n",
            "AUC: 0.66\n"
          ]
        }
      ]
    }
  ]
}