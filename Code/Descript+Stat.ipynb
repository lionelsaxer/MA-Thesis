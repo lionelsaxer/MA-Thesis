{
 "cells": [
  {
   "cell_type": "markdown",
   "metadata": {},
   "source": [
    "# Descriptive Statistics"
   ]
  },
  {
   "cell_type": "code",
   "execution_count": 1,
   "metadata": {},
   "outputs": [],
   "source": [
    "# Imports\n",
    "import numpy as np, pandas as pd\n",
    "import matplotlib.pyplot as plt"
   ]
  },
  {
   "cell_type": "code",
   "execution_count": 8,
   "metadata": {},
   "outputs": [],
   "source": [
    "# Adjust default matplotlib settings\n",
    "plt.style.use('seaborn-v0_8-whitegrid')\n",
    "plt.rcParams['font.size'] = 16\n",
    "plt.rcParams['lines.linewidth'] = 2\n",
    "plt.rcParams['axes.titlepad'] = 10\n",
    "plt.rcParams['axes.labelpad'] = 10\n",
    "plt.rcParams['font.family'] = 'sans-serif'\n",
    "plt.rcParams['font.sans-serif'] = 'Helvetica'"
   ]
  },
  {
   "cell_type": "code",
   "execution_count": 3,
   "metadata": {},
   "outputs": [],
   "source": [
    "# Read in cleaned data\n",
    "df_cces = pd.read_parquet('../Data/CCES/CCES_Panel_cleaned.parquet')"
   ]
  },
  {
   "cell_type": "code",
   "execution_count": 9,
   "metadata": {},
   "outputs": [
    {
     "data": {
      "text/plain": [
       "124"
      ]
     },
     "execution_count": 9,
     "metadata": {},
     "output_type": "execute_result"
    }
   ],
   "source": [
    "# Count features\n",
    "len([col for col in df_cces.columns if col not in ['caseid','weight','year']])      "
   ]
  },
  {
   "cell_type": "markdown",
   "metadata": {},
   "source": [
    "## Responses"
   ]
  },
  {
   "cell_type": "code",
   "execution_count": 10,
   "metadata": {},
   "outputs": [
    {
     "data": {
      "image/png": "[encoded data removed]",
      "text/plain": [
       "<Figure size 1200x400 with 2 Axes>"
      ]
     },
     "metadata": {},
     "output_type": "display_data"
    }
   ],
   "source": [
    "fig, ax = plt.subplots(1, 2, figsize=(12,4))\n",
    "for i, var in enumerate(['VV_primary', 'VV_general']):\n",
    "    df_temp = df_cces.query('year == 2014')[var] \\\n",
    "        .value_counts(normalize=True) * 100\n",
    "    \n",
    "    df_temp.index = df_temp.index.reorder_categories(['Abstained', 'Voted'])\n",
    "    df_temp.sort_index() \\\n",
    "        .plot(kind='barh', ax=ax[i], ylabel='', width=.25)\n",
    "            \n",
    "    ax[i].set_title(var + ' (%)')\n",
    "\n",
    "plt.tight_layout()\n",
    "# Save as svg\n",
    "#plt.savefig('responses.svg', format='svg')"
   ]
  },
  {
   "cell_type": "code",
   "execution_count": 34,
   "metadata": {},
   "outputs": [
    {
     "data": {
      "text/plain": [
       "VV_primary\n",
       "Abstained    55.210526\n",
       "Voted        44.789474\n",
       "Name: proportion, dtype: float64"
      ]
     },
     "execution_count": 34,
     "metadata": {},
     "output_type": "execute_result"
    }
   ],
   "source": [
    "# 2014 primaries\n",
    "df_cces.query('year == 2014')['VV_primary'] \\\n",
    "    .value_counts(normalize=True)*100"
   ]
  },
  {
   "cell_type": "code",
   "execution_count": 35,
   "metadata": {},
   "outputs": [
    {
     "data": {
      "text/plain": [
       "VV_general\n",
       "Voted        72.515789\n",
       "Abstained    27.484211\n",
       "Name: proportion, dtype: float64"
      ]
     },
     "execution_count": 35,
     "metadata": {},
     "output_type": "execute_result"
    }
   ],
   "source": [
    "# 2014 general\n",
    "df_cces.query('year == 2014')['VV_general'] \\\n",
    "    .value_counts(normalize=True)*100"
   ]
  },
  {
   "cell_type": "code",
   "execution_count": 36,
   "metadata": {},
   "outputs": [
    {
     "data": {
      "text/plain": [
       "VV_primary\n",
       "Abstained    56.863158\n",
       "Voted        43.136842\n",
       "Name: proportion, dtype: float64"
      ]
     },
     "execution_count": 36,
     "metadata": {},
     "output_type": "execute_result"
    }
   ],
   "source": [
    "# 2012 primaries\n",
    "df_cces.query('year == 2012')['VV_primary'] \\\n",
    "    .value_counts(normalize=True)*100"
   ]
  },
  {
   "cell_type": "code",
   "execution_count": 37,
   "metadata": {},
   "outputs": [
    {
     "data": {
      "text/plain": [
       "VV_general\n",
       "Voted        75.094737\n",
       "Abstained    24.905263\n",
       "Name: proportion, dtype: float64"
      ]
     },
     "execution_count": 37,
     "metadata": {},
     "output_type": "execute_result"
    }
   ],
   "source": [
    "# 2012 general\n",
    "df_cces.query('year == 2012')['VV_general'] \\\n",
    "    .value_counts(normalize=True)*100"
   ]
  },
  {
   "cell_type": "code",
   "execution_count": 38,
   "metadata": {},
   "outputs": [
    {
     "data": {
      "text/plain": [
       "VV_primary\n",
       "Voted        50.8\n",
       "Abstained    49.2\n",
       "Name: proportion, dtype: float64"
      ]
     },
     "execution_count": 38,
     "metadata": {},
     "output_type": "execute_result"
    }
   ],
   "source": [
    "# 2010 primaries\n",
    "df_cces.query('year == 2010')['VV_primary'] \\\n",
    "    .value_counts(normalize=True)*100"
   ]
  },
  {
   "cell_type": "code",
   "execution_count": 39,
   "metadata": {},
   "outputs": [
    {
     "data": {
      "text/plain": [
       "VV_general\n",
       "Voted        74.136842\n",
       "Abstained    25.863158\n",
       "Name: proportion, dtype: float64"
      ]
     },
     "execution_count": 39,
     "metadata": {},
     "output_type": "execute_result"
    }
   ],
   "source": [
    "# 2010 general\n",
    "df_cces.query('year == 2010')['VV_general'] \\\n",
    "    .value_counts(normalize=True)*100"
   ]
  },
  {
   "cell_type": "markdown",
   "metadata": {},
   "source": [
    "## Features"
   ]
  },
  {
   "cell_type": "code",
   "execution_count": 40,
   "metadata": {},
   "outputs": [
    {
     "name": "stdout",
     "output_type": "stream",
     "text": [
      "caseid\n",
      "weight\n",
      "year\n",
      "301_1\n",
      "301_2\n",
      "301_3\n",
      "301_4\n",
      "301_5\n",
      "301b\n",
      "302\n",
      "304\n",
      "305\n",
      "308a\n",
      "308b\n",
      "308c\n",
      "308d\n",
      "308e\n",
      "309a\n",
      "309b\n",
      "309c\n",
      "309d\n",
      "310a\n",
      "310b\n",
      "310c\n",
      "310d\n",
      "315a\n",
      "315b\n",
      "315c\n",
      "316\n",
      "317\n",
      "320\n",
      "321\n",
      "322_1\n",
      "322_2\n",
      "322_3\n",
      "324\n",
      "325\n",
      "326\n",
      "327\n",
      "328\n",
      "329\n",
      "330A\n",
      "330B\n",
      "330C\n",
      "330D\n",
      "330E\n",
      "330F\n",
      "330G\n",
      "330H\n",
      "341A\n",
      "341B\n",
      "341C\n",
      "341F\n",
      "341R\n",
      "350\n",
      "406a\n",
      "414_1\n",
      "414_2\n",
      "414_3\n",
      "414_4\n",
      "414_5\n",
      "414_6\n",
      "414_7\n",
      "415r\n",
      "416r\n",
      "417a_1\n",
      "417a_2\n",
      "417a_3\n",
      "417a_4\n",
      "417a_5\n",
      "417a_6\n",
      "418a\n",
      "421a\n",
      "422a\n",
      "422b\n",
      "423a\n",
      "423b\n",
      "425a\n",
      "425b_1\n",
      "425b_2\n",
      "425b_3\n",
      "425b_4\n",
      "VV_general\n",
      "VV_primary\n",
      "addrlength_1\n",
      "addrlength_2\n",
      "birthyr\n",
      "cdid\n",
      "child18\n",
      "citylength_1\n",
      "citylength_2\n",
      "educ\n",
      "employ\n",
      "faminc\n",
      "gender\n",
      "healthins_1\n",
      "healthins_2\n",
      "healthins_3\n",
      "healthins_4\n",
      "healthins_5\n",
      "healthins_6\n",
      "hispanic\n",
      "ideo5\n",
      "immstat\n",
      "inputstate\n",
      "internethome\n",
      "internetwork\n",
      "investor\n",
      "marstat\n",
      "milstat_1\n",
      "milstat_2\n",
      "milstat_3\n",
      "milstat_4\n",
      "milstat_5\n",
      "newsint\n",
      "ownhome\n",
      "pew_bornagain\n",
      "pew_churatd\n",
      "pew_prayer\n",
      "pew_religimp\n",
      "phone\n",
      "pid3\n",
      "pid7\n",
      "race\n",
      "religpew\n",
      "union\n",
      "unionhh\n"
     ]
    }
   ],
   "source": [
    "# Look at variables\n",
    "for col in df_cces.columns:\n",
    "    print(col)"
   ]
  },
  {
   "cell_type": "code",
   "execution_count": 41,
   "metadata": {},
   "outputs": [],
   "source": [
    "''' Let's look at the descriptive statistics of some selected\n",
    "features, i.e., demographic variables '''\n",
    "# birthyr ==> age\n",
    "# educ\n",
    "# faminc\n",
    "# gender\n",
    "# ideo5\n",
    "# race\n",
    "\n",
    "# Create new data frame for selected vars in 2014\n",
    "df_descr = df_cces[['birthyr','educ', 'faminc','gender',\n",
    "                    'ideo5','race','year']] \\\n",
    "                        .query('year == 2014') \\\n",
    "                            .drop('year', axis=1) \\\n",
    "                                .reset_index(drop=True) \\\n",
    "                                    .copy()"
   ]
  },
  {
   "cell_type": "code",
   "execution_count": 42,
   "metadata": {},
   "outputs": [
    {
     "data": {
      "text/html": [
       "<div>\n",
       "<style scoped>\n",
       "    .dataframe tbody tr th:only-of-type {\n",
       "        vertical-align: middle;\n",
       "    }\n",
       "\n",
       "    .dataframe tbody tr th {\n",
       "        vertical-align: top;\n",
       "    }\n",
       "\n",
       "    .dataframe thead th {\n",
       "        text-align: right;\n",
       "    }\n",
       "</style>\n",
       "<table border=\"1\" class=\"dataframe\">\n",
       "  <thead>\n",
       "    <tr style=\"text-align: right;\">\n",
       "      <th></th>\n",
       "      <th>birthyr</th>\n",
       "      <th>educ</th>\n",
       "      <th>faminc</th>\n",
       "      <th>gender</th>\n",
       "      <th>ideo5</th>\n",
       "      <th>race</th>\n",
       "    </tr>\n",
       "  </thead>\n",
       "  <tbody>\n",
       "    <tr>\n",
       "      <th>0</th>\n",
       "      <td>1950</td>\n",
       "      <td>4-year</td>\n",
       "      <td>120,000 - 149,999</td>\n",
       "      <td>Male</td>\n",
       "      <td>Conservative</td>\n",
       "      <td>White</td>\n",
       "    </tr>\n",
       "    <tr>\n",
       "      <th>1</th>\n",
       "      <td>1986</td>\n",
       "      <td>Post-grad</td>\n",
       "      <td>30,000 - 39,999</td>\n",
       "      <td>Female</td>\n",
       "      <td>Very liberal</td>\n",
       "      <td>White</td>\n",
       "    </tr>\n",
       "    <tr>\n",
       "      <th>2</th>\n",
       "      <td>1952</td>\n",
       "      <td>Some college</td>\n",
       "      <td>60,000 - 69,999</td>\n",
       "      <td>Female</td>\n",
       "      <td>Conservative</td>\n",
       "      <td>White</td>\n",
       "    </tr>\n",
       "    <tr>\n",
       "      <th>3</th>\n",
       "      <td>1965</td>\n",
       "      <td>4-year</td>\n",
       "      <td>Prefer not to say</td>\n",
       "      <td>Female</td>\n",
       "      <td>Liberal</td>\n",
       "      <td>White</td>\n",
       "    </tr>\n",
       "    <tr>\n",
       "      <th>4</th>\n",
       "      <td>1948</td>\n",
       "      <td>Post-grad</td>\n",
       "      <td>80,000 - 99,999</td>\n",
       "      <td>Male</td>\n",
       "      <td>Liberal</td>\n",
       "      <td>White</td>\n",
       "    </tr>\n",
       "    <tr>\n",
       "      <th>...</th>\n",
       "      <td>...</td>\n",
       "      <td>...</td>\n",
       "      <td>...</td>\n",
       "      <td>...</td>\n",
       "      <td>...</td>\n",
       "      <td>...</td>\n",
       "    </tr>\n",
       "    <tr>\n",
       "      <th>9495</th>\n",
       "      <td>1980</td>\n",
       "      <td>Post-grad</td>\n",
       "      <td>Less than 10,000</td>\n",
       "      <td>Male</td>\n",
       "      <td>Liberal</td>\n",
       "      <td>Hispanic</td>\n",
       "    </tr>\n",
       "    <tr>\n",
       "      <th>9496</th>\n",
       "      <td>1974</td>\n",
       "      <td>Post-grad</td>\n",
       "      <td>70,000 - 79,999</td>\n",
       "      <td>Male</td>\n",
       "      <td>Conservative</td>\n",
       "      <td>Hispanic</td>\n",
       "    </tr>\n",
       "    <tr>\n",
       "      <th>9497</th>\n",
       "      <td>1959</td>\n",
       "      <td>2-year</td>\n",
       "      <td>30,000 - 39,999</td>\n",
       "      <td>Female</td>\n",
       "      <td>Very liberal</td>\n",
       "      <td>Hispanic</td>\n",
       "    </tr>\n",
       "    <tr>\n",
       "      <th>9498</th>\n",
       "      <td>1951</td>\n",
       "      <td>Some college</td>\n",
       "      <td>80,000 - 99,999</td>\n",
       "      <td>Male</td>\n",
       "      <td>Conservative</td>\n",
       "      <td>Hispanic</td>\n",
       "    </tr>\n",
       "    <tr>\n",
       "      <th>9499</th>\n",
       "      <td>1938</td>\n",
       "      <td>High school graduate</td>\n",
       "      <td>40,000 - 49,999</td>\n",
       "      <td>Male</td>\n",
       "      <td>Moderate</td>\n",
       "      <td>White</td>\n",
       "    </tr>\n",
       "  </tbody>\n",
       "</table>\n",
       "<p>9500 rows × 6 columns</p>\n",
       "</div>"
      ],
      "text/plain": [
       "      birthyr                  educ             faminc  gender         ideo5   \n",
       "0        1950                4-year  120,000 - 149,999    Male  Conservative  \\\n",
       "1        1986             Post-grad    30,000 - 39,999  Female  Very liberal   \n",
       "2        1952          Some college    60,000 - 69,999  Female  Conservative   \n",
       "3        1965                4-year  Prefer not to say  Female       Liberal   \n",
       "4        1948             Post-grad    80,000 - 99,999    Male       Liberal   \n",
       "...       ...                   ...                ...     ...           ...   \n",
       "9495     1980             Post-grad   Less than 10,000    Male       Liberal   \n",
       "9496     1974             Post-grad    70,000 - 79,999    Male  Conservative   \n",
       "9497     1959                2-year    30,000 - 39,999  Female  Very liberal   \n",
       "9498     1951          Some college    80,000 - 99,999    Male  Conservative   \n",
       "9499     1938  High school graduate    40,000 - 49,999    Male      Moderate   \n",
       "\n",
       "          race  \n",
       "0        White  \n",
       "1        White  \n",
       "2        White  \n",
       "3        White  \n",
       "4        White  \n",
       "...        ...  \n",
       "9495  Hispanic  \n",
       "9496  Hispanic  \n",
       "9497  Hispanic  \n",
       "9498  Hispanic  \n",
       "9499     White  \n",
       "\n",
       "[9500 rows x 6 columns]"
      ]
     },
     "execution_count": 42,
     "metadata": {},
     "output_type": "execute_result"
    }
   ],
   "source": [
    "df_descr"
   ]
  },
  {
   "cell_type": "code",
   "execution_count": 43,
   "metadata": {},
   "outputs": [],
   "source": [
    "# Convert birthyr to (approx.) age\n",
    "df_descr.insert(1, 'age', 2014 - df_descr['birthyr'])\n",
    "df_descr.drop('birthyr', axis=1, inplace=True)"
   ]
  },
  {
   "cell_type": "code",
   "execution_count": 44,
   "metadata": {},
   "outputs": [
    {
     "data": {
      "text/html": [
       "<div>\n",
       "<style scoped>\n",
       "    .dataframe tbody tr th:only-of-type {\n",
       "        vertical-align: middle;\n",
       "    }\n",
       "\n",
       "    .dataframe tbody tr th {\n",
       "        vertical-align: top;\n",
       "    }\n",
       "\n",
       "    .dataframe thead th {\n",
       "        text-align: right;\n",
       "    }\n",
       "</style>\n",
       "<table border=\"1\" class=\"dataframe\">\n",
       "  <thead>\n",
       "    <tr style=\"text-align: right;\">\n",
       "      <th></th>\n",
       "      <th>age</th>\n",
       "    </tr>\n",
       "  </thead>\n",
       "  <tbody>\n",
       "    <tr>\n",
       "      <th>count</th>\n",
       "      <td>9500.000000</td>\n",
       "    </tr>\n",
       "    <tr>\n",
       "      <th>mean</th>\n",
       "      <td>59.743053</td>\n",
       "    </tr>\n",
       "    <tr>\n",
       "      <th>std</th>\n",
       "      <td>11.633161</td>\n",
       "    </tr>\n",
       "    <tr>\n",
       "      <th>min</th>\n",
       "      <td>22.000000</td>\n",
       "    </tr>\n",
       "    <tr>\n",
       "      <th>25%</th>\n",
       "      <td>53.000000</td>\n",
       "    </tr>\n",
       "    <tr>\n",
       "      <th>50%</th>\n",
       "      <td>61.000000</td>\n",
       "    </tr>\n",
       "    <tr>\n",
       "      <th>75%</th>\n",
       "      <td>67.000000</td>\n",
       "    </tr>\n",
       "    <tr>\n",
       "      <th>max</th>\n",
       "      <td>95.000000</td>\n",
       "    </tr>\n",
       "  </tbody>\n",
       "</table>\n",
       "</div>"
      ],
      "text/plain": [
       "               age\n",
       "count  9500.000000\n",
       "mean     59.743053\n",
       "std      11.633161\n",
       "min      22.000000\n",
       "25%      53.000000\n",
       "50%      61.000000\n",
       "75%      67.000000\n",
       "max      95.000000"
      ]
     },
     "execution_count": 44,
     "metadata": {},
     "output_type": "execute_result"
    }
   ],
   "source": [
    "df_descr.describe()"
   ]
  },
  {
   "cell_type": "code",
   "execution_count": 62,
   "metadata": {},
   "outputs": [
    {
     "data": {
      "text/html": [
       "<div>\n",
       "<style scoped>\n",
       "    .dataframe tbody tr th:only-of-type {\n",
       "        vertical-align: middle;\n",
       "    }\n",
       "\n",
       "    .dataframe tbody tr th {\n",
       "        vertical-align: top;\n",
       "    }\n",
       "\n",
       "    .dataframe thead th {\n",
       "        text-align: right;\n",
       "    }\n",
       "</style>\n",
       "<table border=\"1\" class=\"dataframe\">\n",
       "  <thead>\n",
       "    <tr style=\"text-align: right;\">\n",
       "      <th></th>\n",
       "      <th>age</th>\n",
       "      <th>educ</th>\n",
       "      <th>faminc</th>\n",
       "      <th>gender</th>\n",
       "      <th>ideo3</th>\n",
       "      <th>race</th>\n",
       "    </tr>\n",
       "  </thead>\n",
       "  <tbody>\n",
       "    <tr>\n",
       "      <th>1</th>\n",
       "      <td>28</td>\n",
       "      <td>Post-grad</td>\n",
       "      <td>30,000 - 59,999</td>\n",
       "      <td>Female</td>\n",
       "      <td>Liberal</td>\n",
       "      <td>White</td>\n",
       "    </tr>\n",
       "    <tr>\n",
       "      <th>38</th>\n",
       "      <td>31</td>\n",
       "      <td>4-year</td>\n",
       "      <td>60,000 - 99,999</td>\n",
       "      <td>Male</td>\n",
       "      <td>Moderate</td>\n",
       "      <td>White</td>\n",
       "    </tr>\n",
       "    <tr>\n",
       "      <th>95</th>\n",
       "      <td>30</td>\n",
       "      <td>4-year</td>\n",
       "      <td>30,000 - 59,999</td>\n",
       "      <td>Male</td>\n",
       "      <td>Conservative</td>\n",
       "      <td>White</td>\n",
       "    </tr>\n",
       "    <tr>\n",
       "      <th>101</th>\n",
       "      <td>32</td>\n",
       "      <td>Some college</td>\n",
       "      <td>60,000 - 99,999</td>\n",
       "      <td>Male</td>\n",
       "      <td>Liberal</td>\n",
       "      <td>White</td>\n",
       "    </tr>\n",
       "    <tr>\n",
       "      <th>160</th>\n",
       "      <td>34</td>\n",
       "      <td>Post-grad</td>\n",
       "      <td>60,000 - 99,999</td>\n",
       "      <td>Female</td>\n",
       "      <td>Liberal</td>\n",
       "      <td>Black</td>\n",
       "    </tr>\n",
       "    <tr>\n",
       "      <th>...</th>\n",
       "      <td>...</td>\n",
       "      <td>...</td>\n",
       "      <td>...</td>\n",
       "      <td>...</td>\n",
       "      <td>...</td>\n",
       "      <td>...</td>\n",
       "    </tr>\n",
       "    <tr>\n",
       "      <th>9477</th>\n",
       "      <td>35</td>\n",
       "      <td>4-year</td>\n",
       "      <td>60,000 - 99,999</td>\n",
       "      <td>Male</td>\n",
       "      <td>Moderate</td>\n",
       "      <td>Hispanic</td>\n",
       "    </tr>\n",
       "    <tr>\n",
       "      <th>9482</th>\n",
       "      <td>39</td>\n",
       "      <td>Some college</td>\n",
       "      <td>30,000 - 59,999</td>\n",
       "      <td>Female</td>\n",
       "      <td>NaN</td>\n",
       "      <td>Black</td>\n",
       "    </tr>\n",
       "    <tr>\n",
       "      <th>9488</th>\n",
       "      <td>30</td>\n",
       "      <td>4-year</td>\n",
       "      <td>30,000 - 59,999</td>\n",
       "      <td>Female</td>\n",
       "      <td>Moderate</td>\n",
       "      <td>Hispanic</td>\n",
       "    </tr>\n",
       "    <tr>\n",
       "      <th>9493</th>\n",
       "      <td>32</td>\n",
       "      <td>4-year</td>\n",
       "      <td>30,000 - 59,999</td>\n",
       "      <td>Female</td>\n",
       "      <td>Liberal</td>\n",
       "      <td>Hispanic</td>\n",
       "    </tr>\n",
       "    <tr>\n",
       "      <th>9495</th>\n",
       "      <td>34</td>\n",
       "      <td>Post-grad</td>\n",
       "      <td>Less than 30,000</td>\n",
       "      <td>Male</td>\n",
       "      <td>Liberal</td>\n",
       "      <td>Hispanic</td>\n",
       "    </tr>\n",
       "  </tbody>\n",
       "</table>\n",
       "<p>596 rows × 6 columns</p>\n",
       "</div>"
      ],
      "text/plain": [
       "      age          educ            faminc  gender         ideo3      race\n",
       "1      28     Post-grad   30,000 - 59,999  Female       Liberal     White\n",
       "38     31        4-year   60,000 - 99,999    Male      Moderate     White\n",
       "95     30        4-year   30,000 - 59,999    Male  Conservative     White\n",
       "101    32  Some college   60,000 - 99,999    Male       Liberal     White\n",
       "160    34     Post-grad   60,000 - 99,999  Female       Liberal     Black\n",
       "...   ...           ...               ...     ...           ...       ...\n",
       "9477   35        4-year   60,000 - 99,999    Male      Moderate  Hispanic\n",
       "9482   39  Some college   30,000 - 59,999  Female           NaN     Black\n",
       "9488   30        4-year   30,000 - 59,999  Female      Moderate  Hispanic\n",
       "9493   32        4-year   30,000 - 59,999  Female       Liberal  Hispanic\n",
       "9495   34     Post-grad  Less than 30,000    Male       Liberal  Hispanic\n",
       "\n",
       "[596 rows x 6 columns]"
      ]
     },
     "execution_count": 62,
     "metadata": {},
     "output_type": "execute_result"
    }
   ],
   "source": [
    "df_descr.query('age < 40')"
   ]
  },
  {
   "cell_type": "code",
   "execution_count": 45,
   "metadata": {},
   "outputs": [
    {
     "data": {
      "text/plain": [
       "educ\n",
       "4-year                  2801\n",
       "Some college            2268\n",
       "High school graduate    1903\n",
       "Post-grad               1501\n",
       "2-year                   909\n",
       "No HS                    118\n",
       "Name: count, dtype: int64"
      ]
     },
     "execution_count": 45,
     "metadata": {},
     "output_type": "execute_result"
    }
   ],
   "source": [
    "df_descr['educ'].value_counts(dropna=False)"
   ]
  },
  {
   "cell_type": "code",
   "execution_count": 46,
   "metadata": {},
   "outputs": [
    {
     "data": {
      "text/plain": [
       "educ\n",
       "4-year                  29.48\n",
       "Some college            23.87\n",
       "High school graduate    20.03\n",
       "Post-grad               15.80\n",
       "2-year                   9.57\n",
       "No HS                    1.24\n",
       "Name: proportion, dtype: float64"
      ]
     },
     "execution_count": 46,
     "metadata": {},
     "output_type": "execute_result"
    }
   ],
   "source": [
    "round(df_descr.value_counts('educ', normalize=True, dropna=False)*100,2)"
   ]
  },
  {
   "cell_type": "code",
   "execution_count": 47,
   "metadata": {},
   "outputs": [
    {
     "data": {
      "text/plain": [
       "faminc\n",
       "Prefer not to say    1263\n",
       "80,000 - 99,999       959\n",
       "50,000 - 59,999       842\n",
       "40,000 - 49,999       812\n",
       "30,000 - 39,999       797\n",
       "70,000 - 79,999       739\n",
       "60,000 - 69,999       702\n",
       "100,000 - 119,999     700\n",
       "20,000 - 29,999       697\n",
       "120,000 - 149,999     622\n",
       "10,000 - 19,999       468\n",
       "150,000 - 199,999     403\n",
       "Less than 10,000      187\n",
       "200,000 - 249,999     146\n",
       "250,000 - 349,999     106\n",
       "350,000 - 499,999      31\n",
       "500,000 or more        25\n",
       "250,000 or more         1\n",
       "25,000 - 29,999         0\n",
       "20,000 - 24,999         0\n",
       "150,000 or more         0\n",
       "15,000 - 19,999         0\n",
       "10,000 - 14,999         0\n",
       "Name: count, dtype: int64"
      ]
     },
     "execution_count": 47,
     "metadata": {},
     "output_type": "execute_result"
    }
   ],
   "source": [
    "df_descr['faminc'].value_counts()"
   ]
  },
  {
   "cell_type": "code",
   "execution_count": 48,
   "metadata": {},
   "outputs": [],
   "source": [
    "# Merge some income categories for summary table\n",
    "def merge_incomecat(income):\n",
    "\n",
    "    result = None\n",
    "    \n",
    "    if income in ['Less than 10,000', '10,000 - 19,999', '20,000 - 29,999']:\n",
    "        result = 'Less than 30,000'\n",
    "    elif income in ['30,000 - 39,999', '40,000 - 49,999', '50,000 - 59,999']:\n",
    "        result = '30,000 - 59,999'\n",
    "    elif income in ['60,000 - 69,999', '70,000 - 79,999', '80,000 - 99,999']:\n",
    "        result = '60,000 - 99,999'\n",
    "    elif income in ['100,000 - 119,999', '120,000 - 149,999']:\n",
    "        result = '100,000 - 149,999'\n",
    "    elif income in ['150,000 - 199,999', '200,000 - 249,999']:\n",
    "        result = '150,000 - 249,999'\n",
    "    elif income in ['250,000 - 349,999', '350,000 - 499,999', '500,000 or more', '350,000 or more', '250,000 or more']:\n",
    "        result = '250,000 or more'\n",
    "    else:\n",
    "        result = income\n",
    "    \n",
    "    return result\n",
    "\n",
    "df_descr['faminc'] = df_descr['faminc'].apply(merge_incomecat)"
   ]
  },
  {
   "cell_type": "code",
   "execution_count": 49,
   "metadata": {},
   "outputs": [
    {
     "data": {
      "text/plain": [
       "faminc\n",
       "30,000 - 59,999      25.80\n",
       "60,000 - 99,999      25.26\n",
       "Less than 30,000     14.23\n",
       "100,000 - 149,999    13.92\n",
       "Prefer not to say    13.29\n",
       "150,000 - 249,999     5.78\n",
       "250,000 or more       1.72\n",
       "Name: proportion, dtype: float64"
      ]
     },
     "execution_count": 49,
     "metadata": {},
     "output_type": "execute_result"
    }
   ],
   "source": [
    "round(df_descr['faminc'].value_counts(dropna=False, normalize=True)*100,2)"
   ]
  },
  {
   "cell_type": "code",
   "execution_count": 50,
   "metadata": {},
   "outputs": [
    {
     "data": {
      "text/plain": [
       "gender\n",
       "Male      5272\n",
       "Female    4228\n",
       "Name: count, dtype: int64"
      ]
     },
     "execution_count": 50,
     "metadata": {},
     "output_type": "execute_result"
    }
   ],
   "source": [
    "df_descr['gender'].value_counts(dropna=False)"
   ]
  },
  {
   "cell_type": "code",
   "execution_count": 51,
   "metadata": {},
   "outputs": [
    {
     "data": {
      "text/plain": [
       "gender\n",
       "Male      55.49\n",
       "Female    44.51\n",
       "Name: proportion, dtype: float64"
      ]
     },
     "execution_count": 51,
     "metadata": {},
     "output_type": "execute_result"
    }
   ],
   "source": [
    "round(df_descr['gender'].value_counts(dropna=False, normalize=True)*100,2)"
   ]
  },
  {
   "cell_type": "code",
   "execution_count": 52,
   "metadata": {},
   "outputs": [
    {
     "data": {
      "text/plain": [
       "ideo5\n",
       "Moderate             2726\n",
       "Conservative         2382\n",
       "Liberal              1749\n",
       "Very conservative    1430\n",
       "Very liberal          966\n",
       "Name: count, dtype: int64"
      ]
     },
     "execution_count": 52,
     "metadata": {},
     "output_type": "execute_result"
    }
   ],
   "source": [
    "df_descr['ideo5'].value_counts()"
   ]
  },
  {
   "cell_type": "code",
   "execution_count": 53,
   "metadata": {},
   "outputs": [],
   "source": [
    "# Merge some ideology categories for summary table\n",
    "def merge_ideocat(ideology):\n",
    "    \n",
    "    result = None\n",
    "    \n",
    "    if ideology == 'Very liberal':\n",
    "        result = 'Liberal'\n",
    "    elif ideology == 'Very conservative':\n",
    "        result = 'Conservative'\n",
    "    else:\n",
    "        result = ideology\n",
    "    \n",
    "    return result\n",
    "\n",
    "df_descr.rename(columns={'ideo5': 'ideo3'}, inplace=True)\n",
    "df_descr['ideo3'] = df_descr['ideo3'].apply(merge_ideocat)"
   ]
  },
  {
   "cell_type": "code",
   "execution_count": 54,
   "metadata": {},
   "outputs": [
    {
     "data": {
      "text/plain": [
       "ideo3\n",
       "Conservative    3812\n",
       "Moderate        2726\n",
       "Liberal         2715\n",
       "NaN              247\n",
       "Name: count, dtype: int64"
      ]
     },
     "execution_count": 54,
     "metadata": {},
     "output_type": "execute_result"
    }
   ],
   "source": [
    "df_descr['ideo3'].value_counts(dropna=False)"
   ]
  },
  {
   "cell_type": "code",
   "execution_count": 55,
   "metadata": {},
   "outputs": [
    {
     "data": {
      "text/plain": [
       "ideo3\n",
       "Conservative    40.13\n",
       "Moderate        28.69\n",
       "Liberal         28.58\n",
       "NaN              2.60\n",
       "Name: proportion, dtype: float64"
      ]
     },
     "execution_count": 55,
     "metadata": {},
     "output_type": "execute_result"
    }
   ],
   "source": [
    "round(df_descr['ideo3'].value_counts(dropna=False, normalize=True)*100,2)"
   ]
  },
  {
   "cell_type": "code",
   "execution_count": 56,
   "metadata": {},
   "outputs": [
    {
     "data": {
      "text/plain": [
       "race\n",
       "White              8009\n",
       "Black               581\n",
       "Hispanic            423\n",
       "Other               198\n",
       "Mixed               122\n",
       "Asian                97\n",
       "Native American      60\n",
       "Middle Eastern       10\n",
       "Name: count, dtype: int64"
      ]
     },
     "execution_count": 56,
     "metadata": {},
     "output_type": "execute_result"
    }
   ],
   "source": [
    "df_descr['race'].value_counts(dropna=False)"
   ]
  },
  {
   "cell_type": "code",
   "execution_count": 57,
   "metadata": {},
   "outputs": [
    {
     "data": {
      "text/plain": [
       "race\n",
       "White       8009\n",
       "Black        581\n",
       "Other        487\n",
       "Hispanic     423\n",
       "Name: count, dtype: int64"
      ]
     },
     "execution_count": 57,
     "metadata": {},
     "output_type": "execute_result"
    }
   ],
   "source": [
    "# Combine rare ethnicities in Other category\n",
    "df_descr['race'].apply(lambda x: 'Other' if x not in ['White', 'Black', 'Hispanic'] else x) \\\n",
    "    .value_counts(dropna=False)"
   ]
  },
  {
   "cell_type": "code",
   "execution_count": 58,
   "metadata": {},
   "outputs": [
    {
     "data": {
      "text/plain": [
       "race\n",
       "White       84.305263\n",
       "Black        6.115789\n",
       "Other        5.126316\n",
       "Hispanic     4.452632\n",
       "Name: proportion, dtype: float64"
      ]
     },
     "execution_count": 58,
     "metadata": {},
     "output_type": "execute_result"
    }
   ],
   "source": [
    "df_descr['race'].apply(lambda x: 'Other' if x not in ['White', 'Black', 'Hispanic'] else x) \\\n",
    "    .value_counts(dropna=False, normalize=True)*100"
   ]
  }
 ],
 "metadata": {
  "kernelspec": {
   "display_name": "base",
   "language": "python",
   "name": "python3"
  },
  "language_info": {
   "codemirror_mode": {
    "name": "ipython",
    "version": 3
   },
   "file_extension": ".py",
   "mimetype": "text/x-python",
   "name": "python",
   "nbconvert_exporter": "python",
   "pygments_lexer": "ipython3",
   "version": "3.11.8"
  }
 },
 "nbformat": 4,
 "nbformat_minor": 2
}
